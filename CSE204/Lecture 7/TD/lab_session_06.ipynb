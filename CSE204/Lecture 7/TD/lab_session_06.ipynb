{
 "cells": [
  {
   "cell_type": "markdown",
   "metadata": {},
   "source": [
    "Make sure you fill in any place that says `YOUR CODE HERE` or \"YOUR ANSWER HERE\".\n",
    "\n",
    "Before you turn this problem in, make sure everything runs as expected. First, **restart the kernel** (in the menubar, select Kernel$\\rightarrow$Restart) and then **run all cells** (in the menubar, select Cell$\\rightarrow$Run All). On JupyterLab, you may want to hit the \"Validate\" button as well.\n",
    "\n",
    "Caution: do not mess with the notebook's metadata; do not change a pre-existing cell's type; do not copy pre-existing cells (add new ones with the + button instead). This will break autograding; you will get a 0; you are warned."
   ]
  },
  {
   "cell_type": "markdown",
   "metadata": {},
   "source": [
    "<table style=\"width: 100%; border: none;\" cellspacing=\"0\" cellpadding=\"0\" border=\"0\">\n",
    "  <tr>\n",
    "    <td><img src=\"https://www.planetegrandesecoles.com/wp-content/uploads/2021/07/Identite%CC%81-visuelle-Plane%CC%80te-BAC-8-600x398.png\" style=\"float: left; width: 100%\" />\n",
    "</td>\n",
    "    <td><h1 style=\"text-align: center; vertical-align: middle;\"><a href=\"https://moodle.polytechnique.fr/course/view.php?id=15585\">[CSE204-2022] - Introduction to Machine Learning</a></h1>\n",
    "</td>\n",
    "  </tr>\n",
    "</table>"
   ]
  },
  {
   "cell_type": "markdown",
   "metadata": {},
   "source": [
    "---"
   ]
  },
  {
   "cell_type": "markdown",
   "metadata": {
    "colab_type": "text",
    "deletable": false,
    "editable": false,
    "id": "5YuK2f4u_CzI",
    "nbgrader": {
     "cell_type": "markdown",
     "checksum": "3aa8fb84a87f9c6f84fed3398dceda05",
     "grade": false,
     "grade_id": "cell-d65e9154014fb110",
     "locked": true,
     "schema_version": 3,
     "solution": false,
     "task": false
    }
   },
   "source": [
    "# Lab Session 6: Building a Neural Network From Scratch - feedforward\n",
    "\n",
    "J.B. Scoggins - Adrien Ehrhardt - Jesse Read"
   ]
  },
  {
   "cell_type": "markdown",
   "metadata": {
    "colab_type": "text",
    "deletable": false,
    "editable": false,
    "id": "rWMgDSTC_CzL",
    "nbgrader": {
     "cell_type": "markdown",
     "checksum": "96f2bffc663e1a303578bb7f748f3863",
     "grade": false,
     "grade_id": "cell-6b9fe28aa4a433c9",
     "locked": true,
     "schema_version": 3,
     "solution": false,
     "task": false
    }
   },
   "source": [
    "## Introduction\n",
    "\n",
    "In this lab you will learn to create a simple multilayer perceptron (MLP) neural network from scratch using only the Numpy package for matrix-vector operations.  In order to train the network on several datasets, you will need to implement the back-propagation algorithm with gradient descent (in lab 07!). Before getting started, let's review the notations we will use in this lab and recall the stochastic gradient descent algorithm.\n",
    "\n",
    "### Notation\n",
    "\n",
    "We will consider simple feed-forward networks that can be described by the following recursive relationship,\n",
    "\n",
    "$$\n",
    "\\begin{align}\n",
    "&z^l = a^{l-1} W^l + b^l,\\\\\n",
    "&a^l = \\sigma^l(z^l),\n",
    "\\end{align}\n",
    "$$\n",
    "\n",
    "where $a^l$ is the output (activation) of layer $l$ which is a nonlinear function $\\sigma^l$ of a linear transformation of the previous layer's output.  The linear transformation is performed using the weight matrix $W^l$ and bias vector $b^l$ associated with the layer $l$.  We will denote the last layer in the network with a capital $L$ superscript.  The recursion is stopped by setting $a^0 = x$, where $x$ is the input vector to our network.  Note that in the recursive expressions above, we implicitly assume that our input/output vectors are row vectors.  The reason for this will be apparent later.\n",
    "\n",
    "Taking this notation into account, we see that a network with $L-1$ hidden layers is fully expressed by its $L$ weight matrices, bias vectors, and activation functions.  We can denote the set of trainable parameters in our network by $\\theta = \\{ W^1, \\dots, W^L, b^1, \\dots, b^L \\}$.\n",
    "\n",
    "In this lab, we are only concerned with supervised learning tasks.  Recall that in supervised learning, we have a dataset represented by a list of $(x, y)$ pairs where $x$ is the input to our model and $y$ is the desired output.\n",
    "\n",
    "- For regression problems where we want to fit a function $y = f(x)$, $x$ is the independent variable vector, and $y$ is the function value.\n",
    "- In classification problems, $x$ will correspond to a set of attributes and $y$ the corresponding label.\n",
    "\n",
    "The goal of supervised learning is to \"train\" our network by adjusting its parameters in order to minimize a cost function over the entire training set,\n",
    "\n",
    "$$\n",
    "\\min_\\theta \\mathcal{L} = \\min_\\theta \\sum_{i=1}^N \\ell^{(i)}\n",
    "$$\n",
    "\n",
    "where $\\ell^{(i)} = \\ell(\\sigma^L(\\sigma^{L-1}(\\dots(x^{(i)}W^1 + b^1)\\dots)W^L + b^L), y^{(i)})$ and $\\ell(\\hat{y}, y)$ denotes the particular form of the loss function being considered.  In this lab, we will use 2 different loss functions:\n",
    "\n",
    "1. Quadratic Loss: $\\ell(\\hat{y}, y) = \\|\\hat{y} - y\\|^2$\n",
    "2. Cross-entropy Loss: $\\ell(\\hat{y}, y) = -[ y \\ln\\hat{y} + (1-y)\\ln(1-\\hat{y})]$"
   ]
  },
  {
   "cell_type": "markdown",
   "metadata": {
    "colab_type": "text",
    "deletable": false,
    "editable": false,
    "id": "f70A4AU__CzM",
    "nbgrader": {
     "cell_type": "markdown",
     "checksum": "8e0fbeeb18d01662921d87c80af641b7",
     "grade": false,
     "grade_id": "cell-6ac37293d56527cf",
     "locked": true,
     "schema_version": 3,
     "solution": false,
     "task": false
    }
   },
   "source": [
    "## Step 1: Build an untrainable network\n",
    "\n",
    "Understanding (and implementing) the back-propagation algorithm can seem a little daunting at first. Therefore, let's start by building out the functions we need just to create a network that cannot be trained, but can predict (feedforward pass). First load the libraries."
   ]
  },
  {
   "cell_type": "code",
   "execution_count": 1,
   "metadata": {
    "colab": {},
    "colab_type": "code",
    "deletable": false,
    "editable": false,
    "id": "PBkd3Edr_CzM",
    "nbgrader": {
     "cell_type": "code",
     "checksum": "25cbd925d090df8bb8ae776550e82167",
     "grade": false,
     "grade_id": "cell-9925427eca70b36f",
     "locked": true,
     "schema_version": 3,
     "solution": false,
     "task": false
    }
   },
   "outputs": [],
   "source": [
    "import numpy as np\n",
    "import matplotlib.pyplot as plt\n",
    "from sklearn import linear_model"
   ]
  },
  {
   "cell_type": "markdown",
   "metadata": {
    "deletable": false,
    "editable": false,
    "nbgrader": {
     "cell_type": "markdown",
     "checksum": "52a9dd3293a6a02b6fc980142199c30d",
     "grade": false,
     "grade_id": "cell-10a3abf8585507c2",
     "locked": true,
     "schema_version": 3,
     "solution": false,
     "task": false
    }
   },
   "source": [
    "*Python hints:* \n",
    "- Static methods are callable with uninstanciated class objects.\n",
    "- `__call__` methods are retrieved when using parentheses with an instanciated class object.\n",
    "- However, instanciation has precedence over `__call__`, so calling a Class like an other static method of that class or a function will not work (see [here](https://stackoverflow.com/questions/26793600/decorate-call-with-staticmethod)).\n",
    "- `__init__` (typically used to customize the instanciated objects of a class) cannot return anything.\n",
    "- The trick is thus to use it in conjunction with `__new__` (which creates the object and passes it to `__init__`)."
   ]
  },
  {
   "cell_type": "code",
   "execution_count": 2,
   "metadata": {
    "deletable": false,
    "editable": false,
    "nbgrader": {
     "cell_type": "code",
     "checksum": "4127da8445f0eb3468fb88d4c504aeac",
     "grade": false,
     "grade_id": "cell-7999382a4c9bf651",
     "locked": true,
     "schema_version": 3,
     "solution": false,
     "task": false
    }
   },
   "outputs": [],
   "source": [
    "class Activation(object):\n",
    "    \"\"\"\n",
    "    Base activation node class\n",
    "    \"\"\"\n",
    "\n",
    "    def __new__(self, x: float) -> float:\n",
    "        \"\"\"\n",
    "        What to do when instantiating an object: this basically says Activation(x)\n",
    "        will be equivalent to Activation()(x).\n",
    "\n",
    "        :param float or np.array x: input of the activation\n",
    "        :return: call the activation function\n",
    "        :rtype: float or np.array\n",
    "        \"\"\"\n",
    "        return self.__call__(x)"
   ]
  },
  {
   "cell_type": "markdown",
   "metadata": {
    "colab_type": "text",
    "deletable": false,
    "editable": false,
    "id": "YQCWlxli_CzQ",
    "nbgrader": {
     "cell_type": "markdown",
     "checksum": "96244f92182f5ac04c3a907c5da9c56f",
     "grade": false,
     "grade_id": "cell-7ecb4be9dc4bc9aa",
     "locked": true,
     "schema_version": 3,
     "solution": false,
     "task": false
    }
   },
   "source": [
    "### Exercise 1: Implement the activation functions.\n",
    "\n",
    "1. The easiest activation we can implement is the identity function which simply returns the input as itself.  Implement this below in the class template `Identity`. The `prime` function should implement the derivative of the activation. Note that it should work for single values (`float`) and vectors (`np.array`).\n",
    "\n",
    "*Python hint:* see [`np.ones_like`](https://numpy.org/doc/stable/reference/generated/numpy.ones_like.html)."
   ]
  },
  {
   "cell_type": "code",
   "execution_count": 3,
   "metadata": {
    "deletable": false,
    "nbgrader": {
     "cell_type": "code",
     "checksum": "8876e46f95b6d31541e74ff1479d904f",
     "grade": false,
     "grade_id": "cell-97b01d88950ba157",
     "locked": false,
     "schema_version": 3,
     "solution": true,
     "task": false
    }
   },
   "outputs": [],
   "source": [
    "class Identity(Activation):\n",
    "    \"\"\"\n",
    "    Identity activation node\n",
    "    \"\"\"\n",
    "    @staticmethod\n",
    "    def __call__(x: float) -> float:\n",
    "        \"\"\"\n",
    "        Implements the identity activation function\n",
    "\n",
    "        :param float or np.array x: input of the activation\n",
    "        :return: identity of input\n",
    "        :rtype: float or np.array\n",
    "        \"\"\"\n",
    "        return x\n",
    "       \n",
    "    @staticmethod\n",
    "    def prime(x: float) -> float:\n",
    "        \"\"\"\n",
    "        Implements the derivative of the identity activation function\n",
    "\n",
    "        :param float or np.array: input of the activation\n",
    "        :return: derivative of input\n",
    "        :rtype: float or np.array\n",
    "        \"\"\"\n",
    "        # We check the type\n",
    "        if isinstance(x, np.ndarray):\n",
    "            return np.ones(x.shape)\n",
    "        else:\n",
    "            return 1.\n",
    "        "
   ]
  },
  {
   "cell_type": "code",
   "execution_count": 4,
   "metadata": {
    "deletable": false,
    "editable": false,
    "nbgrader": {
     "cell_type": "code",
     "checksum": "28bfa8a81f5d18ceb399cc8ea61a281a",
     "grade": true,
     "grade_id": "cell-60b6df8c945c757f",
     "locked": true,
     "points": 1,
     "schema_version": 3,
     "solution": false,
     "task": false
    }
   },
   "outputs": [
    {
     "name": "stdout",
     "output_type": "stream",
     "text": [
      "[1 1]\n"
     ]
    }
   ],
   "source": [
    "assert Identity(1) == 1\n",
    "print(Identity(np.array([1, 1])))"
   ]
  },
  {
   "cell_type": "markdown",
   "metadata": {
    "deletable": false,
    "editable": false,
    "nbgrader": {
     "cell_type": "markdown",
     "checksum": "b33529ba148bce4a30bdeb2658881180",
     "grade": false,
     "grade_id": "cell-a1eb8ef5a0c2aa25",
     "locked": true,
     "schema_version": 3,
     "solution": false,
     "task": false
    }
   },
   "source": [
    "2. The threshold activation function takes an input and returns 1 if the input is positive, otherwise 0.  Implement the `Threshold` class below. Note that it should work for single values (`float`) and vectors (`np.array`).\n",
    "\n",
    "*Python hint:* see [`np.where`](https://numpy.org/doc/stable/reference/generated/numpy.where.html), and [`np.zeros_like`](https://numpy.org/doc/stable/reference/generated/numpy.zeros_like.html)."
   ]
  },
  {
   "cell_type": "code",
   "execution_count": 5,
   "metadata": {
    "deletable": false,
    "nbgrader": {
     "cell_type": "code",
     "checksum": "f583e89ab4b695716b26a63993f591c7",
     "grade": false,
     "grade_id": "cell-03e8948b196c4ddc",
     "locked": false,
     "schema_version": 3,
     "solution": true,
     "task": false
    }
   },
   "outputs": [],
   "source": [
    "class Threshold(Activation):\n",
    "    \"\"\"\n",
    "    Threshold activation node\n",
    "    \"\"\"\n",
    "    @staticmethod\n",
    "    def __call__(x: float) -> float:\n",
    "        \"\"\"\n",
    "        Implements the threshold activation function\n",
    "\n",
    "        :param float or np.array x: input of the activation\n",
    "        :return: if x > 0, 1, else 0\n",
    "        :rtype: float or np.array\n",
    "        \"\"\"\n",
    "        # First we check for the type of x\n",
    "        if isinstance(x, float):\n",
    "            return 1 if x > 0 else 0\n",
    "        elif isinstance(x, np.ndarray):\n",
    "            return np.where(x > 0, 1, 0)\n",
    "        else:\n",
    "            raise TypeError(\"Input must be a float or a numpy array\")\n",
    "    \n",
    "    @staticmethod\n",
    "    def prime(x: float) -> float:\n",
    "        \"\"\"\n",
    "        Implements the derivative of the threshold activation function\n",
    "\n",
    "        :param float or np.array: input of the activation\n",
    "        :return: derivative of input\n",
    "        :rtype: float or np.array\n",
    "        \"\"\"\n",
    "        # We check the type\n",
    "        if isinstance(x, np.ndarray):\n",
    "            return np.zeros(x.shape)\n",
    "        else:\n",
    "            return 0."
   ]
  },
  {
   "cell_type": "code",
   "execution_count": 6,
   "metadata": {
    "deletable": false,
    "editable": false,
    "nbgrader": {
     "cell_type": "code",
     "checksum": "d9441e67ed85730ef520b928d9d712cf",
     "grade": true,
     "grade_id": "cell-dbf41f4e682018a6",
     "locked": true,
     "points": 1,
     "schema_version": 3,
     "solution": false,
     "task": false
    }
   },
   "outputs": [
    {
     "name": "stdout",
     "output_type": "stream",
     "text": [
      "[0 1]\n"
     ]
    }
   ],
   "source": [
    "assert Threshold(0.5) == 1\n",
    "print(Threshold(np.array([-0.1, 0.1])))"
   ]
  },
  {
   "cell_type": "markdown",
   "metadata": {
    "deletable": false,
    "editable": false,
    "nbgrader": {
     "cell_type": "markdown",
     "checksum": "aadc87d1cfca836de19ebe4a626b3be3",
     "grade": false,
     "grade_id": "cell-f9a0356d080c3ad0",
     "locked": true,
     "schema_version": 3,
     "solution": false,
     "task": false
    }
   },
   "source": [
    "3. Recall that the sigmoid function is given by $\\sigma(x) = \\dfrac{1}{1 + \\exp(-x)}$. Calculate its derivative.\n",
    "\n",
    "*Hint*: you can do this on paper but be sure to insert a new markdown cell below and then click Edit > Insert Image.\n",
    "\n",
    "*Recall* that the derivative of $\\dfrac{1}{f(x)}$ is $-\\dfrac{f'(x)}{f(x)^2}$. Rearrange the resulting expression so that only $\\sigma$ appears."
   ]
  },
  {
   "attachments": {},
   "cell_type": "markdown",
   "metadata": {
    "deletable": false,
    "nbgrader": {
     "cell_type": "markdown",
     "checksum": "b9a80e47d674e3f9e0ed6a904fee0b18",
     "grade": true,
     "grade_id": "cell-fd3334fa63acd5fd",
     "locked": false,
     "points": 1,
     "schema_version": 3,
     "solution": true,
     "task": false
    }
   },
   "source": [
    "The sigmoid function is defined as:\n",
    "\n",
    "$$\\sigma(x) = \\frac{1}{1+e^{-x}}.$$\n",
    "\n",
    "To calculate its derivative, we can use the quotient rule:\n",
    "\n",
    "$$\\frac{d}{dx} \\sigma(x) = \\frac{d}{dx} \\frac{1}{1+e^{-x}} = \\frac{0 - \\frac{d}{dx}(1+e^{-x})}{(1+e^{-x})^2} = \\frac{e^{-x}}{(1+e^{-x})^2} = \\sigma(x)(1-\\sigma(x)).$$\n",
    "\n",
    "Therefore, we have that:\n",
    "\n",
    "$$\\frac{d}{dx} \\sigma(x) = \\frac{e^{-x}}{(1+e^{-x})^2} = \\sigma(x)(1-\\sigma(x)).$$"
   ]
  },
  {
   "cell_type": "markdown",
   "metadata": {
    "deletable": false,
    "editable": false,
    "nbgrader": {
     "cell_type": "markdown",
     "checksum": "31a0dfe0603c638ca3cad30a4fb370b8",
     "grade": false,
     "grade_id": "cell-b136c1c98c1b8aad",
     "locked": true,
     "schema_version": 3,
     "solution": false,
     "task": false
    }
   },
   "source": [
    "4. Implement the `Sigmoid` class below. Note that it should work for single values (`float`) and vectors (`np.array`)."
   ]
  },
  {
   "cell_type": "code",
   "execution_count": 7,
   "metadata": {
    "deletable": false,
    "nbgrader": {
     "cell_type": "code",
     "checksum": "f78ac05d640b6b0df3fa7b3e0dbd0c27",
     "grade": false,
     "grade_id": "cell-b829708eeb7af423",
     "locked": false,
     "schema_version": 3,
     "solution": true,
     "task": false
    }
   },
   "outputs": [],
   "source": [
    "class Sigmoid(Activation):    \n",
    "    \"\"\"\n",
    "    Threshold activation node\n",
    "    \"\"\"\n",
    "    @staticmethod\n",
    "    def __call__(x: float) -> float:\n",
    "        \"\"\"\n",
    "        Implements the sigmoid activation function\n",
    "\n",
    "        :param float or np.array x: input of the activation\n",
    "        :return: sigmoid transform of input\n",
    "        :rtype: float or np.array\n",
    "        \"\"\"\n",
    "        return 1 / (1 + np.exp(-x))\n",
    "\n",
    "    @staticmethod\n",
    "    def prime(x: float) -> float:\n",
    "        \"\"\"\n",
    "        Implements the derivative of the sigmoid activation function\n",
    "        (you can make good use of Sigmoid(...)!)\n",
    "\n",
    "        :param float or np.array: input of the activation\n",
    "        :return: derivative of input\n",
    "        :rtype: float or np.array\n",
    "        \"\"\"\n",
    "        return Sigmoid(x) * (1 - Sigmoid(x))"
   ]
  },
  {
   "cell_type": "code",
   "execution_count": 8,
   "metadata": {
    "deletable": false,
    "editable": false,
    "nbgrader": {
     "cell_type": "code",
     "checksum": "1eee980947ed6aab9ab6e1c75c66c050",
     "grade": true,
     "grade_id": "cell-d141c4feaa9ed5dc",
     "locked": true,
     "points": 1,
     "schema_version": 3,
     "solution": false,
     "task": false
    }
   },
   "outputs": [
    {
     "name": "stdout",
     "output_type": "stream",
     "text": [
      "[0.26894142 0.5        0.73105858]\n"
     ]
    }
   ],
   "source": [
    "assert Sigmoid(0) == 0.5\n",
    "print(Sigmoid(np.array([-1, 0, 1])))"
   ]
  },
  {
   "cell_type": "markdown",
   "metadata": {
    "colab_type": "text",
    "deletable": false,
    "editable": false,
    "id": "xoN3Pbi__CzU",
    "nbgrader": {
     "cell_type": "markdown",
     "checksum": "d5642a74f64dff45fbf9d0b7156ef172",
     "grade": false,
     "grade_id": "cell-1e3ef5e338abc605",
     "locked": true,
     "schema_version": 3,
     "solution": false,
     "task": false
    }
   },
   "source": [
    "4. Plot the activation functions and their derivative on the domain [-5, 5] with the function below. Are the graphical results satisfactory? (no answer expected)."
   ]
  },
  {
   "cell_type": "code",
   "execution_count": 9,
   "metadata": {
    "colab": {},
    "colab_type": "code",
    "deletable": false,
    "editable": false,
    "id": "cNmcyS4Q_CzU",
    "nbgrader": {
     "cell_type": "code",
     "checksum": "f0f65d4ae0d72cf7f36a943a9c588c76",
     "grade": false,
     "grade_id": "cell-868d89397737e596",
     "locked": true,
     "schema_version": 3,
     "solution": false,
     "task": false
    }
   },
   "outputs": [],
   "source": [
    "def plot_activation(activation: Activation):\n",
    "    x = np.arange(-5, 5, 0.01)\n",
    "    plt.plot(x, activation(x))\n",
    "    plt.plot(x, activation.prime(x))\n",
    "    plt.legend((activation.__name__, activation.__name__ + \" prime\"))\n",
    "    plt.show()"
   ]
  },
  {
   "cell_type": "code",
   "execution_count": 10,
   "metadata": {
    "deletable": false,
    "editable": false,
    "nbgrader": {
     "cell_type": "code",
     "checksum": "c8f59408a1175f66919487ac6272deea",
     "grade": false,
     "grade_id": "cell-033f9a0310c31056",
     "locked": true,
     "schema_version": 3,
     "solution": false,
     "task": false
    }
   },
   "outputs": [
    {
     "data": {
      "image/png": "[encoded data removed]",
      "text/plain": [
       "<Figure size 432x288 with 1 Axes>"
      ]
     },
     "metadata": {
      "needs_background": "light"
     },
     "output_type": "display_data"
    },
    {
     "data": {
      "image/png": "[encoded data removed]",
      "text/plain": [
       "<Figure size 432x288 with 1 Axes>"
      ]
     },
     "metadata": {
      "needs_background": "light"
     },
     "output_type": "display_data"
    },
    {
     "data": {
      "image/png": "[encoded data removed]",
      "text/plain": [
       "<Figure size 432x288 with 1 Axes>"
      ]
     },
     "metadata": {
      "needs_background": "light"
     },
     "output_type": "display_data"
    }
   ],
   "source": [
    "plot_activation(Identity)\n",
    "plot_activation(Threshold)\n",
    "plot_activation(Sigmoid)"
   ]
  },
  {
   "cell_type": "markdown",
   "metadata": {
    "colab_type": "text",
    "deletable": false,
    "editable": false,
    "id": "8alCasgu_CzZ",
    "nbgrader": {
     "cell_type": "markdown",
     "checksum": "19a32a1bcff1b3b0ffd4ce9e23806ac7",
     "grade": false,
     "grade_id": "cell-2b126872894e4635",
     "locked": true,
     "schema_version": 3,
     "solution": false,
     "task": false
    }
   },
   "source": [
    "### Exercise 2: First draft of the Network class"
   ]
  },
  {
   "cell_type": "markdown",
   "metadata": {
    "colab_type": "text",
    "deletable": false,
    "editable": false,
    "id": "uhCd0Nmr_CzW",
    "nbgrader": {
     "cell_type": "markdown",
     "checksum": "cf9ab616a1068d12ebb9e72481571cec",
     "grade": false,
     "grade_id": "cell-9cabe34a6f94db22",
     "locked": true,
     "schema_version": 3,
     "solution": false,
     "task": false
    }
   },
   "source": [
    "During this lab, we will build on the following python class called `Network` which will represent our neural net.  The `Network` class will keep track of the weights, biases, and activations needed to evaluate and train our model.  The following exercises will guide you through building up the class from the skeleton below."
   ]
  },
  {
   "cell_type": "code",
   "execution_count": 11,
   "metadata": {
    "colab": {},
    "colab_type": "code",
    "deletable": false,
    "id": "eY-JPx-3_CzX",
    "nbgrader": {
     "cell_type": "code",
     "checksum": "c48df0dad29652f450c82b965830292e",
     "grade": false,
     "grade_id": "cell-70244115571606c2",
     "locked": false,
     "schema_version": 3,
     "solution": true,
     "task": false
    }
   },
   "outputs": [],
   "source": [
    "class Network:\n",
    "    \"\"\"\n",
    "    A simple implementation of a feed-forward artificial neural network.\n",
    "    Work on this class throughout the entire exercise, rerunning this cell after each update.\n",
    "    \"\"\"\n",
    "\n",
    "    def __init__(self, sizes: list, sigmas: list):\n",
    "        \"\"\"\n",
    "        Construct a network given a list of the number of neurons in each layer and \n",
    "        a list of activations which will be applied to each layer.\n",
    "        \n",
    "        :param list sizes: A list of integers representing the number of nodes in each layer, \n",
    "        including the input and output layers.\n",
    "        :param list activations: A list of callable objects representing the activation functions.\n",
    "        Its size should be one less than sizes.\n",
    "        \"\"\"\n",
    "        # Exercise 2.2\n",
    "        self.sizes = sizes\n",
    "        self.sigmas = sigmas\n",
    "        self.weights = [np.random.randn(y, x) for x, y in zip(sizes[:-1], sizes[1:])]\n",
    "        self.biases = [np.random.randn(y, 1) for y in sizes[1:]]\n",
    "\n",
    "\n",
    "    def num_params(self) -> int:\n",
    "        \"\"\"Returns the total number of trainable parameters in this network.\"\"\"\n",
    "        # Exercise 2.3\n",
    "        return sum([w.size + b.size for w, b in zip(self.weights, self.biases)])\n",
    "\n",
    "    def feed_forward(self, x: np.array) -> np.array:\n",
    "        \"\"\"\n",
    "        Evaluates the network for the given input and returns the result.\n",
    "        \n",
    "        :param numpy.array x: A numpy 2D-array where the columns represent input variables\n",
    "        and rows represent independent samples.\n",
    "        :return: output of the network\n",
    "        :rtype: numpy.array\n",
    "        \"\"\"\n",
    "        # Exercise 2.4\n",
    "        a = x  # we start with a^0 = x, the input\n",
    "        for w, b, sigma in zip(self.weights, self.biases, self.sigmas):\n",
    "            a = sigma(w @ a + b)\n",
    "        return a\n"
   ]
  },
  {
   "cell_type": "code",
   "execution_count": 12,
   "metadata": {},
   "outputs": [],
   "source": [
    "\n",
    "class Network:\n",
    "    def __init__(self, layer_sizes, activation_functions):\n",
    "        self.sizes = layer_sizes\n",
    "        self.sigmas = activation_functions\n",
    "        \n",
    "        self.biases  = []\n",
    "        for size in self.sizes[1:]:\n",
    "            self.biases.append(np.random.randn(1, size))\n",
    "            \n",
    "        self.weights = []\n",
    "        for input_size, output_size in zip(layer_sizes[:-1], layer_sizes[1:]):\n",
    "            self.weights.append(np.random.randn(input_size, output_size))\n",
    "\n",
    "    def num_params(self) -> int:\n",
    "        s = []\n",
    "        for input_size, output_size in zip(self.sizes[:-1], self.sizes[1:]):\n",
    "            s.append(input_size * output_size + output_size)\n",
    "        \n",
    "        return sum(s)\n",
    "\n",
    "    def feed_forward(self, inputs):\n",
    "        a = inputs\n",
    "        for weight, bias, activ_fn in zip(self.weights, self.biases, self.sigmas):\n",
    "            a = activ_fn(np.matmul(a, weight) + bias)\n",
    "            \n",
    "        return a"
   ]
  },
  {
   "cell_type": "markdown",
   "metadata": {
    "deletable": false,
    "editable": false,
    "nbgrader": {
     "cell_type": "markdown",
     "checksum": "a707892094291d7c688d0e360c19198a",
     "grade": false,
     "grade_id": "cell-3346888b14e4bb36",
     "locked": true,
     "schema_version": 3,
     "solution": false,
     "task": false
    }
   },
   "source": [
    "1. From the recursion formulas above, write down the shapes of the weight matrices and bias vectors, given the number of neurons $d^l$ in layer $l$."
   ]
  },
  {
   "attachments": {},
   "cell_type": "markdown",
   "metadata": {
    "deletable": false,
    "nbgrader": {
     "cell_type": "markdown",
     "checksum": "15df1237c9d043e47cdeca9ec273ea97",
     "grade": true,
     "grade_id": "cell-0821a88865b736d1",
     "locked": false,
     "points": 0,
     "schema_version": 3,
     "solution": true,
     "task": false
    }
   },
   "source": [
    "The shapes of the weight matrices and bias vectors are given by:\n",
    "\n",
    "$$W^l \\in \\mathbb{R}^{d^{l+1} \\times d^l}$$\n",
    "\n",
    "$$b^l \\in \\mathbb{R}^{d^{l+1}}$$\n",
    "\n",
    "#### CHECKKKKKKKKKKKKKKKKKKKk"
   ]
  },
  {
   "cell_type": "markdown",
   "metadata": {
    "deletable": false,
    "editable": false,
    "nbgrader": {
     "cell_type": "markdown",
     "checksum": "31a4fee2820372a2f45d2cfae7c188df",
     "grade": false,
     "grade_id": "cell-95e2712e5b603757",
     "locked": true,
     "schema_version": 3,
     "solution": false,
     "task": false
    }
   },
   "source": [
    "2. Implement the init `__init__` function in `Network` above.\n",
    "\n",
    "* Store `sizes` (a list of size $L + 1$ representing the respective size $d^l$ of each layer including the input) and `sigmas` (a list of size $L$ of callable functions representing the activation function in each layer) in attributes `sizes` and `sigmas`(...);\n",
    "\n",
    "* Construct a list of weight matrices (in a `weights` attribute), a list of bias vectors (in a `biases` attribute) which are randomly initialized with normal distributions (see `np.random.randn`); pay attention to the size of each list and the shape of each element.\n",
    "\n",
    "*Python hints*: `array[1:]` gives you all the array except the first entry; `array[:-1]` gives you all the array except the last entry; `for x, y in zip(a, b)` lets you iterate \"simultaneously\" through a pair of objects of same length."
   ]
  },
  {
   "cell_type": "code",
   "execution_count": 13,
   "metadata": {
    "deletable": false,
    "editable": false,
    "nbgrader": {
     "cell_type": "code",
     "checksum": "dc05bd26ec2f132438104b043b262093",
     "grade": true,
     "grade_id": "cell-90370fca040d6c63",
     "locked": true,
     "points": 1,
     "schema_version": 3,
     "solution": false,
     "task": false
    }
   },
   "outputs": [],
   "source": [
    "# Test the network's initialization\n",
    "assert Network([1], Sigmoid).sizes == [1]"
   ]
  },
  {
   "cell_type": "markdown",
   "metadata": {
    "deletable": false,
    "editable": false,
    "nbgrader": {
     "cell_type": "markdown",
     "checksum": "dca41e2071051f47e070681b342c8844",
     "grade": false,
     "grade_id": "cell-1abf1a64a6747dd4",
     "locked": true,
     "schema_version": 3,
     "solution": false,
     "task": false
    }
   },
   "source": [
    "3. Implement the `num_params` function in `Network` above.  Use your knowledge of the shapes of the weights and biases."
   ]
  },
  {
   "cell_type": "code",
   "execution_count": 14,
   "metadata": {
    "deletable": false,
    "editable": false,
    "nbgrader": {
     "cell_type": "code",
     "checksum": "3850aee0ed3652348b4027d689ee4a4d",
     "grade": true,
     "grade_id": "cell-b870d6b966b394b7",
     "locked": true,
     "points": 1,
     "schema_version": 3,
     "solution": false,
     "task": false
    }
   },
   "outputs": [],
   "source": [
    "# Test the network's number of parameters\n",
    "assert Network([1, 2, 2, 1], [Sigmoid, Sigmoid, Sigmoid]).num_params() == 13"
   ]
  },
  {
   "cell_type": "markdown",
   "metadata": {
    "deletable": false,
    "editable": false,
    "nbgrader": {
     "cell_type": "markdown",
     "checksum": "b27641ef5f488839f2e924946d119197",
     "grade": false,
     "grade_id": "cell-ebb67909ec605029",
     "locked": true,
     "schema_version": 3,
     "solution": false,
     "task": false
    }
   },
   "source": [
    "4. Implement the `feed_forward` function in `Network` above. Use the recurrence relations discussed in the Notation section, in particular:\n",
    "\n",
    "$$z^l = a^{l-1} W^l + b^l,\\\\\n",
    "a^l = \\sigma^l(z^l).$$"
   ]
  },
  {
   "cell_type": "code",
   "execution_count": 15,
   "metadata": {},
   "outputs": [
    {
     "data": {
      "text/plain": [
       "1"
      ]
     },
     "execution_count": 15,
     "metadata": {},
     "output_type": "execute_result"
    }
   ],
   "source": [
    "\n",
    "Network([1, 2, 2, 1], [Sigmoid, Sigmoid, Sigmoid]).feed_forward(np.array([1])).shape[0]"
   ]
  },
  {
   "cell_type": "code",
   "execution_count": 16,
   "metadata": {
    "deletable": false,
    "editable": false,
    "nbgrader": {
     "cell_type": "code",
     "checksum": "93ebb3241e7515db6fbd566d77930bef",
     "grade": true,
     "grade_id": "cell-f18884d1944a1976",
     "locked": true,
     "points": 1,
     "schema_version": 3,
     "solution": false,
     "task": false
    }
   },
   "outputs": [],
   "source": [
    "# Test the network's feedforward result\n",
    "assert Network([1, 2, 2, 1], [Sigmoid, Sigmoid, Sigmoid]).feed_forward(np.array([1])).shape[0] == 1"
   ]
  },
  {
   "cell_type": "markdown",
   "metadata": {
    "colab_type": "text",
    "deletable": false,
    "editable": false,
    "id": "gSel8dO__Cza",
    "nbgrader": {
     "cell_type": "markdown",
     "checksum": "5e9167eb94427a79de589c98abd14f64",
     "grade": false,
     "grade_id": "cell-4bddc8c9c4cbed49",
     "locked": true,
     "schema_version": 3,
     "solution": false,
     "task": false
    }
   },
   "source": [
    "5. Create a `network` with 4 inputs, 2 hidden layers of 5 nodes each, and 1 output (use any activation). This network could typically be used with the `iris` dataset, since we have 4 features (petal/sepal length/width) and 1 output (setosa/versicolor)."
   ]
  },
  {
   "cell_type": "code",
   "execution_count": 129,
   "metadata": {
    "colab": {},
    "colab_type": "code",
    "deletable": false,
    "id": "11dZmuk5_Czb",
    "nbgrader": {
     "cell_type": "code",
     "checksum": "63c192afcd5aba6cd9490ef93c106420",
     "grade": false,
     "grade_id": "cell-f4d5798cb8807a54",
     "locked": false,
     "schema_version": 3,
     "solution": true,
     "task": false
    }
   },
   "outputs": [],
   "source": [
    "network = Network([4, 5, 5, 1], [Sigmoid, Sigmoid, Sigmoid])\n"
   ]
  },
  {
   "cell_type": "markdown",
   "metadata": {
    "colab_type": "text",
    "deletable": false,
    "editable": false,
    "id": "O1HGWxSg_Czh",
    "nbgrader": {
     "cell_type": "markdown",
     "checksum": "89021dc6bb2238772979e2b52489ec62",
     "grade": false,
     "grade_id": "cell-99327dd1116cd912",
     "locked": true,
     "schema_version": 3,
     "solution": false,
     "task": false
    }
   },
   "source": [
    "6. Print the weights and biases of the network and confirm they are intialized correctly (shape and values)."
   ]
  },
  {
   "cell_type": "code",
   "execution_count": 130,
   "metadata": {
    "colab": {},
    "colab_type": "code",
    "deletable": false,
    "editable": false,
    "id": "ri_SV2x0_Czi",
    "nbgrader": {
     "cell_type": "code",
     "checksum": "f0e1de9ecc086523fdf14ea65a0f5797",
     "grade": true,
     "grade_id": "cell-98afd0b9734c77a8",
     "locked": true,
     "points": 0.5,
     "schema_version": 3,
     "solution": false,
     "task": false
    }
   },
   "outputs": [
    {
     "name": "stdout",
     "output_type": "stream",
     "text": [
      "\n",
      "W^0\n",
      "Shape: (4, 5)\n",
      "[[-0.41383449 -1.13904416  0.24768978 -1.37375039 -0.75852291]\n",
      " [ 0.25377329  0.21145645  0.79998829 -0.39442928 -1.1381376 ]\n",
      " [ 0.03922713  0.99050442 -1.12726645  0.06107943  0.4781506 ]\n",
      " [ 0.66427106  1.42444008 -0.614419    1.14435166  0.9339326 ]]\n",
      "\n",
      "W^1\n",
      "Shape: (5, 5)\n",
      "[[ 0.89365154  0.9827494  -0.77005194 -0.48035954  0.62534423]\n",
      " [ 0.75131618 -1.17252761  0.73813367  0.43799013 -0.75399935]\n",
      " [-0.09158142 -0.86462902 -0.44321966 -0.35849966 -0.74897448]\n",
      " [-1.12503419 -0.87405486 -1.98302989 -0.6513855  -0.5140293 ]\n",
      " [-0.8143294   0.72103785 -2.15201005  0.34644427 -1.55114254]]\n",
      "\n",
      "W^2\n",
      "Shape: (5, 1)\n",
      "[[ 1.00419006]\n",
      " [ 1.24275343]\n",
      " [ 0.06302679]\n",
      " [ 0.04911022]\n",
      " [-0.21554917]]\n"
     ]
    }
   ],
   "source": [
    "for index, weight in enumerate(network.weights):\n",
    "    print(f\"\\nW^{index}\")\n",
    "    print(\"Shape:\", weight.shape)\n",
    "    print(weight)"
   ]
  },
  {
   "cell_type": "code",
   "execution_count": 131,
   "metadata": {
    "deletable": false,
    "editable": false,
    "nbgrader": {
     "cell_type": "code",
     "checksum": "40d2cbcabe422f44780b364551037aa3",
     "grade": true,
     "grade_id": "cell-034bea04084ae05d",
     "locked": true,
     "points": 0.5,
     "schema_version": 3,
     "solution": false,
     "task": false
    }
   },
   "outputs": [
    {
     "name": "stdout",
     "output_type": "stream",
     "text": [
      "\n",
      "Bias 0\n",
      "Shape: (1, 5)\n",
      "[[-0.06365544  0.46101905 -1.5764373   0.52627627  1.11290042]]\n",
      "\n",
      "Bias 1\n",
      "Shape: (1, 5)\n",
      "[[ 0.2015468   0.646619   -0.24976744  0.35664298 -0.35129328]]\n",
      "\n",
      "Bias 2\n",
      "Shape: (1, 1)\n",
      "[[0.35733105]]\n"
     ]
    }
   ],
   "source": [
    "for index, bias in enumerate(network.biases):\n",
    "    print(\"\\nBias\", index)\n",
    "    print(\"Shape:\", bias.shape)\n",
    "    print(bias)"
   ]
  },
  {
   "cell_type": "markdown",
   "metadata": {
    "colab_type": "text",
    "deletable": false,
    "editable": false,
    "id": "VXTC5Gpe_Czm",
    "nbgrader": {
     "cell_type": "markdown",
     "checksum": "a18c19f1a8e906b51f5ef0fc7f88396d",
     "grade": false,
     "grade_id": "cell-9285ed448929d454",
     "locked": true,
     "schema_version": 3,
     "solution": false,
     "task": false
    }
   },
   "source": [
    "### Exercise 4: Build logic gates\n",
    "\n",
    "Below is a table of logical functions (logic gates).  Each function takes two values (A and B) representing True (1) or False (0) propositions and returns a True or False value.\n",
    "\n",
    "| A | B | AND | OR | XOR | NAND |\n",
    "|---|---|-----|----|-----|------|\n",
    "| 0 | 0 | 0   | 0  | 0   | 1    |\n",
    "| 0 | 1 | 0   | 1  | 1   | 1    |\n",
    "| 1 | 0 | 0   | 1  | 1   | 1    |\n",
    "| 1 | 1 | 1   | 1  | 0   | 0    |\n",
    "\n",
    "Interestingly, [it is possible to create any boolean function of any size through a combination of NAND gates](https://en.wikipedia.org/wiki/NAND_gate)!  Thus, if we can create a network which reproduces the logic behind a NAND-gate, it is possible to represent any logical function (and by extension any mathematical function) by combining such a network into ever more complex networks.  This is one version of a universal approximation theorem for ANNs.\n",
    "\n",
    "**Task:** build the AND, OR, and NAND logic gates above using the simple network below by **modifying its weights and biases directly**. The `logic_gate` function is provided to test your networks: it corresponds to columns A, B in the table above. We will test if we get the expected results (columns AND, ..., NAND)."
   ]
  },
  {
   "cell_type": "code",
   "execution_count": 138,
   "metadata": {
    "deletable": false,
    "editable": false,
    "nbgrader": {
     "cell_type": "code",
     "checksum": "992e3cf96e2af53cb70a4e4c2857b71c",
     "grade": false,
     "grade_id": "cell-3718598f00e4622d",
     "locked": true,
     "schema_version": 3,
     "solution": false,
     "task": false
    }
   },
   "outputs": [],
   "source": [
    "def logic_gate(network: Network, array: np.array = np.asarray([\n",
    "            [0, 0],\n",
    "            [0, 1],\n",
    "            [1, 0],\n",
    "            [1, 1]])) -> np.array:\n",
    "    \"\"\"\n",
    "    Helper function to test our network as a logic gate.\n",
    "\n",
    "    :param Network network: our neural network\n",
    "    :param numpy.array array: apply feed forward to array\n",
    "    :return: output of network given array\n",
    "    :rtype: numpy.array\n",
    "    \"\"\"\n",
    "    return network.feed_forward(array)"
   ]
  },
  {
   "cell_type": "code",
   "execution_count": 139,
   "metadata": {
    "deletable": false,
    "editable": false,
    "nbgrader": {
     "cell_type": "code",
     "checksum": "79f5ef1ddb2873f7fe2ee2b974a546ce",
     "grade": false,
     "grade_id": "cell-155227b9348f53c9",
     "locked": true,
     "schema_version": 3,
     "solution": false,
     "task": false
    }
   },
   "outputs": [
    {
     "data": {
      "text/plain": [
       "[array([[ 0.1447642 ],\n",
       "        [-1.08356465]])]"
      ]
     },
     "execution_count": 139,
     "metadata": {},
     "output_type": "execute_result"
    }
   ],
   "source": [
    "# Create a simple \"logic gate\" network with two inputs A and B and 1 output, with activation function Threshold\n",
    "network = Network([2, 1], [Threshold])\n",
    "network.weights"
   ]
  },
  {
   "cell_type": "markdown",
   "metadata": {
    "deletable": false,
    "editable": false,
    "nbgrader": {
     "cell_type": "markdown",
     "checksum": "06a272ffb2d4ae6825d91171fbce12a6",
     "grade": false,
     "grade_id": "cell-b6d135b9536dd76e",
     "locked": true,
     "schema_version": 3,
     "solution": false,
     "task": false
    }
   },
   "source": [
    "1. Implement the AND gate by modifying the `network`'s weights and biases.\n",
    "\n",
    "*Hint:* what should $W$ and $b$ be such that we get `[0, 0, 0, 1]` when the input is (A, B)?"
   ]
  },
  {
   "cell_type": "code",
   "execution_count": 140,
   "metadata": {
    "colab": {},
    "colab_type": "code",
    "deletable": false,
    "id": "Qp7utpCB_Czn",
    "nbgrader": {
     "cell_type": "code",
     "checksum": "e37ce797e6676a9b2386a3b1a19204e5",
     "grade": false,
     "grade_id": "cell-a42131ad5e265fef",
     "locked": false,
     "schema_version": 3,
     "solution": true,
     "task": false
    }
   },
   "outputs": [],
   "source": [
    "network.weights[0] = np.asarray([[1],[1]])\n",
    "network.biases[0] = np.asarray([-1.5])"
   ]
  },
  {
   "cell_type": "code",
   "execution_count": 141,
   "metadata": {
    "deletable": false,
    "editable": false,
    "nbgrader": {
     "cell_type": "code",
     "checksum": "4ee905c885fd0881cff13de556e0ce11",
     "grade": true,
     "grade_id": "cell-846b9303cb272ebd",
     "locked": true,
     "points": 1,
     "schema_version": 3,
     "solution": false,
     "task": false
    }
   },
   "outputs": [],
   "source": [
    "# Test if we get the expected result (see table above)\n",
    "np.testing.assert_array_equal(logic_gate(network), np.array([0, 0, 0, 1]).reshape((-1, 1)))"
   ]
  },
  {
   "cell_type": "markdown",
   "metadata": {},
   "source": []
  },
  {
   "cell_type": "markdown",
   "metadata": {
    "deletable": false,
    "editable": false,
    "nbgrader": {
     "cell_type": "markdown",
     "checksum": "5f49f86c3d452925debbd60472229c8a",
     "grade": false,
     "grade_id": "cell-4725d6fb651243c0",
     "locked": true,
     "schema_version": 3,
     "solution": false,
     "task": false
    }
   },
   "source": [
    "2. Implement the OR gate by modifying the `network`'s weights and biases."
   ]
  },
  {
   "cell_type": "code",
   "execution_count": 144,
   "metadata": {
    "deletable": false,
    "nbgrader": {
     "cell_type": "code",
     "checksum": "61180b45dd694b32598d974a6c64e73a",
     "grade": false,
     "grade_id": "cell-480fe471b4467d26",
     "locked": false,
     "schema_version": 3,
     "solution": true,
     "task": false
    }
   },
   "outputs": [],
   "source": [
    "# OR gate\n",
    "network.weights[0] = np.asarray([[1], [1]])\n",
    "network.biases[0] = np.asarray([[-0.5]])\n"
   ]
  },
  {
   "cell_type": "code",
   "execution_count": 145,
   "metadata": {
    "deletable": false,
    "editable": false,
    "nbgrader": {
     "cell_type": "code",
     "checksum": "fa65a7636e93a5543e94402b3b87ac04",
     "grade": true,
     "grade_id": "cell-846b9303cb272ebc",
     "locked": true,
     "points": 1,
     "schema_version": 3,
     "solution": false,
     "task": false
    }
   },
   "outputs": [],
   "source": [
    "# Test if we get the expected result (see table above)\n",
    "np.testing.assert_array_equal(logic_gate(network), np.array([0, 1, 1, 1]).reshape((-1, 1)))"
   ]
  },
  {
   "cell_type": "markdown",
   "metadata": {
    "deletable": false,
    "editable": false,
    "nbgrader": {
     "cell_type": "markdown",
     "checksum": "87bda956c6842571606f991c2be92f7c",
     "grade": false,
     "grade_id": "cell-06c4fc60e02fda82",
     "locked": true,
     "schema_version": 3,
     "solution": false,
     "task": false
    }
   },
   "source": [
    "3. Implement the NAND gate by modifying the `network`'s weights and biases."
   ]
  },
  {
   "cell_type": "code",
   "execution_count": 146,
   "metadata": {
    "deletable": false,
    "nbgrader": {
     "cell_type": "code",
     "checksum": "581f3b4a3ce0f07f4f510f8ec82f8405",
     "grade": false,
     "grade_id": "cell-bfa280b436bf2d7a",
     "locked": false,
     "schema_version": 3,
     "solution": true,
     "task": false
    }
   },
   "outputs": [],
   "source": [
    "# NAND gate\n",
    "network.weights[0] = np.asarray([[-2],[-2]])\n",
    "network.biases[0] = np.asarray([3])"
   ]
  },
  {
   "cell_type": "code",
   "execution_count": 147,
   "metadata": {
    "deletable": false,
    "editable": false,
    "nbgrader": {
     "cell_type": "code",
     "checksum": "57546bf42555b02ac2810b6a4ba2bd89",
     "grade": true,
     "grade_id": "cell-846b9303cb272ebe",
     "locked": true,
     "points": 1,
     "schema_version": 3,
     "solution": false,
     "task": false
    }
   },
   "outputs": [],
   "source": [
    "# Test if we get the expected result (see table above)\n",
    "np.testing.assert_array_equal(logic_gate(network), np.array([1, 1, 1, 0]).reshape((-1, 1)))"
   ]
  },
  {
   "cell_type": "markdown",
   "metadata": {
    "deletable": false,
    "editable": false,
    "nbgrader": {
     "cell_type": "markdown",
     "checksum": "34e9982df23483f4bedee19b13cf0999",
     "grade": false,
     "grade_id": "cell-144539a8a6ee7b5c",
     "locked": true,
     "schema_version": 3,
     "solution": false,
     "task": false
    }
   },
   "source": [
    "## Testing your Network's Capacity\n",
    "\n",
    "You haven't trained one of your networks yet. But the theorem of universal approximation doesn't say anything about training regimes. A network may still possess enormous capacity. \n",
    "\n",
    "Every so often in the scientific literature the idea resurfaces of harnessing the power *of an untrained network*. Sometimes such methodologies are given creative and exhuberent names such as \"Random Basis Function Expansion\", \"Extreme Learning Machines\", \"Echo State Networks\" or \"Random Kitchen Sinks\". The idea is simple, but ingenious: \n",
    "1. Use a neural network to create a deep random projection into a high dimensional space - this is done by having many hidden layers with (at least) a big output layer ($d^L >> 1$);\n",
    "1. Train least squares or similar using the projection as input\n",
    "1. Aggressively regularize the network. No deep learning/back-propagation required!\n",
    "\n",
    "Observe the following non-linear function; notice how it cannot be solved by least squares. "
   ]
  },
  {
   "cell_type": "code",
   "execution_count": 148,
   "metadata": {
    "deletable": false,
    "editable": false,
    "nbgrader": {
     "cell_type": "code",
     "checksum": "ecb1fbb0954fca007ae5145e3d93c6c7",
     "grade": false,
     "grade_id": "cell-65078b8c10006094",
     "locked": true,
     "schema_version": 3,
     "solution": false,
     "task": false
    }
   },
   "outputs": [],
   "source": [
    "def phi(x):\n",
    "    '''put x into non linear 2D space'''\n",
    "    return np.array([np.sin(x), np.sqrt(x)]).T\n",
    "\n",
    "def f_true(phi):\n",
    "    '''linear regression in that non linear space'''\n",
    "    return phi @ w"
   ]
  },
  {
   "cell_type": "code",
   "execution_count": 149,
   "metadata": {
    "deletable": false,
    "editable": false,
    "nbgrader": {
     "cell_type": "code",
     "checksum": "c35dadc7bb7140fe96efea00542f586a",
     "grade": false,
     "grade_id": "cell-df16eee4336f384d",
     "locked": true,
     "schema_version": 3,
     "solution": false,
     "task": false
    }
   },
   "outputs": [],
   "source": [
    "# linear regression coefficient in non linear space\n",
    "w = np.array([0.8, 1.2]).reshape(2, 1)\n",
    "\n",
    "# generate dataset\n",
    "x = np.linspace(0, 10, 100)\n",
    "y = f_true(phi(x)) + 0  # no noise for this demonstration, we just want to fit...\n",
    "\n",
    "# baseline: a linear regression on x (with intercept)\n",
    "fhat = linear_model.LinearRegression()\n",
    "fhat.fit(x.reshape(-1, 1), y)\n",
    "yp = fhat.predict(x.reshape(-1, 1))"
   ]
  },
  {
   "cell_type": "code",
   "execution_count": 150,
   "metadata": {
    "deletable": false,
    "editable": false,
    "nbgrader": {
     "cell_type": "code",
     "checksum": "b361a2a65bd669e1e3b092f19677cebc",
     "grade": false,
     "grade_id": "cell-d500b1ef0ac164f2",
     "locked": true,
     "schema_version": 3,
     "solution": false,
     "task": false
    }
   },
   "outputs": [
    {
     "data": {
      "image/png": "[encoded data removed]",
      "text/plain": [
       "<Figure size 432x288 with 1 Axes>"
      ]
     },
     "metadata": {
      "needs_background": "light"
     },
     "output_type": "display_data"
    }
   ],
   "source": [
    "# plot truth and estimate\n",
    "fig = plt.figure()\n",
    "plt.scatter(x,y)\n",
    "plt.plot(x,f_true(phi(x)),label=\"$f_\\star$\")\n",
    "plt.plot(x,yp,label=\"$\\hat f$ (linear regression)\")\n",
    "plt.legend()\n",
    "plt.xlabel('$x$')\n",
    "plt.ylabel('$y$');"
   ]
  },
  {
   "cell_type": "markdown",
   "metadata": {
    "deletable": false,
    "editable": false,
    "nbgrader": {
     "cell_type": "markdown",
     "checksum": "8a73eb69c26e8c0508b79939b4b71e4a",
     "grade": false,
     "grade_id": "cell-d6f47c07fcaa9b37",
     "locked": true,
     "schema_version": 3,
     "solution": false,
     "task": false
    }
   },
   "source": [
    "Now, create an instance of your network to carry out steps 1. and 2., by having it produce an output of size `k`, and using this output as an input in a 'standard' linear regression formulation.  \n",
    "\n",
    "(Note: Step 3.-Regularization is of enormous importance (as you know by now), but in this exercise we are particularly interested in confirming the capacity/power of your network.)"
   ]
  },
  {
   "cell_type": "code",
   "execution_count": 151,
   "metadata": {
    "deletable": false,
    "nbgrader": {
     "cell_type": "code",
     "checksum": "c2847f02a3def43b065aba3af8490e12",
     "grade": false,
     "grade_id": "cell-3f05485b83e8b21d",
     "locked": false,
     "schema_version": 3,
     "solution": true,
     "task": false
    }
   },
   "outputs": [],
   "source": [
    "k = 40\n",
    "Z = np.zeros((len(x), k))  # this is what you need to replace with the output of your network\n",
    "\n",
    "# TODO: Use your network to convert each x[i] into a random k-dimensional projection, Z[i] \n",
    "\n",
    "# Hint 1: Try with sizes [1, int(k/2), k]\n",
    "# Hint 2: If you stick to linear activation functions, the result can only be linear!\n",
    "network = Network([1, int(k/2), k], [Sigmoid, Sigmoid, Sigmoid])\n",
    "# We convert each x[i] into a random k-dimensional projection, Z[i]\n",
    "for i in range(len(x)):\n",
    "    Z[i] = network.feed_forward(x[i].reshape(-1, 1)).reshape(-1)\n",
    "\n",
    "\n",
    "\n",
    "\n",
    "fhat = linear_model.LinearRegression()\n",
    "fhat.fit(Z,y)\n",
    "yp = fhat.predict(Z)"
   ]
  },
  {
   "cell_type": "markdown",
   "metadata": {
    "deletable": false,
    "editable": false,
    "nbgrader": {
     "cell_type": "markdown",
     "checksum": "137ed29a4826195583bb9fbc49dd7a86",
     "grade": false,
     "grade_id": "cell-488517d32c18a0a1",
     "locked": true,
     "schema_version": 3,
     "solution": false,
     "task": false
    }
   },
   "source": [
    "Check graphically that the estimate fits the truth very well:"
   ]
  },
  {
   "cell_type": "code",
   "execution_count": 152,
   "metadata": {
    "deletable": false,
    "editable": false,
    "nbgrader": {
     "cell_type": "code",
     "checksum": "aef1370b43e72fb8318faa04c0f20658",
     "grade": false,
     "grade_id": "cell-dd40d0d47eaa68c9",
     "locked": true,
     "schema_version": 3,
     "solution": false,
     "task": false
    }
   },
   "outputs": [
    {
     "data": {
      "image/png": "[encoded data removed]",
      "text/plain": [
       "<Figure size 432x288 with 1 Axes>"
      ]
     },
     "metadata": {
      "needs_background": "light"
     },
     "output_type": "display_data"
    }
   ],
   "source": [
    "fig = plt.figure()\n",
    "plt.scatter(x, y)\n",
    "plt.plot(x, f_true(phi(x)), label=\"$f_\\star$\")\n",
    "plt.plot(x, yp, label=\"$\\hat f$ (ELM)\")\n",
    "plt.legend()\n",
    "plt.xlabel('$x$')\n",
    "plt.ylabel('$y$');"
   ]
  },
  {
   "cell_type": "code",
   "execution_count": null,
   "metadata": {
    "deletable": false,
    "editable": false,
    "nbgrader": {
     "cell_type": "code",
     "checksum": "e34d29ea08e51e856839bfe6cce87f0f",
     "grade": true,
     "grade_id": "cell-02d2221fc8db0dab",
     "locked": true,
     "points": 2,
     "schema_version": 3,
     "solution": false,
     "task": false
    }
   },
   "outputs": [],
   "source": []
  },
  {
   "attachments": {},
   "cell_type": "markdown",
   "metadata": {
    "deletable": false,
    "editable": false,
    "nbgrader": {
     "cell_type": "markdown",
     "checksum": "f2e258d9f2c9568bfd2c37bae8108e6f",
     "grade": false,
     "grade_id": "cell-a92106751bcd763e",
     "locked": true,
     "schema_version": 3,
     "solution": false,
     "task": false
    }
   },
   "source": [
    "Question/discussion point: Why don't we always use this technique?\n",
    "Answer: Because it is not always possible to find a good projection. In the example above, the projection is not unique."
   ]
  }
 ],
 "metadata": {
  "colab": {
   "name": "Copie de Lab6.ipynb",
   "provenance": [
    {
     "file_id": "https://github.com/jbscoggi/teaching/blob/master/Polytechnique/CSE204/Lab6.ipynb",
     "timestamp": 1576227403767
    }
   ]
  },
  "kernelspec": {
   "display_name": "Python 3 (ipykernel)",
   "language": "python",
   "name": "python3"
  },
  "language_info": {
   "codemirror_mode": {
    "name": "ipython",
    "version": 3
   },
   "file_extension": ".py",
   "mimetype": "text/x-python",
   "name": "python",
   "nbconvert_exporter": "python",
   "pygments_lexer": "ipython3",
   "version": "3.9.12"
  }
 },
 "nbformat": 4,
 "nbformat_minor": 4
}
