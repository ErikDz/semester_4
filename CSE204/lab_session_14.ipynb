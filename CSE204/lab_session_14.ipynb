{
 "cells": [
  {
   "attachments": {},
   "cell_type": "markdown",
   "metadata": {},
   "source": [
    "Make sure you fill in any place that says `YOUR CODE HERE` or \"YOUR ANSWER HERE\".\n",
    "\n",
    "Before you turn this problem in, make sure everything runs as expected. First, **restart the kernel** (in the menubar, select Kernel$\\rightarrow$Restart) and then **run all cells** (in the menubar, select Cell$\\rightarrow$Run All). On JupyterLab, you may want to hit the \"Validate\" button as well.\n",
    "\n",
    "Caution: do not mess with the notebook's metadata; do not change a pre-existing cell's type; do not copy pre-existing cells (add new ones with the + button instead). This will break autograding; you will get a 0; you are warned.\n"
   ]
  },
  {
   "attachments": {},
   "cell_type": "markdown",
   "metadata": {},
   "source": [
    "<table style=\"width: 100%; border: none;\" cellspacing=\"0\" cellpadding=\"0\" border=\"0\">\n",
    "  <tr>\n",
    "    <td><img src=\"https://www.planetegrandesecoles.com/wp-content/uploads/2021/07/Identite%CC%81-visuelle-Plane%CC%80te-BAC-8-600x398.png\" style=\"float: left; width: 100%\" />\n",
    "</td>\n",
    "    <td><h1 style=\"text-align: center; vertical-align: middle;\"><a href=\"https://moodle.polytechnique.fr/course/view.php?id=15585\">[CSE204-2022] - Introduction to Machine Learning</a></h1>\n",
    "</td>\n",
    "  </tr>\n",
    "</table>\n"
   ]
  },
  {
   "attachments": {},
   "cell_type": "markdown",
   "metadata": {},
   "source": [
    "---\n"
   ]
  },
  {
   "attachments": {},
   "cell_type": "markdown",
   "metadata": {
    "deletable": false,
    "editable": false,
    "nbgrader": {
     "cell_type": "markdown",
     "checksum": "53bed3ad6112b430cb24dd449499d87e",
     "grade": false,
     "grade_id": "cell-a25c0c792fa938b1",
     "locked": true,
     "schema_version": 3,
     "solution": false,
     "task": false
    }
   },
   "source": [
    "# Lab Session 14: Miscellaneous techniques - generative models & genetic algorithms\n",
    "\n",
    "Jesse Read, Adrien Ehrhardt\n"
   ]
  },
  {
   "cell_type": "code",
   "execution_count": 1,
   "metadata": {
    "deletable": false,
    "editable": false,
    "nbgrader": {
     "cell_type": "code",
     "checksum": "02d17d2213a307012ab4d11a2ae13543",
     "grade": false,
     "grade_id": "cell-115d39ecbd768a7e",
     "locked": true,
     "schema_version": 3,
     "solution": false,
     "task": false
    }
   },
   "outputs": [],
   "source": [
    "import numpy as np\n",
    "import pandas as pd\n",
    "import scipy.stats as stats\n",
    "import multiprocessing\n",
    "from matplotlib import pyplot as plt\n"
   ]
  },
  {
   "cell_type": "code",
   "execution_count": 3,
   "metadata": {
    "deletable": false,
    "editable": false,
    "nbgrader": {
     "cell_type": "code",
     "checksum": "9f875af4acf93b5a5e8ce970dd68fc39",
     "grade": false,
     "grade_id": "cell-a2a395e78eb819fe",
     "locked": true,
     "schema_version": 3,
     "solution": false,
     "task": false
    }
   },
   "outputs": [],
   "source": [
    "from bokeh.io import output_notebook\n",
    "from bokeh.models import HoverTool\n",
    "from bokeh.palettes import viridis\n",
    "from bokeh.plotting import figure, show\n"
   ]
  },
  {
   "cell_type": "code",
   "execution_count": 4,
   "metadata": {
    "deletable": false,
    "editable": false,
    "nbgrader": {
     "cell_type": "code",
     "checksum": "bdb67d56047608dfaf38ccc227f31c62",
     "grade": false,
     "grade_id": "cell-0370d52e8d46bdc7",
     "locked": true,
     "schema_version": 3,
     "solution": false,
     "task": false
    }
   },
   "outputs": [
    {
     "data": {
      "text/html": [
       "<style>\n",
       "        .bk-notebook-logo {\n",
       "            display: block;\n",
       "            width: 20px;\n",
       "            height: 20px;\n",
       "            background-image: url(data:image/png;base64,iVBORw0KGgoAAAANSUhEUgAAABQAAAAUCAYAAACNiR0NAAAABHNCSVQICAgIfAhkiAAAAAlwSFlzAAALEgAACxIB0t1+/AAAABx0RVh0U29mdHdhcmUAQWRvYmUgRmlyZXdvcmtzIENTNui8sowAAAOkSURBVDiNjZRtaJVlGMd/1/08zzln5zjP1LWcU9N0NkN8m2CYjpgQYQXqSs0I84OLIC0hkEKoPtiH3gmKoiJDU7QpLgoLjLIQCpEsNJ1vqUOdO7ppbuec5+V+rj4ctwzd8IIbbi6u+8f1539dt3A78eXC7QizUF7gyV1fD1Yqg4JWz84yffhm0qkFqBogB9rM8tZdtwVsPUhWhGcFJngGeWrPzHm5oaMmkfEg1usvLFyc8jLRqDOMru7AyC8saQr7GG7f5fvDeH7Ej8CM66nIF+8yngt6HWaKh7k49Soy9nXurCi1o3qUbS3zWfrYeQDTB/Qj6kX6Ybhw4B+bOYoLKCC9H3Nu/leUTZ1JdRWkkn2ldcCamzrcf47KKXdAJllSlxAOkRgyHsGC/zRday5Qld9DyoM4/q/rUoy/CXh3jzOu3bHUVZeU+DEn8FInkPBFlu3+nW3Nw0mk6vCDiWg8CeJaxEwuHS3+z5RgY+YBR6V1Z1nxSOfoaPa4LASWxxdNp+VWTk7+4vzaou8v8PN+xo+KY2xsw6une2frhw05CTYOmQvsEhjhWjn0bmXPjpE1+kplmmkP3suftwTubK9Vq22qKmrBhpY4jvd5afdRA3wGjFAgcnTK2s4hY0/GPNIb0nErGMCRxWOOX64Z8RAC4oCXdklmEvcL8o0BfkNK4lUg9HTl+oPlQxdNo3Mg4Nv175e/1LDGzZen30MEjRUtmXSfiTVu1kK8W4txyV6BMKlbgk3lMwYCiusNy9fVfvvwMxv8Ynl6vxoByANLTWplvuj/nF9m2+PDtt1eiHPBr1oIfhCChQMBw6Aw0UulqTKZdfVvfG7VcfIqLG9bcldL/+pdWTLxLUy8Qq38heUIjh4XlzZxzQm19lLFlr8vdQ97rjZVOLf8nclzckbcD4wxXMidpX30sFd37Fv/GtwwhzhxGVAprjbg0gCAEeIgwCZyTV2Z1REEW8O4py0wsjeloKoMr6iCY6dP92H6Vw/oTyICIthibxjm/DfN9lVz8IqtqKYLUXfoKVMVQVVJOElGjrnnUt9T9wbgp8AyYKaGlqingHZU/uG2NTZSVqwHQTWkx9hxjkpWDaCg6Ckj5qebgBVbT3V3NNXMSiWSDdGV3hrtzla7J+duwPOToIg42ChPQOQjspnSlp1V+Gjdged7+8UN5CRAV7a5EdFNwCjEaBR27b3W890TE7g24NAP/mMDXRWrGoFPQI9ls/MWO2dWFAar/xcOIImbbpA3zgAAAABJRU5ErkJggg==);\n",
       "        }\n",
       "    </style>\n",
       "    <div>\n",
       "        <a href=\"https://bokeh.org\" target=\"_blank\" class=\"bk-notebook-logo\"></a>\n",
       "        <span id=\"ab900221-54a2-4dbc-8d8f-ae7b1aaf5a8e\">Loading BokehJS ...</span>\n",
       "    </div>\n"
      ]
     },
     "metadata": {},
     "output_type": "display_data"
    },
    {
     "data": {
      "application/javascript": "(function(root) {\n  function now() {\n    return new Date();\n  }\n\n  const force = true;\n\n  if (typeof root._bokeh_onload_callbacks === \"undefined\" || force === true) {\n    root._bokeh_onload_callbacks = [];\n    root._bokeh_is_loading = undefined;\n  }\n\nconst JS_MIME_TYPE = 'application/javascript';\n  const HTML_MIME_TYPE = 'text/html';\n  const EXEC_MIME_TYPE = 'application/vnd.bokehjs_exec.v0+json';\n  const CLASS_NAME = 'output_bokeh rendered_html';\n\n  /**\n   * Render data to the DOM node\n   */\n  function render(props, node) {\n    const script = document.createElement(\"script\");\n    node.appendChild(script);\n  }\n\n  /**\n   * Handle when an output is cleared or removed\n   */\n  function handleClearOutput(event, handle) {\n    const cell = handle.cell;\n\n    const id = cell.output_area._bokeh_element_id;\n    const server_id = cell.output_area._bokeh_server_id;\n    // Clean up Bokeh references\n    if (id != null && id in Bokeh.index) {\n      Bokeh.index[id].model.document.clear();\n      delete Bokeh.index[id];\n    }\n\n    if (server_id !== undefined) {\n      // Clean up Bokeh references\n      const cmd_clean = \"from bokeh.io.state import curstate; print(curstate().uuid_to_server['\" + server_id + \"'].get_sessions()[0].document.roots[0]._id)\";\n      cell.notebook.kernel.execute(cmd_clean, {\n        iopub: {\n          output: function(msg) {\n            const id = msg.content.text.trim();\n            if (id in Bokeh.index) {\n              Bokeh.index[id].model.document.clear();\n              delete Bokeh.index[id];\n            }\n          }\n        }\n      });\n      // Destroy server and session\n      const cmd_destroy = \"import bokeh.io.notebook as ion; ion.destroy_server('\" + server_id + \"')\";\n      cell.notebook.kernel.execute(cmd_destroy);\n    }\n  }\n\n  /**\n   * Handle when a new output is added\n   */\n  function handleAddOutput(event, handle) {\n    const output_area = handle.output_area;\n    const output = handle.output;\n\n    // limit handleAddOutput to display_data with EXEC_MIME_TYPE content only\n    if ((output.output_type != \"display_data\") || (!Object.prototype.hasOwnProperty.call(output.data, EXEC_MIME_TYPE))) {\n      return\n    }\n\n    const toinsert = output_area.element.find(\".\" + CLASS_NAME.split(' ')[0]);\n\n    if (output.metadata[EXEC_MIME_TYPE][\"id\"] !== undefined) {\n      toinsert[toinsert.length - 1].firstChild.textContent = output.data[JS_MIME_TYPE];\n      // store reference to embed id on output_area\n      output_area._bokeh_element_id = output.metadata[EXEC_MIME_TYPE][\"id\"];\n    }\n    if (output.metadata[EXEC_MIME_TYPE][\"server_id\"] !== undefined) {\n      const bk_div = document.createElement(\"div\");\n      bk_div.innerHTML = output.data[HTML_MIME_TYPE];\n      const script_attrs = bk_div.children[0].attributes;\n      for (let i = 0; i < script_attrs.length; i++) {\n        toinsert[toinsert.length - 1].firstChild.setAttribute(script_attrs[i].name, script_attrs[i].value);\n        toinsert[toinsert.length - 1].firstChild.textContent = bk_div.children[0].textContent\n      }\n      // store reference to server id on output_area\n      output_area._bokeh_server_id = output.metadata[EXEC_MIME_TYPE][\"server_id\"];\n    }\n  }\n\n  function register_renderer(events, OutputArea) {\n\n    function append_mime(data, metadata, element) {\n      // create a DOM node to render to\n      const toinsert = this.create_output_subarea(\n        metadata,\n        CLASS_NAME,\n        EXEC_MIME_TYPE\n      );\n      this.keyboard_manager.register_events(toinsert);\n      // Render to node\n      const props = {data: data, metadata: metadata[EXEC_MIME_TYPE]};\n      render(props, toinsert[toinsert.length - 1]);\n      element.append(toinsert);\n      return toinsert\n    }\n\n    /* Handle when an output is cleared or removed */\n    events.on('clear_output.CodeCell', handleClearOutput);\n    events.on('delete.Cell', handleClearOutput);\n\n    /* Handle when a new output is added */\n    events.on('output_added.OutputArea', handleAddOutput);\n\n    /**\n     * Register the mime type and append_mime function with output_area\n     */\n    OutputArea.prototype.register_mime_type(EXEC_MIME_TYPE, append_mime, {\n      /* Is output safe? */\n      safe: true,\n      /* Index of renderer in `output_area.display_order` */\n      index: 0\n    });\n  }\n\n  // register the mime type if in Jupyter Notebook environment and previously unregistered\n  if (root.Jupyter !== undefined) {\n    const events = require('base/js/events');\n    const OutputArea = require('notebook/js/outputarea').OutputArea;\n\n    if (OutputArea.prototype.mime_types().indexOf(EXEC_MIME_TYPE) == -1) {\n      register_renderer(events, OutputArea);\n    }\n  }\n  if (typeof (root._bokeh_timeout) === \"undefined\" || force === true) {\n    root._bokeh_timeout = Date.now() + 5000;\n    root._bokeh_failed_load = false;\n  }\n\n  const NB_LOAD_WARNING = {'data': {'text/html':\n     \"<div style='background-color: #fdd'>\\n\"+\n     \"<p>\\n\"+\n     \"BokehJS does not appear to have successfully loaded. If loading BokehJS from CDN, this \\n\"+\n     \"may be due to a slow or bad network connection. Possible fixes:\\n\"+\n     \"</p>\\n\"+\n     \"<ul>\\n\"+\n     \"<li>re-rerun `output_notebook()` to attempt to load from CDN again, or</li>\\n\"+\n     \"<li>use INLINE resources instead, as so:</li>\\n\"+\n     \"</ul>\\n\"+\n     \"<code>\\n\"+\n     \"from bokeh.resources import INLINE\\n\"+\n     \"output_notebook(resources=INLINE)\\n\"+\n     \"</code>\\n\"+\n     \"</div>\"}};\n\n  function display_loaded() {\n    const el = document.getElementById(\"ab900221-54a2-4dbc-8d8f-ae7b1aaf5a8e\");\n    if (el != null) {\n      el.textContent = \"BokehJS is loading...\";\n    }\n    if (root.Bokeh !== undefined) {\n      if (el != null) {\n        el.textContent = \"BokehJS \" + root.Bokeh.version + \" successfully loaded.\";\n      }\n    } else if (Date.now() < root._bokeh_timeout) {\n      setTimeout(display_loaded, 100)\n    }\n  }\n\n  function run_callbacks() {\n    try {\n      root._bokeh_onload_callbacks.forEach(function(callback) {\n        if (callback != null)\n          callback();\n      });\n    } finally {\n      delete root._bokeh_onload_callbacks\n    }\n    console.debug(\"Bokeh: all callbacks have finished\");\n  }\n\n  function load_libs(css_urls, js_urls, callback) {\n    if (css_urls == null) css_urls = [];\n    if (js_urls == null) js_urls = [];\n\n    root._bokeh_onload_callbacks.push(callback);\n    if (root._bokeh_is_loading > 0) {\n      console.debug(\"Bokeh: BokehJS is being loaded, scheduling callback at\", now());\n      return null;\n    }\n    if (js_urls == null || js_urls.length === 0) {\n      run_callbacks();\n      return null;\n    }\n    console.debug(\"Bokeh: BokehJS not loaded, scheduling load and callback at\", now());\n    root._bokeh_is_loading = css_urls.length + js_urls.length;\n\n    function on_load() {\n      root._bokeh_is_loading--;\n      if (root._bokeh_is_loading === 0) {\n        console.debug(\"Bokeh: all BokehJS libraries/stylesheets loaded\");\n        run_callbacks()\n      }\n    }\n\n    function on_error(url) {\n      console.error(\"failed to load \" + url);\n    }\n\n    for (let i = 0; i < css_urls.length; i++) {\n      const url = css_urls[i];\n      const element = document.createElement(\"link\");\n      element.onload = on_load;\n      element.onerror = on_error.bind(null, url);\n      element.rel = \"stylesheet\";\n      element.type = \"text/css\";\n      element.href = url;\n      console.debug(\"Bokeh: injecting link tag for BokehJS stylesheet: \", url);\n      document.body.appendChild(element);\n    }\n\n    for (let i = 0; i < js_urls.length; i++) {\n      const url = js_urls[i];\n      const element = document.createElement('script');\n      element.onload = on_load;\n      element.onerror = on_error.bind(null, url);\n      element.async = false;\n      element.src = url;\n      console.debug(\"Bokeh: injecting script tag for BokehJS library: \", url);\n      document.head.appendChild(element);\n    }\n  };\n\n  function inject_raw_css(css) {\n    const element = document.createElement(\"style\");\n    element.appendChild(document.createTextNode(css));\n    document.body.appendChild(element);\n  }\n\n  const js_urls = [\"https://cdn.bokeh.org/bokeh/release/bokeh-3.1.1.min.js\", \"https://cdn.bokeh.org/bokeh/release/bokeh-gl-3.1.1.min.js\", \"https://cdn.bokeh.org/bokeh/release/bokeh-widgets-3.1.1.min.js\", \"https://cdn.bokeh.org/bokeh/release/bokeh-tables-3.1.1.min.js\", \"https://cdn.bokeh.org/bokeh/release/bokeh-mathjax-3.1.1.min.js\"];\n  const css_urls = [];\n\n  const inline_js = [    function(Bokeh) {\n      Bokeh.set_log_level(\"info\");\n    },\nfunction(Bokeh) {\n    }\n  ];\n\n  function run_inline_js() {\n    if (root.Bokeh !== undefined || force === true) {\n          for (let i = 0; i < inline_js.length; i++) {\n      inline_js[i].call(root, root.Bokeh);\n    }\nif (force === true) {\n        display_loaded();\n      }} else if (Date.now() < root._bokeh_timeout) {\n      setTimeout(run_inline_js, 100);\n    } else if (!root._bokeh_failed_load) {\n      console.log(\"Bokeh: BokehJS failed to load within specified timeout.\");\n      root._bokeh_failed_load = true;\n    } else if (force !== true) {\n      const cell = $(document.getElementById(\"ab900221-54a2-4dbc-8d8f-ae7b1aaf5a8e\")).parents('.cell').data().cell;\n      cell.output_area.append_execute_result(NB_LOAD_WARNING)\n    }\n  }\n\n  if (root._bokeh_is_loading === 0) {\n    console.debug(\"Bokeh: BokehJS loaded, going straight to plotting\");\n    run_inline_js();\n  } else {\n    load_libs(css_urls, js_urls, function() {\n      console.debug(\"Bokeh: BokehJS plotting callback run at\", now());\n      run_inline_js();\n    });\n  }\n}(window));",
      "application/vnd.bokehjs_load.v0+json": ""
     },
     "metadata": {},
     "output_type": "display_data"
    }
   ],
   "source": [
    "# This is required for bokeh plots to appear in the notebook\n",
    "output_notebook()\n"
   ]
  },
  {
   "attachments": {},
   "cell_type": "markdown",
   "metadata": {
    "deletable": false,
    "editable": false,
    "nbgrader": {
     "cell_type": "markdown",
     "checksum": "e59311a8c411a78a3d2d846abbbb9547",
     "grade": false,
     "grade_id": "cell-44c9b1aa0127ef6f",
     "locked": true,
     "schema_version": 3,
     "solution": false,
     "task": false
    }
   },
   "source": [
    "## Part 1: Generative Models and Latent Variables (10 pts)\n",
    "\n",
    "In this part of the lab we will look at generative models, as seen in the lecture.\n",
    "\n",
    "### Toy Dataset\n",
    "\n",
    "Toy dataset: A number of beetles `x`, recording their length in centimeters. A label `y` (either `0` or `1`) indicates the species the beetle belongs to.\n",
    "\n",
    "**Task**: Have a look.\n"
   ]
  },
  {
   "cell_type": "code",
   "execution_count": 5,
   "metadata": {
    "deletable": false,
    "editable": false,
    "nbgrader": {
     "cell_type": "code",
     "checksum": "ba70965bb070dc236858fcaa48c51791",
     "grade": false,
     "grade_id": "cell-f1981bc0e3bb3e69",
     "locked": true,
     "schema_version": 3,
     "solution": false,
     "task": false
    }
   },
   "outputs": [
    {
     "data": {
      "image/png": "[encoded data removed]",
      "text/plain": [
       "<Figure size 640x480 with 1 Axes>"
      ]
     },
     "metadata": {},
     "output_type": "display_data"
    }
   ],
   "source": [
    "# Beetle lengths (cm)\n",
    "x = np.array([-0.13, 1.52, -0.81, -0.61, -0.24, 1.07, 2.36, 1.20, 3.88, 3.05]) + 5\n",
    "# Beetle species id\n",
    "y = np.array([0, 0, 0, 0, 0, 1, 1, 1, 1, 1], dtype=int)\n",
    "# Plot it\n",
    "fig = plt.figure()\n",
    "plt.scatter(x, np.zeros_like(x), c=y)\n",
    "plt.xlabel(\"$x$: beetle length (cm)\")\n",
    "plt.show()"
   ]
  },
  {
   "attachments": {},
   "cell_type": "markdown",
   "metadata": {},
   "source": [
    "### Gaussian Probabily Density Functions\n",
    "\n",
    "This is a function we're going to use later: $p(x)$ where $p$ is a 1D density function defined from a Gaussian distribution of mean `m` and standard deviation `s`. And `x` is, e.g., a beetle length in cm.\n",
    "\n",
    "**Task**: Implement the function.\n",
    "\n",
    "**Hint**: Use `scipy.stats` if you like (specifically: [`stats.norm.pdf`](https://docs.scipy.org/doc/scipy/reference/generated/scipy.stats.norm.html)).\n"
   ]
  },
  {
   "cell_type": "code",
   "execution_count": 6,
   "metadata": {
    "deletable": false,
    "nbgrader": {
     "cell_type": "code",
     "checksum": "cff596d5beeff80ef07588516917e404",
     "grade": false,
     "grade_id": "cell-e36b509789036809",
     "locked": false,
     "schema_version": 3,
     "solution": true,
     "task": false
    }
   },
   "outputs": [],
   "source": [
    "def p(x: float, m: float = 0.0, s: float = 1.0) -> float:\n",
    "    \"\"\"\n",
    "    Gaussian probability density function\n",
    "\n",
    "    Parameters\n",
    "    ----------\n",
    "\n",
    "    x : a float to evaluate the pdf\n",
    "    m : the mean\n",
    "    s : the standard deviation\n",
    "\n",
    "    Return\n",
    "    ------\n",
    "    p : relative probability of x wrt gaussian distribution of mean m, std dev s\n",
    "    \"\"\"\n",
    "    return np.exp(-((x - m) ** 2) / (2 * s**2)) / np.sqrt(2 * np.pi * s**2)"
   ]
  },
  {
   "cell_type": "code",
   "execution_count": null,
   "metadata": {
    "deletable": false,
    "editable": false,
    "nbgrader": {
     "cell_type": "code",
     "checksum": "69e409fb2dc9c2d77839586393a1247d",
     "grade": true,
     "grade_id": "cell-cd232fb716b72358",
     "locked": true,
     "points": 1,
     "schema_version": 3,
     "solution": false,
     "task": false
    }
   },
   "outputs": [],
   "source": []
  },
  {
   "attachments": {},
   "cell_type": "markdown",
   "metadata": {
    "deletable": false,
    "editable": false,
    "nbgrader": {
     "cell_type": "markdown",
     "checksum": "b5e923c48034a3e682794e7062579681",
     "grade": false,
     "grade_id": "cell-457659703d3fa0da",
     "locked": true,
     "schema_version": 3,
     "solution": false,
     "task": false
    }
   },
   "source": [
    "### Gaussian Mixture Models\n",
    "\n",
    "You are going to fit a _Gausian Mixture Model_ (GMM) to the data `x,y` (that you looked at above), by completing the code below. Essentially you are 'learning' $p(x,y) = p(x | y)p(y)$ via the two components on the right hand side: $p(x|y)$, for which you will assume a 1D Gaussian distribution (i.e., having _parameters_ mean `m` and standard deviation `s`); and $p(y)$ for which you will assume a Bernoulli distribution (i.e., having _parameter_ `w`, the proportion of class `y`).\n",
    "\n",
    "**Task:** provide a _maximum likelihood estimate_ of parameters `m`,`s`,`w`, by completing the code below.\n",
    "\n",
    "**Hint:** This is a supervised-learning task; there is one set of parameters involved _for each label_.\n"
   ]
  },
  {
   "cell_type": "code",
   "execution_count": 7,
   "metadata": {
    "deletable": false,
    "nbgrader": {
     "cell_type": "code",
     "checksum": "9d4e469e5cc9c1c0d10a5dcf244b9394",
     "grade": false,
     "grade_id": "cell-3a08ec2d5d77105e",
     "locked": false,
     "schema_version": 3,
     "solution": true,
     "task": false
    }
   },
   "outputs": [],
   "source": [
    "def fit(x, y):\n",
    "    \"\"\"\n",
    "    Maximum Likelihood Estimaiton.\n",
    "\n",
    "    Estimate the most likely parameters for this data, under the assumption of a Gaussian distribution per label.\n",
    "\n",
    "    You may assume that the labels are either 0 or 1 (the binary case).\n",
    "\n",
    "    Parameters\n",
    "    ----------\n",
    "\n",
    "    x : a vector of n samples\n",
    "    y : a vector of n labels\n",
    "\n",
    "    Return\n",
    "    ------\n",
    "\n",
    "    w : a vector of weights, where w[j] represents p(y = j)\n",
    "    m : a vector of means\n",
    "    s : a vector of standard deviations\n",
    "    \"\"\"\n",
    "\n",
    "    n = len(y)\n",
    "    labels = np.unique(y)\n",
    "    k = len(labels)\n",
    "    w = np.zeros(k)\n",
    "    m = np.zeros(k)\n",
    "    s = np.zeros(k)\n",
    "\n",
    "    for j in range(k):\n",
    "        # Compute the weights\n",
    "        w[j] = np.sum(y == j) / n\n",
    "        # Compute the mean\n",
    "        m[j] = np.sum(x[y == j]) / np.sum(y == j)\n",
    "        # Compute the standard deviation\n",
    "        s[j] = np.sqrt(np.sum((x[y == j] - m[j]) ** 2) / np.sum(y == j))\n",
    "\n",
    "    return w, m, s\n"
   ]
  },
  {
   "cell_type": "code",
   "execution_count": 9,
   "metadata": {
    "deletable": false,
    "editable": false,
    "nbgrader": {
     "cell_type": "code",
     "checksum": "36bf86e8c61a4442efbf09f5e3931572",
     "grade": false,
     "grade_id": "cell-99d3ab08dd1fffca",
     "locked": true,
     "schema_version": 3,
     "solution": false,
     "task": false
    }
   },
   "outputs": [
    {
     "name": "stdout",
     "output_type": "stream",
     "text": [
      "[0.5 0.5] [4.946 7.312] [0.82444163 1.07560959]\n"
     ]
    }
   ],
   "source": [
    "# Using your code to fit the model (estimate the parameters)\n",
    "w, m, s = fit(x, y)\n",
    "print(w, m, s)\n"
   ]
  },
  {
   "cell_type": "code",
   "execution_count": 10,
   "metadata": {
    "deletable": false,
    "editable": false,
    "nbgrader": {
     "cell_type": "code",
     "checksum": "73e82cbf7eadd248f5eb28d693073b56",
     "grade": true,
     "grade_id": "cell-6640b1151c9cd07e",
     "locked": true,
     "points": 2,
     "schema_version": 3,
     "solution": false,
     "task": false
    }
   },
   "outputs": [],
   "source": [
    "assert w.shape == m.shape == s.shape == (2,)  # 2 parameters, 1 per label!"
   ]
  },
  {
   "attachments": {},
   "cell_type": "markdown",
   "metadata": {
    "deletable": false,
    "editable": false,
    "nbgrader": {
     "cell_type": "markdown",
     "checksum": "fceb0d934d6bb3b0d933186ec0089c28",
     "grade": false,
     "grade_id": "cell-498dc88e01cfa662",
     "locked": true,
     "schema_version": 3,
     "solution": false,
     "task": false
    }
   },
   "source": [
    "### Generative Models for Classification\n",
    "\n",
    "We can use generative models for classification.\n",
    "\n",
    "**Task:** Provide a classification/prediction `yp` (of the same shape and type as `y`) according to your generative model.\n",
    "\n",
    "**Hint:** Use your function `p` from above.\n",
    "\n",
    "_N.B.:_ We're breaking a few cardinal rules of ML to make this lab simpler; i.e., don't worry about overfitting or anything here; for the purpose of learning about generative models.\n"
   ]
  },
  {
   "cell_type": "code",
   "execution_count": 12,
   "metadata": {
    "deletable": false,
    "nbgrader": {
     "cell_type": "code",
     "checksum": "05453b8cbe92311c8f65f58fff0bc1b8",
     "grade": false,
     "grade_id": "cell-076a6f951261a38f",
     "locked": false,
     "schema_version": 3,
     "solution": true,
     "task": false
    }
   },
   "outputs": [],
   "source": [
    "def pred(x, w, m, s):\n",
    "    \"\"\"\n",
    "    Prediction.\n",
    "    Predict the labels for this data.\n",
    "    You may assume that the labels in y are either 0 or 1 (the binary case).\n",
    "\n",
    "    Parameters\n",
    "    ----------\n",
    "\n",
    "    x : a vector of n samples\n",
    "    w : a vector of weights, where w[j] represents p(y = j)\n",
    "    m : a vector of means\n",
    "    s : a vector of standard deviations\n",
    "\n",
    "    Return\n",
    "    ------\n",
    "\n",
    "    yp : a vector of the predicted labels for x, according to params w, m, s\n",
    "    \"\"\"\n",
    "\n",
    "    n = len(x)\n",
    "    yp = np.zeros(n, dtype=int)\n",
    "    k = len(w)\n",
    "\n",
    "    for i in range(n):\n",
    "        # Compute the probability of x[i] for each label\n",
    "        p_x = np.zeros(k)\n",
    "        for j in range(k):\n",
    "            p_x[j] = p(x[i], m[j], s[j])\n",
    "        # Compute the probability of x[i] for each label\n",
    "        yp[i] = np.argmax(w * p_x)\n",
    "\n",
    "    return yp"
   ]
  },
  {
   "cell_type": "code",
   "execution_count": 13,
   "metadata": {
    "deletable": false,
    "editable": false,
    "nbgrader": {
     "cell_type": "code",
     "checksum": "6a66e069ed2925a7675f253f83fd2dc7",
     "grade": false,
     "grade_id": "cell-4707b46490b4da36",
     "locked": true,
     "schema_version": 3,
     "solution": false,
     "task": false
    }
   },
   "outputs": [],
   "source": [
    "# Using your code to get predictions\n",
    "yp = pred(x, w, m, s)\n"
   ]
  },
  {
   "cell_type": "code",
   "execution_count": 14,
   "metadata": {
    "deletable": false,
    "editable": false,
    "nbgrader": {
     "cell_type": "code",
     "checksum": "3874d524d155335063fd4ae74f06c6d9",
     "grade": true,
     "grade_id": "cell-295abe7cf4294a13",
     "locked": true,
     "points": 3,
     "schema_version": 3,
     "solution": false,
     "task": false
    }
   },
   "outputs": [],
   "source": [
    "assert len(yp) == len(x)\n"
   ]
  },
  {
   "cell_type": "code",
   "execution_count": 15,
   "metadata": {
    "deletable": false,
    "editable": false,
    "nbgrader": {
     "cell_type": "code",
     "checksum": "7df4cf18c680d79042a28107eff80531",
     "grade": false,
     "grade_id": "cell-b7bd5d46246a9840",
     "locked": true,
     "schema_version": 3,
     "solution": false,
     "task": false
    }
   },
   "outputs": [
    {
     "data": {
      "text/plain": [
       "<matplotlib.collections.PathCollection at 0x7f8e87a12c20>"
      ]
     },
     "execution_count": 15,
     "metadata": {},
     "output_type": "execute_result"
    },
    {
     "data": {
      "image/png": "[encoded data removed]",
      "text/plain": [
       "<Figure size 640x480 with 1 Axes>"
      ]
     },
     "metadata": {},
     "output_type": "display_data"
    }
   ],
   "source": [
    "fig = plt.figure()\n",
    "xx = np.linspace(0, 10, num=100)\n",
    "\n",
    "plt.plot(xx, p(xx, m[0], s[0]), \"r-\", label=\"$p(x \\mid y = 0)$\")\n",
    "plt.plot(xx, p(xx, m[1], s[1]), \"b-\", label=\"$p(x \\mid y = 1)$\")\n",
    "plt.plot(\n",
    "    xx, w[0] * p(xx, m[0], s[0]) + w[1] * p(xx, m[1], s[1]), \"m:\", label=\"$p(x,y)$\"\n",
    ")\n",
    "plt.legend()\n",
    "plt.xlabel(\"$x$: beetle length (cm)\")\n",
    "plt.ylabel(\"density\")\n",
    "plt.scatter(x, np.zeros_like(x), c=yp, label=\"beetles\")"
   ]
  },
  {
   "attachments": {},
   "cell_type": "markdown",
   "metadata": {
    "deletable": false,
    "editable": false,
    "nbgrader": {
     "cell_type": "markdown",
     "checksum": "a98d0a0b1ca90e1fcd65d0d1c09eb85b",
     "grade": false,
     "grade_id": "cell-1e078d86af27d3a1",
     "locked": true,
     "schema_version": 3,
     "solution": false,
     "task": false
    }
   },
   "source": [
    "### Generative Models for Generation\n",
    "\n",
    "And of course, generative models can be used for generation.\n",
    "\n",
    "**Task:** Generate 100 beetles (their lengths and their species label) according to $p(x,y)$ as you have modeled so far.\n",
    "\n",
    "**Hint:** In the following you will generate beetles of both species, but it should be clear to you (in fact, it would be a slightly easier task), how to generate beetles from a specific species.\n"
   ]
  },
  {
   "cell_type": "code",
   "execution_count": 16,
   "metadata": {
    "deletable": false,
    "nbgrader": {
     "cell_type": "code",
     "checksum": "08ad5105e93e03e60d3261bbc3a7b49f",
     "grade": false,
     "grade_id": "cell-c46ed0a8459d5c1f",
     "locked": false,
     "schema_version": 3,
     "solution": true,
     "task": false
    }
   },
   "outputs": [],
   "source": [
    "n_gen = 100\n",
    "\n",
    "# You will need to change this:\n",
    "x_gen = np.ones(n_gen, dtype=float)\n",
    "y_gen = np.ones(n_gen, dtype=int)\n",
    "\n",
    "# Generate n_gen samples from the model\n",
    "for i in range(n_gen):\n",
    "    # Choose a label at random\n",
    "    y_gen[i] = np.random.choice(np.arange(len(w)), p=w)\n",
    "    # Generate a sample from the corresponding Gaussian\n",
    "    x_gen[i] = np.random.normal(m[y_gen[i]], s[y_gen[i]])"
   ]
  },
  {
   "cell_type": "code",
   "execution_count": null,
   "metadata": {},
   "outputs": [],
   "source": []
  },
  {
   "cell_type": "code",
   "execution_count": 17,
   "metadata": {
    "deletable": false,
    "editable": false,
    "nbgrader": {
     "cell_type": "code",
     "checksum": "d8e33016cfad0140441e8545a96c7e98",
     "grade": false,
     "grade_id": "cell-5f56d07c59238ac9",
     "locked": true,
     "schema_version": 3,
     "solution": false,
     "task": false
    }
   },
   "outputs": [
    {
     "data": {
      "image/png": "[encoded data removed]",
      "text/plain": [
       "<Figure size 640x480 with 1 Axes>"
      ]
     },
     "metadata": {},
     "output_type": "display_data"
    }
   ],
   "source": [
    "# Let's have a look ...\n",
    "fig = plt.figure()\n",
    "xx = np.linspace(0, 10, num=100)\n",
    "\n",
    "plt.plot(xx, p(xx, m[0], s[0]), \"r-\", label=\"$p(x \\mid y = 0$\")\n",
    "plt.plot(xx, p(xx, m[1], s[1]), \"b-\", label=\"$p(x \\mid y = 1)$\")\n",
    "plt.plot(\n",
    "    xx, w[0] * p(xx, m[0], s[0]) + w[1] * p(xx, m[1], s[1]), \"m:\", label=\"$p(x,y)$\"\n",
    ")\n",
    "\n",
    "\n",
    "plt.legend()\n",
    "plt.xlabel(\"$x$: beetle length (cm)\")\n",
    "plt.ylabel(\"density\")\n",
    "plt.scatter(x_gen, np.zeros_like(x_gen), c=y_gen, label=\"beetles\")\n",
    "plt.show()"
   ]
  },
  {
   "cell_type": "code",
   "execution_count": null,
   "metadata": {
    "deletable": false,
    "editable": false,
    "nbgrader": {
     "cell_type": "code",
     "checksum": "dbfbc35a8258cbcf29c6c70bb69eb9f6",
     "grade": true,
     "grade_id": "cell-7e2a4691bc529ea3",
     "locked": true,
     "points": 4,
     "schema_version": 3,
     "solution": false,
     "task": false
    }
   },
   "outputs": [],
   "source": []
  },
  {
   "attachments": {},
   "cell_type": "markdown",
   "metadata": {
    "deletable": false,
    "editable": false,
    "nbgrader": {
     "cell_type": "markdown",
     "checksum": "87894eaa1e97d5c936f8317dec455312",
     "grade": false,
     "grade_id": "cell-186cf27954c87121",
     "locked": true,
     "schema_version": 3,
     "solution": false,
     "task": false
    }
   },
   "source": [
    "### Latent Variables\n",
    "\n",
    "But suppose that species labels `y` _are not available_ in your training data; you only _suspect_ they might be comprised of two different species. Gaussian Mixture Models and Expectation Maximization would be an excellent combination here to investigate this question further.\n",
    "\n",
    "**Task:** Think about it, keep in mind the lecture material on this!\n",
    "\n",
    "**Hint:** It will end up being like a 'soft' and probabilistic version of k-means clustering.\n"
   ]
  },
  {
   "cell_type": "code",
   "execution_count": 24,
   "metadata": {
    "deletable": false,
    "nbgrader": {
     "cell_type": "code",
     "checksum": "75e1433d239e0965e4c38bc2df2b75a1",
     "grade": true,
     "grade_id": "cell-5b0610434ee55c3a",
     "locked": false,
     "points": 0,
     "schema_version": 3,
     "solution": true,
     "task": false
    }
   },
   "outputs": [
    {
     "data": {
      "image/png": "[encoded data removed]",
      "text/plain": [
       "<Figure size 640x480 with 1 Axes>"
      ]
     },
     "metadata": {},
     "output_type": "display_data"
    }
   ],
   "source": [
    "# Use a Gaussian mixture model to predict the labels of the generated data\n",
    "from sklearn.mixture import GaussianMixture\n",
    "\n",
    "# Create a model\n",
    "gmm_model = GaussianMixture(n_components=2, covariance_type=\"full\")\n",
    "\n",
    "# Fit the model\n",
    "gmm_model.fit(x_gen.reshape(-1, 1))\n",
    "\n",
    "# Get the predictions\n",
    "predicted_labels = gmm_model.predict(x_gen.reshape(-1, 1))\n",
    "\n",
    "# Plot the results\n",
    "figure = plt.figure()\n",
    "x_values = np.linspace(0, 10, num=100)\n",
    "\n",
    "plt.plot(x_values, p(x_values, m[0], s[0]), \"r-\", label=\"$p(x \\mid y = 0)$\")\n",
    "plt.plot(x_values, p(x_values, m[1], s[1]), \"b-\", label=\"$p(x \\mid y = 1)$\")\n",
    "plt.plot(\n",
    "    x_values,\n",
    "    w[0] * p(xx, m[0], s[0]) + w[1] * p(xx, m[1], s[1]),\n",
    "    \"m:\",\n",
    "    label=\"$p(x,y)$\",\n",
    ")\n",
    "plt.legend()\n",
    "plt.xlabel(\"$x$: beetle length (cm)\")\n",
    "plt.ylabel(\"density\")\n",
    "plt.scatter(x_gen, np.zeros_like(x_gen), c=predicted_labels, label=\"beetles\")\n",
    "plt.show()\n"
   ]
  },
  {
   "attachments": {},
   "cell_type": "markdown",
   "metadata": {
    "deletable": false,
    "editable": false,
    "nbgrader": {
     "cell_type": "markdown",
     "checksum": "47a552ff6d6228d61902341568202f24",
     "grade": false,
     "grade_id": "cell-77d250d3d1326d0e",
     "locked": true,
     "schema_version": 3,
     "solution": false,
     "task": false
    }
   },
   "source": [
    "## Part 2: genetic algorithms (5 pts)\n",
    "\n",
    "### 1. Problem setting\n",
    "\n",
    "You are a big [Corporate and Investment Bank](https://www.investopedia.com/articles/professionals/100215/career-advice-investment-banking-vscorporate-finance.asp) which has many \"companies\" (their securities: equities, loans, bonds, ...) in its [portfolio](https://www.investopedia.com/terms/p/portfolio.asp).\n",
    "\n",
    "To satisfy your reglementary obligations, you have to estimate each company's [probability of default](https://en.wikipedia.org/wiki/Probability_of_default): you have probably heard of the \"AAA\" rating of France (which is treated as a big company) by so-called _rating agencies_ (meaning they disclose their ratings), recently downgraded to \"AA\".\n",
    "\n",
    "You can view the default of a company as a binary variable $Y$. We're measuring $p(y | x)$ where $x$ are the company's characteristics (turnover, EBITDA, ...).\n",
    "\n",
    "These _grades_ (A, B, C, ...) are then used to assess the _global_ quality of a bank's portfolio in many ways:\n",
    "\n",
    "1. Is it at the brink of insolvency?\n",
    "   (Read: Lehman Brothers)\n",
    "2. How much should the bank provision for this year's **expected** losses?\n",
    "   (How they do so is out of the scope of the present lab, but it's more or less a big SUMPROD: multiply the probability of default by the outstanding - how much the company owes you - and the \"loss given default\" - how much you expect to lose if a default happens, e.g. what is left when a bailiff sold the company's furniture).\n",
    "3. How much would be lost if their is an economic downturn (read: a subprime crisis)?\n",
    "   This is the use case we're interested in today.\n",
    "\n",
    "In a [stress test](<https://en.wikipedia.org/wiki/Stress_test_(financial)>), the bank tries to link the quality of its portfolio to macro-economic variables. This is usually done through downgrading the transition matrix.\n",
    "\n",
    "The transition matrix represents the fraction of companies transitioning from one grade to another from this year to next year.\n",
    "\n",
    "Take the example of grade \"A\": we want to estimate how many companies with this grade will fall into grade \"B\" next year, grade \"C\", etc.\n"
   ]
  },
  {
   "cell_type": "code",
   "execution_count": 18,
   "metadata": {
    "deletable": false,
    "editable": false,
    "nbgrader": {
     "cell_type": "code",
     "checksum": "0dd5ea56d48a0d9b34d23612ac72f21f",
     "grade": false,
     "grade_id": "cell-141d6dc51b31b71c",
     "locked": true,
     "schema_version": 3,
     "solution": false,
     "task": false
    }
   },
   "outputs": [],
   "source": [
    "grades = [\"A+\", \"A\", \"B+\", \"B\", \"C+\", \"C\", \"C-\", \"D+\", \"D\", \"D-\", \"E+\", \"E\", \"E-\"]"
   ]
  },
  {
   "cell_type": "code",
   "execution_count": 19,
   "metadata": {
    "deletable": false,
    "editable": false,
    "nbgrader": {
     "cell_type": "code",
     "checksum": "4c75f94bdd84b53c7d78e6f8c91540ec",
     "grade": false,
     "grade_id": "cell-9912def9cceedf53",
     "locked": true,
     "schema_version": 3,
     "solution": false,
     "task": false
    }
   },
   "outputs": [],
   "source": [
    "initial_per_grade = {\n",
    "    \"A+\": 1000,\n",
    "    \"A\": 2000,\n",
    "    \"B+\": 3000,\n",
    "    \"B\": 4000,\n",
    "    \"C+\": 4500,\n",
    "    \"C\": 5000,\n",
    "    \"C-\": 4500,\n",
    "    \"D+\": 4000,\n",
    "    \"D\": 3000,\n",
    "    \"D-\": 2000,\n",
    "    \"E+\": 1000,\n",
    "    \"E\": 500,\n",
    "    \"E-\": 250,\n",
    "}"
   ]
  },
  {
   "attachments": {},
   "cell_type": "markdown",
   "metadata": {
    "deletable": false,
    "editable": false,
    "nbgrader": {
     "cell_type": "markdown",
     "checksum": "78b5e495b2b1c3d81cc190d11ee74665",
     "grade": false,
     "grade_id": "cell-2cf9ec7fe148459d",
     "locked": true,
     "schema_version": 3,
     "solution": false,
     "task": false
    }
   },
   "source": [
    "Let's assume there is no new counterparts, nor any counterpart that gets out by defaulting and / or not having any outstanding. We generate a true transition matrix (which we'll aim at recovering later on!):\n"
   ]
  },
  {
   "cell_type": "code",
   "execution_count": 20,
   "metadata": {
    "deletable": false,
    "editable": false,
    "nbgrader": {
     "cell_type": "code",
     "checksum": "82d4c33bf0beee4a63f50f73cc430699",
     "grade": false,
     "grade_id": "cell-0ace428a5cb6bab1",
     "locked": true,
     "schema_version": 3,
     "solution": false,
     "task": false
    }
   },
   "outputs": [],
   "source": [
    "true_transition_matrix = pd.DataFrame(\n",
    "    data=np.random.rand(len(initial_per_grade), len(initial_per_grade)),\n",
    "    index=initial_per_grade.keys(),\n",
    "    columns=initial_per_grade.keys(),\n",
    ")\n",
    "\n",
    "true_transition_matrix = true_transition_matrix + 4 * np.eye(\n",
    "    true_transition_matrix.shape[0]\n",
    ")\n",
    "true_transition_matrix = true_transition_matrix.div(\n",
    "    true_transition_matrix.sum(axis=1), axis=0\n",
    ")\n",
    "\n",
    "true_transition_matrix.index.name = \"from\"\n",
    "true_transition_matrix.columns.name = \"to\""
   ]
  },
  {
   "attachments": {},
   "cell_type": "markdown",
   "metadata": {
    "deletable": false,
    "editable": false,
    "nbgrader": {
     "cell_type": "markdown",
     "checksum": "7d054984764535a770d29f68406fedd7",
     "grade": false,
     "grade_id": "cell-f83a03c13e0a084b",
     "locked": true,
     "schema_version": 3,
     "solution": false,
     "task": false
    }
   },
   "source": [
    "The rows represent the grade \"from\" which counterparts transition, the columns represent the grade \"to\" which they transition, _e.g._ in cell $(i, j)$ is the proportion of counterparts in grade $i$ in year Y that have grade $j$ in year Y+1.\n"
   ]
  },
  {
   "cell_type": "code",
   "execution_count": 21,
   "metadata": {
    "deletable": false,
    "editable": false,
    "nbgrader": {
     "cell_type": "code",
     "checksum": "3b593881d77c1f2f2deb706440c309fc",
     "grade": false,
     "grade_id": "cell-855d0d755776c681",
     "locked": true,
     "schema_version": 3,
     "solution": false,
     "task": false
    }
   },
   "outputs": [
    {
     "data": {
      "text/html": [
       "<div>\n",
       "<style scoped>\n",
       "    .dataframe tbody tr th:only-of-type {\n",
       "        vertical-align: middle;\n",
       "    }\n",
       "\n",
       "    .dataframe tbody tr th {\n",
       "        vertical-align: top;\n",
       "    }\n",
       "\n",
       "    .dataframe thead th {\n",
       "        text-align: right;\n",
       "    }\n",
       "</style>\n",
       "<table border=\"1\" class=\"dataframe\">\n",
       "  <thead>\n",
       "    <tr style=\"text-align: right;\">\n",
       "      <th>to</th>\n",
       "      <th>A+</th>\n",
       "      <th>A</th>\n",
       "      <th>B+</th>\n",
       "      <th>B</th>\n",
       "      <th>C+</th>\n",
       "      <th>C</th>\n",
       "      <th>C-</th>\n",
       "      <th>D+</th>\n",
       "      <th>D</th>\n",
       "      <th>D-</th>\n",
       "      <th>E+</th>\n",
       "      <th>E</th>\n",
       "      <th>E-</th>\n",
       "    </tr>\n",
       "    <tr>\n",
       "      <th>from</th>\n",
       "      <th></th>\n",
       "      <th></th>\n",
       "      <th></th>\n",
       "      <th></th>\n",
       "      <th></th>\n",
       "      <th></th>\n",
       "      <th></th>\n",
       "      <th></th>\n",
       "      <th></th>\n",
       "      <th></th>\n",
       "      <th></th>\n",
       "      <th></th>\n",
       "      <th></th>\n",
       "    </tr>\n",
       "  </thead>\n",
       "  <tbody>\n",
       "    <tr>\n",
       "      <th>A+</th>\n",
       "      <td>0.372846</td>\n",
       "      <td>0.058878</td>\n",
       "      <td>0.037057</td>\n",
       "      <td>0.036488</td>\n",
       "      <td>0.044606</td>\n",
       "      <td>0.047626</td>\n",
       "      <td>0.035766</td>\n",
       "      <td>0.072063</td>\n",
       "      <td>0.056707</td>\n",
       "      <td>0.053516</td>\n",
       "      <td>0.046535</td>\n",
       "      <td>0.070768</td>\n",
       "      <td>0.067143</td>\n",
       "    </tr>\n",
       "    <tr>\n",
       "      <th>A</th>\n",
       "      <td>0.080526</td>\n",
       "      <td>0.366818</td>\n",
       "      <td>0.046159</td>\n",
       "      <td>0.053286</td>\n",
       "      <td>0.050516</td>\n",
       "      <td>0.079235</td>\n",
       "      <td>0.087018</td>\n",
       "      <td>0.054939</td>\n",
       "      <td>0.042889</td>\n",
       "      <td>0.001774</td>\n",
       "      <td>0.067064</td>\n",
       "      <td>0.018375</td>\n",
       "      <td>0.051402</td>\n",
       "    </tr>\n",
       "    <tr>\n",
       "      <th>B+</th>\n",
       "      <td>0.038563</td>\n",
       "      <td>0.021720</td>\n",
       "      <td>0.459955</td>\n",
       "      <td>0.038071</td>\n",
       "      <td>0.048578</td>\n",
       "      <td>0.032384</td>\n",
       "      <td>0.087568</td>\n",
       "      <td>0.081708</td>\n",
       "      <td>0.041005</td>\n",
       "      <td>0.005649</td>\n",
       "      <td>0.060263</td>\n",
       "      <td>0.041703</td>\n",
       "      <td>0.042832</td>\n",
       "    </tr>\n",
       "    <tr>\n",
       "      <th>B</th>\n",
       "      <td>0.052704</td>\n",
       "      <td>0.030435</td>\n",
       "      <td>0.044564</td>\n",
       "      <td>0.421007</td>\n",
       "      <td>0.061565</td>\n",
       "      <td>0.074677</td>\n",
       "      <td>0.028137</td>\n",
       "      <td>0.086169</td>\n",
       "      <td>0.004137</td>\n",
       "      <td>0.064597</td>\n",
       "      <td>0.041638</td>\n",
       "      <td>0.007550</td>\n",
       "      <td>0.082819</td>\n",
       "    </tr>\n",
       "    <tr>\n",
       "      <th>C+</th>\n",
       "      <td>0.002623</td>\n",
       "      <td>0.012210</td>\n",
       "      <td>0.050434</td>\n",
       "      <td>0.069927</td>\n",
       "      <td>0.484017</td>\n",
       "      <td>0.071140</td>\n",
       "      <td>0.062141</td>\n",
       "      <td>0.059235</td>\n",
       "      <td>0.056061</td>\n",
       "      <td>0.080384</td>\n",
       "      <td>0.005039</td>\n",
       "      <td>0.003286</td>\n",
       "      <td>0.043503</td>\n",
       "    </tr>\n",
       "    <tr>\n",
       "      <th>C</th>\n",
       "      <td>0.003616</td>\n",
       "      <td>0.050957</td>\n",
       "      <td>0.042726</td>\n",
       "      <td>0.011677</td>\n",
       "      <td>0.055841</td>\n",
       "      <td>0.396610</td>\n",
       "      <td>0.027779</td>\n",
       "      <td>0.066356</td>\n",
       "      <td>0.079270</td>\n",
       "      <td>0.082179</td>\n",
       "      <td>0.063871</td>\n",
       "      <td>0.062072</td>\n",
       "      <td>0.057047</td>\n",
       "    </tr>\n",
       "    <tr>\n",
       "      <th>C-</th>\n",
       "      <td>0.079308</td>\n",
       "      <td>0.069576</td>\n",
       "      <td>0.068055</td>\n",
       "      <td>0.035784</td>\n",
       "      <td>0.066978</td>\n",
       "      <td>0.064003</td>\n",
       "      <td>0.412474</td>\n",
       "      <td>0.046382</td>\n",
       "      <td>0.017456</td>\n",
       "      <td>0.001882</td>\n",
       "      <td>0.002340</td>\n",
       "      <td>0.086313</td>\n",
       "      <td>0.049449</td>\n",
       "    </tr>\n",
       "    <tr>\n",
       "      <th>D+</th>\n",
       "      <td>0.000540</td>\n",
       "      <td>0.019452</td>\n",
       "      <td>0.035156</td>\n",
       "      <td>0.047052</td>\n",
       "      <td>0.068355</td>\n",
       "      <td>0.081003</td>\n",
       "      <td>0.043429</td>\n",
       "      <td>0.402600</td>\n",
       "      <td>0.023395</td>\n",
       "      <td>0.013164</td>\n",
       "      <td>0.092405</td>\n",
       "      <td>0.087146</td>\n",
       "      <td>0.086304</td>\n",
       "    </tr>\n",
       "    <tr>\n",
       "      <th>D</th>\n",
       "      <td>0.053200</td>\n",
       "      <td>0.081681</td>\n",
       "      <td>0.028273</td>\n",
       "      <td>0.055880</td>\n",
       "      <td>0.031865</td>\n",
       "      <td>0.037752</td>\n",
       "      <td>0.053316</td>\n",
       "      <td>0.016141</td>\n",
       "      <td>0.500699</td>\n",
       "      <td>0.003908</td>\n",
       "      <td>0.048967</td>\n",
       "      <td>0.014896</td>\n",
       "      <td>0.073423</td>\n",
       "    </tr>\n",
       "    <tr>\n",
       "      <th>D-</th>\n",
       "      <td>0.060894</td>\n",
       "      <td>0.027072</td>\n",
       "      <td>0.078875</td>\n",
       "      <td>0.063961</td>\n",
       "      <td>0.019618</td>\n",
       "      <td>0.037233</td>\n",
       "      <td>0.067342</td>\n",
       "      <td>0.080621</td>\n",
       "      <td>0.016387</td>\n",
       "      <td>0.378025</td>\n",
       "      <td>0.016733</td>\n",
       "      <td>0.072081</td>\n",
       "      <td>0.081158</td>\n",
       "    </tr>\n",
       "    <tr>\n",
       "      <th>E+</th>\n",
       "      <td>0.044032</td>\n",
       "      <td>0.042302</td>\n",
       "      <td>0.032628</td>\n",
       "      <td>0.018763</td>\n",
       "      <td>0.014336</td>\n",
       "      <td>0.086836</td>\n",
       "      <td>0.087811</td>\n",
       "      <td>0.063784</td>\n",
       "      <td>0.068101</td>\n",
       "      <td>0.009843</td>\n",
       "      <td>0.401614</td>\n",
       "      <td>0.079065</td>\n",
       "      <td>0.050883</td>\n",
       "    </tr>\n",
       "    <tr>\n",
       "      <th>E</th>\n",
       "      <td>0.003562</td>\n",
       "      <td>0.048788</td>\n",
       "      <td>0.025374</td>\n",
       "      <td>0.082003</td>\n",
       "      <td>0.053328</td>\n",
       "      <td>0.065205</td>\n",
       "      <td>0.088084</td>\n",
       "      <td>0.079130</td>\n",
       "      <td>0.047456</td>\n",
       "      <td>0.018565</td>\n",
       "      <td>0.042193</td>\n",
       "      <td>0.444119</td>\n",
       "      <td>0.002192</td>\n",
       "    </tr>\n",
       "    <tr>\n",
       "      <th>E-</th>\n",
       "      <td>0.033315</td>\n",
       "      <td>0.038539</td>\n",
       "      <td>0.052505</td>\n",
       "      <td>0.039399</td>\n",
       "      <td>0.072631</td>\n",
       "      <td>0.032945</td>\n",
       "      <td>0.092194</td>\n",
       "      <td>0.027156</td>\n",
       "      <td>0.022537</td>\n",
       "      <td>0.011210</td>\n",
       "      <td>0.079694</td>\n",
       "      <td>0.026728</td>\n",
       "      <td>0.471145</td>\n",
       "    </tr>\n",
       "  </tbody>\n",
       "</table>\n",
       "</div>"
      ],
      "text/plain": [
       "to          A+         A        B+         B        C+         C        C-  \\\n",
       "from                                                                         \n",
       "A+    0.372846  0.058878  0.037057  0.036488  0.044606  0.047626  0.035766   \n",
       "A     0.080526  0.366818  0.046159  0.053286  0.050516  0.079235  0.087018   \n",
       "B+    0.038563  0.021720  0.459955  0.038071  0.048578  0.032384  0.087568   \n",
       "B     0.052704  0.030435  0.044564  0.421007  0.061565  0.074677  0.028137   \n",
       "C+    0.002623  0.012210  0.050434  0.069927  0.484017  0.071140  0.062141   \n",
       "C     0.003616  0.050957  0.042726  0.011677  0.055841  0.396610  0.027779   \n",
       "C-    0.079308  0.069576  0.068055  0.035784  0.066978  0.064003  0.412474   \n",
       "D+    0.000540  0.019452  0.035156  0.047052  0.068355  0.081003  0.043429   \n",
       "D     0.053200  0.081681  0.028273  0.055880  0.031865  0.037752  0.053316   \n",
       "D-    0.060894  0.027072  0.078875  0.063961  0.019618  0.037233  0.067342   \n",
       "E+    0.044032  0.042302  0.032628  0.018763  0.014336  0.086836  0.087811   \n",
       "E     0.003562  0.048788  0.025374  0.082003  0.053328  0.065205  0.088084   \n",
       "E-    0.033315  0.038539  0.052505  0.039399  0.072631  0.032945  0.092194   \n",
       "\n",
       "to          D+         D        D-        E+         E        E-  \n",
       "from                                                              \n",
       "A+    0.072063  0.056707  0.053516  0.046535  0.070768  0.067143  \n",
       "A     0.054939  0.042889  0.001774  0.067064  0.018375  0.051402  \n",
       "B+    0.081708  0.041005  0.005649  0.060263  0.041703  0.042832  \n",
       "B     0.086169  0.004137  0.064597  0.041638  0.007550  0.082819  \n",
       "C+    0.059235  0.056061  0.080384  0.005039  0.003286  0.043503  \n",
       "C     0.066356  0.079270  0.082179  0.063871  0.062072  0.057047  \n",
       "C-    0.046382  0.017456  0.001882  0.002340  0.086313  0.049449  \n",
       "D+    0.402600  0.023395  0.013164  0.092405  0.087146  0.086304  \n",
       "D     0.016141  0.500699  0.003908  0.048967  0.014896  0.073423  \n",
       "D-    0.080621  0.016387  0.378025  0.016733  0.072081  0.081158  \n",
       "E+    0.063784  0.068101  0.009843  0.401614  0.079065  0.050883  \n",
       "E     0.079130  0.047456  0.018565  0.042193  0.444119  0.002192  \n",
       "E-    0.027156  0.022537  0.011210  0.079694  0.026728  0.471145  "
      ]
     },
     "execution_count": 21,
     "metadata": {},
     "output_type": "execute_result"
    }
   ],
   "source": [
    "true_transition_matrix\n"
   ]
  },
  {
   "attachments": {},
   "cell_type": "markdown",
   "metadata": {
    "deletable": false,
    "editable": false,
    "nbgrader": {
     "cell_type": "markdown",
     "checksum": "e040db317098b375e1a98260f8c223a6",
     "grade": false,
     "grade_id": "cell-5bbbe6fcb074f64b",
     "locked": true,
     "schema_version": 3,
     "solution": false,
     "task": false
    }
   },
   "source": [
    "We will use this matrix to generate data for the subsequent 10 years. Here is the initial distribution rearranged as a row dataframe:\n"
   ]
  },
  {
   "cell_type": "code",
   "execution_count": 22,
   "metadata": {
    "deletable": false,
    "editable": false,
    "nbgrader": {
     "cell_type": "code",
     "checksum": "76dcfda44103e333d5bda36004d2fa64",
     "grade": false,
     "grade_id": "cell-771512c7c531548e",
     "locked": true,
     "schema_version": 3,
     "solution": false,
     "task": false
    }
   },
   "outputs": [],
   "source": [
    "initial_per_grade = pd.DataFrame(\n",
    "    data=[initial_per_grade.values()], columns=initial_per_grade.keys(), index=[2000]\n",
    ")"
   ]
  },
  {
   "cell_type": "code",
   "execution_count": 23,
   "metadata": {
    "deletable": false,
    "editable": false,
    "nbgrader": {
     "cell_type": "code",
     "checksum": "7ea29ce350f161121db438abd7aaf7e7",
     "grade": false,
     "grade_id": "cell-cc25326b79f7f470",
     "locked": true,
     "schema_version": 3,
     "solution": false,
     "task": false
    }
   },
   "outputs": [
    {
     "data": {
      "text/html": [
       "<div>\n",
       "<style scoped>\n",
       "    .dataframe tbody tr th:only-of-type {\n",
       "        vertical-align: middle;\n",
       "    }\n",
       "\n",
       "    .dataframe tbody tr th {\n",
       "        vertical-align: top;\n",
       "    }\n",
       "\n",
       "    .dataframe thead th {\n",
       "        text-align: right;\n",
       "    }\n",
       "</style>\n",
       "<table border=\"1\" class=\"dataframe\">\n",
       "  <thead>\n",
       "    <tr style=\"text-align: right;\">\n",
       "      <th></th>\n",
       "      <th>A+</th>\n",
       "      <th>A</th>\n",
       "      <th>B+</th>\n",
       "      <th>B</th>\n",
       "      <th>C+</th>\n",
       "      <th>C</th>\n",
       "      <th>C-</th>\n",
       "      <th>D+</th>\n",
       "      <th>D</th>\n",
       "      <th>D-</th>\n",
       "      <th>E+</th>\n",
       "      <th>E</th>\n",
       "      <th>E-</th>\n",
       "    </tr>\n",
       "  </thead>\n",
       "  <tbody>\n",
       "    <tr>\n",
       "      <th>2000</th>\n",
       "      <td>1000</td>\n",
       "      <td>2000</td>\n",
       "      <td>3000</td>\n",
       "      <td>4000</td>\n",
       "      <td>4500</td>\n",
       "      <td>5000</td>\n",
       "      <td>4500</td>\n",
       "      <td>4000</td>\n",
       "      <td>3000</td>\n",
       "      <td>2000</td>\n",
       "      <td>1000</td>\n",
       "      <td>500</td>\n",
       "      <td>250</td>\n",
       "    </tr>\n",
       "  </tbody>\n",
       "</table>\n",
       "</div>"
      ],
      "text/plain": [
       "        A+     A    B+     B    C+     C    C-    D+     D    D-    E+    E  \\\n",
       "2000  1000  2000  3000  4000  4500  5000  4500  4000  3000  2000  1000  500   \n",
       "\n",
       "       E-  \n",
       "2000  250  "
      ]
     },
     "execution_count": 23,
     "metadata": {},
     "output_type": "execute_result"
    }
   ],
   "source": [
    "initial_per_grade\n"
   ]
  },
  {
   "attachments": {},
   "cell_type": "markdown",
   "metadata": {
    "deletable": false,
    "editable": false,
    "nbgrader": {
     "cell_type": "markdown",
     "checksum": "09603487014ab2029371f805ce2681db",
     "grade": false,
     "grade_id": "cell-c7bfe02d8bd35f41",
     "locked": true,
     "schema_version": 3,
     "solution": false,
     "task": false
    }
   },
   "source": [
    "Generating new years simply means multiplying the year before by the transition matrix:\n"
   ]
  },
  {
   "cell_type": "code",
   "execution_count": 25,
   "metadata": {
    "deletable": false,
    "editable": false,
    "nbgrader": {
     "cell_type": "code",
     "checksum": "62afa3fed6d69607505a20ec10d6e1b9",
     "grade": false,
     "grade_id": "cell-ac4e3d7d04197d3c",
     "locked": true,
     "schema_version": 3,
     "solution": false,
     "task": false
    }
   },
   "outputs": [],
   "source": [
    "df_data = [initial_per_grade]\n",
    "for year in range(2001, 2011):  # we generate 10 years of new data\n",
    "    df_data.append(\n",
    "        pd.DataFrame(\n",
    "            data=(df_data[-1].values @ true_transition_matrix.values).astype(int),\n",
    "            columns=initial_per_grade.keys(),\n",
    "            index=[year],\n",
    "        )\n",
    "    )\n",
    "\n",
    "df_data = pd.concat(df_data)\n",
    "df_data.index.name = \"year\"\n",
    "df_data.columns.name = \"grade\""
   ]
  },
  {
   "cell_type": "code",
   "execution_count": 26,
   "metadata": {
    "deletable": false,
    "editable": false,
    "nbgrader": {
     "cell_type": "code",
     "checksum": "f0b5ed79fb8ed7b67aecde3b41ec5d19",
     "grade": false,
     "grade_id": "cell-6fca5307e8f23b8b",
     "locked": true,
     "schema_version": 3,
     "solution": false,
     "task": false
    }
   },
   "outputs": [
    {
     "data": {
      "text/html": [
       "<div>\n",
       "<style scoped>\n",
       "    .dataframe tbody tr th:only-of-type {\n",
       "        vertical-align: middle;\n",
       "    }\n",
       "\n",
       "    .dataframe tbody tr th {\n",
       "        vertical-align: top;\n",
       "    }\n",
       "\n",
       "    .dataframe thead th {\n",
       "        text-align: right;\n",
       "    }\n",
       "</style>\n",
       "<table border=\"1\" class=\"dataframe\">\n",
       "  <thead>\n",
       "    <tr style=\"text-align: right;\">\n",
       "      <th>grade</th>\n",
       "      <th>A+</th>\n",
       "      <th>A</th>\n",
       "      <th>B+</th>\n",
       "      <th>B</th>\n",
       "      <th>C+</th>\n",
       "      <th>C</th>\n",
       "      <th>C-</th>\n",
       "      <th>D+</th>\n",
       "      <th>D</th>\n",
       "      <th>D-</th>\n",
       "      <th>E+</th>\n",
       "      <th>E</th>\n",
       "      <th>E-</th>\n",
       "    </tr>\n",
       "    <tr>\n",
       "      <th>year</th>\n",
       "      <th></th>\n",
       "      <th></th>\n",
       "      <th></th>\n",
       "      <th></th>\n",
       "      <th></th>\n",
       "      <th></th>\n",
       "      <th></th>\n",
       "      <th></th>\n",
       "      <th></th>\n",
       "      <th></th>\n",
       "      <th></th>\n",
       "      <th></th>\n",
       "      <th></th>\n",
       "    </tr>\n",
       "  </thead>\n",
       "  <tbody>\n",
       "    <tr>\n",
       "      <th>2000</th>\n",
       "      <td>1000</td>\n",
       "      <td>2000</td>\n",
       "      <td>3000</td>\n",
       "      <td>4000</td>\n",
       "      <td>4500</td>\n",
       "      <td>5000</td>\n",
       "      <td>4500</td>\n",
       "      <td>4000</td>\n",
       "      <td>3000</td>\n",
       "      <td>2000</td>\n",
       "      <td>1000</td>\n",
       "      <td>500</td>\n",
       "      <td>250</td>\n",
       "    </tr>\n",
       "    <tr>\n",
       "      <th>2001</th>\n",
       "      <td>1584</td>\n",
       "      <td>2055</td>\n",
       "      <td>2875</td>\n",
       "      <td>3028</td>\n",
       "      <td>3763</td>\n",
       "      <td>3832</td>\n",
       "      <td>3482</td>\n",
       "      <td>3509</td>\n",
       "      <td>2735</td>\n",
       "      <td>1955</td>\n",
       "      <td>1873</td>\n",
       "      <td>1821</td>\n",
       "      <td>2230</td>\n",
       "    </tr>\n",
       "    <tr>\n",
       "      <th>2002</th>\n",
       "      <td>1756</td>\n",
       "      <td>2083</td>\n",
       "      <td>2780</td>\n",
       "      <td>2699</td>\n",
       "      <td>3420</td>\n",
       "      <td>3382</td>\n",
       "      <td>3309</td>\n",
       "      <td>3300</td>\n",
       "      <td>2631</td>\n",
       "      <td>1797</td>\n",
       "      <td>2280</td>\n",
       "      <td>2347</td>\n",
       "      <td>2952</td>\n",
       "    </tr>\n",
       "    <tr>\n",
       "      <th>2003</th>\n",
       "      <td>1813</td>\n",
       "      <td>2106</td>\n",
       "      <td>2723</td>\n",
       "      <td>2583</td>\n",
       "      <td>3267</td>\n",
       "      <td>3218</td>\n",
       "      <td>3318</td>\n",
       "      <td>3208</td>\n",
       "      <td>2588</td>\n",
       "      <td>1678</td>\n",
       "      <td>2456</td>\n",
       "      <td>2563</td>\n",
       "      <td>3208</td>\n",
       "    </tr>\n",
       "    <tr>\n",
       "      <th>2004</th>\n",
       "      <td>1835</td>\n",
       "      <td>2123</td>\n",
       "      <td>2691</td>\n",
       "      <td>2539</td>\n",
       "      <td>3201</td>\n",
       "      <td>3161</td>\n",
       "      <td>3347</td>\n",
       "      <td>3167</td>\n",
       "      <td>2571</td>\n",
       "      <td>1610</td>\n",
       "      <td>2528</td>\n",
       "      <td>2654</td>\n",
       "      <td>3295</td>\n",
       "    </tr>\n",
       "    <tr>\n",
       "      <th>2005</th>\n",
       "      <td>1845</td>\n",
       "      <td>2134</td>\n",
       "      <td>2675</td>\n",
       "      <td>2522</td>\n",
       "      <td>3173</td>\n",
       "      <td>3142</td>\n",
       "      <td>3367</td>\n",
       "      <td>3149</td>\n",
       "      <td>2564</td>\n",
       "      <td>1576</td>\n",
       "      <td>2556</td>\n",
       "      <td>2692</td>\n",
       "      <td>3322</td>\n",
       "    </tr>\n",
       "    <tr>\n",
       "      <th>2006</th>\n",
       "      <td>1849</td>\n",
       "      <td>2140</td>\n",
       "      <td>2666</td>\n",
       "      <td>2515</td>\n",
       "      <td>3161</td>\n",
       "      <td>3136</td>\n",
       "      <td>3377</td>\n",
       "      <td>3141</td>\n",
       "      <td>2561</td>\n",
       "      <td>1559</td>\n",
       "      <td>2567</td>\n",
       "      <td>2709</td>\n",
       "      <td>3329</td>\n",
       "    </tr>\n",
       "    <tr>\n",
       "      <th>2007</th>\n",
       "      <td>1850</td>\n",
       "      <td>2143</td>\n",
       "      <td>2661</td>\n",
       "      <td>2512</td>\n",
       "      <td>3156</td>\n",
       "      <td>3134</td>\n",
       "      <td>3381</td>\n",
       "      <td>3137</td>\n",
       "      <td>2560</td>\n",
       "      <td>1552</td>\n",
       "      <td>2571</td>\n",
       "      <td>2716</td>\n",
       "      <td>3330</td>\n",
       "    </tr>\n",
       "    <tr>\n",
       "      <th>2008</th>\n",
       "      <td>1851</td>\n",
       "      <td>2144</td>\n",
       "      <td>2659</td>\n",
       "      <td>2510</td>\n",
       "      <td>3153</td>\n",
       "      <td>3134</td>\n",
       "      <td>3383</td>\n",
       "      <td>3135</td>\n",
       "      <td>2560</td>\n",
       "      <td>1548</td>\n",
       "      <td>2572</td>\n",
       "      <td>2718</td>\n",
       "      <td>3330</td>\n",
       "    </tr>\n",
       "    <tr>\n",
       "      <th>2009</th>\n",
       "      <td>1851</td>\n",
       "      <td>2144</td>\n",
       "      <td>2658</td>\n",
       "      <td>2509</td>\n",
       "      <td>3152</td>\n",
       "      <td>3133</td>\n",
       "      <td>3383</td>\n",
       "      <td>3134</td>\n",
       "      <td>2560</td>\n",
       "      <td>1546</td>\n",
       "      <td>2572</td>\n",
       "      <td>2719</td>\n",
       "      <td>3329</td>\n",
       "    </tr>\n",
       "    <tr>\n",
       "      <th>2010</th>\n",
       "      <td>1851</td>\n",
       "      <td>2144</td>\n",
       "      <td>2657</td>\n",
       "      <td>2509</td>\n",
       "      <td>3151</td>\n",
       "      <td>3133</td>\n",
       "      <td>3383</td>\n",
       "      <td>3133</td>\n",
       "      <td>2560</td>\n",
       "      <td>1545</td>\n",
       "      <td>2572</td>\n",
       "      <td>2719</td>\n",
       "      <td>3328</td>\n",
       "    </tr>\n",
       "  </tbody>\n",
       "</table>\n",
       "</div>"
      ],
      "text/plain": [
       "grade    A+     A    B+     B    C+     C    C-    D+     D    D-    E+     E  \\\n",
       "year                                                                            \n",
       "2000   1000  2000  3000  4000  4500  5000  4500  4000  3000  2000  1000   500   \n",
       "2001   1584  2055  2875  3028  3763  3832  3482  3509  2735  1955  1873  1821   \n",
       "2002   1756  2083  2780  2699  3420  3382  3309  3300  2631  1797  2280  2347   \n",
       "2003   1813  2106  2723  2583  3267  3218  3318  3208  2588  1678  2456  2563   \n",
       "2004   1835  2123  2691  2539  3201  3161  3347  3167  2571  1610  2528  2654   \n",
       "2005   1845  2134  2675  2522  3173  3142  3367  3149  2564  1576  2556  2692   \n",
       "2006   1849  2140  2666  2515  3161  3136  3377  3141  2561  1559  2567  2709   \n",
       "2007   1850  2143  2661  2512  3156  3134  3381  3137  2560  1552  2571  2716   \n",
       "2008   1851  2144  2659  2510  3153  3134  3383  3135  2560  1548  2572  2718   \n",
       "2009   1851  2144  2658  2509  3152  3133  3383  3134  2560  1546  2572  2719   \n",
       "2010   1851  2144  2657  2509  3151  3133  3383  3133  2560  1545  2572  2719   \n",
       "\n",
       "grade    E-  \n",
       "year         \n",
       "2000    250  \n",
       "2001   2230  \n",
       "2002   2952  \n",
       "2003   3208  \n",
       "2004   3295  \n",
       "2005   3322  \n",
       "2006   3329  \n",
       "2007   3330  \n",
       "2008   3330  \n",
       "2009   3329  \n",
       "2010   3328  "
      ]
     },
     "execution_count": 26,
     "metadata": {},
     "output_type": "execute_result"
    }
   ],
   "source": [
    "df_data\n"
   ]
  },
  {
   "attachments": {},
   "cell_type": "markdown",
   "metadata": {
    "deletable": false,
    "editable": false,
    "nbgrader": {
     "cell_type": "markdown",
     "checksum": "a4eebcae53bef388e6aef1fd884d86b5",
     "grade": false,
     "grade_id": "cell-4b021b05ecf89091",
     "locked": true,
     "schema_version": 3,
     "solution": false,
     "task": false
    }
   },
   "source": [
    "Let's pivot this data so that for each year we have the number of counterparts and their proportion that year per grade:\n"
   ]
  },
  {
   "cell_type": "code",
   "execution_count": 27,
   "metadata": {
    "deletable": false,
    "editable": false,
    "nbgrader": {
     "cell_type": "code",
     "checksum": "d3ba4113c7b80090274fec974230d2f8",
     "grade": false,
     "grade_id": "cell-310ae2e0538d2b65",
     "locked": true,
     "schema_version": 3,
     "solution": false,
     "task": false
    }
   },
   "outputs": [],
   "source": [
    "df_data = pd.melt(\n",
    "    df_data.reset_index(), id_vars=\"year\", value_vars=df_data.columns.to_list()\n",
    ")"
   ]
  },
  {
   "cell_type": "code",
   "execution_count": 28,
   "metadata": {
    "deletable": false,
    "editable": false,
    "nbgrader": {
     "cell_type": "code",
     "checksum": "44dde27be8eef444c7a7a2bd4ef4c47a",
     "grade": false,
     "grade_id": "cell-3d2ae778db470ef0",
     "locked": true,
     "schema_version": 3,
     "solution": false,
     "task": false
    }
   },
   "outputs": [
    {
     "data": {
      "text/html": [
       "<div>\n",
       "<style scoped>\n",
       "    .dataframe tbody tr th:only-of-type {\n",
       "        vertical-align: middle;\n",
       "    }\n",
       "\n",
       "    .dataframe tbody tr th {\n",
       "        vertical-align: top;\n",
       "    }\n",
       "\n",
       "    .dataframe thead th {\n",
       "        text-align: right;\n",
       "    }\n",
       "</style>\n",
       "<table border=\"1\" class=\"dataframe\">\n",
       "  <thead>\n",
       "    <tr style=\"text-align: right;\">\n",
       "      <th></th>\n",
       "      <th>year</th>\n",
       "      <th>grade</th>\n",
       "      <th>value</th>\n",
       "    </tr>\n",
       "  </thead>\n",
       "  <tbody>\n",
       "    <tr>\n",
       "      <th>0</th>\n",
       "      <td>2000</td>\n",
       "      <td>A+</td>\n",
       "      <td>1000</td>\n",
       "    </tr>\n",
       "    <tr>\n",
       "      <th>1</th>\n",
       "      <td>2001</td>\n",
       "      <td>A+</td>\n",
       "      <td>1584</td>\n",
       "    </tr>\n",
       "    <tr>\n",
       "      <th>2</th>\n",
       "      <td>2002</td>\n",
       "      <td>A+</td>\n",
       "      <td>1756</td>\n",
       "    </tr>\n",
       "    <tr>\n",
       "      <th>3</th>\n",
       "      <td>2003</td>\n",
       "      <td>A+</td>\n",
       "      <td>1813</td>\n",
       "    </tr>\n",
       "    <tr>\n",
       "      <th>4</th>\n",
       "      <td>2004</td>\n",
       "      <td>A+</td>\n",
       "      <td>1835</td>\n",
       "    </tr>\n",
       "    <tr>\n",
       "      <th>...</th>\n",
       "      <td>...</td>\n",
       "      <td>...</td>\n",
       "      <td>...</td>\n",
       "    </tr>\n",
       "    <tr>\n",
       "      <th>138</th>\n",
       "      <td>2006</td>\n",
       "      <td>E-</td>\n",
       "      <td>3329</td>\n",
       "    </tr>\n",
       "    <tr>\n",
       "      <th>139</th>\n",
       "      <td>2007</td>\n",
       "      <td>E-</td>\n",
       "      <td>3330</td>\n",
       "    </tr>\n",
       "    <tr>\n",
       "      <th>140</th>\n",
       "      <td>2008</td>\n",
       "      <td>E-</td>\n",
       "      <td>3330</td>\n",
       "    </tr>\n",
       "    <tr>\n",
       "      <th>141</th>\n",
       "      <td>2009</td>\n",
       "      <td>E-</td>\n",
       "      <td>3329</td>\n",
       "    </tr>\n",
       "    <tr>\n",
       "      <th>142</th>\n",
       "      <td>2010</td>\n",
       "      <td>E-</td>\n",
       "      <td>3328</td>\n",
       "    </tr>\n",
       "  </tbody>\n",
       "</table>\n",
       "<p>143 rows × 3 columns</p>\n",
       "</div>"
      ],
      "text/plain": [
       "     year grade  value\n",
       "0    2000    A+   1000\n",
       "1    2001    A+   1584\n",
       "2    2002    A+   1756\n",
       "3    2003    A+   1813\n",
       "4    2004    A+   1835\n",
       "..    ...   ...    ...\n",
       "138  2006    E-   3329\n",
       "139  2007    E-   3330\n",
       "140  2008    E-   3330\n",
       "141  2009    E-   3329\n",
       "142  2010    E-   3328\n",
       "\n",
       "[143 rows x 3 columns]"
      ]
     },
     "execution_count": 28,
     "metadata": {},
     "output_type": "execute_result"
    }
   ],
   "source": [
    "df_data\n"
   ]
  },
  {
   "attachments": {},
   "cell_type": "markdown",
   "metadata": {
    "deletable": false,
    "editable": false,
    "nbgrader": {
     "cell_type": "markdown",
     "checksum": "095001cc482f200bc6510799637caea3",
     "grade": false,
     "grade_id": "cell-58840256352766a1",
     "locked": true,
     "schema_version": 3,
     "solution": false,
     "task": false
    }
   },
   "source": [
    "Let's use a random initial transition matrix:\n"
   ]
  },
  {
   "cell_type": "code",
   "execution_count": 29,
   "metadata": {
    "deletable": false,
    "editable": false,
    "nbgrader": {
     "cell_type": "code",
     "checksum": "3d1a3e37c018cad4750bf437c14f70f0",
     "grade": false,
     "grade_id": "cell-7ecf45d5713ab6d1",
     "locked": true,
     "schema_version": 3,
     "solution": false,
     "task": false
    }
   },
   "outputs": [],
   "source": [
    "initial_transition_matrix = np.random.rand(*true_transition_matrix.shape)\n",
    "initial_transition_matrix = pd.DataFrame(\n",
    "    initial_transition_matrix,\n",
    "    index=true_transition_matrix.index.copy(),\n",
    "    columns=true_transition_matrix.columns.copy(),\n",
    ")\n",
    "initial_transition_matrix = initial_transition_matrix.div(\n",
    "    initial_transition_matrix.sum(axis=1), axis=0\n",
    ")"
   ]
  },
  {
   "cell_type": "code",
   "execution_count": 30,
   "metadata": {
    "deletable": false,
    "editable": false,
    "nbgrader": {
     "cell_type": "code",
     "checksum": "5d34c906a5e25eeb2ce34c07366bcb02",
     "grade": false,
     "grade_id": "cell-3c2ce3e38e9ae586",
     "locked": true,
     "schema_version": 3,
     "solution": false,
     "task": false
    }
   },
   "outputs": [
    {
     "data": {
      "text/html": [
       "<div>\n",
       "<style scoped>\n",
       "    .dataframe tbody tr th:only-of-type {\n",
       "        vertical-align: middle;\n",
       "    }\n",
       "\n",
       "    .dataframe tbody tr th {\n",
       "        vertical-align: top;\n",
       "    }\n",
       "\n",
       "    .dataframe thead th {\n",
       "        text-align: right;\n",
       "    }\n",
       "</style>\n",
       "<table border=\"1\" class=\"dataframe\">\n",
       "  <thead>\n",
       "    <tr style=\"text-align: right;\">\n",
       "      <th>to</th>\n",
       "      <th>A+</th>\n",
       "      <th>A</th>\n",
       "      <th>B+</th>\n",
       "      <th>B</th>\n",
       "      <th>C+</th>\n",
       "      <th>C</th>\n",
       "      <th>C-</th>\n",
       "      <th>D+</th>\n",
       "      <th>D</th>\n",
       "      <th>D-</th>\n",
       "      <th>E+</th>\n",
       "      <th>E</th>\n",
       "      <th>E-</th>\n",
       "    </tr>\n",
       "    <tr>\n",
       "      <th>from</th>\n",
       "      <th></th>\n",
       "      <th></th>\n",
       "      <th></th>\n",
       "      <th></th>\n",
       "      <th></th>\n",
       "      <th></th>\n",
       "      <th></th>\n",
       "      <th></th>\n",
       "      <th></th>\n",
       "      <th></th>\n",
       "      <th></th>\n",
       "      <th></th>\n",
       "      <th></th>\n",
       "    </tr>\n",
       "  </thead>\n",
       "  <tbody>\n",
       "    <tr>\n",
       "      <th>A+</th>\n",
       "      <td>0.113204</td>\n",
       "      <td>0.057344</td>\n",
       "      <td>0.029807</td>\n",
       "      <td>0.013048</td>\n",
       "      <td>0.090472</td>\n",
       "      <td>0.106195</td>\n",
       "      <td>0.032755</td>\n",
       "      <td>0.048872</td>\n",
       "      <td>0.125408</td>\n",
       "      <td>0.021800</td>\n",
       "      <td>0.068415</td>\n",
       "      <td>0.196533</td>\n",
       "      <td>0.096145</td>\n",
       "    </tr>\n",
       "    <tr>\n",
       "      <th>A</th>\n",
       "      <td>0.057654</td>\n",
       "      <td>0.050076</td>\n",
       "      <td>0.126078</td>\n",
       "      <td>0.124530</td>\n",
       "      <td>0.155080</td>\n",
       "      <td>0.021350</td>\n",
       "      <td>0.048792</td>\n",
       "      <td>0.094703</td>\n",
       "      <td>0.035187</td>\n",
       "      <td>0.050108</td>\n",
       "      <td>0.050886</td>\n",
       "      <td>0.132021</td>\n",
       "      <td>0.053535</td>\n",
       "    </tr>\n",
       "    <tr>\n",
       "      <th>B+</th>\n",
       "      <td>0.041947</td>\n",
       "      <td>0.123695</td>\n",
       "      <td>0.110532</td>\n",
       "      <td>0.114338</td>\n",
       "      <td>0.010259</td>\n",
       "      <td>0.108710</td>\n",
       "      <td>0.032953</td>\n",
       "      <td>0.108188</td>\n",
       "      <td>0.079281</td>\n",
       "      <td>0.097176</td>\n",
       "      <td>0.048829</td>\n",
       "      <td>0.057602</td>\n",
       "      <td>0.066489</td>\n",
       "    </tr>\n",
       "    <tr>\n",
       "      <th>B</th>\n",
       "      <td>0.107961</td>\n",
       "      <td>0.082162</td>\n",
       "      <td>0.085395</td>\n",
       "      <td>0.046249</td>\n",
       "      <td>0.052216</td>\n",
       "      <td>0.113540</td>\n",
       "      <td>0.059801</td>\n",
       "      <td>0.073979</td>\n",
       "      <td>0.026254</td>\n",
       "      <td>0.154391</td>\n",
       "      <td>0.152463</td>\n",
       "      <td>0.017647</td>\n",
       "      <td>0.027943</td>\n",
       "    </tr>\n",
       "    <tr>\n",
       "      <th>C+</th>\n",
       "      <td>0.113155</td>\n",
       "      <td>0.027531</td>\n",
       "      <td>0.102488</td>\n",
       "      <td>0.123182</td>\n",
       "      <td>0.154001</td>\n",
       "      <td>0.034303</td>\n",
       "      <td>0.073484</td>\n",
       "      <td>0.098535</td>\n",
       "      <td>0.031243</td>\n",
       "      <td>0.026938</td>\n",
       "      <td>0.023317</td>\n",
       "      <td>0.125758</td>\n",
       "      <td>0.066064</td>\n",
       "    </tr>\n",
       "    <tr>\n",
       "      <th>C</th>\n",
       "      <td>0.116815</td>\n",
       "      <td>0.051491</td>\n",
       "      <td>0.137156</td>\n",
       "      <td>0.138520</td>\n",
       "      <td>0.112199</td>\n",
       "      <td>0.010996</td>\n",
       "      <td>0.008360</td>\n",
       "      <td>0.120138</td>\n",
       "      <td>0.137928</td>\n",
       "      <td>0.027928</td>\n",
       "      <td>0.058461</td>\n",
       "      <td>0.020844</td>\n",
       "      <td>0.059164</td>\n",
       "    </tr>\n",
       "    <tr>\n",
       "      <th>C-</th>\n",
       "      <td>0.070998</td>\n",
       "      <td>0.067890</td>\n",
       "      <td>0.117916</td>\n",
       "      <td>0.071779</td>\n",
       "      <td>0.080302</td>\n",
       "      <td>0.074436</td>\n",
       "      <td>0.039430</td>\n",
       "      <td>0.103612</td>\n",
       "      <td>0.068654</td>\n",
       "      <td>0.128679</td>\n",
       "      <td>0.116490</td>\n",
       "      <td>0.010191</td>\n",
       "      <td>0.049623</td>\n",
       "    </tr>\n",
       "    <tr>\n",
       "      <th>D+</th>\n",
       "      <td>0.055963</td>\n",
       "      <td>0.015302</td>\n",
       "      <td>0.035441</td>\n",
       "      <td>0.125304</td>\n",
       "      <td>0.052178</td>\n",
       "      <td>0.053503</td>\n",
       "      <td>0.055811</td>\n",
       "      <td>0.084536</td>\n",
       "      <td>0.041321</td>\n",
       "      <td>0.126298</td>\n",
       "      <td>0.130647</td>\n",
       "      <td>0.157110</td>\n",
       "      <td>0.066587</td>\n",
       "    </tr>\n",
       "    <tr>\n",
       "      <th>D</th>\n",
       "      <td>0.064429</td>\n",
       "      <td>0.066680</td>\n",
       "      <td>0.132976</td>\n",
       "      <td>0.131820</td>\n",
       "      <td>0.040503</td>\n",
       "      <td>0.046698</td>\n",
       "      <td>0.004234</td>\n",
       "      <td>0.076339</td>\n",
       "      <td>0.082988</td>\n",
       "      <td>0.086111</td>\n",
       "      <td>0.052368</td>\n",
       "      <td>0.130717</td>\n",
       "      <td>0.084137</td>\n",
       "    </tr>\n",
       "    <tr>\n",
       "      <th>D-</th>\n",
       "      <td>0.083441</td>\n",
       "      <td>0.005756</td>\n",
       "      <td>0.055086</td>\n",
       "      <td>0.107579</td>\n",
       "      <td>0.110095</td>\n",
       "      <td>0.021294</td>\n",
       "      <td>0.124673</td>\n",
       "      <td>0.094044</td>\n",
       "      <td>0.111893</td>\n",
       "      <td>0.125616</td>\n",
       "      <td>0.073701</td>\n",
       "      <td>0.031213</td>\n",
       "      <td>0.055610</td>\n",
       "    </tr>\n",
       "    <tr>\n",
       "      <th>E+</th>\n",
       "      <td>0.041153</td>\n",
       "      <td>0.087758</td>\n",
       "      <td>0.108597</td>\n",
       "      <td>0.054099</td>\n",
       "      <td>0.016894</td>\n",
       "      <td>0.047770</td>\n",
       "      <td>0.128457</td>\n",
       "      <td>0.110552</td>\n",
       "      <td>0.076619</td>\n",
       "      <td>0.044690</td>\n",
       "      <td>0.116358</td>\n",
       "      <td>0.076561</td>\n",
       "      <td>0.090494</td>\n",
       "    </tr>\n",
       "    <tr>\n",
       "      <th>E</th>\n",
       "      <td>0.128134</td>\n",
       "      <td>0.047384</td>\n",
       "      <td>0.050212</td>\n",
       "      <td>0.143617</td>\n",
       "      <td>0.086236</td>\n",
       "      <td>0.005897</td>\n",
       "      <td>0.032181</td>\n",
       "      <td>0.113274</td>\n",
       "      <td>0.141808</td>\n",
       "      <td>0.051839</td>\n",
       "      <td>0.044629</td>\n",
       "      <td>0.065159</td>\n",
       "      <td>0.089629</td>\n",
       "    </tr>\n",
       "    <tr>\n",
       "      <th>E-</th>\n",
       "      <td>0.024782</td>\n",
       "      <td>0.149464</td>\n",
       "      <td>0.113180</td>\n",
       "      <td>0.102603</td>\n",
       "      <td>0.056539</td>\n",
       "      <td>0.085119</td>\n",
       "      <td>0.137707</td>\n",
       "      <td>0.003261</td>\n",
       "      <td>0.045482</td>\n",
       "      <td>0.097301</td>\n",
       "      <td>0.077561</td>\n",
       "      <td>0.085184</td>\n",
       "      <td>0.021817</td>\n",
       "    </tr>\n",
       "  </tbody>\n",
       "</table>\n",
       "</div>"
      ],
      "text/plain": [
       "to          A+         A        B+         B        C+         C        C-  \\\n",
       "from                                                                         \n",
       "A+    0.113204  0.057344  0.029807  0.013048  0.090472  0.106195  0.032755   \n",
       "A     0.057654  0.050076  0.126078  0.124530  0.155080  0.021350  0.048792   \n",
       "B+    0.041947  0.123695  0.110532  0.114338  0.010259  0.108710  0.032953   \n",
       "B     0.107961  0.082162  0.085395  0.046249  0.052216  0.113540  0.059801   \n",
       "C+    0.113155  0.027531  0.102488  0.123182  0.154001  0.034303  0.073484   \n",
       "C     0.116815  0.051491  0.137156  0.138520  0.112199  0.010996  0.008360   \n",
       "C-    0.070998  0.067890  0.117916  0.071779  0.080302  0.074436  0.039430   \n",
       "D+    0.055963  0.015302  0.035441  0.125304  0.052178  0.053503  0.055811   \n",
       "D     0.064429  0.066680  0.132976  0.131820  0.040503  0.046698  0.004234   \n",
       "D-    0.083441  0.005756  0.055086  0.107579  0.110095  0.021294  0.124673   \n",
       "E+    0.041153  0.087758  0.108597  0.054099  0.016894  0.047770  0.128457   \n",
       "E     0.128134  0.047384  0.050212  0.143617  0.086236  0.005897  0.032181   \n",
       "E-    0.024782  0.149464  0.113180  0.102603  0.056539  0.085119  0.137707   \n",
       "\n",
       "to          D+         D        D-        E+         E        E-  \n",
       "from                                                              \n",
       "A+    0.048872  0.125408  0.021800  0.068415  0.196533  0.096145  \n",
       "A     0.094703  0.035187  0.050108  0.050886  0.132021  0.053535  \n",
       "B+    0.108188  0.079281  0.097176  0.048829  0.057602  0.066489  \n",
       "B     0.073979  0.026254  0.154391  0.152463  0.017647  0.027943  \n",
       "C+    0.098535  0.031243  0.026938  0.023317  0.125758  0.066064  \n",
       "C     0.120138  0.137928  0.027928  0.058461  0.020844  0.059164  \n",
       "C-    0.103612  0.068654  0.128679  0.116490  0.010191  0.049623  \n",
       "D+    0.084536  0.041321  0.126298  0.130647  0.157110  0.066587  \n",
       "D     0.076339  0.082988  0.086111  0.052368  0.130717  0.084137  \n",
       "D-    0.094044  0.111893  0.125616  0.073701  0.031213  0.055610  \n",
       "E+    0.110552  0.076619  0.044690  0.116358  0.076561  0.090494  \n",
       "E     0.113274  0.141808  0.051839  0.044629  0.065159  0.089629  \n",
       "E-    0.003261  0.045482  0.097301  0.077561  0.085184  0.021817  "
      ]
     },
     "execution_count": 30,
     "metadata": {},
     "output_type": "execute_result"
    }
   ],
   "source": [
    "initial_transition_matrix\n"
   ]
  },
  {
   "attachments": {},
   "cell_type": "markdown",
   "metadata": {
    "deletable": false,
    "editable": false,
    "nbgrader": {
     "cell_type": "markdown",
     "checksum": "23186d584dd201cf5b7ed5f3a29ddc28",
     "grade": false,
     "grade_id": "cell-69eeb3a2844225c1",
     "locked": true,
     "schema_version": 3,
     "solution": false,
     "task": false
    }
   },
   "source": [
    "### 2. Fit criteria\n",
    "\n",
    "In genetics algorithms, a feasible solution is called an \"individual\". These algorithms revolve around the idea that individuals evolve from some initial(ization) imperfect individual to a perfect(ly adapted to its environment) individual.\n",
    "\n",
    "We will use the imperfect transition matrix defined above as our initialization of an individual:\n"
   ]
  },
  {
   "cell_type": "code",
   "execution_count": 31,
   "metadata": {
    "deletable": false,
    "editable": false,
    "nbgrader": {
     "cell_type": "code",
     "checksum": "be28db27c0285d7dfcd9712f8ebd9e82",
     "grade": false,
     "grade_id": "cell-383c355f1953c1c0",
     "locked": true,
     "schema_version": 3,
     "solution": false,
     "task": false
    }
   },
   "outputs": [],
   "source": [
    "def init(individual):\n",
    "    trans_matrix_cpy = initial_transition_matrix.copy()\n",
    "    # Since the algorithm will run in parallel with several initializations,\n",
    "    # we will run init() several times... and want it to use slightly different\n",
    "    # initial individuals, hence the random component below\n",
    "    trans_matrix_cpy = trans_matrix_cpy + 0.1 * np.random.rand(*trans_matrix_cpy.shape)\n",
    "    individual[:] = trans_matrix_cpy.div(\n",
    "        trans_matrix_cpy.sum(axis=1), axis=0\n",
    "    ).values.flatten()\n",
    "    return individual"
   ]
  },
  {
   "attachments": {},
   "cell_type": "markdown",
   "metadata": {
    "deletable": false,
    "editable": false,
    "nbgrader": {
     "cell_type": "markdown",
     "checksum": "4466e811248098d519b3bd6849a09957",
     "grade": false,
     "grade_id": "cell-24dd45bba15fa4f9",
     "locked": true,
     "schema_version": 3,
     "solution": false,
     "task": false
    }
   },
   "source": [
    "#### Fitness (or loss)\n",
    "\n",
    "Subsequently, we have to come up with a loss criterion to quantitatively assess what is a good fitness. Unsurprisingly we rely on squared error: we apply the transition matrix year after year and sum the errors made each year.\n"
   ]
  },
  {
   "cell_type": "code",
   "execution_count": 32,
   "metadata": {
    "deletable": false,
    "editable": false,
    "nbgrader": {
     "cell_type": "code",
     "checksum": "3f5628197897c2e8a5c7224e9a7d7b1e",
     "grade": false,
     "grade_id": "cell-bccedb2bc731e9c0",
     "locked": true,
     "schema_version": 3,
     "solution": false,
     "task": false
    }
   },
   "outputs": [],
   "source": [
    "initial_year = df_data[\"year\"].min()\n",
    "first_year = df_data[df_data[\"year\"] == initial_year]\n",
    "other_years = df_data[df_data[\"year\"] > initial_year][\"year\"].unique()\n"
   ]
  },
  {
   "attachments": {},
   "cell_type": "markdown",
   "metadata": {
    "deletable": false,
    "editable": false,
    "nbgrader": {
     "cell_type": "markdown",
     "checksum": "c7db7a470c3e752aeade24f606c6ae50",
     "grade": false,
     "grade_id": "cell-8a487bb40f81f190",
     "locked": true,
     "schema_version": 3,
     "solution": false,
     "task": false
    }
   },
   "source": [
    "#### Absolute error\n",
    "\n",
    "The following function takes the proposed transition matrix `transition_matrix`, applies it to the first year iteratively, and computes the squared error made by projecting the percentage of companies in each grade.\n"
   ]
  },
  {
   "cell_type": "code",
   "execution_count": 33,
   "metadata": {},
   "outputs": [],
   "source": [
    "def abs_error(\n",
    "    transition_matrix: np.ndarray, ptfl_data: pd.DataFrame, other_years: list\n",
    "):\n",
    "    initial_M = transition_matrix.reshape((13, 13))\n",
    "    current_M = initial_M.copy()\n",
    "    error = 0\n",
    "    for year in sorted(other_years):\n",
    "        current_year = ptfl_data[ptfl_data[\"year\"] == year]\n",
    "        df_estimated = pd.DataFrame(\n",
    "            {\n",
    "                \"grade\": grades,\n",
    "                \"value_estimated\": (first_year[\"value\"].values @ current_M).astype(int),\n",
    "            }\n",
    "        )\n",
    "        current_M = current_M @ initial_M\n",
    "        result = df_estimated.merge(current_year, how=\"left\", on=\"grade\")\n",
    "        error += np.abs(result[\"value_estimated\"] - result[\"value\"]).sum()\n",
    "    return error"
   ]
  },
  {
   "cell_type": "code",
   "execution_count": 34,
   "metadata": {},
   "outputs": [
    {
     "data": {
      "text/plain": [
       "array([1000, 2000, 3000, 4000, 4500, 5000, 4500, 4000, 3000, 2000, 1000,\n",
       "        500,  250])"
      ]
     },
     "execution_count": 34,
     "metadata": {},
     "output_type": "execute_result"
    }
   ],
   "source": [
    "first_year[\"value\"].values\n"
   ]
  },
  {
   "cell_type": "code",
   "execution_count": 35,
   "metadata": {},
   "outputs": [
    {
     "data": {
      "text/plain": [
       "array([1000, 2000, 3000, 4000, 4500, 5000, 4500, 4000, 3000, 2000, 1000,\n",
       "        500,  250])"
      ]
     },
     "execution_count": 35,
     "metadata": {},
     "output_type": "execute_result"
    }
   ],
   "source": [
    "first_year[\"value\"].values\n"
   ]
  },
  {
   "attachments": {},
   "cell_type": "markdown",
   "metadata": {
    "deletable": false,
    "editable": false,
    "nbgrader": {
     "cell_type": "markdown",
     "checksum": "37991c3b5bd1b3be8eb806820deace43",
     "grade": false,
     "grade_id": "cell-f063b011766b8ee0",
     "locked": true,
     "schema_version": 3,
     "solution": false,
     "task": false
    }
   },
   "source": [
    "The initial one should be relatively bad:\n"
   ]
  },
  {
   "cell_type": "code",
   "execution_count": 36,
   "metadata": {
    "deletable": false,
    "editable": false,
    "nbgrader": {
     "cell_type": "code",
     "checksum": "1ec32d66b4eb6143f846d0e5dfc117a5",
     "grade": false,
     "grade_id": "cell-eb31c0424a58a8f2",
     "locked": true,
     "schema_version": 3,
     "solution": false,
     "task": false
    }
   },
   "outputs": [
    {
     "data": {
      "text/plain": [
       "86252"
      ]
     },
     "execution_count": 36,
     "metadata": {},
     "output_type": "execute_result"
    }
   ],
   "source": [
    "abs_error(initial_transition_matrix.values.flatten(), df_data, other_years)\n"
   ]
  },
  {
   "attachments": {},
   "cell_type": "markdown",
   "metadata": {
    "deletable": false,
    "editable": false,
    "nbgrader": {
     "cell_type": "markdown",
     "checksum": "c925e72543228f1114073e11e1452dad",
     "grade": false,
     "grade_id": "cell-90f4aeadb3e6cf57",
     "locked": true,
     "schema_version": 3,
     "solution": false,
     "task": false
    }
   },
   "source": [
    "The true one should conduct to compounding ronding errors only (so much lower):\n"
   ]
  },
  {
   "cell_type": "code",
   "execution_count": null,
   "metadata": {},
   "outputs": [],
   "source": []
  },
  {
   "cell_type": "code",
   "execution_count": 37,
   "metadata": {
    "deletable": false,
    "editable": false,
    "nbgrader": {
     "cell_type": "code",
     "checksum": "3d1f5729cf27c1207c675297985e57a5",
     "grade": false,
     "grade_id": "cell-c1ba67aab87640b0",
     "locked": true,
     "schema_version": 3,
     "solution": false,
     "task": false
    }
   },
   "outputs": [
    {
     "data": {
      "text/plain": [
       "303"
      ]
     },
     "execution_count": 37,
     "metadata": {},
     "output_type": "execute_result"
    }
   ],
   "source": [
    "abs_error(true_transition_matrix.values.flatten(), df_data, other_years)\n"
   ]
  },
  {
   "attachments": {},
   "cell_type": "markdown",
   "metadata": {
    "deletable": false,
    "editable": false,
    "nbgrader": {
     "cell_type": "markdown",
     "checksum": "d9fd99b9f9eb1fd20a040782304221c5",
     "grade": false,
     "grade_id": "cell-7db24af260665283",
     "locked": true,
     "schema_version": 3,
     "solution": false,
     "task": false
    }
   },
   "source": [
    "#### Smoothness / penalties\n",
    "\n",
    "We also want to enforce some idea of smoothness: a very high penalty if the maximum probability in the transition matrix is **not** on the diagonal.\n",
    "Also, we want a \"triangular\" shape, i.e. we we want a decrease in the transition probability when we get further from the grade.\n",
    "Example: companies currently in Grade B will stay B with 70 % chance, go A with 10 % chance, go C with 10 % chance, D with 5 % chance, etc.\n",
    "\n",
    "Think of this as the equivalent of ridge/lasso in the context of genetic algorithms.\n"
   ]
  },
  {
   "cell_type": "code",
   "execution_count": 38,
   "metadata": {
    "deletable": false,
    "editable": false,
    "nbgrader": {
     "cell_type": "code",
     "checksum": "b9f4226f615d0f7f9a6597198a7d5c65",
     "grade": false,
     "grade_id": "cell-50a4d59646774b94",
     "locked": true,
     "schema_version": 3,
     "solution": false,
     "task": false
    }
   },
   "outputs": [],
   "source": [
    "def smoothness(transition_matrix: pd.DataFrame):\n",
    "    # Let's put a 3000 penalty if the max is not on the diagonal\n",
    "    argmaxes = np.argmax(transition_matrix.reshape((13, 13)), axis=1)\n",
    "    smoothness_metric = 3000 * sum(argmaxes != np.array(list(range(13))))\n",
    "    return smoothness_metric\n"
   ]
  },
  {
   "attachments": {},
   "cell_type": "markdown",
   "metadata": {
    "deletable": false,
    "editable": false,
    "nbgrader": {
     "cell_type": "markdown",
     "checksum": "c3038d8c62bfb3c369af6522d125b733",
     "grade": false,
     "grade_id": "cell-08dfe5b8904654cd",
     "locked": true,
     "schema_version": 3,
     "solution": false,
     "task": false
    }
   },
   "source": [
    "The initial one should be pretty bad:\n"
   ]
  },
  {
   "cell_type": "code",
   "execution_count": 39,
   "metadata": {
    "deletable": false,
    "editable": false,
    "nbgrader": {
     "cell_type": "code",
     "checksum": "ba7856729d6dd1c34d190bf9df621875",
     "grade": false,
     "grade_id": "cell-5517b6cf35a6e0bb",
     "locked": true,
     "schema_version": 3,
     "solution": false,
     "task": false
    }
   },
   "outputs": [
    {
     "data": {
      "text/plain": [
       "33000"
      ]
     },
     "execution_count": 39,
     "metadata": {},
     "output_type": "execute_result"
    }
   ],
   "source": [
    "smoothness(initial_transition_matrix.values.flatten())\n"
   ]
  },
  {
   "attachments": {},
   "cell_type": "markdown",
   "metadata": {
    "deletable": false,
    "editable": false,
    "nbgrader": {
     "cell_type": "markdown",
     "checksum": "c7465a1f1497c9094518e9ec4781c2d8",
     "grade": false,
     "grade_id": "cell-8e2c7b01ecf14a3d",
     "locked": true,
     "schema_version": 3,
     "solution": false,
     "task": false
    }
   },
   "source": [
    "The true one should be good:\n"
   ]
  },
  {
   "cell_type": "code",
   "execution_count": 40,
   "metadata": {
    "deletable": false,
    "editable": false,
    "nbgrader": {
     "cell_type": "code",
     "checksum": "2b6313b61d350ab7ed0a15dcae52e69a",
     "grade": false,
     "grade_id": "cell-c8a2f5537a8f5f5e",
     "locked": true,
     "schema_version": 3,
     "solution": false,
     "task": false
    }
   },
   "outputs": [
    {
     "data": {
      "text/plain": [
       "0"
      ]
     },
     "execution_count": 40,
     "metadata": {},
     "output_type": "execute_result"
    }
   ],
   "source": [
    "smoothness(true_transition_matrix.values.flatten())\n"
   ]
  },
  {
   "attachments": {},
   "cell_type": "markdown",
   "metadata": {
    "deletable": false,
    "editable": false,
    "nbgrader": {
     "cell_type": "markdown",
     "checksum": "12b6b19d8f883166e882e0959f1013a2",
     "grade": false,
     "grade_id": "cell-336c12f4c8205417",
     "locked": true,
     "schema_version": 3,
     "solution": false,
     "task": false
    }
   },
   "source": [
    "Let's wrap those two metrics in `the_fitness` function (which will be part of a class, hence the presence of `self`).\n"
   ]
  },
  {
   "cell_type": "code",
   "execution_count": 41,
   "metadata": {
    "deletable": false,
    "editable": false,
    "nbgrader": {
     "cell_type": "code",
     "checksum": "dc80369010749a6bd33c6604039f6673",
     "grade": false,
     "grade_id": "cell-4718633cca22d918",
     "locked": true,
     "schema_version": 3,
     "solution": false,
     "task": false
    }
   },
   "outputs": [],
   "source": [
    "def the_fitness(self):\n",
    "    distance_metric = abs_error(np.array(self), df_data, other_years)\n",
    "    smoothness_metric = smoothness(np.array(self))\n",
    "    return distance_metric, smoothness_metric\n"
   ]
  },
  {
   "attachments": {},
   "cell_type": "markdown",
   "metadata": {
    "deletable": false,
    "editable": false,
    "nbgrader": {
     "cell_type": "markdown",
     "checksum": "84f443e16c8f3f86abf41627f0921cf9",
     "grade": false,
     "grade_id": "cell-0b09591d497fa622",
     "locked": true,
     "schema_version": 3,
     "solution": false,
     "task": false
    }
   },
   "source": [
    "### 3. Proposed resolution\n",
    "\n",
    "Similar to the computer scientists who like to brag about the \"inspiration\" of human neurons for neural networks, some have taken inspiration from Darwinism and its evolution theory to come up with a family of algorithms: genetic algorithms.\n",
    "\n",
    "#### Individuals / chromosomes\n",
    "\n",
    "A **solution** to a problem is represented by an **individual**. In our case, that's the transition matrix.\n",
    "\n",
    "#### Population\n",
    "\n",
    "The point of evolutionary methods is to try out many solutions to a problem, but still far less than the total number of possible solutions (the search space).\n",
    "\n",
    "**A population is a collection of individuals.**\n",
    "\n",
    "#### Genes\n",
    "\n",
    "Much like the weights in a neural network, **genes are the real values we try to optimize**.\n",
    "\n",
    "In our example, that's each transition probability (each entry in the transition matrix).\n",
    "\n",
    "#### Putting it all together\n",
    "\n",
    "Let's look at the big picture; we have:\n",
    "\n",
    "- a fitness criterion that we wish to maximize, and which is not convex (no analytical solution);\n",
    "- a search space that is too large to compute the fitness of all possible solutions;\n",
    "- a population of \"random\" initial individuals (well, only 1 for now - which are not particularly good).\n",
    "\n",
    "How does nature do?\n",
    "\n",
    "1. Select (the fittest);\n",
    "1. Mate (sometimes called \"crossover\" not to hurt anyone's mind);\n",
    "1. Mutate.\n",
    "\n",
    "Applying genetic algorithms successfully is thus all about coming up with good selection, mating (crossover) and mutation routines.\n",
    "\n",
    "We will use the [DEAP library](https://deap.readthedocs.io/en/master/). You can have a look at its selection, mating and mutation implemented routines on [this page](https://deap.readthedocs.io/en/master/api/tools.html).\n"
   ]
  },
  {
   "cell_type": "code",
   "execution_count": 43,
   "metadata": {
    "deletable": false,
    "editable": false,
    "nbgrader": {
     "cell_type": "code",
     "checksum": "4f9c69e1e38f60f2783a05ecca9ae6d8",
     "grade": false,
     "grade_id": "cell-65de8046ee29e17c",
     "locked": true,
     "schema_version": 3,
     "solution": false,
     "task": false
    }
   },
   "outputs": [],
   "source": [
    "from deap import creator, base, tools\n"
   ]
  },
  {
   "cell_type": "code",
   "execution_count": 44,
   "metadata": {
    "deletable": false,
    "editable": false,
    "nbgrader": {
     "cell_type": "code",
     "checksum": "12acd0322ad41626c184909305916fb5",
     "grade": false,
     "grade_id": "cell-34a3cb284433086e",
     "locked": true,
     "schema_version": 3,
     "solution": false,
     "task": false
    }
   },
   "outputs": [],
   "source": [
    "# We will \"create\" our own algorithm and use the \"Fitness\" and \"Individual\" concepts.\n",
    "creator.create(\"Fitness\", base.Fitness, weights=(-1, -1))\n",
    "\n",
    "creator.create(\"Individual\", np.ndarray, fitness=creator.Fitness)"
   ]
  },
  {
   "cell_type": "code",
   "execution_count": 45,
   "metadata": {
    "deletable": false,
    "editable": false,
    "nbgrader": {
     "cell_type": "code",
     "checksum": "9227063ed1ed9ccbb1914f5624f17586",
     "grade": false,
     "grade_id": "cell-c486d6f6b18ef430",
     "locked": true,
     "schema_version": 3,
     "solution": false,
     "task": false
    }
   },
   "outputs": [],
   "source": [
    "# We will use a custom Individual class.\n",
    "class Individual(creator.Individual):\n",
    "    def __init__(self, *args, **kwargs):\n",
    "        super(Individual, self).__init__(*args, **kwargs)\n",
    "\n",
    "    def the_fitness(self):\n",
    "        distance_metric, smoothness_metric = the_fitness(self)\n",
    "        return distance_metric, smoothness_metric"
   ]
  },
  {
   "cell_type": "code",
   "execution_count": 46,
   "metadata": {
    "deletable": false,
    "editable": false,
    "nbgrader": {
     "cell_type": "code",
     "checksum": "99173ef5edb8c11e3f7eb55d1ce66bd4",
     "grade": false,
     "grade_id": "cell-a6d0f172b25ed79e",
     "locked": true,
     "schema_version": 3,
     "solution": false,
     "task": false
    }
   },
   "outputs": [],
   "source": [
    "# To be able to reproduce our results\n",
    "state = np.random.RandomState(204)\n"
   ]
  },
  {
   "cell_type": "code",
   "execution_count": 47,
   "metadata": {
    "deletable": false,
    "editable": false,
    "nbgrader": {
     "cell_type": "code",
     "checksum": "4a974de02a2855acc18cc3e9c41d2b7a",
     "grade": false,
     "grade_id": "cell-45cba1a52165c356",
     "locked": true,
     "schema_version": 3,
     "solution": false,
     "task": false
    }
   },
   "outputs": [],
   "source": [
    "# A facility to evaluate individuels\n",
    "def evaluate(ind, *args, **kwargs):\n",
    "    return ind.the_fitness(*args, **kwargs)\n",
    "\n",
    "\n",
    "# To keep track of fitness values\n",
    "def statistics(ind):\n",
    "    return ind.fitness.values"
   ]
  },
  {
   "cell_type": "code",
   "execution_count": 48,
   "metadata": {
    "deletable": false,
    "editable": false,
    "nbgrader": {
     "cell_type": "code",
     "checksum": "6d5b2bf862da3f9a230d2ca1ce9dadfd",
     "grade": false,
     "grade_id": "cell-857529485c7d1171",
     "locked": true,
     "schema_version": 3,
     "solution": false,
     "task": false
    }
   },
   "outputs": [],
   "source": [
    "# We use a DEAP \"toolbox\".\n",
    "toolbox = base.Toolbox()\n",
    "\n",
    "# A random number sampled uniformly between 0 and 1.\n",
    "toolbox.register(\"attr_bool\", state.uniform, 0, 1)\n",
    "\n",
    "# We register what an individual is and how to initialize it.\n",
    "# We will override this initialization afterwards.\n",
    "toolbox.register(\n",
    "    \"individual\", tools.initRepeat, Individual, toolbox.attr_bool, n=13 * 13\n",
    ")\n",
    "\n",
    "# A population is a collection of individuals.\n",
    "toolbox.register(\"population\", tools.initRepeat, list, toolbox.individual)\n",
    "\n",
    "# Our custom init function.\n",
    "toolbox.register(\"initialization\", init)\n",
    "\n",
    "# Our evaluation function.\n",
    "toolbox.register(\"evaluate\", evaluate)\n",
    "\n",
    "# The selection mechanism (see below).\n",
    "toolbox.register(\"select\", tools.selNSGA2)\n",
    "\n",
    "# The map function will be used to parallelize the evaluation of the fitness functions.\n",
    "toolbox.register(\"map\", multiprocessing.Pool(processes=4).map)"
   ]
  },
  {
   "attachments": {},
   "cell_type": "markdown",
   "metadata": {
    "deletable": false,
    "editable": false,
    "nbgrader": {
     "cell_type": "markdown",
     "checksum": "f3f0cf950ca1c1abc42e49597a8dde28",
     "grade": false,
     "grade_id": "cell-3dd30469ba285dc0",
     "locked": true,
     "schema_version": 3,
     "solution": false,
     "task": false
    }
   },
   "source": [
    "We have introduced a level of difficulty: we have two fitness functions (`squared_error` and `smoothness`). We **could** mix them into a single value, which is often done in practice.\n",
    "\n",
    "However, for the purpose of this lab, we will use the [NSGA-II algorithm](http://repository.ias.ac.in/83498/1/2-a.pdf) (Elitist Non-dominated Sorting Genetic Algorithm) which deals with multi-objectives.\n"
   ]
  },
  {
   "attachments": {},
   "cell_type": "markdown",
   "metadata": {
    "deletable": false,
    "editable": false,
    "nbgrader": {
     "cell_type": "markdown",
     "checksum": "60efc1d3e39969a4830cf88c0efa350f",
     "grade": false,
     "grade_id": "cell-8fafcbba21be7e31",
     "locked": true,
     "schema_version": 3,
     "solution": false,
     "task": false
    }
   },
   "source": [
    "#### Selection\n"
   ]
  },
  {
   "attachments": {},
   "cell_type": "markdown",
   "metadata": {
    "deletable": false,
    "editable": false,
    "nbgrader": {
     "cell_type": "markdown",
     "checksum": "457d6ba5663c0571b9ad8885430b64bb",
     "grade": false,
     "grade_id": "cell-c14bd4bbdc99a752",
     "locked": true,
     "schema_version": 3,
     "solution": false,
     "task": false
    }
   },
   "source": [
    "A solution $x_1$ is said to dominate another solution $x_2$ if both the following conditions are true:\n",
    "\n",
    "- The solution $x_1$ is not worse than $x_2$ in all objectives, or $f_j(x_1)$ is better than $f_j(x_2)$ for all $j\n",
    "\\in \\{1, 2, . . . , M\\}$ where $f_j$ is the $j$-th objective function and $M$ is the number of objectives ($M=2$ here).\n",
    "\n",
    "- The solution $x_1$ is strictly better than $x_2$ in at least one objective, or $f_j(x_1)$ is better than $f_j(x_2)$ for at least one $j \\in \\{1, 2, . . . , M\\}$.\n"
   ]
  },
  {
   "attachments": {},
   "cell_type": "markdown",
   "metadata": {
    "deletable": false,
    "editable": false,
    "nbgrader": {
     "cell_type": "markdown",
     "checksum": "c5f3cb09098869ebd318aa0de0c350fd",
     "grade": false,
     "grade_id": "cell-fc2714d40789f4c6",
     "locked": true,
     "schema_version": 3,
     "solution": false,
     "task": false
    }
   },
   "source": [
    "We perform \"non-dominated sorting\" to the population: for example, the \"Rank 3\" (green) individuals below are dominated by an individual in \"Rank 2\" (in red - try to spot which one), while the \"Rank 1\" (blue) individuals aren't dominated by any other individual.\n",
    "\n",
    "The \"ranks\" below are [Pareto fronts](https://en.wikipedia.org/wiki/Pareto_efficiency).\n"
   ]
  },
  {
   "attachments": {},
   "cell_type": "markdown",
   "metadata": {
    "deletable": false,
    "editable": false,
    "nbgrader": {
     "cell_type": "markdown",
     "checksum": "49982466c6a817b3ccea868ed8f1cab4",
     "grade": false,
     "grade_id": "cell-c0565b23c3d5160b",
     "locked": true,
     "schema_version": 3,
     "solution": false,
     "task": false
    }
   },
   "source": [
    "![Pareto fronts](https://www.researchgate.net/profile/Zbynek-Raida/publication/260115283/figure/fig2/AS:669059364450313@1536527591578/Non-dominated-sorting-to-advancing-fronts.png)\n"
   ]
  },
  {
   "attachments": {},
   "cell_type": "markdown",
   "metadata": {
    "deletable": false,
    "editable": false,
    "nbgrader": {
     "cell_type": "markdown",
     "checksum": "08919b0644e13080d01588e13ecb210b",
     "grade": false,
     "grade_id": "cell-86802bb0a2cafed1",
     "locked": true,
     "schema_version": 3,
     "solution": false,
     "task": false
    }
   },
   "source": [
    "#### Crowding distance (sorting)\n"
   ]
  },
  {
   "attachments": {},
   "cell_type": "markdown",
   "metadata": {
    "deletable": false,
    "editable": false,
    "nbgrader": {
     "cell_type": "markdown",
     "checksum": "aa41209f88da52b4402565f7c10f7906",
     "grade": false,
     "grade_id": "cell-60910bd05b0d4a8c",
     "locked": true,
     "schema_version": 3,
     "solution": false,
     "task": false
    }
   },
   "source": [
    "The diversity among non-dominated solutions is introduced by using the crowding comparison procedure.\n",
    "\n",
    "In a given rank / Pareto front, we search for the largest \"cuboid\" (remember there can be an arbitrary number $M$ of fitness functions) around a given solution in which there are no other solutions (we can set it to $\\infty$ for point in the \"boundary\", i.e. with the minimal / maximal values of each fitness function).\n",
    "\n",
    "In what follows, we will prefer solutions with large crowding distances, which guarantees some diversity (imagine what happens if many solutions are close one-another).\n"
   ]
  },
  {
   "attachments": {},
   "cell_type": "markdown",
   "metadata": {
    "deletable": false,
    "editable": false,
    "nbgrader": {
     "cell_type": "markdown",
     "checksum": "3b305276bb502544f89d8b3b94ff5756",
     "grade": false,
     "grade_id": "cell-11b20e009b0b88dc",
     "locked": true,
     "schema_version": 3,
     "solution": false,
     "task": false
    }
   },
   "source": [
    "![Crowding distance](https://www.researchgate.net/profile/Sahar-Taslimi-Taleghani/publication/261031359/figure/fig2/AS:529861821566981@1503340310654/Calculation-of-crowding-distance-in-NSGAII-algorithm.png)\n"
   ]
  },
  {
   "attachments": {},
   "cell_type": "markdown",
   "metadata": {
    "deletable": false,
    "editable": false,
    "nbgrader": {
     "cell_type": "markdown",
     "checksum": "29f0063b4d8c9967761ad80e95e209b0",
     "grade": false,
     "grade_id": "cell-b31bf67cb7e763c0",
     "locked": true,
     "schema_version": 3,
     "solution": false,
     "task": false
    }
   },
   "source": [
    "#### Wrapping up\n"
   ]
  },
  {
   "attachments": {},
   "cell_type": "markdown",
   "metadata": {
    "deletable": false,
    "editable": false,
    "nbgrader": {
     "cell_type": "markdown",
     "checksum": "d140b2f40b30b236fdd3c2c392d2be3a",
     "grade": false,
     "grade_id": "cell-2779addbae71707e",
     "locked": true,
     "schema_version": 3,
     "solution": false,
     "task": false
    }
   },
   "source": [
    "Suppose we have a population of 30 individuals with 3 fronts of 7, 8 and 15 individuals respectively.\n",
    "\n",
    "An NSGA-II selection of, say, 20 individuals, will take all 7 individuals from Rank 1, all 8 individuals from Rank 2, and the 5 individuals from Rank 3 with the largest crowding distance. The 10 remaining individuals (from Rank 3) are rejected. All remaining individuals form the \"candidates\" for the next generation and are sorted by their crowding distance.\n"
   ]
  },
  {
   "attachments": {},
   "cell_type": "markdown",
   "metadata": {
    "deletable": false,
    "editable": false,
    "nbgrader": {
     "cell_type": "markdown",
     "checksum": "e1347c0a1604dfe8959d9e9ccdd35e37",
     "grade": false,
     "grade_id": "cell-879cfb771d4f9662",
     "locked": true,
     "schema_version": 3,
     "solution": false,
     "task": false
    }
   },
   "source": [
    "![NSGA-II Selection](https://i0.wp.com/oklahomaanalytics.com/wp-content/uploads/2017/10/fig4.png?resize=768%2C418)\n"
   ]
  },
  {
   "attachments": {},
   "cell_type": "markdown",
   "metadata": {
    "deletable": false,
    "editable": false,
    "nbgrader": {
     "cell_type": "markdown",
     "checksum": "2d529d401903e1ea198e82443f3e951f",
     "grade": false,
     "grade_id": "cell-9c9b02ba4569aed2",
     "locked": true,
     "schema_version": 3,
     "solution": false,
     "task": false
    }
   },
   "source": [
    "#### Mate / crossover\n"
   ]
  },
  {
   "attachments": {},
   "cell_type": "markdown",
   "metadata": {
    "deletable": false,
    "editable": false,
    "nbgrader": {
     "cell_type": "markdown",
     "checksum": "f03438250c3583b80c1bc947bcfa1f71",
     "grade": false,
     "grade_id": "cell-0a050fd266938f11",
     "locked": true,
     "schema_version": 3,
     "solution": false,
     "task": false
    }
   },
   "source": [
    "When two individuals mate / two chromosomes are \"crossed over\", we simply \"mix\" their genes at random cut-points. We will use, as exemplified below, a [\"two point crossover\"](https://deap.readthedocs.io/en/master/api/tools.html#deap.tools.cxTwoPoint) where the two cut-points are chosen randomly.\n"
   ]
  },
  {
   "cell_type": "code",
   "execution_count": 49,
   "metadata": {
    "deletable": false,
    "editable": false,
    "nbgrader": {
     "cell_type": "code",
     "checksum": "1c7c6d2b3a4b9085a54d83a3ef7c6130",
     "grade": false,
     "grade_id": "cell-2c2093016124c785",
     "locked": true,
     "schema_version": 3,
     "solution": false,
     "task": false
    }
   },
   "outputs": [],
   "source": [
    "toolbox.register(\"mate\", tools.cxTwoPoint)\n"
   ]
  },
  {
   "attachments": {},
   "cell_type": "markdown",
   "metadata": {
    "deletable": false,
    "editable": false,
    "nbgrader": {
     "cell_type": "markdown",
     "checksum": "f5d03362a37411ec021b7152af0a6b78",
     "grade": false,
     "grade_id": "cell-db37073514d025b0",
     "locked": true,
     "schema_version": 3,
     "solution": false,
     "task": false
    }
   },
   "source": [
    "![Two points crossover](https://upload.wikimedia.org/wikipedia/commons/thumb/c/cd/TwoPointCrossover.svg/226px-TwoPointCrossover.svg.png)\n"
   ]
  },
  {
   "attachments": {},
   "cell_type": "markdown",
   "metadata": {
    "deletable": false,
    "editable": false,
    "nbgrader": {
     "cell_type": "markdown",
     "checksum": "d42fbb1ad7c07e05c92ea9d768209345",
     "grade": false,
     "grade_id": "cell-df70e77d33181c7c",
     "locked": true,
     "schema_version": 3,
     "solution": false,
     "task": false
    }
   },
   "source": [
    "#### Mutation\n"
   ]
  },
  {
   "attachments": {},
   "cell_type": "markdown",
   "metadata": {
    "deletable": false,
    "editable": false,
    "nbgrader": {
     "cell_type": "markdown",
     "checksum": "7d3c982ba5e6a91911b14e52179ff0bd",
     "grade": false,
     "grade_id": "cell-be499308646020be",
     "locked": true,
     "schema_version": 3,
     "solution": false,
     "task": false
    }
   },
   "source": [
    "The idea behind mutation is to choose and individual's genes with some probability (that can itself be constant or decaying) and modify their values. Here, we choose some random noise (you can change this function to see how it influences the results).\n"
   ]
  },
  {
   "cell_type": "code",
   "execution_count": 50,
   "metadata": {},
   "outputs": [],
   "source": [
    "def mutation(individual, indpb_alpha, indpb_beta, sigma, gen=0):\n",
    "    \"\"\"\n",
    "    Perform mutation: we add random noise (with standard deviation `sigma`) to an individual's genes with some\n",
    "        probability (see below).\n",
    "\n",
    "    :param indpb_alpha: the probability of a given individual to undergo mutation (for the first generation).\n",
    "    :param indpb_beta: the rate of exponential decay of the probability to undergo mutation w.r.t. the generation.\n",
    "    \"\"\"\n",
    "    # Decide whether to mutate\n",
    "    indpb = indpb_alpha * np.exp(-indpb_beta * gen)\n",
    "\n",
    "    for idx, gene in enumerate(individual):\n",
    "        if state.uniform(0, 1) < indpb:\n",
    "            individual[idx] = min(max(gene + state.normal(0, sigma), 0.0), 1)\n",
    "\n",
    "    # Renormalize the matrix\n",
    "    ind_pandas = pd.DataFrame(individual.reshape((13, 13)))\n",
    "    ind_pandas = ind_pandas.div(ind_pandas.sum(axis=1), axis=0)\n",
    "    individual[:] = ind_pandas.values.flatten()\n",
    "    return individual"
   ]
  },
  {
   "cell_type": "code",
   "execution_count": 51,
   "metadata": {
    "deletable": false,
    "editable": false,
    "nbgrader": {
     "cell_type": "code",
     "checksum": "b7e892fe243002db8014ed1c0c4f4b76",
     "grade": false,
     "grade_id": "cell-54102cde82ea77d2",
     "locked": true,
     "schema_version": 3,
     "solution": false,
     "task": false
    }
   },
   "outputs": [],
   "source": [
    "# Registering our mutation function.\n",
    "toolbox.register(\"mutate\", mutation)\n"
   ]
  },
  {
   "attachments": {},
   "cell_type": "markdown",
   "metadata": {
    "deletable": false,
    "editable": false,
    "nbgrader": {
     "cell_type": "markdown",
     "checksum": "4d40e0edb9ccc0b006fdd5fff214336b",
     "grade": false,
     "grade_id": "cell-51f78095904d309c",
     "locked": true,
     "schema_version": 3,
     "solution": false,
     "task": false
    }
   },
   "source": [
    "## Running the algorithm\n"
   ]
  },
  {
   "attachments": {},
   "cell_type": "markdown",
   "metadata": {
    "deletable": false,
    "editable": false,
    "nbgrader": {
     "cell_type": "markdown",
     "checksum": "efa7b38ae8451527338da498d283f32c",
     "grade": false,
     "grade_id": "cell-8d1d2f41e9430d0e",
     "locked": true,
     "schema_version": 3,
     "solution": false,
     "task": false
    }
   },
   "source": [
    "These are the hyper-parameters you'll have to tweak:\n"
   ]
  },
  {
   "cell_type": "code",
   "execution_count": 56,
   "metadata": {
    "deletable": false,
    "nbgrader": {
     "cell_type": "code",
     "checksum": "c3364b51e397f78342071baeb0b0e107",
     "grade": false,
     "grade_id": "cell-90736208a85d37df",
     "locked": false,
     "schema_version": 3,
     "solution": true,
     "task": false
    }
   },
   "outputs": [
    {
     "name": "stdout",
     "output_type": "stream",
     "text": [
      "(68845.0, 36000.0)\n"
     ]
    }
   ],
   "source": [
    "# This controls the population size, i.e. the number of individuals (== solutions) to consider at each generation.\n",
    "popsize = 10\n",
    "# This controls the number of generations, i.e. the number of iterations of the algorithm.\n",
    "nb_gen = 50\n",
    "# This controls the mating probability, i.e. the probability for a given pair of individuals to mate.\n",
    "crossover_probability = 0.30\n",
    "# This controls the mutation probability of the first generation\n",
    "indpb_alpha = 0.5\n",
    "# The subsequent generations will mutate with a decaying probability\n",
    "indpb_beta = 0.05\n",
    "# Random noise added when undergoing mutation\n",
    "sigma = 0.10\n",
    "\n",
    "\n",
    "# Code to find the best values for all the parameters above.\n",
    "# Returns popsize, nb_gen, crossover_probability, indpb_alpha, indpb_beta, sigma\n",
    "def find_best_parameters():\n",
    "    popsize = [10, 20, 30, 40, 50]\n",
    "    nb_gen = [10, 20, 30, 40, 50]\n",
    "    crossover_probability = [0.20, 0.25, 0.30, 0.35, 0.40]\n",
    "    indpb_alpha = [0.5, 0.6, 0.7, 0.8, 0.9]\n",
    "    indpb_beta = [0.05, 0.10, 0.15, 0.20, 0.25]\n",
    "    sigma = [0.05, 0.10, 0.15, 0.20, 0.25]\n",
    "\n",
    "    best_score = 1000000000000000000000000\n",
    "    best_params = (0, 0, 0, 0, 0, 0)\n",
    "    for p in popsize:\n",
    "        for n in nb_gen:\n",
    "            for cp in crossover_probability:\n",
    "                for ia in indpb_alpha:\n",
    "                    for ib in indpb_beta:\n",
    "                        for s in sigma:\n",
    "                            toolbox.register(\n",
    "                                \"individual\",\n",
    "                                tools.initRepeat,\n",
    "                                Individual,\n",
    "                                toolbox.attr_bool,\n",
    "                                n=13 * 13,\n",
    "                            )\n",
    "                            toolbox.register(\n",
    "                                \"population\", tools.initRepeat, list, toolbox.individual\n",
    "                            )\n",
    "                            toolbox.register(\"evaluate\", evaluate)\n",
    "                            toolbox.register(\"select\", tools.selNSGA2)\n",
    "                            toolbox.register(\n",
    "                                \"map\", multiprocessing.Pool(processes=4).map\n",
    "                            )\n",
    "                            toolbox.register(\"mate\", tools.cxTwoPoint)\n",
    "                            toolbox.register(\"mutate\", mutation)\n",
    "                            toolbox.register(\"initialization\", init)\n",
    "\n",
    "                            pop = toolbox.population(n=p)\n",
    "                            hof = tools.ParetoFront()\n",
    "                            stats = tools.Statistics(lambda ind: ind.fitness.values)\n",
    "                            stats.register(\"avg\", np.mean, axis=0)\n",
    "                            stats.register(\"std\", np.std, axis=0)\n",
    "                            stats.register(\"min\", np.min, axis=0)\n",
    "                            stats.register(\"max\", np.max, axis=0)\n",
    "\n",
    "                            algorithms.eaMuPlusLambda(\n",
    "                                pop,\n",
    "                                toolbox,\n",
    "                                mu=p,\n",
    "                                lambda_=p,\n",
    "                                cxpb=cp,\n",
    "                                mutpb=1.0,\n",
    "                                ngen=n,\n",
    "                                stats=stats,\n",
    "                                halloffame=hof,\n",
    "                            )\n",
    "\n",
    "                            score = hof[0].fitness.values[0]"
   ]
  },
  {
   "attachments": {},
   "cell_type": "markdown",
   "metadata": {
    "deletable": false,
    "editable": false,
    "nbgrader": {
     "cell_type": "markdown",
     "checksum": "d31a3a189bfd2b21311282cdbf5c29b6",
     "grade": false,
     "grade_id": "cell-55ab9c69a1a65330",
     "locked": true,
     "schema_version": 3,
     "solution": false,
     "task": false
    }
   },
   "source": [
    "We will keep track of all individuals (in all generations) in `all_inds`.\n",
    "\n",
    "We will keep a \"Hall of Fame\" of the best individuals irrespective of the generation, with ParetoFront (keeping track of all Pareto Fronts).\n"
   ]
  },
  {
   "cell_type": "code",
   "execution_count": null,
   "metadata": {
    "deletable": false,
    "editable": false,
    "nbgrader": {
     "cell_type": "code",
     "checksum": "3efd6277ce8465b3c87b95ace0e93680",
     "grade": false,
     "grade_id": "cell-115ef433d703cad7",
     "locked": true,
     "schema_version": 3,
     "solution": false,
     "task": false
    }
   },
   "outputs": [],
   "source": [
    "all_inds = []\n",
    "generations = [i for j in range(popsize) for i in range(nb_gen)]\n",
    "fitness = np.zeros((nb_gen * popsize, 2))\n",
    "hof = tools.ParetoFront(similar=np.array_equal)\n"
   ]
  },
  {
   "cell_type": "code",
   "execution_count": null,
   "metadata": {
    "deletable": false,
    "editable": false,
    "nbgrader": {
     "cell_type": "code",
     "checksum": "d78cd4d851ec37885cd245389c5853e9",
     "grade": false,
     "grade_id": "cell-038bc0b73ba27467",
     "locked": true,
     "schema_version": 3,
     "solution": false,
     "task": false
    }
   },
   "outputs": [],
   "source": [
    "# For each generation, compute the mean, min, max values of all fitness functions.\n",
    "stats = tools.Statistics(key=statistics)\n",
    "stats.register(\"avg\", np.mean, axis=0)\n",
    "stats.register(\"min\", np.min, axis=0)\n",
    "stats.register(\"max\", np.max, axis=0)\n"
   ]
  },
  {
   "cell_type": "code",
   "execution_count": null,
   "metadata": {
    "deletable": false,
    "editable": false,
    "nbgrader": {
     "cell_type": "code",
     "checksum": "e9175bf46e038ceda4892c73297e917b",
     "grade": false,
     "grade_id": "cell-c089867cbb6e9406",
     "locked": true,
     "schema_version": 3,
     "solution": false,
     "task": false
    }
   },
   "outputs": [],
   "source": [
    "# The `logbook` will contain this statistics\n",
    "logbook = tools.Logbook()\n",
    "logbook.header = [\"gen\", \"nevals\"] + stats.fields"
   ]
  },
  {
   "attachments": {},
   "cell_type": "markdown",
   "metadata": {
    "deletable": false,
    "editable": false,
    "nbgrader": {
     "cell_type": "markdown",
     "checksum": "e2ef572533c507fb8991aa5c52d01042",
     "grade": false,
     "grade_id": "cell-c3de27258e9ccbc1",
     "locked": true,
     "schema_version": 3,
     "solution": false,
     "task": false
    }
   },
   "source": [
    "As promised, we override the random initialization of individuals (since they won't be respecting the condition that the columns sum to 1).\n"
   ]
  },
  {
   "cell_type": "code",
   "execution_count": null,
   "metadata": {
    "deletable": false,
    "editable": false,
    "nbgrader": {
     "cell_type": "code",
     "checksum": "dd7ff0e3aac9338120f26745648be12b",
     "grade": false,
     "grade_id": "cell-816b5a96e0461e2f",
     "locked": true,
     "schema_version": 3,
     "solution": false,
     "task": false
    }
   },
   "outputs": [],
   "source": [
    "pop = toolbox.population(n=popsize)\n",
    "for ind in pop:\n",
    "    ind = init(ind)\n"
   ]
  },
  {
   "cell_type": "code",
   "execution_count": null,
   "metadata": {},
   "outputs": [],
   "source": [
    "pd.DataFrame(np.array(ind).reshape((13, 13)))\n"
   ]
  },
  {
   "attachments": {},
   "cell_type": "markdown",
   "metadata": {
    "deletable": false,
    "editable": false,
    "nbgrader": {
     "cell_type": "markdown",
     "checksum": "e87a3e63eb016a5b78792f383830fdf8",
     "grade": false,
     "grade_id": "cell-ed54bd5c2ed3b4c9",
     "locked": true,
     "schema_version": 3,
     "solution": false,
     "task": false
    }
   },
   "source": [
    "#### Evaluation\n"
   ]
  },
  {
   "attachments": {},
   "cell_type": "markdown",
   "metadata": {
    "deletable": false,
    "editable": false,
    "nbgrader": {
     "cell_type": "markdown",
     "checksum": "1a1b792c7eff4539e4669bd0724e6c1c",
     "grade": false,
     "grade_id": "cell-2abf141b9cfec916",
     "locked": true,
     "schema_version": 3,
     "solution": false,
     "task": false
    }
   },
   "source": [
    "Let's evaluate the fitness of this first generation:\n"
   ]
  },
  {
   "cell_type": "code",
   "execution_count": null,
   "metadata": {
    "deletable": false,
    "editable": false,
    "nbgrader": {
     "cell_type": "code",
     "checksum": "ea95175912a1d7fe4b387157268a56af",
     "grade": false,
     "grade_id": "cell-805d05e390b962c0",
     "locked": true,
     "schema_version": 3,
     "solution": false,
     "task": false
    }
   },
   "outputs": [],
   "source": [
    "# Evaluate the entire population\n",
    "fitnesses = [toolbox.evaluate(ind) for ind in pop]\n",
    "for ind, fit in zip(pop, fitnesses):\n",
    "    ind.fitness.values = fit\n",
    "    fitness[len(all_inds), :] = fit\n",
    "    all_inds.append(ind)\n"
   ]
  },
  {
   "cell_type": "code",
   "execution_count": null,
   "metadata": {
    "deletable": false,
    "editable": false,
    "nbgrader": {
     "cell_type": "code",
     "checksum": "47f4747c256c68860c08f41753d100b1",
     "grade": false,
     "grade_id": "cell-74afd6263b29720a",
     "locked": true,
     "schema_version": 3,
     "solution": false,
     "task": false
    }
   },
   "outputs": [],
   "source": [
    "fitnesses[:10]\n"
   ]
  },
  {
   "attachments": {},
   "cell_type": "markdown",
   "metadata": {
    "deletable": false,
    "editable": false,
    "nbgrader": {
     "cell_type": "markdown",
     "checksum": "d2d23573fb829b09107c6b28ab7c3806",
     "grade": false,
     "grade_id": "cell-d62f84a9dba35791",
     "locked": true,
     "schema_version": 3,
     "solution": false,
     "task": false
    }
   },
   "source": [
    "#### Selection\n"
   ]
  },
  {
   "cell_type": "code",
   "execution_count": null,
   "metadata": {
    "deletable": false,
    "editable": false,
    "nbgrader": {
     "cell_type": "code",
     "checksum": "cafe07084590978f698bbea1466bc559",
     "grade": false,
     "grade_id": "cell-0bc3e45ccd300ed1",
     "locked": true,
     "schema_version": 3,
     "solution": false,
     "task": false
    }
   },
   "outputs": [],
   "source": [
    "# Selection (it's more about setting the crowding distance, since we retain everyone)\n",
    "pop = toolbox.select(pop, len(pop))\n"
   ]
  },
  {
   "attachments": {},
   "cell_type": "markdown",
   "metadata": {
    "deletable": false,
    "editable": false,
    "nbgrader": {
     "cell_type": "markdown",
     "checksum": "1d013ea7892c348e7a4dc612e6ab81b1",
     "grade": false,
     "grade_id": "cell-b4d2bfee9177a77f",
     "locked": true,
     "schema_version": 3,
     "solution": false,
     "task": false
    }
   },
   "source": [
    "#### Logging the performance\n"
   ]
  },
  {
   "cell_type": "code",
   "execution_count": null,
   "metadata": {
    "deletable": false,
    "editable": false,
    "nbgrader": {
     "cell_type": "code",
     "checksum": "bff796217d169c86969c33c325f6f123",
     "grade": false,
     "grade_id": "cell-6988b50226b1e3cf",
     "locked": true,
     "schema_version": 3,
     "solution": false,
     "task": false
    }
   },
   "outputs": [],
   "source": [
    "# Performance of the first population\n",
    "record = stats.compile(pop) if stats else {}\n",
    "logbook.record(gen=0, nevals=popsize, **record)\n",
    "print(logbook.stream)\n",
    "hof.update(pop)\n"
   ]
  },
  {
   "attachments": {},
   "cell_type": "markdown",
   "metadata": {
    "deletable": false,
    "editable": false,
    "nbgrader": {
     "cell_type": "markdown",
     "checksum": "90c1ed0da8e9feb2e95c9968e8ad46d1",
     "grade": false,
     "grade_id": "cell-ed837ee804bb8588",
     "locked": true,
     "schema_version": 3,
     "solution": false,
     "task": false
    }
   },
   "source": [
    "#### Iterating over generations\n"
   ]
  },
  {
   "cell_type": "code",
   "execution_count": null,
   "metadata": {
    "deletable": false,
    "editable": false,
    "nbgrader": {
     "cell_type": "code",
     "checksum": "d98defa52d0ca64fa8326e5e90aca614",
     "grade": false,
     "grade_id": "cell-d7c73ff387fe2d90",
     "locked": true,
     "schema_version": 3,
     "solution": false,
     "task": false
    }
   },
   "outputs": [],
   "source": [
    "# Iterating over generations\n",
    "for gen in range(1, nb_gen):\n",
    "    # Selection\n",
    "    offspring = toolbox.select(pop, len(pop))\n",
    "    offspring = [toolbox.clone(ind) for ind in offspring]\n",
    "\n",
    "    # Mating / Mutations\n",
    "    for ind1, ind2 in zip(offspring[::2], offspring[1::2]):\n",
    "        if state.uniform() <= crossover_probability:\n",
    "            toolbox.mate(ind1, ind2)\n",
    "\n",
    "        toolbox.mutate(ind1, indpb_alpha, indpb_beta, sigma, gen=gen)\n",
    "        toolbox.mutate(ind2, indpb_alpha, indpb_beta, sigma, gen=gen)\n",
    "        del ind1.fitness.values, ind2.fitness.values\n",
    "\n",
    "    # Evaluations\n",
    "    # Re-evaluate individuals which have mated or mutated\n",
    "    invalid_ind = [ind for ind in offspring if not ind.fitness.valid]\n",
    "    fitnesses = toolbox.map(toolbox.evaluate, invalid_ind)\n",
    "    for ind, fit in zip(invalid_ind, fitnesses):\n",
    "        ind.fitness.values = fit\n",
    "        fitness[len(all_inds), :] = fit\n",
    "        all_inds.append(ind)\n",
    "\n",
    "    # Selection is done on population and its offspring\n",
    "    pop = toolbox.select(pop + offspring, popsize)\n",
    "\n",
    "    # Stats\n",
    "    record = stats.compile(pop)\n",
    "    logbook.record(gen=gen, nevals=len(invalid_ind), **record)\n",
    "    hof.update(pop)\n",
    "    if gen > 0 and ((gen % 10) == 0):\n",
    "        print(\"Generation : {} of {}\".format(gen, nb_gen))\n",
    "        print(logbook.stream)\n"
   ]
  },
  {
   "attachments": {},
   "cell_type": "markdown",
   "metadata": {
    "deletable": false,
    "editable": false,
    "nbgrader": {
     "cell_type": "markdown",
     "checksum": "fa801ded0696c01287364793ea7f84ef",
     "grade": false,
     "grade_id": "cell-d6040bfefc8f1e1c",
     "locked": true,
     "schema_version": 3,
     "solution": false,
     "task": false
    }
   },
   "source": [
    "### Results\n"
   ]
  },
  {
   "attachments": {},
   "cell_type": "markdown",
   "metadata": {
    "deletable": false,
    "editable": false,
    "nbgrader": {
     "cell_type": "markdown",
     "checksum": "c9ead717df045cad913f8fac9f554082",
     "grade": false,
     "grade_id": "cell-d2c95eafcc667589",
     "locked": true,
     "schema_version": 3,
     "solution": false,
     "task": false
    }
   },
   "source": [
    "Let's plot the average (in the population) value of the fitness functions w.r.t. the generation):\n"
   ]
  },
  {
   "cell_type": "code",
   "execution_count": null,
   "metadata": {
    "deletable": false,
    "editable": false,
    "nbgrader": {
     "cell_type": "code",
     "checksum": "6843e56cd01a0be06d027144c3c6134a",
     "grade": false,
     "grade_id": "cell-c839e19b5387b70e",
     "locked": true,
     "schema_version": 3,
     "solution": false,
     "task": false
    }
   },
   "outputs": [],
   "source": [
    "# Stats per generations\n",
    "df_record = pd.DataFrame(logbook)\n",
    "\n",
    "# Performances per individual\n",
    "metrics = [(0, \"Absolute Error\"), (1, \"Smoothness\")]\n",
    "\n",
    "for idx, name in metrics:\n",
    "    # Evolution of the score per generation\n",
    "    hover0 = HoverTool()\n",
    "    p = figure(\n",
    "        title=\"Objective function {} w.r.t. the generation\".format(name),\n",
    "        width=700,\n",
    "        height=400,\n",
    "        tools=[\"pan\", \"wheel_zoom\", \"box_zoom\", \"save\", \"reset\", hover0],\n",
    "    )\n",
    "    p.grid.grid_line_alpha = 0.4\n",
    "    p.xaxis.axis_label = \"Generation\"\n",
    "    p.yaxis.axis_label = name\n",
    "    p.line(\n",
    "        df_record[\"gen\"],\n",
    "        [x[idx] for x in df_record[\"avg\"]],\n",
    "        color=viridis(len(metrics) + 1)[idx],\n",
    "        name=\"hover\",\n",
    "    )\n",
    "\n",
    "    # Bollinger shading glyph\n",
    "    upperband = [x[idx] for x in df_record[\"max\"]]\n",
    "    lowerband = [x[idx] for x in df_record[\"min\"]]\n",
    "    x_data = df_record[\"gen\"]\n",
    "\n",
    "    # Define Bollinger Bands\n",
    "    band_x = np.append(x_data, x_data[::-1])\n",
    "    band_y = np.append(lowerband, upperband[::-1])\n",
    "    p.patch(band_x, band_y, color=viridis(len(metrics) + 1)[idx], fill_alpha=0.2)\n",
    "    show(p)"
   ]
  },
  {
   "attachments": {},
   "cell_type": "markdown",
   "metadata": {
    "deletable": false,
    "editable": false,
    "nbgrader": {
     "cell_type": "markdown",
     "checksum": "32a017162065ee7861deefca7dfc523a",
     "grade": false,
     "grade_id": "cell-9d060bb9f791bd1c",
     "locked": true,
     "schema_version": 3,
     "solution": false,
     "task": false
    }
   },
   "source": [
    "We select the first Pareto front and output the value of their fitness functions:\n"
   ]
  },
  {
   "cell_type": "code",
   "execution_count": null,
   "metadata": {
    "deletable": false,
    "editable": false,
    "nbgrader": {
     "cell_type": "code",
     "checksum": "64a962d25ce8c0483bacbf7bbb433af2",
     "grade": false,
     "grade_id": "cell-e18dee41971295f0",
     "locked": true,
     "schema_version": 3,
     "solution": false,
     "task": false
    }
   },
   "outputs": [],
   "source": [
    "best = tools.sortLogNondominated(pop, 1, first_front_only=True)\n"
   ]
  },
  {
   "cell_type": "code",
   "execution_count": null,
   "metadata": {
    "deletable": false,
    "editable": false,
    "nbgrader": {
     "cell_type": "code",
     "checksum": "de79eb76f15e6d7e74f4b0a8a964abea",
     "grade": false,
     "grade_id": "cell-f3566ef24e68a0e0",
     "locked": true,
     "schema_version": 3,
     "solution": false,
     "task": false
    }
   },
   "outputs": [],
   "source": [
    "for indivi in best:\n",
    "    print(indivi.fitness)\n"
   ]
  },
  {
   "attachments": {},
   "cell_type": "markdown",
   "metadata": {
    "deletable": false,
    "editable": false,
    "nbgrader": {
     "cell_type": "markdown",
     "checksum": "e2c8f7eb362d93bcf46f9e51d8a77851",
     "grade": false,
     "grade_id": "cell-88cfa98491e9c908",
     "locked": true,
     "schema_version": 3,
     "solution": false,
     "task": false
    }
   },
   "source": [
    "As they are sorted in lexicographical order (first fitness function in ascending order), let's show the last individual (which is the best solution w.r.t. the second fitness function).\n"
   ]
  },
  {
   "cell_type": "code",
   "execution_count": null,
   "metadata": {
    "deletable": false,
    "editable": false,
    "nbgrader": {
     "cell_type": "code",
     "checksum": "5b3896c4c795a84fb3fbdcbfa2728a5d",
     "grade": false,
     "grade_id": "cell-3d41b15ec8a9119e",
     "locked": true,
     "schema_version": 3,
     "solution": false,
     "task": false
    }
   },
   "outputs": [],
   "source": [
    "pd.DataFrame(best[-1].reshape((13, 13)), index=grades, columns=grades)\n"
   ]
  },
  {
   "attachments": {},
   "cell_type": "markdown",
   "metadata": {
    "deletable": false,
    "editable": false,
    "nbgrader": {
     "cell_type": "markdown",
     "checksum": "8fddd1504d7d047076d30ea1b1408f98",
     "grade": false,
     "grade_id": "cell-f51b0657fe0ca213",
     "locked": true,
     "schema_version": 3,
     "solution": false,
     "task": false
    }
   },
   "source": [
    "### Your turn\n"
   ]
  },
  {
   "attachments": {},
   "cell_type": "markdown",
   "metadata": {
    "deletable": false,
    "editable": false,
    "nbgrader": {
     "cell_type": "markdown",
     "checksum": "df12366acf069fcb44359791a39f848e",
     "grade": false,
     "grade_id": "cell-561fc0c281b1f692",
     "locked": true,
     "schema_version": 3,
     "solution": false,
     "task": false
    }
   },
   "source": [
    "Go back and try to modify `popsize`, `nb_gen`, `crossover_probability`, `indpb_alpha`, `indpb_beta` and `sigma`: can you improve the current solution? Converge faster?\n",
    "\n",
    "Uncomment the cell below to get this lab's bonus.\n"
   ]
  },
  {
   "cell_type": "code",
   "execution_count": null,
   "metadata": {
    "deletable": false,
    "editable": false,
    "nbgrader": {
     "cell_type": "code",
     "checksum": "d379f2a43ed00bd49005f8fd3d0b5077",
     "grade": true,
     "grade_id": "cell-4e901aa27c470946",
     "locked": true,
     "points": 5,
     "schema_version": 3,
     "solution": false,
     "task": false
    }
   },
   "outputs": [],
   "source": []
  }
 ],
 "metadata": {
  "kernelspec": {
   "display_name": "Python 3 (ipykernel)",
   "language": "python",
   "name": "python3"
  },
  "language_info": {
   "codemirror_mode": {
    "name": "ipython",
    "version": 3
   },
   "file_extension": ".py",
   "mimetype": "text/x-python",
   "name": "python",
   "nbconvert_exporter": "python",
   "pygments_lexer": "ipython3",
   "version": "3.10.6"
  }
 },
 "nbformat": 4,
 "nbformat_minor": 4
}
