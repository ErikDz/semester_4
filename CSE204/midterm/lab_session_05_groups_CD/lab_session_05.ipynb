{
 "cells": [
  {
   "cell_type": "markdown",
   "metadata": {},
   "source": [
    "Make sure you fill in any place that says `YOUR CODE HERE` or \"YOUR ANSWER HERE\".\n",
    "\n",
    "Before you turn this problem in, make sure everything runs as expected. First, **restart the kernel** (in the menubar, select Kernel$\\rightarrow$Restart) and then **run all cells** (in the menubar, select Cell$\\rightarrow$Run All). On JupyterLab, you may want to hit the \"Validate\" button as well.\n",
    "\n",
    "Caution: do not mess with the notebook's metadata; do not change a pre-existing cell's type; do not copy pre-existing cells (add new ones with the + button instead). This will break autograding; you will get a 0; you are warned."
   ]
  },
  {
   "cell_type": "markdown",
   "metadata": {},
   "source": [
    "<table style=\"width: 100%; border: none;\" cellspacing=\"0\" cellpadding=\"0\" border=\"0\">\n",
    "  <tr>\n",
    "    <td><img src=\"https://www.planetegrandesecoles.com/wp-content/uploads/2021/07/Identite%CC%81-visuelle-Plane%CC%80te-BAC-8-600x398.png\" style=\"float: left; width: 100%\" />\n",
    "</td>\n",
    "    <td><h1 style=\"text-align: center; vertical-align: middle;\"><a href=\"https://moodle.polytechnique.fr/course/view.php?id=15585\">[CSE204-2022] - Introduction to Machine Learning</a></h1>\n",
    "</td>\n",
    "  </tr>\n",
    "</table>"
   ]
  },
  {
   "cell_type": "markdown",
   "metadata": {},
   "source": [
    "---"
   ]
  },
  {
   "cell_type": "markdown",
   "metadata": {
    "deletable": false,
    "editable": false,
    "nbgrader": {
     "cell_type": "markdown",
     "checksum": "f9a264eb40d1372f2a9fe76c9b717699",
     "grade": false,
     "grade_id": "cell-144326b3318169b7",
     "locked": true,
     "schema_version": 3,
     "solution": false,
     "task": false
    }
   },
   "source": [
    "# Lab Session 5 - Exam #1\n",
    "\n",
    "Théo Lacombe - Adrien Ehrhardt - Jesse Read"
   ]
  },
  {
   "cell_type": "markdown",
   "metadata": {
    "deletable": false,
    "editable": false,
    "nbgrader": {
     "cell_type": "markdown",
     "checksum": "532ab6b3247143bb23c9e487a6247334",
     "grade": false,
     "grade_id": "cell-a5ae1c6d33edd6b8",
     "locked": true,
     "schema_version": 3,
     "solution": false,
     "task": false
    }
   },
   "source": [
    "## Overall presentation"
   ]
  },
  {
   "cell_type": "markdown",
   "metadata": {
    "deletable": false,
    "editable": false,
    "nbgrader": {
     "cell_type": "markdown",
     "checksum": "31609af6e54d16fd69371deba5a5b71c",
     "grade": false,
     "grade_id": "cell-2e7d7c15417b6cfb",
     "locked": true,
     "schema_version": 3,
     "solution": false,
     "task": false
    }
   },
   "source": [
    "This lab is composed of 10 exercises, granting various amounts of points (up to 100 points in total), specified in their respective header.\n",
    "\n",
    "These exercises are independant.\n",
    "\n",
    "There are examples of automatic tests that are run against your code. **They are not exhaustive nor sufficient** (we will run other - hidden - tests), **but they are necessary**: they have to pass, otherwise you can be sure *not* to get the points.\n",
    "\n",
    "Some help and hints are provided for each question (e.g. which function to use and how), and you can also use the `help(...)` function.\n",
    "\n",
    "- **Do not** delete any pre-existing cell (you can create and delete your own cells for testing).\n",
    "- **Do not** change the type (Markdown / Code / ...) of any pre-existing cell.\n",
    "- Run the notebook on *jupytercloud*, or on your computers or the computers of the computer rooms, after having made sure you have installed the required packages (sent by Jesse on Friday); otherwise, proceed at your own risk.\n",
    "- **Do not** rename the file when uploading your work on *jupytercloud* or *Moodle*.\n",
    "- **Do not** edit the notebook's or a cell's metadata."
   ]
  },
  {
   "cell_type": "markdown",
   "metadata": {
    "deletable": false,
    "editable": false,
    "nbgrader": {
     "cell_type": "markdown",
     "checksum": "48f7f2f1e60e0caacb0f13f104b702af",
     "grade": false,
     "grade_id": "cell-8475b40583c390ff",
     "locked": true,
     "schema_version": 3,
     "solution": false,
     "task": false
    }
   },
   "source": [
    "* Edit the `email` variable (in the following), replacing firstname.lastname as appropriate\n",
    "* Read these instructions carefully\n",
    "* This is an individual exam, and any form of communication is not allowed (exception: don't hesitate to ask the teaching coordinators if you have any question!)\n",
    "* This test is restricted open book: You may have any (but only) of the following pdfs : slides, lecture notes, and 10 pages of your own notes.\n",
    "* You should attempt to answer all questions. \n",
    "* There are 100 points worth of questions (*roughly* estimated in corresponding minutes).\n",
    "* You can import additional modules, but you shouldn't need to; you can use anything already imported in the next cell.\n",
    "\n",
    "Hints:\n",
    "\n",
    "Here is some regularly-used notation:\n",
    "\n",
    "    X : training instances, of shape (n,p)\n",
    "    y : training labels, of shape (n,)\n",
    "    ytrue : true label(s)\n",
    "    ypred : prediction(s)\n",
    "    yprob : the [estimated] probability that ytest = 1\n",
    "    xtest : test point, of shape (1,p)\n",
    "    Xtest : test point, of shape (n,p)\n",
    "    theta : weights/parameters/coefficients\n",
    "    theta_true : ground-truth theta\n",
    "    E : error function\n",
    "    eta : learning rate\n",
    "    alpha : regularization parameter (typically called $\\lambda$ in the equations)\n",
    "\n",
    "and abbreviations:\n",
    "\n",
    "    wrt : with respect to\n",
    "\n",
    "* Worth keeping in mind: do not panic! We try to make the test 'just right' but may err towards a bit too difficult. If it looks harder than you were expecting, simply complete as many questions as you can, and don't worry, we can always scale everyone up later. "
   ]
  },
  {
   "cell_type": "code",
   "execution_count": 1,
   "metadata": {},
   "outputs": [],
   "source": [
    "# Replace the following email address with your own\n",
    "email = \"erik.dziekonski-bautista@polytechnique.edu\""
   ]
  },
  {
   "cell_type": "markdown",
   "metadata": {
    "deletable": false,
    "editable": false,
    "nbgrader": {
     "cell_type": "markdown",
     "checksum": "3b818c88a94b465164de465ad9685c3a",
     "grade": false,
     "grade_id": "cell-2369821571c3dd70",
     "locked": true,
     "schema_version": 3,
     "solution": false,
     "task": false
    }
   },
   "source": [
    "## Imports"
   ]
  },
  {
   "cell_type": "code",
   "execution_count": 2,
   "metadata": {
    "deletable": false,
    "editable": false,
    "nbgrader": {
     "cell_type": "code",
     "checksum": "5ba79bf52482b38497580a94f447c256",
     "grade": false,
     "grade_id": "cell-9928043d5ac7241c",
     "locked": true,
     "schema_version": 3,
     "solution": false,
     "task": false
    }
   },
   "outputs": [
    {
     "data": {
      "image/png": "[encoded data removed]",
      "text/plain": [
       "<Figure size 432x288 with 1 Axes>"
      ]
     },
     "metadata": {
      "needs_background": "light"
     },
     "output_type": "display_data"
    }
   ],
   "source": [
    "# Import / Functions / Preliminaries\n",
    "import numpy as np\n",
    "import pandas as pd\n",
    "import matplotlib.pyplot as plt\n",
    "from sklearn.linear_model import Ridge\n",
    "from sklearn.neighbors import KNeighborsRegressor\n",
    "from sklearn.linear_model import LinearRegression\n",
    "from sklearn.dummy import DummyRegressor\n",
    "from sklearn.model_selection import cross_validate, cross_val_score\n",
    "\n",
    "np.random.seed(123)\n",
    "\n",
    "## Functions to be used\n",
    "def generate(n=10, w=np.array([1, -1]), sigma=0.7, x_min=-1, x_max=1):\n",
    "    \"\"\" Generate a regression problem of n instances X,y \"\"\" \n",
    "    x = x_min + np.random.rand(n) * (x_max - x_min)\n",
    "    f = w[0] + w[1] * x\n",
    "    y = f + np.random.randn(n) * sigma\n",
    "    X = np.vstack([np.ones_like(x), x]).T\n",
    "    return X, y\n",
    "\n",
    "\n",
    "def gen_2d_classification_samples(n: int = 20) -> np.array:\n",
    "    \"\"\" Generates a classification dataset \"\"\"\n",
    "    y = (np.random.rand(n) >= 0.5) * 1\n",
    "    X = - np.random.randn(n, 2) * 0.3 + (y.reshape(n, -1) == 1) * 1\n",
    "    return X, y.astype(int)\n",
    "\n",
    "X, y = generate(20)\n",
    "fig = plt.figure()\n",
    "plt.scatter(X[:, 1], y);"
   ]
  },
  {
   "cell_type": "markdown",
   "metadata": {
    "deletable": false,
    "editable": false,
    "nbgrader": {
     "cell_type": "markdown",
     "checksum": "46588ae578e435cae0ae9bf12fecfe9c",
     "grade": false,
     "grade_id": "cell-c7e592a196b4e5db",
     "locked": true,
     "schema_version": 3,
     "solution": false,
     "task": false
    }
   },
   "source": [
    "## Framing a Machine Learning Problem + k-Nearest Neighbours (20 points total)\n",
    "\n",
    "Intro: In the real-world, we're not always lucky enough to have `X` and `y` neatly provided to us. \n",
    "\n",
    "Tasks: A meteorological expert comes to you with some equally-spaced temperature measurements (given in the `data` variable below) and asks you to build a forecasting system; informing that predicting the measurement `data[t]` is a function of the 4 previous measurements (`data[t-4:t]`). You should: \n",
    "1. Provide `X` and `y` where `X` is of shape `(n-4,4)`, and `y` is of shape `(n-4,)`, where `n` is the length of `data` (since the 4 previous measurements are used as features, we will try to predict the 5th measurement onwards);\n",
    "2. Answer the kNN 'queries' (in `predictions`, an array of floats/predictions), using the `X, y` you created.\n",
    "\n",
    "Hint: `X[0,0] = 4`, `y[-1] = 19`."
   ]
  },
  {
   "cell_type": "markdown",
   "metadata": {
    "deletable": false,
    "editable": false,
    "nbgrader": {
     "cell_type": "markdown",
     "checksum": "02676be1395004defda51277df7a41f6",
     "grade": false,
     "grade_id": "cell-b673b59b4f44e39e",
     "locked": true,
     "schema_version": 3,
     "solution": false,
     "task": false
    }
   },
   "source": [
    "### 1. Data pre-processing"
   ]
  },
  {
   "cell_type": "markdown",
   "metadata": {
    "deletable": false,
    "editable": false,
    "nbgrader": {
     "cell_type": "markdown",
     "checksum": "25bae38cd47177349c1bf22ecdeedc2a",
     "grade": false,
     "grade_id": "cell-2a226f89dfbc7950",
     "locked": true,
     "schema_version": 3,
     "solution": false,
     "task": false
    }
   },
   "source": [
    "Answer 1. defined above by creating `X` and `y` consisting respectively in the 4 previous measurements and the current one (that we will try to predict next)."
   ]
  },
  {
   "cell_type": "code",
   "execution_count": 3,
   "metadata": {
    "deletable": false,
    "nbgrader": {
     "cell_type": "code",
     "checksum": "917025a09728ae957e0945b2a2fae4df",
     "grade": false,
     "grade_id": "cell-fc57d8ba497b5c84",
     "locked": false,
     "schema_version": 3,
     "solution": true,
     "task": false
    }
   },
   "outputs": [],
   "source": [
    "# A bunch of (made-up) temperature meeasurements\n",
    "data = [4, 7, 8, 9, 3, 7, 8, 6, 4, 5, 5, 3, 0, 10, 5, 1, 2, 6, 0, 1, 9, 19]\n",
    "\n",
    "# You build a dataset (X,y) that embodies the forecasting problem described above  \n",
    "p = 4\n",
    "X = []\n",
    "y = []\n",
    "for t, v in enumerate(data[0:-4]):  # (Optional/Hint) \n",
    "    X.append(data[t:t+p])\n",
    "    y.append(data[t+p])\n",
    "\n",
    "X = np.array(X)\n",
    "y = np.array(y)"
   ]
  },
  {
   "cell_type": "code",
   "execution_count": 4,
   "metadata": {
    "deletable": false,
    "editable": false,
    "nbgrader": {
     "cell_type": "code",
     "checksum": "3e17377d8beeb7215333338166d43fc4",
     "grade": true,
     "grade_id": "cell-eb60e5d4eded3bf3",
     "locked": true,
     "points": 7,
     "schema_version": 3,
     "solution": false,
     "task": false
    }
   },
   "outputs": [],
   "source": [
    "assert X.shape == (len(data) - 4, 4)\n",
    "assert y.shape == (len(data) - 4,)"
   ]
  },
  {
   "cell_type": "markdown",
   "metadata": {
    "deletable": false,
    "editable": false,
    "nbgrader": {
     "cell_type": "markdown",
     "checksum": "8cf4b3c582068537cc69426a36605116",
     "grade": false,
     "grade_id": "cell-64921cebccce651c",
     "locked": true,
     "schema_version": 3,
     "solution": false,
     "task": false
    }
   },
   "source": [
    "### 2. Predictions"
   ]
  },
  {
   "cell_type": "markdown",
   "metadata": {
    "deletable": false,
    "editable": false,
    "nbgrader": {
     "cell_type": "markdown",
     "checksum": "72153b7054902e33f2b6c72256983b32",
     "grade": false,
     "grade_id": "cell-1c324c5cdf7ea2e0",
     "locked": true,
     "schema_version": 3,
     "solution": false,
     "task": false
    }
   },
   "source": [
    "Complete the following `pred` function which should predict the value of `y` for `xtest`, a single test samples, as given by a kNN algorithm.\n",
    "\n",
    "*Hint*: you may use `KNeighborsRegressor`."
   ]
  },
  {
   "cell_type": "code",
   "execution_count": 5,
   "metadata": {
    "deletable": false,
    "nbgrader": {
     "cell_type": "code",
     "checksum": "21555c11877c322d83faf7bbb3017813",
     "grade": false,
     "grade_id": "cell-e950a3707e59a4ac",
     "locked": false,
     "schema_version": 3,
     "solution": true,
     "task": false
    }
   },
   "outputs": [],
   "source": [
    "def pred(X, y, xtest, k=5):\n",
    "    '''\n",
    "        return ypred = f(xtest)\n",
    "        n.b. xtest is of shape (p,) i.e. a single test point\n",
    "        n.b. ypred is a float\n",
    "    '''\n",
    "    # Change xtest to shape (1,p)\n",
    "    xtest = xtest.reshape(1, -1)\n",
    "    model = KNeighborsRegressor(n_neighbors=k)\n",
    "    model.fit(X,y)\n",
    "    ypred = model.predict(xtest)\n",
    "    return ypred"
   ]
  },
  {
   "cell_type": "code",
   "execution_count": 6,
   "metadata": {
    "deletable": false,
    "editable": false,
    "nbgrader": {
     "cell_type": "code",
     "checksum": "c9961d8174c5165256f41382e402b0e4",
     "grade": true,
     "grade_id": "cell-2feabb90cc82f82f",
     "locked": true,
     "points": 13,
     "schema_version": 3,
     "solution": false,
     "task": false
    }
   },
   "outputs": [],
   "source": [
    "xtest = np.array(X[3])\n",
    "assert (np.abs(pred(X, y, xtest) - 4.5) < 0.1)"
   ]
  },
  {
   "cell_type": "markdown",
   "metadata": {
    "deletable": false,
    "editable": false,
    "nbgrader": {
     "cell_type": "markdown",
     "checksum": "63088d2f3e94bb3d3efa561944218de1",
     "grade": false,
     "grade_id": "cell-feb7547a933984d4",
     "locked": true,
     "schema_version": 3,
     "solution": false,
     "task": false
    }
   },
   "source": [
    "## A Few Quick Questions (6 points)\n",
    "\n",
    "Intro: k-nearest neighbours and linear regression are two fundamental building blocks in machine learning. It's important to have some intuitions of how they behave.\n",
    "\n",
    "Task: In the following Python dictionaries, change all values of `None` to either `True` or `False`, to match the corresponding key.\n",
    "\n",
    "Hint: The #comment within each one may contain important information affecting the answer"
   ]
  },
  {
   "cell_type": "markdown",
   "metadata": {
    "deletable": false,
    "editable": false,
    "nbgrader": {
     "cell_type": "markdown",
     "checksum": "f8bf95400e5165246cb0c99798dfbcd8",
     "grade": false,
     "grade_id": "cell-f584c28d0db0a0ad",
     "locked": true,
     "schema_version": 3,
     "solution": false,
     "task": false
    }
   },
   "source": [
    "### Question A.\n",
    "\n",
    "Regarding kNN, for a test set of 50 training pairs, given a traning set of n = 100 training pairs:"
   ]
  },
  {
   "cell_type": "code",
   "execution_count": 7,
   "metadata": {
    "deletable": false,
    "nbgrader": {
     "cell_type": "code",
     "checksum": "f7f8fbddbfeccb9d2832f4ceb7fece8f",
     "grade": false,
     "grade_id": "cell-009bfc688701468b",
     "locked": false,
     "schema_version": 3,
     "solution": true,
     "task": false
    }
   },
   "outputs": [],
   "source": [
    "answers_to_questions_a = {\n",
    "    \"if k = 100, then we are very likely *not* to overfit\" : True,\n",
    "    \"if k = 1, without any additional knowledge, we should worry about the possibility to overfit\" : True,\n",
    "    \"if n = 10000, the training process (prior to testing/deployment) is computationally complex under kNN\" : True,\n",
    "    \"basis function expansion (e.g., phi(x)) is generally not a primary consideration for kNN because it makes no assumptions on linearity\" : True,\n",
    "}\n"
   ]
  },
  {
   "cell_type": "code",
   "execution_count": null,
   "metadata": {
    "deletable": false,
    "editable": false,
    "nbgrader": {
     "cell_type": "code",
     "checksum": "a0d9d7495389300968ab1bdafd7af80b",
     "grade": true,
     "grade_id": "cell-3f9954e8b5f91960",
     "locked": true,
     "points": 0.75,
     "schema_version": 3,
     "solution": false,
     "task": false
    }
   },
   "outputs": [],
   "source": []
  },
  {
   "cell_type": "code",
   "execution_count": null,
   "metadata": {
    "deletable": false,
    "editable": false,
    "nbgrader": {
     "cell_type": "code",
     "checksum": "22ada504b8c83e96942e4c44c6d6748e",
     "grade": true,
     "grade_id": "cell-7b4847eeb57ff869",
     "locked": true,
     "points": 0.75,
     "schema_version": 3,
     "solution": false,
     "task": false
    }
   },
   "outputs": [],
   "source": []
  },
  {
   "cell_type": "code",
   "execution_count": null,
   "metadata": {
    "deletable": false,
    "editable": false,
    "nbgrader": {
     "cell_type": "code",
     "checksum": "2982c29f6e7948d1d9cb6be0e050aabb",
     "grade": true,
     "grade_id": "cell-9348166aa7e52a38",
     "locked": true,
     "points": 0.75,
     "schema_version": 3,
     "solution": false,
     "task": false
    }
   },
   "outputs": [],
   "source": []
  },
  {
   "cell_type": "code",
   "execution_count": null,
   "metadata": {
    "deletable": false,
    "editable": false,
    "nbgrader": {
     "cell_type": "code",
     "checksum": "959dfd2cb5826e1beb1dd04a9fa7abc0",
     "grade": true,
     "grade_id": "cell-dd50ddbcdacf8866",
     "locked": true,
     "points": 0.75,
     "schema_version": 3,
     "solution": false,
     "task": false
    }
   },
   "outputs": [],
   "source": []
  },
  {
   "cell_type": "markdown",
   "metadata": {
    "deletable": false,
    "editable": false,
    "nbgrader": {
     "cell_type": "markdown",
     "checksum": "f7d3039143e3d84b1fa673554bc1079f",
     "grade": false,
     "grade_id": "cell-2721865a34ffb0e9",
     "locked": true,
     "schema_version": 3,
     "solution": false,
     "task": false
    }
   },
   "source": [
    "### Question B.\n",
    "\n",
    "Regarding the training of regression models:"
   ]
  },
  {
   "cell_type": "code",
   "execution_count": 8,
   "metadata": {
    "deletable": false,
    "nbgrader": {
     "cell_type": "code",
     "checksum": "49ec98ea5da61afd5765d853673f744b",
     "grade": false,
     "grade_id": "cell-44b8e8c7d77f20da",
     "locked": false,
     "schema_version": 3,
     "solution": true,
     "task": false
    }
   },
   "outputs": [],
   "source": [
    "answers_to_questions_b = {\n",
    "    \"if we have duplicate columns in X, OLS would 'break' with error/warning about a singular matrix\" : True,\n",
    "    \"if we have duplicate rows in X, OLS would 'break' with error/warning about a singular matrix\" : False,\n",
    "    \"Regarding the optimization procedure under mean-squared-error loss: every local minimum is a global minimum\" : True,\n",
    "    \"If x[3] = 0 indicates 'Male' and our model estimates w[3] = 0, it suggests gender is irrelevant to predicting the label\" : False,\n",
    "}\n"
   ]
  },
  {
   "cell_type": "code",
   "execution_count": null,
   "metadata": {
    "deletable": false,
    "editable": false,
    "nbgrader": {
     "cell_type": "code",
     "checksum": "ece6c8955eba0c43b83f3f64a98185b6",
     "grade": true,
     "grade_id": "cell-4fff784ed77287e9",
     "locked": true,
     "points": 0.75,
     "schema_version": 3,
     "solution": false,
     "task": false
    }
   },
   "outputs": [],
   "source": []
  },
  {
   "cell_type": "code",
   "execution_count": null,
   "metadata": {
    "deletable": false,
    "editable": false,
    "nbgrader": {
     "cell_type": "code",
     "checksum": "ac36e8e1f193e76ae7a8587d766b9064",
     "grade": true,
     "grade_id": "cell-e71ca32c36170065",
     "locked": true,
     "points": 0.75,
     "schema_version": 3,
     "solution": false,
     "task": false
    }
   },
   "outputs": [],
   "source": []
  },
  {
   "cell_type": "code",
   "execution_count": null,
   "metadata": {
    "deletable": false,
    "editable": false,
    "nbgrader": {
     "cell_type": "code",
     "checksum": "c3d4fd01367110533e6baf73ee3b19c2",
     "grade": true,
     "grade_id": "cell-278483ae00252d29",
     "locked": true,
     "points": 0.75,
     "schema_version": 3,
     "solution": false,
     "task": false
    }
   },
   "outputs": [],
   "source": []
  },
  {
   "cell_type": "code",
   "execution_count": null,
   "metadata": {
    "deletable": false,
    "editable": false,
    "nbgrader": {
     "cell_type": "code",
     "checksum": "d588ce973e8cec2e20d81954014344ba",
     "grade": true,
     "grade_id": "cell-8ca687847f7abc9b",
     "locked": true,
     "points": 0.75,
     "schema_version": 3,
     "solution": false,
     "task": false
    }
   },
   "outputs": [],
   "source": []
  },
  {
   "cell_type": "markdown",
   "metadata": {
    "deletable": false,
    "editable": false,
    "nbgrader": {
     "cell_type": "markdown",
     "checksum": "2a33e25e784c1852e44b53dc83b548da",
     "grade": false,
     "grade_id": "cell-f20854ed8755a691",
     "locked": true,
     "schema_version": 3,
     "solution": false,
     "task": false
    }
   },
   "source": [
    "## Loss Functions (5 points)\n",
    "\n",
    "Intro: In regression, error functions based on squared error loss are convenient, and standard. But sometimes we need something different. For example, if `y` represents the number of daily calls a call center receives, underestimating `(ypred < ytrue)` might be 'quadratically' bad (you cannot answer all calls with the current staff), but overestimating `(ypred >= ytrue)` only linearly bad (people sitting in the call center doing nothing). \n",
    "\n",
    "Task: Design an error metric to this effect, inside the function `E_special`, following:\n",
    "\n",
    "\\begin{equation}\n",
    "    E(\\hat{y}, y) = \\begin{cases}\n",
    "      | \\hat{y} - y | \\text{ if } \\hat{y} \\geq y,\\\\\n",
    "      ( \\hat{y} - y )^2 \\text{ otherwise.}\n",
    "    \\end{cases}\n",
    "\\end{equation}\n"
   ]
  },
  {
   "cell_type": "code",
   "execution_count": 41,
   "metadata": {
    "deletable": false,
    "nbgrader": {
     "cell_type": "code",
     "checksum": "00c06b392778cc9ba3bb10ed4e62cf5d",
     "grade": false,
     "grade_id": "cell-9402c10204c88e70",
     "locked": false,
     "schema_version": 3,
     "solution": true,
     "task": false
    }
   },
   "outputs": [
    {
     "name": "stdout",
     "output_type": "stream",
     "text": [
      "406\n"
     ]
    }
   ],
   "source": [
    "def E_special(ypred : np.array, ytrue : np.array) -> float:\n",
    "    '''\n",
    "        Custom loss metric         \n",
    "    '''\n",
    "    answ = []\n",
    "    for i in range(len(ypred)):\n",
    "        if ypred[i] >= ytrue[i]:\n",
    "            answ.append(abs(ypred[i] - ytrue[i]))\n",
    "        else:\n",
    "            answ.append((ypred[i] - ytrue[i])**2)\n",
    "    return sum(answ)\n",
    "\n",
    "\n",
    "ypred = np.array([-1, 1, 0, -10])\n",
    "ytrue = np.array([1, -1, 0, 10])\n",
    "print(E_special(ypred, ytrue))"
   ]
  },
  {
   "cell_type": "code",
   "execution_count": 42,
   "metadata": {
    "deletable": false,
    "editable": false,
    "nbgrader": {
     "cell_type": "code",
     "checksum": "b29dcac62bb09507594e169d629fa94f",
     "grade": true,
     "grade_id": "cell-37db148eb1dc332d",
     "locked": true,
     "points": 5,
     "schema_version": 3,
     "solution": false,
     "task": false
    }
   },
   "outputs": [
    {
     "ename": "IndexError",
     "evalue": "invalid index to scalar variable.",
     "output_type": "error",
     "traceback": [
      "\u001b[0;31m---------------------------------------------------------------------------\u001b[0m",
      "\u001b[0;31mIndexError\u001b[0m                                Traceback (most recent call last)",
      "\u001b[1;32m/home/erikdz/Documents/semester_4/CSE205/midterm/lab_session_05_groups_CD/lab_session_05.ipynb Cell 35\u001b[0m in \u001b[0;36m<module>\u001b[0;34m\u001b[0m\n\u001b[0;32m----> <a href='vscode-notebook-cell:/home/erikdz/Documents/semester_4/CSE205/midterm/lab_session_05_groups_CD/lab_session_05.ipynb#X46sZmlsZQ%3D%3D?line=0'>1</a>\u001b[0m \u001b[39massert\u001b[39;00m(E_special(ypred, ytrue)[\u001b[39m0\u001b[39;49m] \u001b[39m==\u001b[39m \u001b[39m4\u001b[39m)\n",
      "\u001b[0;31mIndexError\u001b[0m: invalid index to scalar variable."
     ]
    }
   ],
   "source": [
    "assert(E_special(ypred, ytrue)[0] == 4)"
   ]
  },
  {
   "cell_type": "markdown",
   "metadata": {
    "deletable": false,
    "editable": false,
    "nbgrader": {
     "cell_type": "markdown",
     "checksum": "8cd94e9001d7fb39f360c5c6df4eb093",
     "grade": false,
     "grade_id": "cell-a26016cc3ca1cfec",
     "locked": true,
     "schema_version": 3,
     "solution": false,
     "task": false
    }
   },
   "source": [
    "## Expected Loss (2 points)\n",
    "\n",
    "Intro: If an oracle gives us the ground truth $P(Y|x)$ that generated the data, we can minimize expected loss/error without any machine learning."
   ]
  },
  {
   "cell_type": "markdown",
   "metadata": {
    "deletable": false,
    "editable": false,
    "nbgrader": {
     "cell_type": "markdown",
     "checksum": "c63b9019b9e45352dd922b2f3a51b379",
     "grade": false,
     "grade_id": "cell-8921cd81119f825a",
     "locked": true,
     "schema_version": 3,
     "solution": false,
     "task": false
    }
   },
   "source": [
    "Task: Suppose the mean-squared-error (MSE) error metric. What is the `expected_loss` ('irreducible error') of the prediction that minimizes expected loss given `xtest` as provided below, supposing the `generate` function (defined above/at the beginning) with default parameters, as the ground truth:"
   ]
  },
  {
   "cell_type": "code",
   "execution_count": 47,
   "metadata": {
    "deletable": false,
    "nbgrader": {
     "cell_type": "code",
     "checksum": "c11c2cd179b42d639060c271f1406bcf",
     "grade": false,
     "grade_id": "cell-9adbdaa5ad182620",
     "locked": false,
     "schema_version": 3,
     "solution": true,
     "task": false
    }
   },
   "outputs": [],
   "source": [
    "xtest = np.array([3, 10])\n",
    "\n",
    "expected_loss = 0.25 \n"
   ]
  },
  {
   "cell_type": "markdown",
   "metadata": {
    "deletable": false,
    "editable": false,
    "nbgrader": {
     "cell_type": "markdown",
     "checksum": "ac6c2f020e7327b735b1fb1ac89ebf34",
     "grade": false,
     "grade_id": "cell-ae6a6f9b5a47c634",
     "locked": true,
     "schema_version": 3,
     "solution": false,
     "task": false
    }
   },
   "source": [
    "## Implementation (30 points)\n",
    "\n",
    "Intro: Gradient descent is important.\n",
    "\n",
    "Task: Implement ridge logistic regression with gradient descent, by completing the functions below where indicated.\n",
    "\n",
    "Hints: If there are multiple points (and there should be) `E` returns a sum over them (not an average)"
   ]
  },
  {
   "cell_type": "code",
   "execution_count": 12,
   "metadata": {
    "deletable": false,
    "nbgrader": {
     "cell_type": "code",
     "checksum": "5f42f74ba6fdc457d836ccbf62f23d04",
     "grade": false,
     "grade_id": "cell-bec427363da9ab39",
     "locked": false,
     "schema_version": 3,
     "solution": true,
     "task": false
    }
   },
   "outputs": [],
   "source": [
    "def sigmoid(a: np.array) -> float:\n",
    "    \"\"\"\n",
    "        The sigmoid function; returns a number between 0 and 1.\n",
    "    \"\"\"\n",
    "    return 1/(1+np.exp(-a))"
   ]
  },
  {
   "cell_type": "code",
   "execution_count": 13,
   "metadata": {
    "deletable": false,
    "editable": false,
    "nbgrader": {
     "cell_type": "code",
     "checksum": "06f22497eb49453d54c146dd042cc9c5",
     "grade": true,
     "grade_id": "cell-a04e4cc7a2fb6047",
     "locked": true,
     "points": 6,
     "schema_version": 3,
     "solution": false,
     "task": false
    }
   },
   "outputs": [],
   "source": [
    "assert sigmoid(np.array([0])) == 1/2"
   ]
  },
  {
   "cell_type": "code",
   "execution_count": 18,
   "metadata": {
    "deletable": false,
    "nbgrader": {
     "cell_type": "code",
     "checksum": "10048b641be7b2b75afe8d0b68fd3490",
     "grade": false,
     "grade_id": "cell-d90783a0d27cc00c",
     "locked": false,
     "schema_version": 3,
     "solution": true,
     "task": false
    }
   },
   "outputs": [],
   "source": [
    "def E(X: np.array, y: np.array, theta: np.array, alpha : float = 0) -> np.array:\n",
    "    \"\"\" \n",
    "        The error [logistic loss] function, over training data (X,y) wrt theta.\n",
    "    \"\"\"\n",
    "    n = X.shape[0]\n",
    "    ypred = sigmoid(X @ theta)\n",
    "    return -1/n * np.sum(y * np.log(ypred) + (1-y) * np.log(1-ypred)) + alpha * np.sum(theta**2)"
   ]
  },
  {
   "cell_type": "code",
   "execution_count": 19,
   "metadata": {
    "deletable": false,
    "editable": false,
    "nbgrader": {
     "cell_type": "code",
     "checksum": "43c1c86a7740bd4c71b51166b1c303d9",
     "grade": true,
     "grade_id": "cell-4d3f582f373eaeb6",
     "locked": true,
     "points": 6,
     "schema_version": 3,
     "solution": false,
     "task": false
    }
   },
   "outputs": [],
   "source": [
    "assert E(np.array([0]), np.array([0]), np.array([0])) == np.log(2)"
   ]
  },
  {
   "cell_type": "code",
   "execution_count": 20,
   "metadata": {
    "deletable": false,
    "nbgrader": {
     "cell_type": "code",
     "checksum": "de41bc8d0979679512625a75fda5bcc2",
     "grade": false,
     "grade_id": "cell-09fca75a08dac85f",
     "locked": false,
     "schema_version": 3,
     "solution": true,
     "task": false
    }
   },
   "outputs": [],
   "source": [
    "def grad_E(X: np.array, y: np.array, theta: np.array, alpha : float  = 0) -> np.array:\n",
    "    \"\"\" The gradient of the error (E) wrt weights theta \"\"\"\n",
    "    n = X.shape[0]\n",
    "    ypred = sigmoid(X @ theta)\n",
    "    return 1/n * X.T @ (ypred - y) + 2 * alpha * theta"
   ]
  },
  {
   "cell_type": "code",
   "execution_count": 21,
   "metadata": {
    "deletable": false,
    "editable": false,
    "nbgrader": {
     "cell_type": "code",
     "checksum": "30edac1e31b4fe8430092e610369c2db",
     "grade": true,
     "grade_id": "cell-47985a933c8c3557",
     "locked": true,
     "points": 8,
     "schema_version": 3,
     "solution": false,
     "task": false
    }
   },
   "outputs": [],
   "source": [
    "assert grad_E(np.array([0]), np.array([0]), np.array([0])) == 0"
   ]
  },
  {
   "cell_type": "code",
   "execution_count": 22,
   "metadata": {
    "deletable": false,
    "nbgrader": {
     "cell_type": "code",
     "checksum": "a704626bf9baabf19fcafd10288d5bbc",
     "grade": false,
     "grade_id": "cell-8ff186e34b1c2563",
     "locked": false,
     "schema_version": 3,
     "solution": true,
     "task": false
    }
   },
   "outputs": [],
   "source": [
    "def grad_descent(X: np.array, y: np.array, theta_init: np.array, eta: float = 0.001,\n",
    "                 alpha: float = 0.1, T: int = 1000) -> np.array:\n",
    "    \"\"\"\n",
    "    Perform gradient descent over T iterations, with learning rate eta, and regularization alpha;\n",
    "    and return parameters theta (np.array of shape (p,)).\n",
    "    \"\"\"\n",
    "    n, p = X.shape\n",
    "\n",
    "    if theta_init is None:\n",
    "        theta_init = np.zeros((p,))\n",
    "    theta = theta_init.copy()\n",
    "\n",
    "    ### Perform the gradient descent\n",
    "    for _ in range(T):\n",
    "        theta = theta - eta * grad_E(X, y, theta, alpha)\n",
    "    return theta"
   ]
  },
  {
   "cell_type": "code",
   "execution_count": 23,
   "metadata": {
    "deletable": false,
    "editable": false,
    "nbgrader": {
     "cell_type": "code",
     "checksum": "58adba164375b19291505e1e3f9023f0",
     "grade": true,
     "grade_id": "cell-2aeb4b904226e3d5",
     "locked": true,
     "points": 5,
     "schema_version": 3,
     "solution": false,
     "task": false
    }
   },
   "outputs": [],
   "source": [
    "assert grad_descent(np.array([[1], [2], [3]]), np.array([1, 0, 1]), np.array([0]), T=10).shape == (1,)"
   ]
  },
  {
   "cell_type": "markdown",
   "metadata": {
    "deletable": false,
    "editable": false,
    "nbgrader": {
     "cell_type": "markdown",
     "checksum": "0bf88851187bc36e699686d720a1781d",
     "grade": false,
     "grade_id": "cell-de6091f6ef1bd4d9",
     "locked": true,
     "schema_version": 3,
     "solution": false,
     "task": false
    }
   },
   "source": [
    "A visualization to see if you're doing OK:"
   ]
  },
  {
   "cell_type": "code",
   "execution_count": 108,
   "metadata": {
    "deletable": false,
    "editable": false,
    "nbgrader": {
     "cell_type": "code",
     "checksum": "75a5af7813a1dc02add04389e2590055",
     "grade": true,
     "grade_id": "cell-bc82dee653e9249c",
     "locked": true,
     "points": 5,
     "schema_version": 3,
     "solution": false,
     "task": false
    }
   },
   "outputs": [
    {
     "name": "stdout",
     "output_type": "stream",
     "text": [
      "[-0.11545619  0.17159401  0.13527045]\n"
     ]
    },
    {
     "data": {
      "image/png": "[encoded data removed]",
      "text/plain": [
       "<Figure size 432x288 with 1 Axes>"
      ]
     },
     "metadata": {
      "needs_background": "light"
     },
     "output_type": "display_data"
    }
   ],
   "source": [
    "# Start with the data\n",
    "X, y = gen_2d_classification_samples(100)\n",
    "\n",
    "# Perform gradient descent, obtain theta\n",
    "X1 = np.hstack([np.ones_like(y.reshape(-1,1)), X])\n",
    "n,p = X1.shape\n",
    "theta = grad_descent(X1, y, theta_init=np.random.randn(p) * 0.1)  \n",
    "print(theta)\n",
    "\n",
    "x_min, x_max = np.array((X[:, 0], X[:, 1]))[0, :].min() - .5, np.array((X[:, 0], X[:, 1]))[0, :].max() + .5\n",
    "y_min, y_max = np.array((X[:, 0], X[:, 1]))[1, :].min() - .5, np.array((X[:, 0], X[:, 1]))[1, :].max() + .5\n",
    "h = .02  # step size in the mesh\n",
    "xx1, xx2 = np.meshgrid(np.arange(x_min, x_max, h), np.arange(y_min, y_max, h))\n",
    "plt.scatter(X[:,0], X[:,1], c=y);\n",
    "\n",
    "Z = sigmoid(np.c_[np.ones_like(xx1.ravel()), xx1.ravel(), xx2.ravel()] @ theta)\n",
    "Z.shape\n",
    "plt.pcolormesh(xx1, xx2, (Z.reshape(xx1.shape) > 0.5) * 1, cmap=plt.cm.Paired)\n",
    "plt.scatter(X[:,0], X[:,1], c=y);"
   ]
  },
  {
   "cell_type": "markdown",
   "metadata": {
    "deletable": false,
    "editable": false,
    "nbgrader": {
     "cell_type": "markdown",
     "checksum": "0ac159a08df5f8db5b9c3ca470bd3975",
     "grade": false,
     "grade_id": "cell-c2a3f9d964d90451",
     "locked": true,
     "schema_version": 3,
     "solution": false,
     "task": false
    }
   },
   "source": [
    "## How's your Confidence (5 points)\n",
    "\n",
    "Intro: It's easy to feel confident when your model gets good accuracy but would you stake your grade on the predictions? \n",
    "\n",
    "Task: In the following, `ypred` represents a binary classification of 4 test points. Enter the indices (in `indices`) of the instances (in $\\{0,1,2,3\\}$) *in the order* that you feel most confident about wrt the unknown ground truth."
   ]
  },
  {
   "cell_type": "code",
   "execution_count": 109,
   "metadata": {
    "deletable": false,
    "editable": false,
    "nbgrader": {
     "cell_type": "code",
     "checksum": "f13df3fa6637a321312a2433c6a520a3",
     "grade": false,
     "grade_id": "cell-71e70d15e3930fd1",
     "locked": true,
     "schema_version": 3,
     "solution": false,
     "task": false
    }
   },
   "outputs": [
    {
     "data": {
      "text/plain": [
       "array([0, 1, 0, 0])"
      ]
     },
     "execution_count": 109,
     "metadata": {},
     "output_type": "execute_result"
    }
   ],
   "source": [
    "x = np.array([-0.3, 7, 0.5, 1.5])\n",
    "X = np.vstack([np.ones_like(x), x]).T\n",
    "yprob = 1. / (1. + np.exp(-X @ np.array([-1, 0.5])))\n",
    "ypred = (yprob >= 0.5) * 1\n",
    "indices = [1,4,2,0]\n",
    "ypred"
   ]
  },
  {
   "cell_type": "code",
   "execution_count": null,
   "metadata": {
    "deletable": false,
    "editable": false,
    "nbgrader": {
     "cell_type": "code",
     "checksum": "d5c69fe232bea0a6b32a645fe92d04d2",
     "grade": true,
     "grade_id": "cell-f90b7fd872959e9c",
     "locked": true,
     "points": 5,
     "schema_version": 3,
     "solution": false,
     "task": false
    }
   },
   "outputs": [],
   "source": []
  },
  {
   "cell_type": "markdown",
   "metadata": {
    "deletable": false,
    "editable": false,
    "nbgrader": {
     "cell_type": "markdown",
     "checksum": "c980c39dc0ba5149dc0435cd414a19ff",
     "grade": false,
     "grade_id": "cell-9860ebc72168f883",
     "locked": true,
     "schema_version": 3,
     "solution": false,
     "task": false
    }
   },
   "source": [
    "## Basis functions (2 points)\n",
    "\n",
    "Intro: You should always design your own basis functions if you have a clear idea (e.g., prior/expert knowledge) as to what they should be. You are discussing with an expert who explains the following:\n",
    "- Power consumed by a loudspeaker to output some music ($y$ in Watts) is a *linear function* of power getting out of the outlet (i.e., there is a fraction of power that is lost in the network, wires, transformed as heat in the electronics of the speaker, etc.). \n",
    "- Only measurements of acoustic pressure ($x$, in dB) are available in the data\n",
    "- The power used to drive the speaker is exponential (let's say, $\\exp$) wrt acoustic pressure (measured in dB).  \n",
    "\n",
    "Task: Design an appropriate `phi` function to take into account the knowledge provided to you, such that *ordinary least squares (OLS)* can be considered as a suitable option (when applied on $\\phi$-space).\n",
    "\n",
    "Hint: Don't forget to add 1 for the intercept! i.e., `phi(x)[0] = 1`"
   ]
  },
  {
   "cell_type": "code",
   "execution_count": 49,
   "metadata": {
    "deletable": false,
    "nbgrader": {
     "cell_type": "code",
     "checksum": "99058b7af2116b9043ad62517502ae58",
     "grade": false,
     "grade_id": "cell-62f98fe3e180f5ef",
     "locked": false,
     "schema_version": 3,
     "solution": true,
     "task": false
    }
   },
   "outputs": [],
   "source": [
    "def phi(x):\n",
    "    ''' return phi(x) where x is brightness, measured in lux'''\n",
    "    return np.vstack([np.ones_like(x), np.exp(x)]).T\n"
   ]
  },
  {
   "cell_type": "code",
   "execution_count": null,
   "metadata": {
    "deletable": false,
    "editable": false,
    "nbgrader": {
     "cell_type": "code",
     "checksum": "14c0359a8d4347898b7d722d02a8d824",
     "grade": true,
     "grade_id": "cell-dc58d0cbb7a9a2ff",
     "locked": true,
     "points": 2,
     "schema_version": 3,
     "solution": false,
     "task": false
    }
   },
   "outputs": [],
   "source": []
  },
  {
   "cell_type": "markdown",
   "metadata": {
    "deletable": false,
    "editable": false,
    "nbgrader": {
     "cell_type": "markdown",
     "checksum": "dbed3dfff9c709757ece907dadc303ff",
     "grade": false,
     "grade_id": "cell-b8ed0ed5073cc681",
     "locked": true,
     "schema_version": 3,
     "solution": false,
     "task": false
    }
   },
   "source": [
    "## Biased Estimators (5 points).\n",
    "\n",
    "Intro: In `lab_session_04` we looked at empirically demonstrating that OLS is an unbiased estimator. Let's now empirically measure the bias of ridge regression, in the sense of the \"bias\" term of the bias-variance decomposition of the expected squared error.\n",
    "\n",
    "Task: Provide the empirical bias of ridge regression with regard to the `X, y` provided here (do not generate new data). Store the result in the variable `bias`.\n",
    "\n",
    "Hint: Note that `theta_true[0] = 0`."
   ]
  },
  {
   "cell_type": "code",
   "execution_count": 55,
   "metadata": {},
   "outputs": [
    {
     "data": {
      "image/png": "[encoded data removed]",
      "text/plain": [
       "<Figure size 720x576 with 1 Axes>"
      ]
     },
     "metadata": {
      "needs_background": "light"
     },
     "output_type": "display_data"
    },
    {
     "name": "stdout",
     "output_type": "stream",
     "text": [
      "Bias:  0.036582609235388336\n"
     ]
    }
   ],
   "source": [
    "theta_true = np.array([0, 2])  # this is the true parameter\n",
    "X, y = generate(1000, theta_true)  # this is y ~ N(X @ theta_true, sigma) \n",
    "x = X[:, 1].reshape(-1, 1)  # no intercept needed\n",
    "ridge = Ridge(alpha=1000, fit_intercept=False).fit(x, y)\n",
    "theta_est = ridge.coef_  # this is the estimated parameter\n",
    "\n",
    "# Visual demo - note how both go through (0, 0)\n",
    "x_plot = x[0:100]\n",
    "y_plot = y[0:100]\n",
    "fig, ax = plt.subplots(figsize=(10, 8))\n",
    "ax.scatter(x_plot, y_plot)\n",
    "yt = x_plot * theta_true[1]\n",
    "yp = x_plot * theta_est\n",
    "ax.plot(x_plot, yp, label=\"$\\hat f$\")\n",
    "ax.plot(x_plot, yt, label=\"$f_\\star$\")\n",
    "plt.legend()\n",
    "plt.show()\n",
    "\n",
    "# Calculate the bias (defined as $\\mathbb{E}[f-\\hat F]$)\n",
    "bias = np.mean((x * theta_true[1]) - (x * theta_est))\n",
    "print(\"Bias: \", bias)"
   ]
  },
  {
   "cell_type": "code",
   "execution_count": 57,
   "metadata": {
    "deletable": false,
    "nbgrader": {
     "cell_type": "code",
     "checksum": "061778b0d6e78ac96f249c2c11353382",
     "grade": false,
     "grade_id": "cell-bd8b2d61d4bbece4",
     "locked": false,
     "schema_version": 3,
     "solution": true,
     "task": false
    }
   },
   "outputs": [
    {
     "name": "stdout",
     "output_type": "stream",
     "text": [
      "Bias:  0.036582609235388336\n"
     ]
    }
   ],
   "source": [
    "# change the following `bias` in its correct value\n",
    "bias = 0.036582609235388336 \n",
    "\n",
    "# Calculate the bias (defined as $\\mathbb{E}[f-\\hat F]$)\n",
    "bias = np.mean((x * theta_true[1]) - (x * theta_est))\n",
    "print(\"Bias: \", bias)"
   ]
  },
  {
   "cell_type": "code",
   "execution_count": null,
   "metadata": {
    "deletable": false,
    "editable": false,
    "nbgrader": {
     "cell_type": "code",
     "checksum": "60d501cac2abfe8d178ac25a32594099",
     "grade": true,
     "grade_id": "cell-2b9ae356e24b9a7c",
     "locked": true,
     "points": 5,
     "schema_version": 3,
     "solution": false,
     "task": false
    }
   },
   "outputs": [],
   "source": []
  },
  {
   "attachments": {},
   "cell_type": "markdown",
   "metadata": {
    "deletable": false,
    "editable": false,
    "nbgrader": {
     "cell_type": "markdown",
     "checksum": "75757bea06bd87e7b040aad35c7b97b5",
     "grade": false,
     "grade_id": "cell-111c6f1ec0a2e42d",
     "locked": true,
     "schema_version": 3,
     "solution": false,
     "task": false
    }
   },
   "source": [
    "## Estimators with no variance (5 points).\n",
    "\n",
    "Intro: OLS is an unbiased estimator. But can we have an estimator with *no variance*?\n",
    "\n",
    "Task: Define `estimator` as an estimator which provides $\\boldsymbol{\\hat \\theta}$ (from a given training set) but with **no variance** (or as low as you can get it).\n",
    "\n",
    "Hint: In the sense of a theoretical analysis (bias-variance trade-off); accuracy is not a concern."
   ]
  },
  {
   "cell_type": "code",
   "execution_count": 91,
   "metadata": {
    "deletable": false,
    "nbgrader": {
     "cell_type": "code",
     "checksum": "e4ce1270f3d6117ed5b867836cc3ef9f",
     "grade": false,
     "grade_id": "cell-4e0d206beb704b42",
     "locked": false,
     "schema_version": 3,
     "solution": true,
     "task": false
    }
   },
   "outputs": [],
   "source": [
    "def estimator(X, y):\n",
    "    '''\n",
    "        Returns an estimate of theta, of shape (p,)\n",
    "    '''\n",
    "    n, p = X.shape\n",
    "    return np.linalg.inv(X.T @ X) @ X.T @ y"
   ]
  },
  {
   "cell_type": "code",
   "execution_count": 90,
   "metadata": {
    "deletable": false,
    "editable": false,
    "nbgrader": {
     "cell_type": "code",
     "checksum": "3006fe3b2270a99ce9296b36c0ede1c8",
     "grade": false,
     "grade_id": "cell-e5a7e851f04e245e",
     "locked": true,
     "schema_version": 3,
     "solution": false,
     "task": false
    }
   },
   "outputs": [
    {
     "name": "stdout",
     "output_type": "stream",
     "text": [
      "Variance:  0.22944608784709306\n"
     ]
    }
   ],
   "source": [
    "# Freshly generate a dataset\n",
    "X, y = generate()\n",
    "# Estimate some parameters\n",
    "theta = estimator(X, y)\n",
    "# Check for variance (hidden test not shown); it should be 0\n",
    "print(\"Variance: \", np.var(X @ theta - y))"
   ]
  },
  {
   "cell_type": "markdown",
   "metadata": {
    "deletable": false,
    "editable": false,
    "nbgrader": {
     "cell_type": "markdown",
     "checksum": "5da94bc2942a30d1d402a52682009ab9",
     "grade": false,
     "grade_id": "cell-f4489fab7295fffc",
     "locked": true,
     "schema_version": 3,
     "solution": false,
     "task": false
    }
   },
   "source": [
    "## Free-for-All (20 points)\n",
    "\n",
    "Intro: Imagine, your boss comes to you with a dataset (this time, neatly prepared as `X`, and `y` for you). She additionally specifies that the sum of squares (RSS) loss defines the task well, but you incur infinite loss iff it takes more than 1 second to provide a prediction (for any given test point - this is more realistic than you think: would you use Google if it took more than a few microseconds?). Also: training must complete in less than 1 minute. The rest is up to you. \n",
    "\n",
    "Task: In the `fit_predict` function: instantiate, train, and parametrize *any method you've seen in the course so far*. You should expect Xtest to contain 100 test points (i.e., shape `(100, p)`). \n",
    "\n",
    "Hints: The more baselines you beat, the more points (beat all baselines = full points). You are free to use scikit-learn instantiations (or, implement yourself, as you wish). Performance will be evaluated on test data (not provided here, i.e., not `X`)! Normally, the time constraints should not play a role in your consideration (the 1 second/1 minute constraint is absurdly generous, even for a relatively standard implementation). "
   ]
  },
  {
   "cell_type": "code",
   "execution_count": 138,
   "metadata": {
    "deletable": false,
    "editable": false,
    "nbgrader": {
     "cell_type": "code",
     "checksum": "731aee032748498b14f9b8ad8fa2b12f",
     "grade": false,
     "grade_id": "cell-8a304acef8a1cc23",
     "locked": true,
     "schema_version": 3,
     "solution": false,
     "task": false
    }
   },
   "outputs": [],
   "source": [
    "baselines = [LinearRegression(), DummyRegressor(strategy='mean'),\n",
    "             DummyRegressor(strategy='constant',constant=0), KNeighborsRegressor(n_neighbors=10)]\n",
    "\n",
    "Xy = np.loadtxt('Xy.csv')\n",
    "X = Xy[:, :-1]\n",
    "y = Xy[:, -1]"
   ]
  },
  {
   "cell_type": "code",
   "execution_count": 33,
   "metadata": {
    "deletable": false,
    "editable": false,
    "nbgrader": {
     "cell_type": "code",
     "checksum": "4692309e7dafaf9b0184ba097ec0a2aa",
     "grade": false,
     "grade_id": "cell-f9bd9d08f5af1815",
     "locked": true,
     "schema_version": 3,
     "solution": false,
     "task": false
    }
   },
   "outputs": [
    {
     "name": "stdout",
     "output_type": "stream",
     "text": [
      "RSS Error:    2719.58 obtained by method: LinearRegression()\n",
      "RSS Error:   49629.98 obtained by method: DummyRegressor()\n",
      "RSS Error:   77347.90 obtained by method: DummyRegressor(constant=array(0), strategy='constant')\n",
      "RSS Error:    4201.08 obtained by method: KNeighborsRegressor(n_neighbors=10)\n"
     ]
    }
   ],
   "source": [
    "for f in baselines:\n",
    "    f.fit(X, y)\n",
    "    ypred = f.predict(X)\n",
    "    print(\"RSS Error: %10.2f obtained by method: %s\" % (((y - ypred)**2).sum(), str(f)))"
   ]
  },
  {
   "cell_type": "code",
   "execution_count": 168,
   "metadata": {
    "deletable": false,
    "nbgrader": {
     "cell_type": "code",
     "checksum": "e3dd1f82d7b03a7e729bbb36035344a7",
     "grade": false,
     "grade_id": "cell-7fdacdb9927fc31c",
     "locked": false,
     "schema_version": 3,
     "solution": true,
     "task": false
    }
   },
   "outputs": [],
   "source": [
    "from sklearn.linear_model import LinearRegression\n",
    "from sklearn.linear_model import RidgeCV\n",
    "# Import polynomial features\n",
    "from sklearn.preprocessing import PolynomialFeatures\n",
    "def fit_predict(X,y,Xtest): \n",
    "    ''' \n",
    "        In this function: \n",
    "        \n",
    "        1. fit a classifier on training data X,y; including any hyper-parameter tuning\n",
    "        2. provide predictions ypred (of shape (n_test,1)), and return these \n",
    "        \n",
    "        There are no other constraints except those stated in the task description above!\n",
    "    '''\n",
    "    # Add polynomial features\n",
    "    poly = PolynomialFeatures(degree=2)\n",
    "    X_poly = poly.fit_transform(X)\n",
    "    Xtest_poly = poly.transform(Xtest)\n",
    "\n",
    "\n",
    "    # Fit a classifier with L2 regularization\n",
    "    # The Ridge estimator adds an L2 penalty term to the loss function of linear regression, which leads to smaller magnitude parameter estimates and helps reduce overfitting.\n",
    "    #clf = Ridge(alpha=12)\n",
    "    # I decided to use RidgeCV instead of normal L2 regularization since this includes cross-validation\n",
    "    clf = RidgeCV(alphas=[0.01, 0.1, 1.0, 10.0, 20, 30, 40])\n",
    "\n",
    "    clf.fit(X_poly, y)\n",
    "\n",
    "    # Make predictions\n",
    "    ypred = clf.predict(Xtest_poly)\n",
    "    return ypred"
   ]
  },
  {
   "cell_type": "code",
   "execution_count": 169,
   "metadata": {
    "deletable": false,
    "editable": false,
    "nbgrader": {
     "cell_type": "code",
     "checksum": "1b7a3c2f9a1d13b91a5f00a27724e661",
     "grade": false,
     "grade_id": "cell-909a6302632eef4c",
     "locked": true,
     "schema_version": 3,
     "solution": false,
     "task": false
    }
   },
   "outputs": [
    {
     "name": "stdout",
     "output_type": "stream",
     "text": [
      "RSS Error:      33.52 obtained by method: ***Your Method***\n"
     ]
    }
   ],
   "source": [
    "ypred = fit_predict(X, y, X)\n",
    "print(\"RSS Error: %10.2f obtained by method: %s\" % (((y - ypred)**2).sum(), '***Your Method***'))"
   ]
  },
  {
   "cell_type": "code",
   "execution_count": null,
   "metadata": {
    "deletable": false,
    "editable": false,
    "nbgrader": {
     "cell_type": "code",
     "checksum": "b4cb5a41dcc14ae709f307d53d18073c",
     "grade": true,
     "grade_id": "cell-4547ad618c8bcf6b",
     "locked": true,
     "points": 0,
     "schema_version": 3,
     "solution": false,
     "task": false
    }
   },
   "outputs": [],
   "source": []
  },
  {
   "cell_type": "code",
   "execution_count": null,
   "metadata": {
    "deletable": false,
    "editable": false,
    "nbgrader": {
     "cell_type": "code",
     "checksum": "ea5fa2a94f462767af9117892ed65c17",
     "grade": true,
     "grade_id": "cell-03df8e6d32ca759f",
     "locked": true,
     "points": 5,
     "schema_version": 3,
     "solution": false,
     "task": false
    }
   },
   "outputs": [],
   "source": []
  },
  {
   "cell_type": "code",
   "execution_count": null,
   "metadata": {
    "deletable": false,
    "editable": false,
    "nbgrader": {
     "cell_type": "code",
     "checksum": "652fd987b375e550fca1132f3dd1c197",
     "grade": true,
     "grade_id": "cell-f5acef64333afe91",
     "locked": true,
     "points": 5,
     "schema_version": 3,
     "solution": false,
     "task": false
    }
   },
   "outputs": [],
   "source": []
  },
  {
   "cell_type": "code",
   "execution_count": null,
   "metadata": {
    "deletable": false,
    "editable": false,
    "nbgrader": {
     "cell_type": "code",
     "checksum": "094a15df5147b5e1016618846bbd89c4",
     "grade": true,
     "grade_id": "cell-c6dc550065f3121a",
     "locked": true,
     "points": 5,
     "schema_version": 3,
     "solution": false,
     "task": false
    }
   },
   "outputs": [],
   "source": []
  },
  {
   "cell_type": "code",
   "execution_count": null,
   "metadata": {
    "deletable": false,
    "editable": false,
    "nbgrader": {
     "cell_type": "code",
     "checksum": "dfe55bb53bd1fec30358e98686d4bac9",
     "grade": true,
     "grade_id": "cell-f473d74a5b5b9840",
     "locked": true,
     "points": 5,
     "schema_version": 3,
     "solution": false,
     "task": false
    }
   },
   "outputs": [],
   "source": []
  }
 ],
 "metadata": {
  "kernelspec": {
   "display_name": "Python 3 (ipykernel)",
   "language": "python",
   "name": "python3"
  },
  "language_info": {
   "codemirror_mode": {
    "name": "ipython",
    "version": 3
   },
   "file_extension": ".py",
   "mimetype": "text/x-python",
   "name": "python",
   "nbconvert_exporter": "python",
   "pygments_lexer": "ipython3",
   "version": "3.9.12"
  }
 },
 "nbformat": 4,
 "nbformat_minor": 4
}
