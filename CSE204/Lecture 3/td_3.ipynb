{
 "cells": [
  {
   "cell_type": "markdown",
   "metadata": {},
   "source": [
    "Make sure you fill in any place that says `YOUR CODE HERE` or \"YOUR ANSWER HERE\".\n",
    "\n",
    "Before you turn this problem in, make sure everything runs as expected. First, **restart the kernel** (in the menubar, select Kernel$\\rightarrow$Restart) and then **run all cells** (in the menubar, select Cell$\\rightarrow$Run All). On JupyterLab, you may want to hit the \"Validate\" button as well.\n",
    "\n",
    "Caution: do not mess with the notebook's metadata; do not change a pre-existing cell's type; do not copy pre-existing cells (add new ones with the + button instead). This will break autograding; you will get a 0; you are warned."
   ]
  },
  {
   "cell_type": "markdown",
   "metadata": {},
   "source": [
    "<table style=\"width: 100%; border: none;\" cellspacing=\"0\" cellpadding=\"0\" border=\"0\">\n",
    "  <tr>\n",
    "    <td><img src=\"https://www.planetegrandesecoles.com/wp-content/uploads/2021/07/Identite%CC%81-visuelle-Plane%CC%80te-BAC-8-600x398.png\" style=\"float: left; width: 100%\" />\n",
    "</td>\n",
    "    <td><h1 style=\"text-align: center; vertical-align: middle;\"><a href=\"https://moodle.polytechnique.fr/course/view.php?id=15585\">[CSE204-2022] - Introduction to Machine Learning</a></h1>\n",
    "</td>\n",
    "  </tr>\n",
    "</table>"
   ]
  },
  {
   "cell_type": "markdown",
   "metadata": {},
   "source": [
    "---"
   ]
  },
  {
   "cell_type": "markdown",
   "metadata": {
    "deletable": false,
    "editable": false,
    "nbgrader": {
     "cell_type": "markdown",
     "checksum": "8eec0f50dbf2c768d063687616672ed8",
     "grade": false,
     "grade_id": "cell-016ee4458dc3052a",
     "locked": true,
     "schema_version": 3,
     "solution": false,
     "task": false
    },
    "tags": [
     "meta",
     "toc_en"
    ]
   },
   "source": [
    "# Lab Session 3: k-Nearest Neighbors & Logistic Regression\n",
    "\n",
    "Jérémie DECOCK - Adrien EHRHARDT"
   ]
  },
  {
   "cell_type": "markdown",
   "metadata": {
    "deletable": false,
    "editable": false,
    "nbgrader": {
     "cell_type": "markdown",
     "checksum": "bafd50fde5c7effacf22e1f15db784d0",
     "grade": false,
     "grade_id": "cell-598c8d362eed3951",
     "locked": true,
     "schema_version": 3,
     "solution": false,
     "task": false
    }
   },
   "source": [
    "## Objectives\n",
    "\n",
    "- Implement Logistic Regression and *(k)-Nearest Neighbor(s)*\n",
    "- Use it to solve classification and regression problems\n",
    "- Define the decision boundaries\n",
    "- Explain the weaknesses of these algorithms"
   ]
  },
  {
   "cell_type": "markdown",
   "metadata": {
    "deletable": false,
    "editable": false,
    "nbgrader": {
     "cell_type": "markdown",
     "checksum": "24a26bec819370685d09327fd3ad949f",
     "grade": false,
     "grade_id": "cell-08302126bd4f9851",
     "locked": true,
     "schema_version": 3,
     "solution": false,
     "task": false
    }
   },
   "source": [
    "## Imports and tool functions"
   ]
  },
  {
   "cell_type": "code",
   "execution_count": 2,
   "metadata": {
    "deletable": false,
    "editable": false,
    "nbgrader": {
     "cell_type": "code",
     "checksum": "561f6d228474d12d583f7da388e02f30",
     "grade": false,
     "grade_id": "cell-63b1b9dd8415d471",
     "locked": true,
     "schema_version": 3,
     "solution": false,
     "task": false
    }
   },
   "outputs": [],
   "source": [
    "import numpy as np\n",
    "import matplotlib.pyplot as plt\n",
    "from matplotlib.colors import ListedColormap\n",
    "import pandas as pd\n",
    "import sklearn.neighbors\n",
    "from sklearn.utils import shuffle\n",
    "from scipy.spatial import Voronoi, voronoi_plot_2d"
   ]
  },
  {
   "cell_type": "code",
   "execution_count": 3,
   "metadata": {
    "deletable": false,
    "editable": false,
    "nbgrader": {
     "cell_type": "code",
     "checksum": "45a1173f1b50838510c734185cff2216",
     "grade": false,
     "grade_id": "cell-75363bce53640b3c",
     "locked": true,
     "schema_version": 3,
     "solution": false,
     "task": false
    }
   },
   "outputs": [],
   "source": [
    "def gen_2d_classification_samples(n_samples: int = 20, nclass: int = 3) -> pd.DataFrame:\n",
    "    \"\"\"\n",
    "    Generates 2-dimensional samples which belong to either 2 or 3 classes\n",
    "\n",
    "    :param int n_samples: number of samples to draw per class\n",
    "    :param int nclass: number of classes the samples belong to (either 2 or 3)\n",
    "    :returns: dataframe containing X (2 coordinates x1, x2) and y (as int!)\n",
    "    \"\"\"\n",
    "    cov = np.diag([2., 2.])\n",
    "\n",
    "    x1 = np.random.multivariate_normal(mean=[0., 0.], cov=cov, size=n_samples)\n",
    "    y1 = np.full(n_samples, 1, dtype=int)\n",
    "\n",
    "    x2 = np.random.multivariate_normal(mean=[4., 0.], cov=2.5*cov, size=n_samples)\n",
    "    y2 = np.full(n_samples, 2, dtype=int)\n",
    "\n",
    "    x3 = np.random.multivariate_normal(mean=[2., 4.], cov=cov, size=3*n_samples)\n",
    "    y3 = np.full(3*n_samples, 3, dtype=int)\n",
    "\n",
    "    if nclass == 3:\n",
    "        X = np.concatenate([x1, x2, x3])\n",
    "        y = np.concatenate([y1, y2, y3])\n",
    "    elif nclass == 2:\n",
    "        X = np.concatenate([x1, x2])\n",
    "        y = np.concatenate([y1, y2])\n",
    "    else:\n",
    "        raise ValueError(\"Only 2 or 3 classes\")\n",
    "\n",
    "    df = pd.DataFrame(X, columns=['x1', 'x2'])\n",
    "    df['y'] = y\n",
    "\n",
    "    df = shuffle(df).reset_index(drop=True)\n",
    "    \n",
    "    return df"
   ]
  },
  {
   "cell_type": "code",
   "execution_count": 37,
   "metadata": {
    "deletable": false,
    "editable": false,
    "nbgrader": {
     "cell_type": "code",
     "checksum": "4781e4b0a9d1fb00a6a456b8d1c46017",
     "grade": false,
     "grade_id": "cell-bac96755e7e26f9c",
     "locked": true,
     "schema_version": 3,
     "solution": false,
     "task": false
    }
   },
   "outputs": [],
   "source": [
    "def gen_and_plot_1d_regression_samples(n_samples : int = 40):\n",
    "    \"\"\"\n",
    "    Generates 1-dimensional regression samples\n",
    "\n",
    "    :param int n_samples: number of samples to draw\n",
    "    :returns: dataframe containing X (1 coordinate x) and y\n",
    "    \"\"\"\n",
    "    x = np.random.uniform(low=-10., high=10., size=n_samples)\n",
    "    # This is y = 2x + 3 + epsilon, similar to lab_session_02\n",
    "    y = -2. * x + 1. + np.random.normal(scale=4., size=x.shape)\n",
    "\n",
    "    df = pd.DataFrame(np.array([x, y]).T, columns=['x', 'y'])\n",
    "    df.plot.scatter(x='x', y='y');\n",
    "    return df"
   ]
  },
  {
   "cell_type": "code",
   "execution_count": 36,
   "metadata": {
    "deletable": false,
    "editable": false,
    "nbgrader": {
     "cell_type": "code",
     "checksum": "de876dd31ade0c1b9f36fc2ede70b67b",
     "grade": false,
     "grade_id": "cell-9237e4a7e49f9b6e",
     "locked": true,
     "schema_version": 3,
     "solution": false,
     "task": false
    }
   },
   "outputs": [],
   "source": [
    "cmap_light = ListedColormap(['#FFAAAA', '#AAFFAA', '#AAAAFF'])\n",
    "cmap_bold = ListedColormap(['#FF0000', '#00FF00', '#0000FF'])\n",
    "\n",
    "def plot_2d_classification_samples(dataframe: pd.DataFrame, model=None,\n",
    "                                   voronoi: bool = False):\n",
    "    \"\"\"\n",
    "    Plots the 2D classification problem, possibly with the results of a given model and the Voronoi cells.\n",
    "    \"\"\"\n",
    "    plt.figure(figsize=(8, 8))\n",
    "    df = dataframe  # make an alias so as not to modify dataframe\n",
    "    \n",
    "    ERROR_MSG1 = \"The `dataframe` parameter should be a Pandas DataFrame having the following columns: ['x1', 'x2', 'y']\"\n",
    "    assert df.columns.values.tolist() == ['x1', 'x2', 'y'], ERROR_MSG1\n",
    "    \n",
    "    ERROR_MSG2 = \"The `dataframe` parameter should be a Pandas DataFrame having the following labels (in column 'y'): [1, 2, 3]\"\n",
    "    labels = pd.unique(df.y).tolist()\n",
    "    labels.sort()\n",
    "    assert labels == [1, 2, 3] or labels == [1, 3] or labels == [1, 2], ERROR_MSG2\n",
    "\n",
    "    if model is not None:\n",
    "        if voronoi:\n",
    "            # Compute the Voronoi cells            \n",
    "            vor = Voronoi(df[['x1', 'x2']])\n",
    "\n",
    "            # Plot the Voronoi diagram\n",
    "            fig = voronoi_plot_2d(vor, show_vertices=False, show_points=False);\n",
    "            fig.set_size_inches(8, 8);\n",
    "        \n",
    "        # Compute the model's decision boundaries\n",
    "        h = .02  # step size in the mesh\n",
    "        x_min, x_max = df.x1.min() - 1, df.x1.max() + 1\n",
    "        y_min, y_max = df.x2.min() - 1, df.x2.max() + 1\n",
    "        xx, yy = np.meshgrid(np.arange(x_min, x_max, h),\n",
    "                             np.arange(y_min, y_max, h))\n",
    "        Z = model.predict(np.c_[xx.ravel(), yy.ravel()])\n",
    "        Z = Z.reshape(xx.shape)\n",
    "        \n",
    "        # Plot the model's decision boundaries\n",
    "        plt.pcolormesh(xx, yy, Z, cmap=cmap_light, alpha=0.5, shading=\"auto\")\n",
    "\n",
    "    # Plot also the training points\n",
    "    plt.scatter(df.x1, df.x2, c=df.y, cmap=cmap_bold, edgecolor='k', s=30)\n",
    "    plt.xlabel(r\"$x_1$\", fontsize=16)\n",
    "    plt.ylabel(r\"$x_2$\", fontsize=16)"
   ]
  },
  {
   "cell_type": "markdown",
   "metadata": {
    "deletable": false,
    "editable": false,
    "nbgrader": {
     "cell_type": "markdown",
     "checksum": "dfd211a72e77af0b04ef5acac77e1b17",
     "grade": false,
     "grade_id": "cell-c539d5681bd187c2",
     "locked": true,
     "schema_version": 3,
     "solution": false,
     "task": false
    }
   },
   "source": [
    "## Logistic Regression (Gradient Descent)"
   ]
  },
  {
   "cell_type": "markdown",
   "metadata": {
    "deletable": false,
    "editable": false,
    "nbgrader": {
     "cell_type": "markdown",
     "checksum": "23e7623a648971e6992945fb3b2ef445",
     "grade": false,
     "grade_id": "cell-f817d4a402721058",
     "locked": true,
     "schema_version": 3,
     "solution": false,
     "task": false
    }
   },
   "source": [
    "$k$-NN is a **non-parametric**, **classification** (with arbitrary number of classes) and **regression** algorithm.\n",
    "\n",
    "Logistic regression is a **parametric binary classification algorithm**, so we generate a dataframe `df` containing a label `y` with only 2 classes (`0` and `1`)."
   ]
  },
  {
   "cell_type": "code",
   "execution_count": 5,
   "metadata": {
    "deletable": false,
    "editable": false,
    "nbgrader": {
     "cell_type": "code",
     "checksum": "896198b14c4e733c9d4ee3ae22a9adad",
     "grade": false,
     "grade_id": "cell-cedbc22e4dce74e0",
     "locked": true,
     "schema_version": 3,
     "solution": false,
     "task": false
    }
   },
   "outputs": [],
   "source": [
    "df = gen_2d_classification_samples(n_samples = 100, nclass = 2)"
   ]
  },
  {
   "cell_type": "code",
   "execution_count": 6,
   "metadata": {
    "deletable": false,
    "editable": false,
    "nbgrader": {
     "cell_type": "code",
     "checksum": "ab667fd9e8cae00f021dd90d81bc861b",
     "grade": false,
     "grade_id": "cell-e3d6b53fa9768bb3",
     "locked": true,
     "schema_version": 3,
     "solution": false,
     "task": false
    }
   },
   "outputs": [
    {
     "data": {
      "image/png": "[encoded data removed]",
      "text/plain": [
       "<Figure size 576x576 with 1 Axes>"
      ]
     },
     "metadata": {
      "needs_background": "light"
     },
     "output_type": "display_data"
    }
   ],
   "source": [
    "plot_2d_classification_samples(df)"
   ]
  },
  {
   "cell_type": "code",
   "execution_count": 7,
   "metadata": {
    "deletable": false,
    "editable": false,
    "nbgrader": {
     "cell_type": "code",
     "checksum": "9fa86921a082163988a6f52c240f7758",
     "grade": false,
     "grade_id": "cell-f97708920edc4e00",
     "locked": true,
     "schema_version": 3,
     "solution": false,
     "task": false
    }
   },
   "outputs": [],
   "source": [
    "X = np.array([np.ones((df.shape[0])), df.x1, df.x2])\n",
    "y = np.array(df.y) - 1"
   ]
  },
  {
   "cell_type": "markdown",
   "metadata": {
    "deletable": false,
    "editable": false,
    "nbgrader": {
     "cell_type": "markdown",
     "checksum": "e90aa66c451d1bb535a8326722e26d0d",
     "grade": false,
     "grade_id": "cell-40b68107968c993d",
     "locked": true,
     "schema_version": 3,
     "solution": false,
     "task": false
    }
   },
   "source": [
    "Logistic regression is very similar to linear regression in so far as it is a **parametric model** which aims at finding a parameter $\\boldsymbol{\\theta}^\\star$ such as $f_{\\boldsymbol{\\theta}}: \\boldsymbol{x} \\mapsto y$ provides a good \"link\" between input vectors $\\boldsymbol{x} \\in \\mathbb{R}^p$ and output values $y \\in \\{0,1\\}$ in a *learning set* $\\mathcal{D} = \\{(\\boldsymbol{x}^{(i)}, y^{(i)})\\}_{1 \\leq i \\leq n}$ of $n$ examples:\n",
    "\n",
    "$$\n",
    "\\boldsymbol{\\theta}^\\star = \\arg\\!\\min E(\\boldsymbol{\\theta}, \\mathcal{D}),\n",
    "$$\n",
    "\n",
    "where $E(\\boldsymbol{\\theta}, \\mathcal{D}) = - \\sum_{i=1}^n \\ln p_{\\boldsymbol{\\theta}}(y^{(i)} | \\boldsymbol{x}^{(i)})$.\n",
    "\n",
    "This is called the log loss (machine learning community), or the negative loglikelihood (statistics community).\n",
    "\n",
    "Fortunately, logistic regression is a rather simple model which states:\n",
    "\n",
    "$$\n",
    "p_{\\boldsymbol{\\theta}}(1 | \\boldsymbol{x}^{(i)}) = \\frac{1}{1+\\exp{(-\\boldsymbol{\\theta}^T \\boldsymbol{x}^{(i)})}}\n",
    "$$\n",
    "\n",
    "The loss function $E(\\boldsymbol{\\theta}, \\mathcal{D})$ is convex, which means $\\boldsymbol{\\theta}^\\star$ exists, is unique, and can be obtained by minimizing $E$."
   ]
  },
  {
   "cell_type": "markdown",
   "metadata": {
    "deletable": false,
    "editable": false,
    "nbgrader": {
     "cell_type": "markdown",
     "checksum": "9f5eb61874c9c6cb792a6d7c67eac87d",
     "grade": false,
     "grade_id": "cell-c301c179faa98ecd",
     "locked": true,
     "schema_version": 3,
     "solution": false,
     "task": false
    }
   },
   "source": [
    "### Exercise 1\n",
    "\n",
    "Complete the following `gradient_descent` function implemented in the last lab to work for logistic regression. \n",
    "\n",
    "**Hint**: only the gradient needs to be changed."
   ]
  },
  {
   "cell_type": "code",
   "execution_count": 107,
   "metadata": {
    "deletable": false,
    "nbgrader": {
     "cell_type": "code",
     "checksum": "2d4a6294225acfa786e10620010b8d77",
     "grade": false,
     "grade_id": "cell-826e6ccd75478439",
     "locked": false,
     "schema_version": 3,
     "solution": true,
     "task": false
    }
   },
   "outputs": [],
   "source": [
    "def gradient_descent(X, y, eta=0.001, max_iteration=10000, initial_theta=None):\n",
    "\n",
    "    if initial_theta is None:\n",
    "        # The initial solution is selected randomly\n",
    "        theta = np.random.normal(loc=0, scale=10, size=[3, 1])\n",
    "    else:\n",
    "        theta = initial_theta\n",
    "\n",
    "\n",
    "    def sigmoid(z):\n",
    "        return 1 / (1 + np.exp(-z))\n",
    "    grad_list = []      # Keep the gradient of all iterations\n",
    "    theta_list = []     # Keep the solution of all iterations\n",
    "    # Perform useful matrix multiplication\n",
    "    def give_grad(sigma):\n",
    "        sigma = sigmoid(theta.T.dot(X))\n",
    "        return X.dot((sigma-y).T)\n",
    "\n",
    "    for i in range(max_iteration):\n",
    "        # Perform the gradient descent here\n",
    "        # Perform the gradient descent here\n",
    "        grad = give_grad(theta)\n",
    "       # grad_list.append([grad[0][0], grad[1][0]])      # Keep the gradient\n",
    "       # theta_list.append([theta[0][0], theta[1][0]])   # Keep the solution\n",
    "        grad_list.append(grad)      # Keep the gradient\n",
    "        theta_list.append(theta)   # Keep the solution\n",
    "\n",
    "        theta = theta - eta*grad\n",
    "\n",
    "    return grad_list, theta_list"
   ]
  },
  {
   "cell_type": "markdown",
   "metadata": {
    "deletable": false,
    "editable": false,
    "nbgrader": {
     "cell_type": "markdown",
     "checksum": "10415c77074d4b1d831ce043d11b9943",
     "grade": false,
     "grade_id": "cell-33f9a354f6a7a96d",
     "locked": true,
     "schema_version": 3,
     "solution": false,
     "task": false
    }
   },
   "source": [
    "(You don't have to fill in anything in the following cell; it's a general comment about the solution of the previous cell which will be provided in the solutions of this lab session.)"
   ]
  },
  {
   "cell_type": "code",
   "execution_count": 108,
   "metadata": {},
   "outputs": [
    {
     "name": "stdout",
     "output_type": "stream",
     "text": [
      "(1, 200)\n",
      "(3, 200)\n",
      "(200,)\n"
     ]
    }
   ],
   "source": [
    "\n",
    "def sigmoid(z):\n",
    "    return 1 / (1 + np.exp(-z))\n",
    "\n",
    "theta = np.random.normal(loc=0, scale=10, size=[3, 1])\n",
    "print(sigmoid(theta.T.dot(X)).shape)\n",
    "print(X.shape)\n",
    "print(y.shape)"
   ]
  },
  {
   "cell_type": "markdown",
   "metadata": {
    "deletable": false,
    "nbgrader": {
     "cell_type": "markdown",
     "checksum": "698dd5d58fd137fb48e42f1dc712e78b",
     "grade": true,
     "grade_id": "cell-7533859a60567f8c",
     "locked": false,
     "points": 0,
     "schema_version": 3,
     "solution": true,
     "task": false
    }
   },
   "source": [
    "YOUR ANSWER HERE"
   ]
  },
  {
   "cell_type": "code",
   "execution_count": 109,
   "metadata": {
    "deletable": false,
    "editable": false,
    "nbgrader": {
     "cell_type": "code",
     "checksum": "aad97852fa7441d848b64aae5aa4da3d",
     "grade": true,
     "grade_id": "cell-00e6aaad8d91fb86",
     "locked": true,
     "points": 1,
     "schema_version": 3,
     "solution": false,
     "task": false
    }
   },
   "outputs": [],
   "source": [
    "grad_list, theta_list = gradient_descent(X, y, eta = 0.001)"
   ]
  },
  {
   "cell_type": "markdown",
   "metadata": {
    "deletable": false,
    "editable": false,
    "nbgrader": {
     "cell_type": "markdown",
     "checksum": "f1e9deeece534c6e814540d7f7261971",
     "grade": false,
     "grade_id": "cell-58020eb3f120a67a",
     "locked": true,
     "schema_version": 3,
     "solution": false,
     "task": false
    }
   },
   "source": [
    "Let's see if it has converged by plotting the parameters w.r.t. the iteration number:"
   ]
  },
  {
   "cell_type": "code",
   "execution_count": 110,
   "metadata": {
    "deletable": false,
    "editable": false,
    "nbgrader": {
     "cell_type": "code",
     "checksum": "ec8dddf7a58b053732bc993a24560164",
     "grade": false,
     "grade_id": "cell-4a914191992a8326",
     "locked": true,
     "schema_version": 3,
     "solution": false,
     "task": false
    }
   },
   "outputs": [
    {
     "data": {
      "image/png": "[encoded data removed]",
      "text/plain": [
       "<Figure size 432x288 with 1 Axes>"
      ]
     },
     "metadata": {
      "needs_background": "light"
     },
     "output_type": "display_data"
    }
   ],
   "source": [
    "plt.plot([theta[0] for theta in theta_list]);\n",
    "plt.plot([theta[1] for theta in theta_list]);\n",
    "plt.plot([theta[2] for theta in theta_list]);"
   ]
  },
  {
   "cell_type": "markdown",
   "metadata": {
    "deletable": false,
    "editable": false,
    "nbgrader": {
     "cell_type": "markdown",
     "checksum": "cee8b0d54870f1f949a2de47dcf05ffd",
     "grade": false,
     "grade_id": "cell-5e3051ce7de44c3a",
     "locked": true,
     "schema_version": 3,
     "solution": false,
     "task": false
    }
   },
   "source": [
    "Let's see the decision boundary, i.e. the half-spaces where each label is predicted."
   ]
  },
  {
   "cell_type": "code",
   "execution_count": 111,
   "metadata": {
    "deletable": false,
    "editable": false,
    "nbgrader": {
     "cell_type": "code",
     "checksum": "7690d531d38ad02537a2ecd4ce6f4b90",
     "grade": false,
     "grade_id": "cell-02f4f6e31a17faad",
     "locked": true,
     "schema_version": 3,
     "solution": false,
     "task": false
    }
   },
   "outputs": [
    {
     "data": {
      "image/png": "[encoded data removed]",
      "text/plain": [
       "<Figure size 432x288 with 1 Axes>"
      ]
     },
     "metadata": {
      "needs_background": "light"
     },
     "output_type": "display_data"
    }
   ],
   "source": [
    "x_min, x_max = np.array((df.x1, df.x2))[0, :].min() - .5,\\\n",
    "    np.array((df.x1, df.x2))[0, :].max() + .5\n",
    "y_min, y_max = np.array((df.x1, df.x2))[1, :].min() - .5,\\\n",
    "    np.array((df.x1, df.x2))[1, :].max() + .5\n",
    "h = .02  # step size in the mesh\n",
    "xx, yy = np.meshgrid(np.arange(x_min, x_max, h),\n",
    "                     np.arange(y_min, y_max, h))\n",
    "Z = 1 / (1 + np.exp(-np.dot(np.c_[np.ones((len(xx.ravel()))),\n",
    "                                  xx.ravel(), yy.ravel()], theta_list[9999])))\n",
    "plt.pcolormesh(xx, yy, (Z.reshape(xx.shape) > 0.5)*1, cmap=plt.cm.Paired)\n",
    "plt.scatter(df.x1, df.x2, c=y);"
   ]
  },
  {
   "cell_type": "markdown",
   "metadata": {
    "deletable": false,
    "editable": false,
    "nbgrader": {
     "cell_type": "markdown",
     "checksum": "e35794c8a5dc7a5cdf82f083b5c8efff",
     "grade": false,
     "grade_id": "cell-4ec063e0844c5c5f",
     "locked": true,
     "schema_version": 3,
     "solution": false,
     "task": false
    }
   },
   "source": [
    "## Logistic Regression (scikit-learn)"
   ]
  },
  {
   "cell_type": "markdown",
   "metadata": {
    "deletable": false,
    "editable": false,
    "nbgrader": {
     "cell_type": "markdown",
     "checksum": "86b883e5ddd8285e9c29e91a96fff64d",
     "grade": false,
     "grade_id": "cell-819ce233e39cb9c0",
     "locked": true,
     "schema_version": 3,
     "solution": false,
     "task": false
    }
   },
   "source": [
    "### Exercise 2\n",
    "\n",
    "Let's do the same using scikit-learn!\n",
    "\n",
    "Similar to the previous lab, logistic regression belongs to the linear model module, and provides among others the `fit` and `predict` methods. Use the `fit` method to compare the coefficients obtained with scikit-learn and your gradient descent.\n",
    "\n",
    "**Beware of the `C` parameter**, which corresponds to L2 regularization (see [docs](https://scikit-learn.org/stable/modules/generated/sklearn.linear_model.LogisticRegression.html)) - this will be the subject of subsequent lectures; set it to an arbitrarily high value, e.g. `1e9`."
   ]
  },
  {
   "cell_type": "code",
   "execution_count": 112,
   "metadata": {
    "deletable": false,
    "nbgrader": {
     "cell_type": "code",
     "checksum": "8373d9dd0d234866e672d36c1ba526f5",
     "grade": false,
     "grade_id": "cell-f5bd213d69a982d8",
     "locked": false,
     "schema_version": 3,
     "solution": true,
     "task": false
    }
   },
   "outputs": [
    {
     "data": {
      "text/plain": [
       "LogisticRegression(C=1000000000.0, fit_intercept=False)"
      ]
     },
     "execution_count": 112,
     "metadata": {},
     "output_type": "execute_result"
    }
   ],
   "source": [
    "# Uncomment and provide the appropriate parameters:\n",
    "model = sklearn.linear_model.LogisticRegression(C=1e9, fit_intercept=False)\n",
    "model.fit(X.T, y)"
   ]
  },
  {
   "cell_type": "markdown",
   "metadata": {
    "deletable": false,
    "editable": false,
    "nbgrader": {
     "cell_type": "markdown",
     "checksum": "be9a0cc7606b8a2d8c8b0f63c58ae83e",
     "grade": false,
     "grade_id": "cell-3ff39a810b648cea",
     "locked": true,
     "schema_version": 3,
     "solution": false,
     "task": false
    }
   },
   "source": [
    "Let's see if we came up with the same estimates:"
   ]
  },
  {
   "cell_type": "code",
   "execution_count": 113,
   "metadata": {
    "deletable": false,
    "editable": false,
    "nbgrader": {
     "cell_type": "code",
     "checksum": "a519e90055d076264c03a67017fa464e",
     "grade": false,
     "grade_id": "cell-a159ad94f5ba1a8c",
     "locked": true,
     "schema_version": 3,
     "solution": false,
     "task": false
    }
   },
   "outputs": [
    {
     "name": "stdout",
     "output_type": "stream",
     "text": [
      "Intercept\n",
      "=========\n",
      "sklearn:\t\t -1.9886561589491873\n",
      "gradient descent: \t [-1.98865636]\n",
      "\n",
      "\n",
      "theta_1\n",
      "=========\n",
      "sklearn:\t\t 1.1333618646098274\n",
      "gradient descent:\t [1.13336262]\n",
      "\n",
      "\n",
      "theta_2\n",
      "=========\n",
      "sklearn:\t\t -0.06822215181734548\n",
      "gradient descent:\t [-0.0682238]\n"
     ]
    }
   ],
   "source": [
    "print(\"Intercept\")\n",
    "print(\"=========\")\n",
    "print(\"sklearn:\\t\\t\", model.coef_[0][0])\n",
    "print(\"gradient descent: \\t\", theta_list[9999][0])\n",
    "print(\"\\n\")\n",
    "\n",
    "print(\"theta_1\")\n",
    "print(\"=========\")\n",
    "print(\"sklearn:\\t\\t\", model.coef_[0][1])\n",
    "print(\"gradient descent:\\t\", theta_list[9999][1])\n",
    "print(\"\\n\")\n",
    "\n",
    "print(\"theta_2\")\n",
    "print(\"=========\")\n",
    "print(\"sklearn:\\t\\t\", model.coef_[0][2])\n",
    "print(\"gradient descent:\\t\", theta_list[9999][2])"
   ]
  },
  {
   "cell_type": "code",
   "execution_count": null,
   "metadata": {
    "deletable": false,
    "editable": false,
    "nbgrader": {
     "cell_type": "code",
     "checksum": "40e65a09d8bcc2b4ea216b1677f9c42b",
     "grade": true,
     "grade_id": "cell-1ff57bcb5ef04db0",
     "locked": true,
     "points": 1,
     "schema_version": 3,
     "solution": false,
     "task": false
    }
   },
   "outputs": [],
   "source": []
  },
  {
   "cell_type": "markdown",
   "metadata": {
    "deletable": false,
    "editable": false,
    "nbgrader": {
     "cell_type": "markdown",
     "checksum": "8d85a42089b3b4653560eae7b909f5f0",
     "grade": false,
     "grade_id": "cell-5bcf88e115620105",
     "locked": true,
     "schema_version": 3,
     "solution": false,
     "task": false
    }
   },
   "source": [
    "## Logistic Regression with Polynomial Basis Functions\n",
    "\n",
    "We will now generate some data with a non-linear boundary between classes to illustrate the power of the logistic regression classifier with polynomial basis function features as input. "
   ]
  },
  {
   "cell_type": "code",
   "execution_count": 123,
   "metadata": {
    "deletable": false,
    "editable": false,
    "nbgrader": {
     "cell_type": "code",
     "checksum": "dfd18eef4fbebc1bf9c0357f27e1ab2d",
     "grade": false,
     "grade_id": "cell-a866914d4450adac",
     "locked": true,
     "schema_version": 3,
     "solution": false,
     "task": false
    }
   },
   "outputs": [],
   "source": [
    "def gen_nonlinear_2d_classification_samples(n_samples: int = 20, nclass: int = 3) -> pd.DataFrame:\n",
    "    \"\"\"\n",
    "    Generates 2-dimensional samples which belong to either 2 or 3 classes\n",
    "\n",
    "    :param int n_samples: number of samples to draw per class\n",
    "    :param int nclass: number of classes the samples belong to (either 2 or 3)\n",
    "    :returns: dataframe containing X (2 coordinates x1, x2) and y (as int!)\n",
    "    \"\"\"\n",
    "    cov1 = np.diag([2., 2])\n",
    "    cov2 = np.diag([6., 2])\n",
    "\n",
    "    x1 = np.random.multivariate_normal(mean=[-3., 0.], cov=cov1, size=n_samples)\n",
    "    y1 = np.full(n_samples, 1, dtype=int)\n",
    "    x2 = np.random.multivariate_normal(mean=[3., 6], cov=cov1, size=n_samples)\n",
    "    y2 = np.full(n_samples, 1, dtype=int)\n",
    "    x3 = np.random.multivariate_normal(mean=[3., -6.], cov=cov1, size=n_samples)\n",
    "    y3 = np.full(n_samples, 1, dtype=int)\n",
    "\n",
    "    x4 = np.random.multivariate_normal(mean=[3., 0.], cov=cov2, size=n_samples)\n",
    "    y4 = np.full(n_samples, 2, dtype=int)\n",
    "\n",
    "    if nclass == 2:\n",
    "        X = np.concatenate([x1, x2, x3, x4])\n",
    "        y = np.concatenate([y1, y2, y3, y4])\n",
    "    else:\n",
    "        raise ValueError(\"Only 2 or 3 classes\")\n",
    "\n",
    "    df = pd.DataFrame(X, columns=['x1', 'x2'])\n",
    "    df['y'] = y\n",
    "\n",
    "    df = shuffle(df).reset_index(drop=True)\n",
    "    \n",
    "    return df"
   ]
  },
  {
   "cell_type": "code",
   "execution_count": 124,
   "metadata": {
    "deletable": false,
    "editable": false,
    "nbgrader": {
     "cell_type": "code",
     "checksum": "eae978e4f737c66dbef2cc592f528102",
     "grade": false,
     "grade_id": "cell-3f182aa477bbca71",
     "locked": true,
     "schema_version": 3,
     "solution": false,
     "task": false
    }
   },
   "outputs": [
    {
     "data": {
      "image/png": "[encoded data removed]",
      "text/plain": [
       "<Figure size 576x576 with 1 Axes>"
      ]
     },
     "metadata": {
      "needs_background": "light"
     },
     "output_type": "display_data"
    }
   ],
   "source": [
    "df = gen_nonlinear_2d_classification_samples(n_samples=100, nclass=2)\n",
    "plot_2d_classification_samples(df)"
   ]
  },
  {
   "attachments": {},
   "cell_type": "markdown",
   "metadata": {
    "deletable": false,
    "editable": false,
    "nbgrader": {
     "cell_type": "markdown",
     "checksum": "561ced0d945400a764f36aad04a2cf8e",
     "grade": false,
     "grade_id": "cell-cb3097705f6d6022",
     "locked": true,
     "schema_version": 3,
     "solution": false,
     "task": false
    }
   },
   "source": [
    "### Exercise 3\n",
    "\n",
    "Please fit two logisic regression models. The first model called `model_lin` should be fit to the data stored in `df`. While the second model called `model_sq` should be fit to a dataframe containing also entries corresponding to the squared values of the $x_1$ and $x_2$ features, i.e., this second model should have 5 parameters. \n",
    "\n",
    "Then, use the two models to predict the class of the point $\\begin{pmatrix}{3 \\\\ 0}\\end{pmatrix}$ and store the predictions of `model_lin` and `model_sq` in `pred_lin` and `pred_sq`, respectively."
   ]
  },
  {
   "cell_type": "code",
   "execution_count": 44,
   "metadata": {},
   "outputs": [
    {
     "name": "stdout",
     "output_type": "stream",
     "text": [
      "           x1        x2  y\n",
      "0    4.016028  8.378818  1\n",
      "1    2.899711  7.533662  1\n",
      "2    1.217806  2.172498  2\n",
      "3    3.303509 -5.526899  1\n",
      "4    2.300093  1.411879  2\n",
      "..        ...       ... ..\n",
      "395 -1.313537 -1.088562  1\n",
      "396  0.347062 -4.340810  1\n",
      "397  4.213402 -6.050423  1\n",
      "398  1.493923  6.375813  1\n",
      "399  4.778327  6.009736  1\n",
      "\n",
      "[400 rows x 3 columns]\n"
     ]
    }
   ],
   "source": [
    "print(df)"
   ]
  },
  {
   "cell_type": "code",
   "execution_count": 126,
   "metadata": {},
   "outputs": [
    {
     "name": "stdout",
     "output_type": "stream",
     "text": [
      "Prediction using linear model: [1]\n",
      "Prediction using quadratic model: [2]\n"
     ]
    },
    {
     "name": "stderr",
     "output_type": "stream",
     "text": [
      "/home/erikdz/anaconda3/lib/python3.9/site-packages/sklearn/base.py:450: UserWarning: X does not have valid feature names, but LogisticRegression was fitted with feature names\n",
      "  warnings.warn(\n"
     ]
    }
   ],
   "source": [
    "# Extract features (X) and target variable (y)\n",
    "X = df[['x1', 'x2']]\n",
    "y = df['y']\n",
    "\n",
    "# Fit linear model\n",
    "model_lin = sklearn.linear_model.LogisticRegression(C=1e9)\n",
    "model_lin.fit(X, y)\n",
    "\n",
    "# Fit quadratic model\n",
    "X_sq = np.column_stack((X, X ** 2))\n",
    "model_sq = sklearn.linear_model.LogisticRegression(C=1e9)\n",
    "model_sq.fit(X_sq, y)\n",
    "\n",
    "# Make predictions for point (3, 0)\n",
    "point = np.array([[3, 0]])\n",
    "point_sq = np.column_stack((point, point ** 2))\n",
    "pred_lin = model_lin.predict(point)\n",
    "pred_sq = model_sq.predict(point_sq)\n",
    "\n",
    "print('Prediction using linear model:', pred_lin)\n",
    "print('Prediction using quadratic model:', pred_sq)"
   ]
  },
  {
   "cell_type": "markdown",
   "metadata": {
    "deletable": false,
    "editable": false,
    "nbgrader": {
     "cell_type": "markdown",
     "checksum": "33aa18d6fd1a0844b630b1bc4b7101fe",
     "grade": false,
     "grade_id": "cell-746b0b2489304c2d",
     "locked": true,
     "schema_version": 3,
     "solution": false,
     "task": false
    }
   },
   "source": [
    "Run the below code cell to visualise the decision boundaries of `model_lin` and `model_sq`."
   ]
  },
  {
   "cell_type": "code",
   "execution_count": 127,
   "metadata": {
    "deletable": false,
    "editable": false,
    "nbgrader": {
     "cell_type": "code",
     "checksum": "80697d5c57a6313b6ba62269a29e898d",
     "grade": false,
     "grade_id": "cell-a2c2d09230477905",
     "locked": true,
     "schema_version": 3,
     "solution": false,
     "task": false
    }
   },
   "outputs": [
    {
     "name": "stderr",
     "output_type": "stream",
     "text": [
      "/home/erikdz/anaconda3/lib/python3.9/site-packages/sklearn/base.py:450: UserWarning: X does not have valid feature names, but LogisticRegression was fitted with feature names\n",
      "  warnings.warn(\n"
     ]
    },
    {
     "data": {
      "image/png": "[encoded data removed]",
      "text/plain": [
       "<Figure size 864x288 with 2 Axes>"
      ]
     },
     "metadata": {
      "needs_background": "light"
     },
     "output_type": "display_data"
    }
   ],
   "source": [
    "plt.figure(figsize=(12, 4))\n",
    "\n",
    "# model_lin\n",
    "plt.subplot(1, 2, 1)\n",
    "x_min, x_max = np.array((df.x1, df.x2))[0, :].min() - .5,\\\n",
    "    np.array((df.x1, df.x2))[0, :].max() + .5\n",
    "y_min, y_max = np.array((df.x1, df.x2))[1, :].min() - .5,\\\n",
    "    np.array((df.x1, df.x2))[1, :].max() + .5\n",
    "h = .02  # step size in the mesh\n",
    "xx, yy = np.meshgrid(np.arange(x_min, x_max, h), np.arange(y_min, y_max, h))\n",
    "plt.pcolormesh(xx, yy, model_lin.predict(np.concatenate([\n",
    "    xx.ravel().reshape((-1,1)),yy.ravel().reshape((-1,1))], axis=1)).reshape(xx.shape),\n",
    "               cmap=plt.cm.Paired)\n",
    "plt.scatter(df.x1, df.x2, c=df['y']);\n",
    "\n",
    "# model_sq\n",
    "plt.subplot(1, 2, 2)\n",
    "x_min, x_max = np.array((df.x1, df.x2))[0, :].min() - .5,\\\n",
    "    np.array((df.x1, df.x2))[0, :].max() + .5\n",
    "y_min, y_max = np.array((df.x1, df.x2))[1, :].min() - .5,\\\n",
    "    np.array((df.x1, df.x2))[1, :].max() + .5\n",
    "h = .02  # step size in the mesh\n",
    "xx, yy = np.meshgrid(np.arange(x_min, x_max, h), np.arange(y_min, y_max, h))\n",
    "plt.pcolormesh(xx, yy, model_sq.predict(np.concatenate([\n",
    "    xx.ravel().reshape((-1, 1)),yy.ravel().reshape((-1, 1)),\n",
    "    xx.ravel().reshape((-1, 1))**2, yy.ravel().reshape((-1, 1))**2],\n",
    "    axis=1)).reshape(xx.shape), cmap=plt.cm.Paired)\n",
    "plt.scatter(df.x1, df.x2, c=df['y']);"
   ]
  },
  {
   "cell_type": "markdown",
   "metadata": {
    "deletable": false,
    "editable": false,
    "nbgrader": {
     "cell_type": "markdown",
     "checksum": "878616333963d9e5daa04ef9f0f32b12",
     "grade": false,
     "grade_id": "cell-8a207a748c7acf58",
     "locked": true,
     "schema_version": 3,
     "solution": false,
     "task": false
    }
   },
   "source": [
    "## Nearest Neighbor algorithm"
   ]
  },
  {
   "cell_type": "markdown",
   "metadata": {
    "deletable": false,
    "editable": false,
    "nbgrader": {
     "cell_type": "markdown",
     "checksum": "57f802b3be471026bf303abbedfc1370",
     "grade": false,
     "grade_id": "cell-ceaca5dd14cf6d38",
     "locked": true,
     "schema_version": 3,
     "solution": false,
     "task": false
    }
   },
   "source": [
    "Here you will implement one of the simplest (but quite powerful) machine learning algorithm: the *Nearest Neighbor* algorithm and its extension the *k-Nearest Neighbors* algorithm (or *kNN*). Both can be used for classification and regression tasks.\n",
    "\n",
    "Considering a dataset $\\mathcal{D}=\\{(\\boldsymbol{x}_i, y_i)_{i=1,\\dots,n}\\}$ of $n$ labeled examples, the *Nearest Neighbor* model assigns an input vector $\\boldsymbol{x}$ (of dimension $p$) to the label $y_{{\\arg\\!\\min}_{i=1,\\dots, n}d(x, x_i)}$ of its closest neighbor in $\\mathcal{D}$.\n",
    "\n",
    "The closest neighbor is defined w.r.t. a distance function $d$. This can be any metric measure, but the *Minkowski distance* (especially the classical Euclidian distance $d_2$) is the most common choice. It is defined as follows:\n",
    "\n",
    "$$d_q: \\mathbb{R}^p \\times \\mathbb{R}^p \\to \\mathbb{R}$$\n",
    "\n",
    "$$d_q(\\boldsymbol{u}, \\boldsymbol{v}) = ||\\boldsymbol{u} - \\boldsymbol{v}||_q = \\left( \\sum_{j=1}^p |u_j - v_j|^q \\right)^{1/q}$$\n",
    "\n",
    "When $q=2$, $d_q$ is the *Euclidian distance*\n",
    "\n",
    "$$d_2(\\boldsymbol{u}, \\boldsymbol{v}) = \\sqrt{\\sum_{j=1}^{p} (u_j - v_j)^2}$$\n",
    "\n",
    "When $q=1$, $d_q$ is the *Manhattan distance*\n",
    "\n",
    "$$d_1(\\boldsymbol{u}, \\boldsymbol{v}) = \\sum_{j=1}^{p} |u_j - v_j|$$\n",
    "\n",
    "When $q=\\infty$, $d_q$ is the  *Tchebychev distance*\n",
    "\n",
    "$$d_{\\infty}(\\boldsymbol{u}, \\boldsymbol{v}) = \\max_{j=1,\\dots,p} |u_j - v_j|$$"
   ]
  },
  {
   "cell_type": "markdown",
   "metadata": {
    "deletable": false,
    "editable": false,
    "nbgrader": {
     "cell_type": "markdown",
     "checksum": "0cd89a431a5ef979368259ad4be989cd",
     "grade": false,
     "grade_id": "cell-d684a12aad5144eb",
     "locked": true,
     "schema_version": 3,
     "solution": false,
     "task": false
    }
   },
   "source": [
    "### Exercise 4"
   ]
  },
  {
   "cell_type": "markdown",
   "metadata": {
    "deletable": false,
    "editable": false,
    "nbgrader": {
     "cell_type": "markdown",
     "checksum": "31559b4635e8ab1a7788324bf9630591",
     "grade": false,
     "grade_id": "cell-02c0234085e3d9d7",
     "locked": true,
     "schema_version": 3,
     "solution": false,
     "task": false
    }
   },
   "source": [
    "We consider the following dataset (where `x1` and `x2` are examples' features and where `y` represents the examples' labels):"
   ]
  },
  {
   "cell_type": "code",
   "execution_count": 128,
   "metadata": {
    "deletable": false,
    "editable": false,
    "nbgrader": {
     "cell_type": "code",
     "checksum": "f9d8f63f1bc2cce1802c1c8fbb14b7e9",
     "grade": false,
     "grade_id": "cell-5539eeb5cc8c4774",
     "locked": true,
     "schema_version": 3,
     "solution": false,
     "task": false
    }
   },
   "outputs": [
    {
     "data": {
      "text/html": [
       "<div>\n",
       "<style scoped>\n",
       "    .dataframe tbody tr th:only-of-type {\n",
       "        vertical-align: middle;\n",
       "    }\n",
       "\n",
       "    .dataframe tbody tr th {\n",
       "        vertical-align: top;\n",
       "    }\n",
       "\n",
       "    .dataframe thead th {\n",
       "        text-align: right;\n",
       "    }\n",
       "</style>\n",
       "<table border=\"1\" class=\"dataframe\">\n",
       "  <thead>\n",
       "    <tr style=\"text-align: right;\">\n",
       "      <th></th>\n",
       "      <th>x1</th>\n",
       "      <th>x2</th>\n",
       "      <th>y</th>\n",
       "    </tr>\n",
       "  </thead>\n",
       "  <tbody>\n",
       "    <tr>\n",
       "      <th>0</th>\n",
       "      <td>0</td>\n",
       "      <td>0</td>\n",
       "      <td>1</td>\n",
       "    </tr>\n",
       "    <tr>\n",
       "      <th>1</th>\n",
       "      <td>0</td>\n",
       "      <td>1</td>\n",
       "      <td>1</td>\n",
       "    </tr>\n",
       "    <tr>\n",
       "      <th>2</th>\n",
       "      <td>1</td>\n",
       "      <td>1</td>\n",
       "      <td>2</td>\n",
       "    </tr>\n",
       "    <tr>\n",
       "      <th>3</th>\n",
       "      <td>1</td>\n",
       "      <td>0</td>\n",
       "      <td>3</td>\n",
       "    </tr>\n",
       "  </tbody>\n",
       "</table>\n",
       "</div>"
      ],
      "text/plain": [
       "   x1  x2  y\n",
       "0   0   0  1\n",
       "1   0   1  1\n",
       "2   1   1  2\n",
       "3   1   0  3"
      ]
     },
     "execution_count": 128,
     "metadata": {},
     "output_type": "execute_result"
    }
   ],
   "source": [
    "data = [[0, 0, 1],\n",
    "        [0, 1, 1],\n",
    "        [1, 1, 2],\n",
    "        [1, 0, 3]]\n",
    "\n",
    "df = pd.DataFrame(data, columns=['x1', 'x2', 'y'])\n",
    "df"
   ]
  },
  {
   "cell_type": "code",
   "execution_count": 129,
   "metadata": {
    "deletable": false,
    "editable": false,
    "nbgrader": {
     "cell_type": "code",
     "checksum": "a49dd7496f9922861204cdbc5d633cb1",
     "grade": false,
     "grade_id": "cell-6d5a970be7af5637",
     "locked": true,
     "schema_version": 3,
     "solution": false,
     "task": false
    }
   },
   "outputs": [
    {
     "data": {
      "image/png": "[encoded data removed]",
      "text/plain": [
       "<Figure size 576x576 with 1 Axes>"
      ]
     },
     "metadata": {
      "needs_background": "light"
     },
     "output_type": "display_data"
    }
   ],
   "source": [
    "plot_2d_classification_samples(df)"
   ]
  },
  {
   "cell_type": "markdown",
   "metadata": {
    "deletable": false,
    "editable": false,
    "nbgrader": {
     "cell_type": "markdown",
     "checksum": "02646b276e15c09ce0b8279d6756e35d",
     "grade": false,
     "grade_id": "cell-3da8dba022fc7986",
     "locked": true,
     "schema_version": 3,
     "solution": false,
     "task": false
    }
   },
   "source": [
    "Which label (red/1, green/2, blue/3) will be predicted by the Nearest Neighbor algorithm for the point $x = \\pmatrix{1 \\\\ 0.75}$ ?"
   ]
  },
  {
   "attachments": {},
   "cell_type": "markdown",
   "metadata": {
    "deletable": false,
    "nbgrader": {
     "cell_type": "markdown",
     "checksum": "d7a80dbd24d16f005751c3524d7ff44c",
     "grade": true,
     "grade_id": "cell-28c004615b24572f",
     "locked": false,
     "points": 1,
     "schema_version": 3,
     "solution": true,
     "task": false
    }
   },
   "source": [
    "Green"
   ]
  },
  {
   "cell_type": "markdown",
   "metadata": {
    "deletable": false,
    "editable": false,
    "nbgrader": {
     "cell_type": "markdown",
     "checksum": "4413e4d643ce9186cce3a3bc1fafb6bb",
     "grade": false,
     "grade_id": "cell-1f6f6a3951f12dc6",
     "locked": true,
     "schema_version": 3,
     "solution": false,
     "task": false
    }
   },
   "source": [
    "### Exercise 5"
   ]
  },
  {
   "cell_type": "markdown",
   "metadata": {
    "deletable": false,
    "editable": false,
    "nbgrader": {
     "cell_type": "markdown",
     "checksum": "9e665b6d9d826ccbdf30a73af3dbd491",
     "grade": false,
     "grade_id": "cell-e9bcfd0ab3326493",
     "locked": true,
     "schema_version": 3,
     "solution": false,
     "task": false
    }
   },
   "source": [
    "Consider this new dataset (where `volume (mL)` and `caffeine (g)` are the examples' features and where `drink` is their label):"
   ]
  },
  {
   "cell_type": "code",
   "execution_count": 130,
   "metadata": {
    "deletable": false,
    "editable": false,
    "nbgrader": {
     "cell_type": "code",
     "checksum": "65138f72cb3ac81883e5ba96783c16d6",
     "grade": false,
     "grade_id": "cell-ba3ac476b10db9e8",
     "locked": true,
     "schema_version": 3,
     "solution": false,
     "task": false
    }
   },
   "outputs": [
    {
     "data": {
      "text/html": [
       "<div>\n",
       "<style scoped>\n",
       "    .dataframe tbody tr th:only-of-type {\n",
       "        vertical-align: middle;\n",
       "    }\n",
       "\n",
       "    .dataframe tbody tr th {\n",
       "        vertical-align: top;\n",
       "    }\n",
       "\n",
       "    .dataframe thead th {\n",
       "        text-align: right;\n",
       "    }\n",
       "</style>\n",
       "<table border=\"1\" class=\"dataframe\">\n",
       "  <thead>\n",
       "    <tr style=\"text-align: right;\">\n",
       "      <th></th>\n",
       "      <th>volume (mL)</th>\n",
       "      <th>caffeine (g)</th>\n",
       "      <th>drink</th>\n",
       "    </tr>\n",
       "  </thead>\n",
       "  <tbody>\n",
       "    <tr>\n",
       "      <th>0</th>\n",
       "      <td>250</td>\n",
       "      <td>0.025</td>\n",
       "      <td>tea</td>\n",
       "    </tr>\n",
       "    <tr>\n",
       "      <th>1</th>\n",
       "      <td>100</td>\n",
       "      <td>0.010</td>\n",
       "      <td>tea</td>\n",
       "    </tr>\n",
       "    <tr>\n",
       "      <th>2</th>\n",
       "      <td>125</td>\n",
       "      <td>0.050</td>\n",
       "      <td>coffee</td>\n",
       "    </tr>\n",
       "    <tr>\n",
       "      <th>3</th>\n",
       "      <td>250</td>\n",
       "      <td>0.100</td>\n",
       "      <td>coffee</td>\n",
       "    </tr>\n",
       "  </tbody>\n",
       "</table>\n",
       "</div>"
      ],
      "text/plain": [
       "   volume (mL)  caffeine (g)   drink\n",
       "0          250         0.025     tea\n",
       "1          100         0.010     tea\n",
       "2          125         0.050  coffee\n",
       "3          250         0.100  coffee"
      ]
     },
     "execution_count": 130,
     "metadata": {},
     "output_type": "execute_result"
    }
   ],
   "source": [
    "data = [[250, 0.025, 'tea'],\n",
    "        [100, 0.01,  'tea'],\n",
    "        [125, 0.05,  'coffee'],\n",
    "        [250, 0.1,   'coffee']]\n",
    "\n",
    "df = pd.DataFrame(data, columns=['volume (mL)', 'caffeine (g)', 'drink'])\n",
    "df"
   ]
  },
  {
   "cell_type": "markdown",
   "metadata": {
    "deletable": false,
    "editable": false,
    "nbgrader": {
     "cell_type": "markdown",
     "checksum": "639376b11b9f3113b03d8f1b49341ccf",
     "grade": false,
     "grade_id": "cell-05ca02fdaa0bacb4",
     "locked": true,
     "schema_version": 3,
     "solution": false,
     "task": false
    }
   },
   "source": [
    "#### 5.1\n",
    "Use the Nearest Neighbor method to predict the label of a 100mL drink having 0.075g of caffeine, by intuition, calculation, and / or with some code (up to you, with some justification)."
   ]
  },
  {
   "attachments": {},
   "cell_type": "markdown",
   "metadata": {
    "deletable": false,
    "nbgrader": {
     "cell_type": "markdown",
     "checksum": "2cc2876c5c1cabd4f414603a54d6cc7d",
     "grade": true,
     "grade_id": "cell-b03ca3146a0cd525",
     "locked": false,
     "points": 1,
     "schema_version": 3,
     "solution": true,
     "task": false
    }
   },
   "source": [
    "Tea (if we were to plot this on a graph, it would be the closest to the 2 entry)"
   ]
  },
  {
   "cell_type": "markdown",
   "metadata": {
    "deletable": false,
    "editable": false,
    "nbgrader": {
     "cell_type": "markdown",
     "checksum": "bd26162ca31d48930cb525565b5cc21d",
     "grade": false,
     "grade_id": "cell-c73f537f8d0b8d35",
     "locked": true,
     "schema_version": 3,
     "solution": false,
     "task": false
    }
   },
   "source": [
    "#### 5.2\n",
    "What is wrong with this prediction? How to solve this problem?"
   ]
  },
  {
   "attachments": {},
   "cell_type": "markdown",
   "metadata": {
    "deletable": false,
    "nbgrader": {
     "cell_type": "markdown",
     "checksum": "062651d5e8549676ddd51c294b584c85",
     "grade": true,
     "grade_id": "cell-f653ab43f5caab8d",
     "locked": false,
     "points": 1,
     "schema_version": 3,
     "solution": true,
     "task": false
    }
   },
   "source": [
    "We didn't standardize the data so the mL will matter much much more than the caffeine content when it comes to making a prediction."
   ]
  },
  {
   "cell_type": "markdown",
   "metadata": {
    "deletable": false,
    "editable": false,
    "nbgrader": {
     "cell_type": "markdown",
     "checksum": "6d5ab65d4a2c371677c0040477aee846",
     "grade": false,
     "grade_id": "cell-6d84fe4703f5f297",
     "locked": true,
     "schema_version": 3,
     "solution": false,
     "task": false
    }
   },
   "source": [
    "## Nearest Neighbor method with Scikit Learn\n",
    "\n",
    "Let's play with the Scikit Learn implementation of the Nearest Neighbor algorithm.\n",
    "The official documentation is there: https://scikit-learn.org/stable/modules/neighbors.html"
   ]
  },
  {
   "cell_type": "markdown",
   "metadata": {
    "deletable": false,
    "editable": false,
    "nbgrader": {
     "cell_type": "markdown",
     "checksum": "245d0011da2490ba6c83fdefbe685ec3",
     "grade": false,
     "grade_id": "cell-f0252460418008ae",
     "locked": true,
     "schema_version": 3,
     "solution": false,
     "task": false
    }
   },
   "source": [
    "### Classification"
   ]
  },
  {
   "cell_type": "markdown",
   "metadata": {
    "deletable": false,
    "editable": false,
    "nbgrader": {
     "cell_type": "markdown",
     "checksum": "6c3f2c5f74d7bcd23edf69ebf64b519e",
     "grade": false,
     "grade_id": "cell-867ec5107fd6ffdd",
     "locked": true,
     "schema_version": 3,
     "solution": false,
     "task": false
    }
   },
   "source": [
    "We begin with a \"toy\" **classification problem**.\n",
    "\n",
    "Use the `gen_2d_classification_samples()` function (defined above) to generate a dataset."
   ]
  },
  {
   "cell_type": "code",
   "execution_count": 131,
   "metadata": {
    "deletable": false,
    "editable": false,
    "nbgrader": {
     "cell_type": "code",
     "checksum": "7c6bc83740653069ea7a940d0fa8b92a",
     "grade": false,
     "grade_id": "cell-d24faf84a0a70efe",
     "locked": true,
     "schema_version": 3,
     "solution": false,
     "task": false
    }
   },
   "outputs": [
    {
     "data": {
      "text/html": [
       "<div>\n",
       "<style scoped>\n",
       "    .dataframe tbody tr th:only-of-type {\n",
       "        vertical-align: middle;\n",
       "    }\n",
       "\n",
       "    .dataframe tbody tr th {\n",
       "        vertical-align: top;\n",
       "    }\n",
       "\n",
       "    .dataframe thead th {\n",
       "        text-align: right;\n",
       "    }\n",
       "</style>\n",
       "<table border=\"1\" class=\"dataframe\">\n",
       "  <thead>\n",
       "    <tr style=\"text-align: right;\">\n",
       "      <th></th>\n",
       "      <th>x1</th>\n",
       "      <th>x2</th>\n",
       "      <th>y</th>\n",
       "    </tr>\n",
       "  </thead>\n",
       "  <tbody>\n",
       "    <tr>\n",
       "      <th>0</th>\n",
       "      <td>2.058932</td>\n",
       "      <td>0.685875</td>\n",
       "      <td>2</td>\n",
       "    </tr>\n",
       "    <tr>\n",
       "      <th>1</th>\n",
       "      <td>-1.272007</td>\n",
       "      <td>-0.761447</td>\n",
       "      <td>1</td>\n",
       "    </tr>\n",
       "    <tr>\n",
       "      <th>2</th>\n",
       "      <td>1.000646</td>\n",
       "      <td>6.103651</td>\n",
       "      <td>3</td>\n",
       "    </tr>\n",
       "    <tr>\n",
       "      <th>3</th>\n",
       "      <td>-0.211562</td>\n",
       "      <td>6.058631</td>\n",
       "      <td>3</td>\n",
       "    </tr>\n",
       "    <tr>\n",
       "      <th>4</th>\n",
       "      <td>6.197135</td>\n",
       "      <td>0.575193</td>\n",
       "      <td>2</td>\n",
       "    </tr>\n",
       "  </tbody>\n",
       "</table>\n",
       "</div>"
      ],
      "text/plain": [
       "         x1        x2  y\n",
       "0  2.058932  0.685875  2\n",
       "1 -1.272007 -0.761447  1\n",
       "2  1.000646  6.103651  3\n",
       "3 -0.211562  6.058631  3\n",
       "4  6.197135  0.575193  2"
      ]
     },
     "execution_count": 131,
     "metadata": {},
     "output_type": "execute_result"
    }
   ],
   "source": [
    "df = gen_2d_classification_samples(n_samples=20)\n",
    "df.head()"
   ]
  },
  {
   "cell_type": "markdown",
   "metadata": {
    "deletable": false,
    "editable": false,
    "nbgrader": {
     "cell_type": "markdown",
     "checksum": "32df2d17f702c031a727a622f75cbd4a",
     "grade": false,
     "grade_id": "cell-3ff7aee85c93c084",
     "locked": true,
     "schema_version": 3,
     "solution": false,
     "task": false
    }
   },
   "source": [
    "Here, examples are defined in $\\mathbb{R}^2$ (features are stored in columns `x1` and `x2`).\n",
    "Examples' labels are defined in the `y` column. This is similar to Exercise 1.\n",
    "\n",
    "The `y` column contains three possible labels: `1`, `2` and `3` respectively represented by the red, green and blue colors in the following figure."
   ]
  },
  {
   "cell_type": "code",
   "execution_count": 132,
   "metadata": {
    "deletable": false,
    "editable": false,
    "nbgrader": {
     "cell_type": "code",
     "checksum": "5d59679c191228ee27e60a215ed08a2a",
     "grade": false,
     "grade_id": "cell-0036ae2303f73710",
     "locked": true,
     "schema_version": 3,
     "solution": false,
     "task": false
    }
   },
   "outputs": [
    {
     "data": {
      "image/png": "[encoded data removed]",
      "text/plain": [
       "<Figure size 576x576 with 1 Axes>"
      ]
     },
     "metadata": {
      "needs_background": "light"
     },
     "output_type": "display_data"
    }
   ],
   "source": [
    "plot_2d_classification_samples(df)"
   ]
  },
  {
   "cell_type": "markdown",
   "metadata": {
    "deletable": false,
    "editable": false,
    "nbgrader": {
     "cell_type": "markdown",
     "checksum": "79ea0f943e3108b6b26bdaab5963a8b3",
     "grade": false,
     "grade_id": "cell-d121d4f059178cd6",
     "locked": true,
     "schema_version": 3,
     "solution": false,
     "task": false
    }
   },
   "source": [
    "Thus this toy problem is a multiclass classification problem."
   ]
  },
  {
   "cell_type": "markdown",
   "metadata": {
    "deletable": false,
    "editable": false,
    "nbgrader": {
     "cell_type": "markdown",
     "checksum": "26e4eca98c23b17fc1da4404819ef3f5",
     "grade": false,
     "grade_id": "cell-3f8711afd6b5415e",
     "locked": true,
     "schema_version": 3,
     "solution": false,
     "task": false
    }
   },
   "source": [
    "Once the dataset is ready, let's make the classifier and train it with the following code:"
   ]
  },
  {
   "cell_type": "code",
   "execution_count": 10,
   "metadata": {
    "deletable": false,
    "editable": false,
    "nbgrader": {
     "cell_type": "code",
     "checksum": "e0c065dce0870cf74082471c34917cf9",
     "grade": false,
     "grade_id": "cell-a3ac431dac7cb135",
     "locked": true,
     "schema_version": 3,
     "solution": false,
     "task": false
    }
   },
   "outputs": [],
   "source": [
    "model = sklearn.neighbors.KNeighborsClassifier(n_neighbors=1)\n",
    "# 1-NN as a special case of k-NN"
   ]
  },
  {
   "cell_type": "code",
   "execution_count": 11,
   "metadata": {
    "deletable": false,
    "editable": false,
    "nbgrader": {
     "cell_type": "code",
     "checksum": "6d65cda28dfec21b40f9a1a05527b1b2",
     "grade": false,
     "grade_id": "cell-4a02136aa4ba916d",
     "locked": true,
     "schema_version": 3,
     "solution": false,
     "task": false
    }
   },
   "outputs": [
    {
     "data": {
      "text/plain": [
       "KNeighborsClassifier(n_neighbors=1)"
      ]
     },
     "execution_count": 11,
     "metadata": {},
     "output_type": "execute_result"
    }
   ],
   "source": [
    "model.fit(X=df[['x1', 'x2']].values, y=df['y'])"
   ]
  },
  {
   "cell_type": "markdown",
   "metadata": {
    "deletable": false,
    "editable": false,
    "nbgrader": {
     "cell_type": "markdown",
     "checksum": "33a8031a51d2fa926b845caf9aa5b22f",
     "grade": false,
     "grade_id": "cell-7f48c25be7ecab35",
     "locked": true,
     "schema_version": 3,
     "solution": false,
     "task": false
    }
   },
   "source": [
    "### Exercise 6"
   ]
  },
  {
   "cell_type": "markdown",
   "metadata": {
    "deletable": false,
    "editable": false,
    "nbgrader": {
     "cell_type": "markdown",
     "checksum": "bea63446f58521606d063c7fc40ef536",
     "grade": false,
     "grade_id": "cell-d48fdb53e319498e",
     "locked": true,
     "schema_version": 3,
     "solution": false,
     "task": false
    }
   },
   "source": [
    "#### 6.1\n",
    "Use the `model.predict()` function to guess the class of the following points:\n",
    "\n",
    "$$x_{p1} = \\pmatrix{-2 \\\\ 0}, x_{p2} = \\pmatrix{0 \\\\ 6}, x_{p3} = \\pmatrix{8 \\\\ 0}$$\n",
    "\n",
    "Store the result in `model_predictions`."
   ]
  },
  {
   "cell_type": "code",
   "execution_count": 12,
   "metadata": {
    "deletable": false,
    "nbgrader": {
     "cell_type": "code",
     "checksum": "2900d8cfc3f5a5f983090a71e7fafb07",
     "grade": false,
     "grade_id": "cell-735399ef31c1c00e",
     "locked": false,
     "schema_version": 3,
     "solution": true,
     "task": false
    }
   },
   "outputs": [],
   "source": [
    "points = np.array([[-2,0],[0,6],[8,0]])\n",
    "\n",
    "model_predictions = model.predict(points)\n",
    "# YOUR CODE HERE"
   ]
  },
  {
   "cell_type": "code",
   "execution_count": 137,
   "metadata": {
    "deletable": false,
    "editable": false,
    "nbgrader": {
     "cell_type": "code",
     "checksum": "b239bfd8fa5c79f6fa40159f6bee4dc6",
     "grade": true,
     "grade_id": "cell-3f74ff6bfc8cdd74",
     "locked": true,
     "points": 1,
     "schema_version": 3,
     "solution": false,
     "task": false
    }
   },
   "outputs": [
    {
     "data": {
      "text/plain": [
       "array([1, 3, 2])"
      ]
     },
     "execution_count": 137,
     "metadata": {},
     "output_type": "execute_result"
    }
   ],
   "source": [
    "model_predictions"
   ]
  },
  {
   "cell_type": "markdown",
   "metadata": {
    "deletable": false,
    "editable": false,
    "nbgrader": {
     "cell_type": "markdown",
     "checksum": "0943bfc257c7ef27d64a73632e3228e4",
     "grade": false,
     "grade_id": "cell-65df83d2170a07cd",
     "locked": true,
     "schema_version": 3,
     "solution": false,
     "task": false
    }
   },
   "source": [
    "#### 6.2\n",
    "Is the training step (`model.fit()` function) longer to execute than the prediction step (`model.predict()` function)? Why?\n",
    "\n",
    "*An intuitive answer is expected; you don't have to time any code execution.*"
   ]
  },
  {
   "attachments": {},
   "cell_type": "markdown",
   "metadata": {
    "deletable": false,
    "nbgrader": {
     "cell_type": "markdown",
     "checksum": "717a9af1a18a4ac42e92f822b534556b",
     "grade": true,
     "grade_id": "cell-70b0e91bc14f33c5",
     "locked": false,
     "points": 1,
     "schema_version": 3,
     "solution": true,
     "task": false
    }
   },
   "source": [
    "In most cases, the training step (model.fit() function) is longer to execute than the prediction step (model.predict() function).\n",
    "\n",
    "During the training step, the machine learning model is presented with a set of labeled examples (i.e., training data) and it uses an algorithm to learn the relationship between the input features and the corresponding output labels. This process typically involves a lot of computations, such as matrix multiplications, optimization algorithms, and backpropagation for neural networks. The goal of the training step is to find the best set of parameters (i.e., weights and biases) that minimize the loss function and maximize the model's accuracy on the training data.\n",
    "\n",
    "In contrast, during the prediction step, the trained model is given new input features (i.e., test data) and it applies the learned relationship to make predictions on the output labels. This step does not involve any further optimization or parameter updates, so it is typically faster than the training step.\n",
    "\n",
    "Of course, the actual time required for both steps will depend on various factors, such as the size and complexity of the dataset, the type of algorithm used, and the hardware and software environment. However, in general, the training step is expected to take longer than the prediction step, especially for large datasets and complex models."
   ]
  },
  {
   "cell_type": "markdown",
   "metadata": {
    "deletable": false,
    "editable": false,
    "nbgrader": {
     "cell_type": "markdown",
     "checksum": "4b907041921c2d8743dee6dc0fd9576b",
     "grade": false,
     "grade_id": "cell-d9c551a1d712c987",
     "locked": true,
     "schema_version": 3,
     "solution": false,
     "task": false
    }
   },
   "source": [
    "#### 6.3\n",
    "The next cell shows the decision boundary of the model. Explain what is a decision boundary in classification."
   ]
  },
  {
   "cell_type": "code",
   "execution_count": 138,
   "metadata": {
    "deletable": false,
    "editable": false,
    "nbgrader": {
     "cell_type": "code",
     "checksum": "0c5fa097548a09f8ee3569cc150e5656",
     "grade": false,
     "grade_id": "cell-e7d68cfa33807b75",
     "locked": true,
     "schema_version": 3,
     "solution": false,
     "task": false
    }
   },
   "outputs": [
    {
     "data": {
      "image/png": "[encoded data removed]",
      "text/plain": [
       "<Figure size 576x576 with 1 Axes>"
      ]
     },
     "metadata": {
      "needs_background": "light"
     },
     "output_type": "display_data"
    }
   ],
   "source": [
    "plot_2d_classification_samples(df, model=model)"
   ]
  },
  {
   "cell_type": "markdown",
   "metadata": {
    "deletable": false,
    "nbgrader": {
     "cell_type": "markdown",
     "checksum": "d992d076fc9fc642a71e87ae4abf0cb4",
     "grade": true,
     "grade_id": "cell-87768e416ae85d93",
     "locked": false,
     "points": 1,
     "schema_version": 3,
     "solution": true,
     "task": false
    }
   },
   "source": [
    "YOUR ANSWER HERE"
   ]
  },
  {
   "cell_type": "markdown",
   "metadata": {
    "deletable": false,
    "editable": false,
    "nbgrader": {
     "cell_type": "markdown",
     "checksum": "a5472a30145c187102be548053abb14a",
     "grade": false,
     "grade_id": "cell-16d51ac4f5481297",
     "locked": true,
     "schema_version": 3,
     "solution": false,
     "task": false
    }
   },
   "source": [
    "#### 6.4\n",
    "The next cell generates the *Voronoï diagram* of the dataset. The Voronoï diagram makes a partition of the feature space $\\mathcal{X}$.\n",
    "Each partition is a *cell*. What do cells represent?\n",
    "What does this figure illustrate about the Nearest Neighbor method?"
   ]
  },
  {
   "cell_type": "code",
   "execution_count": null,
   "metadata": {
    "deletable": false,
    "editable": false,
    "nbgrader": {
     "cell_type": "code",
     "checksum": "2a21de96c0e3fff8032d4e9afc32ec10",
     "grade": false,
     "grade_id": "cell-cf603bc2010ec3a3",
     "locked": true,
     "schema_version": 3,
     "solution": false,
     "task": false
    }
   },
   "outputs": [],
   "source": [
    "plot_2d_classification_samples(df, model=model, voronoi=True);"
   ]
  },
  {
   "attachments": {},
   "cell_type": "markdown",
   "metadata": {
    "deletable": false,
    "nbgrader": {
     "cell_type": "markdown",
     "checksum": "1133787e8fd6bf6773f871db853e02b2",
     "grade": true,
     "grade_id": "cell-a9f3540f0b070ca6",
     "locked": false,
     "points": 1,
     "schema_version": 3,
     "solution": true,
     "task": false
    }
   },
   "source": [
    "In classification problems, a decision boundary is a dividing line (or surface) that separates the different classes in the feature space. It is the boundary at which the classifier assigns a particular input instance to one class or another.\n",
    "\n",
    "The decision boundary is determined by the machine learning algorithm during the training process, based on the patterns in the training data. The goal of the algorithm is to learn a decision boundary that maximizes the separation between the different classes, so that it can make accurate predictions on new, unseen data."
   ]
  },
  {
   "cell_type": "markdown",
   "metadata": {
    "deletable": false,
    "editable": false,
    "nbgrader": {
     "cell_type": "markdown",
     "checksum": "c388da6e4f604075624d8b9499c0349e",
     "grade": false,
     "grade_id": "cell-e9ff08164cd1ce2f",
     "locked": true,
     "schema_version": 3,
     "solution": false,
     "task": false
    }
   },
   "source": [
    "### Regression"
   ]
  },
  {
   "cell_type": "markdown",
   "metadata": {
    "deletable": false,
    "editable": false,
    "nbgrader": {
     "cell_type": "markdown",
     "checksum": "4580e0f9153e4b4f87f0ddea5c6d366d",
     "grade": false,
     "grade_id": "cell-a774cafffa6c10dd",
     "locked": true,
     "schema_version": 3,
     "solution": false,
     "task": false
    }
   },
   "source": [
    "After the \"toy\" classification problem, let's work on a toy **regression problem**.\n",
    "\n",
    "The next cell generates a dataset (where 'x' is the feature and 'y' the label to predict)."
   ]
  },
  {
   "cell_type": "code",
   "execution_count": 145,
   "metadata": {
    "deletable": false,
    "editable": false,
    "nbgrader": {
     "cell_type": "code",
     "checksum": "95d09c322dc2515371306ef864b166f2",
     "grade": false,
     "grade_id": "cell-85bbd276d7fc94c9",
     "locked": true,
     "schema_version": 3,
     "solution": false,
     "task": false
    }
   },
   "outputs": [
    {
     "data": {
      "image/png": "[encoded data removed]",
      "text/plain": [
       "<Figure size 432x288 with 1 Axes>"
      ]
     },
     "metadata": {
      "needs_background": "light"
     },
     "output_type": "display_data"
    }
   ],
   "source": [
    "df = gen_and_plot_1d_regression_samples()"
   ]
  },
  {
   "cell_type": "markdown",
   "metadata": {
    "deletable": false,
    "editable": false,
    "nbgrader": {
     "cell_type": "markdown",
     "checksum": "51a545a95b644b64f9ff9722b4ef191f",
     "grade": false,
     "grade_id": "cell-60f6a2ebadbdedd4",
     "locked": true,
     "schema_version": 3,
     "solution": false,
     "task": false
    }
   },
   "source": [
    "Once the dataset is ready, let's make the regressor and train it with the following code:"
   ]
  },
  {
   "cell_type": "code",
   "execution_count": 146,
   "metadata": {
    "deletable": false,
    "editable": false,
    "nbgrader": {
     "cell_type": "code",
     "checksum": "ca267b10b3a854097f675b825b316f87",
     "grade": false,
     "grade_id": "cell-287446ff89ada048",
     "locked": true,
     "schema_version": 3,
     "solution": false,
     "task": false
    }
   },
   "outputs": [],
   "source": [
    "model = sklearn.neighbors.KNeighborsRegressor(n_neighbors=1)"
   ]
  },
  {
   "cell_type": "code",
   "execution_count": 147,
   "metadata": {
    "deletable": false,
    "editable": false,
    "nbgrader": {
     "cell_type": "code",
     "checksum": "1dcdfb4bf3efe1a8d9b4ab8e910dcabb",
     "grade": false,
     "grade_id": "cell-686a17bcfa348dca",
     "locked": true,
     "schema_version": 3,
     "solution": false,
     "task": false
    }
   },
   "outputs": [
    {
     "data": {
      "text/plain": [
       "KNeighborsRegressor(n_neighbors=1)"
      ]
     },
     "execution_count": 147,
     "metadata": {},
     "output_type": "execute_result"
    }
   ],
   "source": [
    "model.fit(df[['x']].values, df['y'])"
   ]
  },
  {
   "cell_type": "markdown",
   "metadata": {
    "deletable": false,
    "editable": false,
    "nbgrader": {
     "cell_type": "markdown",
     "checksum": "ac016419276e054e093e9625b0f26bf7",
     "grade": false,
     "grade_id": "cell-a117614dac4cb5b5",
     "locked": true,
     "schema_version": 3,
     "solution": false,
     "task": false
    }
   },
   "source": [
    "### Exercise 7"
   ]
  },
  {
   "cell_type": "markdown",
   "metadata": {
    "deletable": false,
    "editable": false,
    "nbgrader": {
     "cell_type": "markdown",
     "checksum": "666d9a7f5f101c4296809ae167b5e99c",
     "grade": false,
     "grade_id": "cell-9dbebd964c84d52a",
     "locked": true,
     "schema_version": 3,
     "solution": false,
     "task": false
    }
   },
   "source": [
    "#### 7.1\n",
    "Use the `model.predict()` function to classify the following points:\n",
    "\n",
    "$$x_{p1} = \\pmatrix{-5}, x_{p2} = \\pmatrix{0}, x_{p3} = \\pmatrix{5}$$\n",
    "\n",
    "Store it in `model_predictions_bis`."
   ]
  },
  {
   "cell_type": "code",
   "execution_count": 148,
   "metadata": {
    "deletable": false,
    "nbgrader": {
     "cell_type": "code",
     "checksum": "46f364b6ee421ef8ebfe1e6e7bd2ed9f",
     "grade": false,
     "grade_id": "cell-3720c9fe4c26a559",
     "locked": false,
     "schema_version": 3,
     "solution": true,
     "task": false
    }
   },
   "outputs": [],
   "source": [
    "points = np.array([[-5],[0],[5]])\n",
    "\n",
    "model_predictions_bis = model.predict(points)"
   ]
  },
  {
   "cell_type": "code",
   "execution_count": 150,
   "metadata": {
    "deletable": false,
    "editable": false,
    "nbgrader": {
     "cell_type": "code",
     "checksum": "b9c397b09a1807f5267018aed95033b3",
     "grade": true,
     "grade_id": "cell-47c3077482c5f28a",
     "locked": true,
     "points": 1,
     "schema_version": 3,
     "solution": false,
     "task": false
    }
   },
   "outputs": [
    {
     "data": {
      "text/plain": [
       "array([11.76707413,  5.5343956 , -5.58313516])"
      ]
     },
     "execution_count": 150,
     "metadata": {},
     "output_type": "execute_result"
    }
   ],
   "source": [
    "model_predictions_bis"
   ]
  },
  {
   "cell_type": "markdown",
   "metadata": {
    "deletable": false,
    "editable": false,
    "nbgrader": {
     "cell_type": "markdown",
     "checksum": "7d001e30450f2a8aed9a594ebd4c4466",
     "grade": false,
     "grade_id": "cell-5adbb1c7bb0d1bab",
     "locked": true,
     "schema_version": 3,
     "solution": false,
     "task": false
    }
   },
   "source": [
    "### Plot the model's decision function"
   ]
  },
  {
   "cell_type": "code",
   "execution_count": 149,
   "metadata": {
    "deletable": false,
    "editable": false,
    "nbgrader": {
     "cell_type": "code",
     "checksum": "7c9670ebc345282bb36bc7a175f79f07",
     "grade": false,
     "grade_id": "cell-90dd9833a9369717",
     "locked": true,
     "schema_version": 3,
     "solution": false,
     "task": false
    }
   },
   "outputs": [
    {
     "data": {
      "image/png": "[encoded data removed]",
      "text/plain": [
       "<Figure size 432x288 with 1 Axes>"
      ]
     },
     "metadata": {
      "needs_background": "light"
     },
     "output_type": "display_data"
    }
   ],
   "source": [
    "x_pred = np.arange(-10, 10, 0.1).reshape(-1, 1)\n",
    "y_pred = model.predict(x_pred)\n",
    "\n",
    "df_pred = pd.DataFrame(np.array([x_pred.flatten(), y_pred.flatten()]).T, columns=['x', 'y'])\n",
    "\n",
    "ax = df.plot.scatter(x='x', y='y')\n",
    "df_pred.plot(x='x', y='y', style='r--', ax=ax);"
   ]
  },
  {
   "cell_type": "markdown",
   "metadata": {
    "deletable": false,
    "editable": false,
    "nbgrader": {
     "cell_type": "markdown",
     "checksum": "16a70d5f2143a665f5bf2ace138972d5",
     "grade": false,
     "grade_id": "cell-90e628bd78839bf5",
     "locked": true,
     "schema_version": 3,
     "solution": false,
     "task": false
    }
   },
   "source": [
    "#### 7.2\n",
    "\n",
    "Do you think this model *generalizes* well (by generalization, we mean performance on unseen - test - examples drawn from the same distribution as the seen - training - examples; recall what happened with polynomial regression with a high degree)? Why?"
   ]
  },
  {
   "attachments": {},
   "cell_type": "markdown",
   "metadata": {
    "deletable": false,
    "nbgrader": {
     "cell_type": "markdown",
     "checksum": "a7bbb8fbfa517e164ea6504c70fee18d",
     "grade": true,
     "grade_id": "cell-41d4c540007020dc",
     "locked": false,
     "points": 1,
     "schema_version": 3,
     "solution": true,
     "task": false
    }
   },
   "source": [
    "No, it is too overfitted; the line adheres too much to the points to something that is going to be slightly off; might be misplaced."
   ]
  },
  {
   "cell_type": "markdown",
   "metadata": {
    "deletable": false,
    "editable": false,
    "nbgrader": {
     "cell_type": "markdown",
     "checksum": "cdf91b3e81276d5e64a2aa34bc6cba88",
     "grade": false,
     "grade_id": "cell-f2b3403a1f5d1ee9",
     "locked": true,
     "schema_version": 3,
     "solution": false,
     "task": false
    }
   },
   "source": [
    "## k-Nearest Neighbors algorithm"
   ]
  },
  {
   "cell_type": "markdown",
   "metadata": {
    "deletable": false,
    "editable": false,
    "nbgrader": {
     "cell_type": "markdown",
     "checksum": "61a2c367da7aa6effa48f8fb99135543",
     "grade": false,
     "grade_id": "cell-42a1d3264976993b",
     "locked": true,
     "schema_version": 3,
     "solution": false,
     "task": false
    }
   },
   "source": [
    "The *Nearest Neighbor* method is very sensitive to noise: if an example in $\\mathcal{D}$ is wrongly labeled or positioned, all points in its Voronoï cell will be wrong too. The *k Neareast Neighbor* fix this weakness by considering for each prediction the label of several neighbors instead of just one.\n",
    "\n",
    "Considering a dataset $\\mathcal{D}=\\{(\\boldsymbol{x}_i, y_i)_{i=1,\\dots,n}\\}$ of $n$ labeled examples and a meta / hyper parameter $k \\in \\mathbb{N}*$, the *$k$ Nearest Neighbors* model assigns an input vector $\\boldsymbol{x}$ to the label $y$ (defined below) of its $k$ closest neighbor in $\\mathcal{D}$.\n",
    "Let's write $\\mathcal{N}_k(\\boldsymbol{x})$ the set of the $k$ nearest neighbors of $\\boldsymbol{x}$ in $\\mathcal{D}$.\n",
    "\n",
    "- For classification problems, the label assigned to $\\boldsymbol{x}$ is the **most represented label** among the nearest neighbors (majority vote)\n",
    "$$f(\\boldsymbol{x}) = {\\arg\\!\\max}_c \\sum_{i: x_i \\in \\mathcal{N}_k(\\boldsymbol{x})} \\delta(y_i, c)$$\n",
    "\n",
    "- For regression problems, the label assigned to $\\boldsymbol{x}$ is computed based on the **mean** of the labels of its nearest neighbors $\\mathcal{N}_k(\\boldsymbol{x})$\n",
    "$$f(\\boldsymbol{x}) = \\frac{1}{k} \\sum_{i: x_i \\in \\mathcal{N}_k(\\boldsymbol{x})} y_i$$"
   ]
  },
  {
   "cell_type": "markdown",
   "metadata": {
    "deletable": false,
    "editable": false,
    "nbgrader": {
     "cell_type": "markdown",
     "checksum": "daa9096809fd3613d32b5ce3d124520c",
     "grade": false,
     "grade_id": "cell-5eb2581cae2760bd",
     "locked": true,
     "schema_version": 3,
     "solution": false,
     "task": false
    }
   },
   "source": [
    "### Exercise 8"
   ]
  },
  {
   "cell_type": "markdown",
   "metadata": {
    "deletable": false,
    "editable": false,
    "nbgrader": {
     "cell_type": "markdown",
     "checksum": "c982e53f1899a33e0ab842c16905a73a",
     "grade": false,
     "grade_id": "cell-6545640cd5b7163f",
     "locked": true,
     "schema_version": 3,
     "solution": false,
     "task": false
    }
   },
   "source": [
    "We consider the following dataset (where `x1` and `x2` are the example features and where `y` is the example label):"
   ]
  },
  {
   "cell_type": "code",
   "execution_count": 48,
   "metadata": {
    "deletable": false,
    "editable": false,
    "nbgrader": {
     "cell_type": "code",
     "checksum": "4a18910e1fe3eb1fb8483892f33e3059",
     "grade": false,
     "grade_id": "cell-b5d26e5d9614042e",
     "locked": true,
     "schema_version": 3,
     "solution": false,
     "task": false
    }
   },
   "outputs": [
    {
     "data": {
      "text/html": [
       "<div>\n",
       "<style scoped>\n",
       "    .dataframe tbody tr th:only-of-type {\n",
       "        vertical-align: middle;\n",
       "    }\n",
       "\n",
       "    .dataframe tbody tr th {\n",
       "        vertical-align: top;\n",
       "    }\n",
       "\n",
       "    .dataframe thead th {\n",
       "        text-align: right;\n",
       "    }\n",
       "</style>\n",
       "<table border=\"1\" class=\"dataframe\">\n",
       "  <thead>\n",
       "    <tr style=\"text-align: right;\">\n",
       "      <th></th>\n",
       "      <th>x1</th>\n",
       "      <th>x2</th>\n",
       "      <th>y</th>\n",
       "    </tr>\n",
       "  </thead>\n",
       "  <tbody>\n",
       "    <tr>\n",
       "      <th>0</th>\n",
       "      <td>1</td>\n",
       "      <td>2</td>\n",
       "      <td>+</td>\n",
       "    </tr>\n",
       "    <tr>\n",
       "      <th>1</th>\n",
       "      <td>2</td>\n",
       "      <td>1</td>\n",
       "      <td>+</td>\n",
       "    </tr>\n",
       "    <tr>\n",
       "      <th>2</th>\n",
       "      <td>2</td>\n",
       "      <td>2</td>\n",
       "      <td>-</td>\n",
       "    </tr>\n",
       "    <tr>\n",
       "      <th>3</th>\n",
       "      <td>2</td>\n",
       "      <td>3</td>\n",
       "      <td>+</td>\n",
       "    </tr>\n",
       "    <tr>\n",
       "      <th>4</th>\n",
       "      <td>1</td>\n",
       "      <td>1</td>\n",
       "      <td>-</td>\n",
       "    </tr>\n",
       "    <tr>\n",
       "      <th>5</th>\n",
       "      <td>3</td>\n",
       "      <td>3</td>\n",
       "      <td>+</td>\n",
       "    </tr>\n",
       "  </tbody>\n",
       "</table>\n",
       "</div>"
      ],
      "text/plain": [
       "   x1  x2  y\n",
       "0   1   2  +\n",
       "1   2   1  +\n",
       "2   2   2  -\n",
       "3   2   3  +\n",
       "4   1   1  -\n",
       "5   3   3  +"
      ]
     },
     "execution_count": 48,
     "metadata": {},
     "output_type": "execute_result"
    }
   ],
   "source": [
    "data = [[1, 2, '+'],\n",
    "        [2, 1, '+'],\n",
    "        [2, 2, '-'],\n",
    "        [2, 3, '+'],\n",
    "        [1, 1, '-'],\n",
    "        [3, 3, '+']]\n",
    "\n",
    "df = pd.DataFrame(data, columns=['x1', 'x2', 'y'])\n",
    "df"
   ]
  },
  {
   "cell_type": "markdown",
   "metadata": {
    "deletable": false,
    "editable": false,
    "nbgrader": {
     "cell_type": "markdown",
     "checksum": "36a620d4bc6ed8a3372f0930b58e9c06",
     "grade": false,
     "grade_id": "cell-75c5d4679e64a253",
     "locked": true,
     "schema_version": 3,
     "solution": false,
     "task": false
    }
   },
   "source": [
    "#### 8.1\n",
    "Draw this dataset (it is OK to draw it on a sheet of paper: empty the code cell, add a Markdown cell and upload your picture by drag-and-drop; you can also make use of `df.plot`)."
   ]
  },
  {
   "cell_type": "code",
   "execution_count": 49,
   "metadata": {
    "deletable": false,
    "nbgrader": {
     "cell_type": "code",
     "checksum": "1eb8fb7d45d1dbb65cf981a5a6635a4c",
     "grade": true,
     "grade_id": "cell-fd27b17814e1925e",
     "locked": false,
     "points": 1,
     "schema_version": 3,
     "solution": true,
     "task": false
    }
   },
   "outputs": [
    {
     "data": {
      "image/png": "[encoded data removed]",
      "text/plain": [
       "<Figure size 576x576 with 1 Axes>"
      ]
     },
     "metadata": {
      "needs_background": "light"
     },
     "output_type": "display_data"
    }
   ],
   "source": [
    "df['y'] = df['y'].map({'+': 1, '-': 2})\n",
    "plot_2d_classification_samples(df)"
   ]
  },
  {
   "cell_type": "markdown",
   "metadata": {
    "deletable": false,
    "editable": false,
    "nbgrader": {
     "cell_type": "markdown",
     "checksum": "3af9ef53f1c4608376e792ad4abd887a",
     "grade": false,
     "grade_id": "cell-928724723d262d2e",
     "locked": true,
     "schema_version": 3,
     "solution": false,
     "task": false
    }
   },
   "source": [
    "#### 8.2\n",
    "Draw the decision boundary of a Nearest Neighbor model (i.e. 1NN - also OK on a sheet of paper).\n",
    "\n",
    "You may need to convert `y` to an integer type and make good use of `KNeighborsClassifier` (see Exercise 2)."
   ]
  },
  {
   "cell_type": "code",
   "execution_count": 18,
   "metadata": {
    "deletable": false,
    "nbgrader": {
     "cell_type": "code",
     "checksum": "c6d9ec5f7d4b262234924428e590707b",
     "grade": true,
     "grade_id": "cell-0ac6789676ca7805",
     "locked": false,
     "points": 1,
     "schema_version": 3,
     "solution": true,
     "task": false
    }
   },
   "outputs": [
    {
     "data": {
      "image/png": "[encoded data removed]",
      "text/plain": [
       "<Figure size 576x576 with 1 Axes>"
      ]
     },
     "metadata": {
      "needs_background": "light"
     },
     "output_type": "display_data"
    }
   ],
   "source": [
    "model = sklearn.neighbors.KNeighborsClassifier(n_neighbors=1)\n",
    "model.fit(X=df[['x1', 'x2']].values, y=df['y'])\n",
    "plot_2d_classification_samples(df, model=model)"
   ]
  },
  {
   "attachments": {},
   "cell_type": "markdown",
   "metadata": {
    "deletable": false,
    "editable": false,
    "nbgrader": {
     "cell_type": "markdown",
     "checksum": "39e3392cad0dec454e00a26697473e9c",
     "grade": false,
     "grade_id": "cell-f88d668f7301d023",
     "locked": true,
     "schema_version": 3,
     "solution": false,
     "task": false
    }
   },
   "source": [
    "#### 8.3\n",
    "Draw the decision boundary of a 3 Nearest Neighbor model (i.e. 3NN), either with code or on a sheet of paper.\n",
    "\n",
    "*Hint:* The `n_neighbors` parameter provided to the model's constructor `KNeighborsClassifier` sets the number of neighbors to consider for each prediction (i.e. `n_neighbors` this is the '$k$' of kNN).\n"
   ]
  },
  {
   "cell_type": "code",
   "execution_count": 20,
   "metadata": {
    "deletable": false,
    "nbgrader": {
     "cell_type": "code",
     "checksum": "542ecf45afa9a1b6943a1c871a7c0905",
     "grade": true,
     "grade_id": "cell-7962f46912d3165f",
     "locked": false,
     "points": 1,
     "schema_version": 3,
     "solution": true,
     "task": false
    }
   },
   "outputs": [
    {
     "data": {
      "image/png": "[encoded data removed]",
      "text/plain": [
       "<Figure size 576x576 with 1 Axes>"
      ]
     },
     "metadata": {
      "needs_background": "light"
     },
     "output_type": "display_data"
    }
   ],
   "source": [
    "# YOUR CODE HERE\n",
    "model = sklearn.neighbors.KNeighborsClassifier(n_neighbors=3)\n",
    "model.fit(X=df[['x1', 'x2']].values, y=df['y'])\n",
    "plot_2d_classification_samples(df, model=model)\n"
   ]
  },
  {
   "cell_type": "markdown",
   "metadata": {
    "deletable": false,
    "editable": false,
    "nbgrader": {
     "cell_type": "markdown",
     "checksum": "d35fe7604e91e1e619ab8a608c15d651",
     "grade": false,
     "grade_id": "cell-bd980b88e074ded1",
     "locked": true,
     "schema_version": 3,
     "solution": false,
     "task": false
    }
   },
   "source": [
    "#### 8.4\n",
    "How many errors these two classifiers make on the training dataset (i.e. on the provided points with both values of $k$)?"
   ]
  },
  {
   "attachments": {},
   "cell_type": "markdown",
   "metadata": {
    "deletable": false,
    "nbgrader": {
     "cell_type": "markdown",
     "checksum": "244be3cf02d7b35a88c9fc80ddf708a4",
     "grade": true,
     "grade_id": "cell-5f77de6d6df9d638",
     "locked": false,
     "points": 0.5,
     "schema_version": 3,
     "solution": true,
     "task": false
    }
   },
   "source": [
    "First classifier makes 0 errors while the second one 4 errors."
   ]
  },
  {
   "cell_type": "markdown",
   "metadata": {
    "deletable": false,
    "editable": false,
    "nbgrader": {
     "cell_type": "markdown",
     "checksum": "9f8e91e10b1e03d19c7863f2e8fec200",
     "grade": false,
     "grade_id": "cell-814642eaeb38acab",
     "locked": true,
     "schema_version": 3,
     "solution": false,
     "task": false
    }
   },
   "source": [
    "#### 8.5\n",
    "Which label is predicted by these two classifiers for the point $x = \\pmatrix{0.5 \\\\ 2}$?"
   ]
  },
  {
   "attachments": {},
   "cell_type": "markdown",
   "metadata": {
    "deletable": false,
    "nbgrader": {
     "cell_type": "markdown",
     "checksum": "01e9a62bab855a305895161b532590c1",
     "grade": true,
     "grade_id": "cell-c61ad2c56b091082",
     "locked": false,
     "points": 1,
     "schema_version": 3,
     "solution": true,
     "task": false
    }
   },
   "source": [
    "On the first one plus, on the second one, minus."
   ]
  },
  {
   "cell_type": "markdown",
   "metadata": {
    "deletable": false,
    "editable": false,
    "nbgrader": {
     "cell_type": "markdown",
     "checksum": "9b76223bbb111a33e1139dcdf3d394c9",
     "grade": false,
     "grade_id": "cell-742c1de413386ceb",
     "locked": true,
     "schema_version": 3,
     "solution": false,
     "task": false
    }
   },
   "source": [
    "## k-Nearest Neighbor (kNN) with Scikit Learn"
   ]
  },
  {
   "cell_type": "markdown",
   "metadata": {
    "deletable": false,
    "editable": false,
    "nbgrader": {
     "cell_type": "markdown",
     "checksum": "989cbfe53250b34920afb2dd89647092",
     "grade": false,
     "grade_id": "cell-aa5d831a4dc0138d",
     "locked": true,
     "schema_version": 3,
     "solution": false,
     "task": false
    }
   },
   "source": [
    "### Classification"
   ]
  },
  {
   "cell_type": "markdown",
   "metadata": {
    "deletable": false,
    "editable": false,
    "nbgrader": {
     "cell_type": "markdown",
     "checksum": "27d6239e9b533c0919445b0032169aa2",
     "grade": false,
     "grade_id": "cell-266a8e14dd3d2861",
     "locked": true,
     "schema_version": 3,
     "solution": false,
     "task": false
    }
   },
   "source": [
    "First we regenerate the dataset used throughout Exercise 3."
   ]
  },
  {
   "cell_type": "code",
   "execution_count": 25,
   "metadata": {
    "deletable": false,
    "editable": false,
    "nbgrader": {
     "cell_type": "code",
     "checksum": "0153fad27babab9e7c870a7aacfd08c8",
     "grade": false,
     "grade_id": "cell-342c74d86eb54594",
     "locked": true,
     "schema_version": 3,
     "solution": false,
     "task": false
    }
   },
   "outputs": [],
   "source": [
    "df = gen_2d_classification_samples()"
   ]
  },
  {
   "cell_type": "code",
   "execution_count": 26,
   "metadata": {
    "deletable": false,
    "editable": false,
    "nbgrader": {
     "cell_type": "code",
     "checksum": "4b29ebbb5eff1ebd4ad871c24a93aff6",
     "grade": false,
     "grade_id": "cell-a7d4a821d8322a09",
     "locked": true,
     "schema_version": 3,
     "solution": false,
     "task": false
    }
   },
   "outputs": [
    {
     "data": {
      "image/png": "[encoded data removed]",
      "text/plain": [
       "<Figure size 576x576 with 1 Axes>"
      ]
     },
     "metadata": {
      "needs_background": "light"
     },
     "output_type": "display_data"
    }
   ],
   "source": [
    "plot_2d_classification_samples(df)"
   ]
  },
  {
   "cell_type": "markdown",
   "metadata": {
    "deletable": false,
    "editable": false,
    "nbgrader": {
     "cell_type": "markdown",
     "checksum": "8302a0abde46043b4e9a1a6faa0798d8",
     "grade": false,
     "grade_id": "cell-9c820f55c090fd94",
     "locked": true,
     "schema_version": 3,
     "solution": false,
     "task": false
    }
   },
   "source": [
    "Then we instantiate the classifier, train it and plot the decision boundaries:"
   ]
  },
  {
   "cell_type": "code",
   "execution_count": 27,
   "metadata": {
    "deletable": false,
    "editable": false,
    "nbgrader": {
     "cell_type": "code",
     "checksum": "e2d119d0c76823548f9327defd9bd59b",
     "grade": false,
     "grade_id": "cell-a14c2c93459d829b",
     "locked": true,
     "schema_version": 3,
     "solution": false,
     "task": false
    }
   },
   "outputs": [],
   "source": [
    "def learn_knn_and_plot(**kwargs):\n",
    "    \"\"\"\n",
    "    Learns a knn model and plot the points, their class and the decision boundaries\n",
    "\n",
    "    :param kwargs: keyword arguments passed to KNeighborsClassifier\n",
    "    \"\"\"\n",
    "    model = sklearn.neighbors.KNeighborsClassifier(**kwargs)\n",
    "    model.fit(df[['x1', 'x2']].values, df['y'])\n",
    "    plot_2d_classification_samples(df, model=model)"
   ]
  },
  {
   "cell_type": "code",
   "execution_count": 28,
   "metadata": {
    "deletable": false,
    "editable": false,
    "nbgrader": {
     "cell_type": "code",
     "checksum": "0172f3627d38eed12c06fbb0077204c3",
     "grade": false,
     "grade_id": "cell-d897bede604ac50a",
     "locked": true,
     "schema_version": 3,
     "solution": false,
     "task": false
    }
   },
   "outputs": [
    {
     "data": {
      "image/png": "[encoded data removed]",
      "text/plain": [
       "<Figure size 576x576 with 1 Axes>"
      ]
     },
     "metadata": {
      "needs_background": "light"
     },
     "output_type": "display_data"
    }
   ],
   "source": [
    "learn_knn_and_plot(n_neighbors=5)"
   ]
  },
  {
   "cell_type": "markdown",
   "metadata": {
    "deletable": false,
    "editable": false,
    "nbgrader": {
     "cell_type": "markdown",
     "checksum": "aa567d7eac8a286d91537bea065302bb",
     "grade": false,
     "grade_id": "cell-cb6152f4d8230f10",
     "locked": true,
     "schema_version": 3,
     "solution": false,
     "task": false
    }
   },
   "source": [
    "### Exercise 9"
   ]
  },
  {
   "cell_type": "markdown",
   "metadata": {
    "deletable": false,
    "editable": false,
    "nbgrader": {
     "cell_type": "markdown",
     "checksum": "277db5c1bc15f9b58555a97ed4969fc3",
     "grade": false,
     "grade_id": "cell-6b87f10bd0219699",
     "locked": true,
     "schema_version": 3,
     "solution": false,
     "task": false
    }
   },
   "source": [
    "#### 9.1\n",
    "Change the value of the hyperparameter $k$ in the cell above, and observe what happens, i.e. plot the resulting boundaries with the subsequent cell.\n",
    "\n",
    "What is the influence of the number of neighbors on the boundaries? (Bonus points for the two extreme cases!)"
   ]
  },
  {
   "cell_type": "code",
   "execution_count": 31,
   "metadata": {
    "deletable": false,
    "nbgrader": {
     "cell_type": "code",
     "checksum": "c94fd6c022d9497a3500a55028930e34",
     "grade": false,
     "grade_id": "cell-83a85512470f18b1",
     "locked": false,
     "schema_version": 3,
     "solution": true,
     "task": false
    }
   },
   "outputs": [
    {
     "data": {
      "image/png": "[encoded data removed]",
      "text/plain": [
       "<Figure size 576x576 with 1 Axes>"
      ]
     },
     "metadata": {
      "needs_background": "light"
     },
     "output_type": "display_data"
    }
   ],
   "source": [
    "learn_knn_and_plot(n_neighbors=20)"
   ]
  },
  {
   "attachments": {},
   "cell_type": "markdown",
   "metadata": {
    "deletable": false,
    "nbgrader": {
     "cell_type": "markdown",
     "checksum": "0612b16b69104cb0f0360c803d1b6e8c",
     "grade": true,
     "grade_id": "cell-198944484a425e52",
     "locked": false,
     "points": 0.5,
     "schema_version": 3,
     "solution": true,
     "task": false
    }
   },
   "source": [
    "The more neighbours added, the smoother the separation lines are."
   ]
  },
  {
   "cell_type": "markdown",
   "metadata": {
    "deletable": false,
    "editable": false,
    "nbgrader": {
     "cell_type": "markdown",
     "checksum": "060d2af04181ddd8930f4efbad3412fa",
     "grade": false,
     "grade_id": "cell-bda19bc6f62e5f0f",
     "locked": true,
     "schema_version": 3,
     "solution": false,
     "task": false
    }
   },
   "source": [
    "#### 9.2\n",
    "When you face a very noisy dataset (wrong labels, misplaced points, ...), should you increase or decrease $k$ ?"
   ]
  },
  {
   "attachments": {},
   "cell_type": "markdown",
   "metadata": {
    "deletable": false,
    "nbgrader": {
     "cell_type": "markdown",
     "checksum": "e8dc85a7d995aa74d8516f250d82bb95",
     "grade": true,
     "grade_id": "cell-45c5e32e41c8f545",
     "locked": false,
     "points": 0.5,
     "schema_version": 3,
     "solution": true,
     "task": false
    }
   },
   "source": [
    "When faced with a very noisy dataset, increasing the value of $k$ in k-Nearest Neighbors (k-NN) algorithm can be a good strategy. This is because increasing the value of $k$ means that the prediction for a new point will be based on the average of more neighbors, rather than just the closest one. This can help to reduce the impact of noisy or mislabeled points, which are more likely to be outliers and therefore less likely to be consistently closest to other points.\n",
    "\n",
    "However, increasing $k$ too much can also lead to underfitting, where the model is too simple to capture the underlying patterns in the data. Therefore, the choice of $k$ should be based on a balance between reducing noise and maintaining model complexity.\n",
    "\n"
   ]
  },
  {
   "cell_type": "markdown",
   "metadata": {
    "deletable": false,
    "editable": false,
    "nbgrader": {
     "cell_type": "markdown",
     "checksum": "bba6df6dd4d1033656d80a5c823b9f7c",
     "grade": false,
     "grade_id": "cell-5f27addc2e91cb95",
     "locked": true,
     "schema_version": 3,
     "solution": false,
     "task": false
    }
   },
   "source": [
    "#### 9.3\n",
    "Is the Voronoi diagram useful for the kNN case (i.e. when $k>1$) ?"
   ]
  },
  {
   "attachments": {},
   "cell_type": "markdown",
   "metadata": {
    "deletable": false,
    "nbgrader": {
     "cell_type": "markdown",
     "checksum": "9e06ef2533159457e48906f7ccb5011a",
     "grade": true,
     "grade_id": "cell-1c3718c15cbacf2b",
     "locked": false,
     "points": 0.5,
     "schema_version": 3,
     "solution": true,
     "task": false
    }
   },
   "source": [
    "When $k>1$, the Voronoi diagram becomes less useful for visualizing the decision boundary of the k-NN classifier.\n",
    "\n",
    "This is because the Voronoi diagram is based on the concept of nearest neighbors, and the regions in the diagram are defined by the Voronoi cells, which represent the set of points that are closest to each training point. When $k=1$, each Voronoi cell contains only one training point, so the Voronoi diagram can be used to visualize the decision boundary of the k-NN classifier. However, when $k>1$, each Voronoi cell contains multiple training points, and it becomes difficult to visualize how the classifier assigns labels to points in the overlapping regions between cells."
   ]
  },
  {
   "cell_type": "markdown",
   "metadata": {
    "deletable": false,
    "editable": false,
    "nbgrader": {
     "cell_type": "markdown",
     "checksum": "ccba8d97b612382da53a9d257bcb63ad",
     "grade": false,
     "grade_id": "cell-250c83fcd9392137",
     "locked": true,
     "schema_version": 3,
     "solution": false,
     "task": false
    }
   },
   "source": [
    "#### 9.4\n",
    "Plot the decision boundary with $k=2$ and describe what happens in case of equal vote (copy-paste the 3 previous lines of code)."
   ]
  },
  {
   "cell_type": "code",
   "execution_count": 33,
   "metadata": {
    "deletable": false,
    "nbgrader": {
     "cell_type": "code",
     "checksum": "12c098534d2743125769ca3aaf3c9a4a",
     "grade": false,
     "grade_id": "cell-89461ef88df42b1a",
     "locked": false,
     "schema_version": 3,
     "solution": true,
     "task": false
    }
   },
   "outputs": [
    {
     "data": {
      "image/png": "[encoded data removed]",
      "text/plain": [
       "<Figure size 576x576 with 1 Axes>"
      ]
     },
     "metadata": {
      "needs_background": "light"
     },
     "output_type": "display_data"
    }
   ],
   "source": [
    "learn_knn_and_plot(n_neighbors=2)"
   ]
  },
  {
   "attachments": {},
   "cell_type": "markdown",
   "metadata": {
    "deletable": false,
    "nbgrader": {
     "cell_type": "markdown",
     "checksum": "0ed15d69ba37710d8364a474f37793aa",
     "grade": true,
     "grade_id": "cell-d6f4519e0b69a04c",
     "locked": false,
     "points": 0.5,
     "schema_version": 3,
     "solution": true,
     "task": false
    }
   },
   "source": [
    "Each of the k nearest neighbors has an equal vote in determining the predicted label, regardless of its distance to the new point. This means that outlier points will have a lesser impact"
   ]
  },
  {
   "cell_type": "markdown",
   "metadata": {
    "deletable": false,
    "editable": false,
    "nbgrader": {
     "cell_type": "markdown",
     "checksum": "a76a996b152103fd466783be9b22f08c",
     "grade": false,
     "grade_id": "cell-f54ae0b732531889",
     "locked": true,
     "schema_version": 3,
     "solution": false,
     "task": false
    }
   },
   "source": [
    "#### 9.5\n",
    "Add the `weights = \"distance\"` parameter in `KNeighborsClassifier`'s constructor. What changes can you observe on the decision boundary? Explain how labels are computed with this new parameter."
   ]
  },
  {
   "cell_type": "code",
   "execution_count": 34,
   "metadata": {
    "deletable": false,
    "nbgrader": {
     "cell_type": "code",
     "checksum": "8176808300438faa3537075bc6cbe238",
     "grade": true,
     "grade_id": "cell-40d043d5d08b28a0",
     "locked": false,
     "points": 0.5,
     "schema_version": 3,
     "solution": true,
     "task": false
    }
   },
   "outputs": [
    {
     "data": {
      "image/png": "[encoded data removed]",
      "text/plain": [
       "<Figure size 576x576 with 1 Axes>"
      ]
     },
     "metadata": {
      "needs_background": "light"
     },
     "output_type": "display_data"
    }
   ],
   "source": [
    "learn_knn_and_plot(n_neighbors=2, weights=\"distance\")"
   ]
  },
  {
   "attachments": {},
   "cell_type": "markdown",
   "metadata": {
    "deletable": false,
    "nbgrader": {
     "cell_type": "markdown",
     "checksum": "24a72fc8d4d68001451ac6c23a3b2f22",
     "grade": true,
     "grade_id": "cell-97e9173553a38afc",
     "locked": false,
     "points": 0.5,
     "schema_version": 3,
     "solution": true,
     "task": false
    }
   },
   "source": [
    "Now, outlier points have a greater impact since we take into account the distance to each of the points."
   ]
  },
  {
   "cell_type": "markdown",
   "metadata": {
    "deletable": false,
    "editable": false,
    "nbgrader": {
     "cell_type": "markdown",
     "checksum": "cb548ee911eec3ad2b656c784f0c7d1f",
     "grade": false,
     "grade_id": "cell-fe06326c2b4b6e24",
     "locked": true,
     "schema_version": 3,
     "solution": false,
     "task": false
    }
   },
   "source": [
    "### Regression"
   ]
  },
  {
   "cell_type": "markdown",
   "metadata": {
    "deletable": false,
    "editable": false,
    "nbgrader": {
     "cell_type": "markdown",
     "checksum": "b1168d50095885c86cd490dc387e5509",
     "grade": false,
     "grade_id": "cell-245c508a9c8609e0",
     "locked": true,
     "schema_version": 3,
     "solution": false,
     "task": false
    }
   },
   "source": [
    "First we regenerate the dataset from Exercise 4 - Regression with 1-NN)."
   ]
  },
  {
   "cell_type": "code",
   "execution_count": 38,
   "metadata": {
    "deletable": false,
    "editable": false,
    "nbgrader": {
     "cell_type": "code",
     "checksum": "0881136b881af34d81ab02b272de7539",
     "grade": false,
     "grade_id": "cell-0502bea5c9bcd5fb",
     "locked": true,
     "schema_version": 3,
     "solution": false,
     "task": false
    }
   },
   "outputs": [
    {
     "data": {
      "image/png": "[encoded data removed]",
      "text/plain": [
       "<Figure size 432x288 with 1 Axes>"
      ]
     },
     "metadata": {
      "needs_background": "light"
     },
     "output_type": "display_data"
    }
   ],
   "source": [
    "df = gen_and_plot_1d_regression_samples()"
   ]
  },
  {
   "cell_type": "markdown",
   "metadata": {
    "deletable": false,
    "editable": false,
    "nbgrader": {
     "cell_type": "markdown",
     "checksum": "99b7e07b31aa955ec93b6b58545e5d96",
     "grade": false,
     "grade_id": "cell-8f1da87c76b82ccc",
     "locked": true,
     "schema_version": 3,
     "solution": false,
     "task": false
    }
   },
   "source": [
    "Then we instantiate the classifier, train it and plot the decision boundaries:"
   ]
  },
  {
   "cell_type": "code",
   "execution_count": 43,
   "metadata": {
    "deletable": false,
    "editable": false,
    "nbgrader": {
     "cell_type": "code",
     "checksum": "ca165fa60380605a853e9ac1431eb29f",
     "grade": false,
     "grade_id": "cell-35d779b892b1fd52",
     "locked": true,
     "schema_version": 3,
     "solution": false,
     "task": false
    }
   },
   "outputs": [],
   "source": [
    "def train_and_plot_knn_regressor(**kwargs):\n",
    "    \"\"\"\n",
    "    Instantiate, fits a KNN regressor and plots the training points as well as the predictions\n",
    "\n",
    "    :param kwargs: keyword arguments passed to KNeighborsRegressor constructor\n",
    "    \"\"\"\n",
    "    model = sklearn.neighbors.KNeighborsRegressor(**kwargs)\n",
    "    model.fit(df[['x']].values, df['y'])\n",
    "\n",
    "    x_pred = np.arange(-10, 10, 1).reshape(-1, 1)\n",
    "    y_pred = model.predict(x_pred)\n",
    "\n",
    "    df_pred = pd.DataFrame(np.array([x_pred.flatten(), y_pred.flatten()]).T, columns=['x', 'y'])\n",
    "\n",
    "    ax = df.plot.scatter(x='x', y='y')\n",
    "    df_pred.plot(x='x', y='y', style='r--', ax=ax);"
   ]
  },
  {
   "cell_type": "code",
   "execution_count": 47,
   "metadata": {
    "deletable": false,
    "editable": false,
    "nbgrader": {
     "cell_type": "code",
     "checksum": "9afba532f651fd7490cfc4b162f4cc10",
     "grade": false,
     "grade_id": "cell-490250cefad68a4e",
     "locked": true,
     "schema_version": 3,
     "solution": false,
     "task": false
    }
   },
   "outputs": [
    {
     "data": {
      "image/png": "[encoded data removed]",
      "text/plain": [
       "<Figure size 432x288 with 1 Axes>"
      ]
     },
     "metadata": {
      "needs_background": "light"
     },
     "output_type": "display_data"
    }
   ],
   "source": [
    "train_and_plot_knn_regressor(n_neighbors=10)"
   ]
  },
  {
   "cell_type": "markdown",
   "metadata": {
    "deletable": false,
    "editable": false,
    "nbgrader": {
     "cell_type": "markdown",
     "checksum": "92dfcb750a3563cc963d6f9e9ad614c1",
     "grade": false,
     "grade_id": "cell-83b5516abfa46214",
     "locked": true,
     "schema_version": 3,
     "solution": false,
     "task": false
    }
   },
   "source": [
    "### Exercise 10"
   ]
  },
  {
   "cell_type": "markdown",
   "metadata": {
    "deletable": false,
    "editable": false,
    "nbgrader": {
     "cell_type": "markdown",
     "checksum": "fa24e1b442c86c5e3e061c4375b09839",
     "grade": false,
     "grade_id": "cell-01a22a7f46b1071d",
     "locked": true,
     "schema_version": 3,
     "solution": false,
     "task": false
    }
   },
   "source": [
    "*Recall*: The `n_neighbors` parameter provided to the model's constructor `KNeighborsClassifier` sets the number of neighbors to consider for each prediction (i.e. `n_neighbors` this is the '$k$' of kNN)."
   ]
  },
  {
   "cell_type": "markdown",
   "metadata": {
    "deletable": false,
    "editable": false,
    "nbgrader": {
     "cell_type": "markdown",
     "checksum": "07dd2db21a72572b53eeb9e86a0b6fdb",
     "grade": false,
     "grade_id": "cell-3427a047b3fbf79a",
     "locked": true,
     "schema_version": 3,
     "solution": false,
     "task": false
    }
   },
   "source": [
    "#### 10.1\n",
    "Change the value of this parameter and observe what happens.\n",
    "\n",
    "What is the influence of the number of neighbors on the decision function (again, bonus points for extreme cases)?"
   ]
  },
  {
   "cell_type": "code",
   "execution_count": 42,
   "metadata": {
    "deletable": false,
    "nbgrader": {
     "cell_type": "code",
     "checksum": "2851befb23243e8de8beb38141363446",
     "grade": false,
     "grade_id": "cell-f47ed384889fa9ef",
     "locked": false,
     "schema_version": 3,
     "solution": true,
     "task": false
    }
   },
   "outputs": [
    {
     "data": {
      "image/png": "[encoded data removed]",
      "text/plain": [
       "<Figure size 432x288 with 1 Axes>"
      ]
     },
     "metadata": {
      "needs_background": "light"
     },
     "output_type": "display_data"
    }
   ],
   "source": [
    "train_and_plot_knn_regressor(n_neighbors=20)"
   ]
  },
  {
   "attachments": {},
   "cell_type": "markdown",
   "metadata": {
    "deletable": false,
    "nbgrader": {
     "cell_type": "markdown",
     "checksum": "ae97532e7d1e49c7c9f2faf8fc49814e",
     "grade": true,
     "grade_id": "cell-7eb494f1473544ad",
     "locked": false,
     "points": 0.5,
     "schema_version": 3,
     "solution": true,
     "task": false
    }
   },
   "source": [
    "The number of neighbors in k-Nearest Neighbor (k-NN) algorithm has a significant influence on the decision function of the model.\n",
    "\n",
    "When k is small (e.g., k=1), the decision function of the model will be more complex and will have a higher variance, because the prediction for each data point is based on the label of only one nearest neighbor. This can result in overfitting, where the model is too sensitive to the noise in the data and fails to generalize well to new data.\n",
    "\n",
    "On the other hand, when k is large (e.g., k=n, where n is the number of training points), the decision function of the model will be simpler and have a lower variance, because the prediction for each data point is based on the average label of all training points. This can result in underfitting, where the model is too simple to capture the underlying patterns in the data and fails to make accurate predictions on both training and test data.\n",
    "\n",
    "In extreme cases, when k=1, the decision function of the k-NN model will be very sensitive to the noise and outliers in the data, and the model will have high variance and overfitting. When k=n, the decision function of the model will be a constant function, since the prediction for each data point will be based on the average label of all training points, resulting in high bias and underfitting.\n",
    "\n",
    "Therefore, the choice of the optimal number of neighbors in k-NN algorithm depends on the complexity of the problem and the amount of noise in the data. A common practice is to use cross-validation to estimate the optimal value of k that balances bias and variance, by evaluating the performance of the model on a validation set for different values of k."
   ]
  },
  {
   "cell_type": "markdown",
   "metadata": {
    "deletable": false,
    "editable": false,
    "nbgrader": {
     "cell_type": "markdown",
     "checksum": "dfffdd7236e709a05bea0fd724521627",
     "grade": false,
     "grade_id": "cell-78b9ebed5aa19c8d",
     "locked": true,
     "schema_version": 3,
     "solution": false,
     "task": false
    }
   },
   "source": [
    "#### 10.2\n",
    "When you face a very noised dataset (wrong labels, misplaced points, ...), should you increase or decrease $k$ ?"
   ]
  },
  {
   "attachments": {},
   "cell_type": "markdown",
   "metadata": {
    "deletable": false,
    "nbgrader": {
     "cell_type": "markdown",
     "checksum": "0ca259a9429560ebef8dc6000d59429e",
     "grade": true,
     "grade_id": "cell-623e932720b2164c",
     "locked": false,
     "points": 0.5,
     "schema_version": 3,
     "solution": true,
     "task": false
    }
   },
   "source": [
    "When faced with a noisy dataset with wrong labels and misplaced points, increasing the value of k in k-Nearest Neighbor (k-NN) algorithm may help to reduce the impact of the noise and improve the model's performance."
   ]
  }
 ],
 "metadata": {
  "kernelspec": {
   "display_name": "base",
   "language": "python",
   "name": "python3"
  },
  "language_info": {
   "codemirror_mode": {
    "name": "ipython",
    "version": 3
   },
   "file_extension": ".py",
   "mimetype": "text/x-python",
   "name": "python",
   "nbconvert_exporter": "python",
   "pygments_lexer": "ipython3",
   "version": "3.9.12"
  },
  "toc-autonumbering": true,
  "vscode": {
   "interpreter": {
    "hash": "64a77b45c359afa8658ef88c0bb4f5091cf78d289669dc211d31fc0b397ae80d"
   }
  }
 },
 "nbformat": 4,
 "nbformat_minor": 4
}
