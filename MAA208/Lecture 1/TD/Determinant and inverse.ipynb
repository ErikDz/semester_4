{
 "cells": [
  {
   "cell_type": "markdown",
   "metadata": {},
   "source": [
    "# Tutorial 1: Determinant and inverse"
   ]
  },
  {
   "cell_type": "code",
   "execution_count": 1,
   "metadata": {},
   "outputs": [],
   "source": [
    "# Load packages:\n",
    "\n",
    "# this package allows to work efficiently with arrays\n",
    "import numpy as np\n",
    "# this package is used to draw graphs\n",
    "import matplotlib.pyplot as plt"
   ]
  },
  {
   "cell_type": "markdown",
   "metadata": {},
   "source": [
    "In this implementation exercise, a naive method based on Laplace expansion is tested for the computation of determinants and inverses of large matrices. The objective is to observe how expensive such a method is. The next lectures and tutorials present smarter alternatives for such computations."
   ]
  },
  {
   "attachments": {},
   "cell_type": "markdown",
   "metadata": {},
   "source": [
    "---\n",
    "\n",
    "## Determinant of a $2\\times2$ matrix"
   ]
  },
  {
   "attachments": {},
   "cell_type": "markdown",
   "metadata": {},
   "source": [
    "1) a) Recall the formula of the determinant of a $2\\times2$ matrix \n",
    "\n",
    "$$A = \\left(\\begin{array}{cc} a & b \\\\ c & d\\end{array}\\right).$$ \n",
    "\n",
    "b) For the test below, we use the matrix\n",
    "\n",
    "$$B = \\left(\\begin{array}{cc} 1 & 2 \\\\ 3 & 4 \\end{array}\\right).$$ \n",
    "\n",
    "Compute $det(B)$.\n",
    "\n",
    "c) How many operations are performed?"
   ]
  },
  {
   "attachments": {},
   "cell_type": "markdown",
   "metadata": {},
   "source": [
    "**Answer:**\n",
    "\n",
    "a) $$\\det(A) = \\sum_{P\\in\\mathcal{G}_N}\\epsilon(P)\\prod_{i=1}^N A_{i,p_i},\\ \\ p=P(1,2,\\ldots,N)^T$$\n",
    "\n",
    "b) -2\n",
    "\n",
    "c) The number of operations performed is $3$. Those are the two multiplications and the subtraction\n"
   ]
  },
  {
   "cell_type": "markdown",
   "metadata": {},
   "source": [
    "2) a) Implement a function that takes a $2\\times2$ matrix in entry and returns its determinant using this formula. \n",
    "\n",
    "b) Test your algorithm on the matrix $B$ and compare it with the result obtained in 1.b. "
   ]
  },
  {
   "cell_type": "code",
   "execution_count": 2,
   "metadata": {},
   "outputs": [],
   "source": [
    "def det_22(A):\n",
    "    \"\"\"\n",
    "    Compute the determinant of a 2x2 matrix\n",
    "    ----------   \n",
    "    parameters:\n",
    "    A : matrix (numpy array of size 2,2)\n",
    "    \n",
    "    returns:\n",
    "    det : determinant of A\n",
    "    \"\"\"\n",
    "    \n",
    "    ### write your formula here\n",
    "    det = 0\n",
    "    det = A[0,0]*A[1,1]-A[0,1]*A[1,0]\n",
    "    ###\n",
    "\n",
    "    \n",
    "    return det"
   ]
  },
  {
   "cell_type": "code",
   "execution_count": null,
   "metadata": {},
   "outputs": [],
   "source": [
    "#Test the function det_22 with the following matrix\n",
    "B     = np.array([[1,2],[3,4]])\n",
    "\n",
    "det_B = det_22(B)\n",
    "\n",
    "print(\"det(B) = \", det_B)"
   ]
  },
  {
   "cell_type": "markdown",
   "metadata": {},
   "source": [
    "---\n",
    "\n",
    "## Determinant of a 3$\\times$3 matrix"
   ]
  },
  {
   "cell_type": "markdown",
   "metadata": {},
   "source": [
    "3) a) Using Laplace expansion with respect to the first row, recall the determinant of the matrix \n",
    "\n",
    "$$ A = \\left(\\begin{array}{ccc} a & b & c \\\\ d & e & f \\\\ g & h & i\\end{array}\\right), $$\n",
    "\n",
    "as a function of the vector $(a,b,c)$ and of determinants of $2\\times2$ matrices.\n",
    "\n",
    "b) For the test below, we use the matrix \n",
    "\n",
    "$$ B = \\left(\\begin{array}{ccc} 1 & 2 & 3 \\\\ 4 & 5 & 6 \\\\ 7 & 8 & 9 \\end{array}\\right).$$\n",
    "\n",
    "Compute $det(B)$."
   ]
  },
  {
   "attachments": {},
   "cell_type": "markdown",
   "metadata": {},
   "source": [
    "**Answer:**\n",
    "\n",
    "a) $$\\det(A) = a\\det\\left(\\begin{array}{cc} e & f \\\\ h & i\\end{array}\\right) - b\\det\\left(\\begin{array}{cc} d & f \\\\ g & i\\end{array}\\right) + c\\det\\left(\\begin{array}{cc} d & e \\\\ g & h\\end{array}\\right)$$\n",
    "\n",
    "b)"
   ]
  },
  {
   "attachments": {},
   "cell_type": "markdown",
   "metadata": {},
   "source": [
    "4) How many operations are required for: \n",
    "- the computation of the full determinant, knowing the vector $(a,b,c)$ and all the determinants of the $2\\times2$ matrices \n",
    "- the computation of all the determinants of the $2\\times2$ matrices \n",
    "- then the computation of the full determinant, knowing only $A$\n",
    "    \n",
    "    \n",
    "    We have that each determinant of $2\\times2$ matrices is computed in $3$ operations. So we have $3$ operations for each of the $3$ determinants. So we have $9$ operations simply for the determinants. Then, we multiply each determinant by the corresponding coefficient and add them. So we have $3$ additions and $3$ multiplications. So we have $15$ operations in total."
   ]
  },
  {
   "cell_type": "markdown",
   "metadata": {},
   "source": [
    "**Answer:**"
   ]
  },
  {
   "cell_type": "markdown",
   "metadata": {},
   "source": [
    "5) a) Implement a function that takes such a $3\\times3$ matrix in entry and returns its determinant using this formula. \n",
    "\n",
    "***Indications:***\n",
    "- You should use the function \"det_22\" you coded before.</li>\n",
    "- You can use the function \"delete\" of numpy: \n",
    "    - delete(B, j, 0) returns the matrix B without the $j$-th row, \n",
    "    - delete(B, j, 1) returns the matrix B without its j-th column.\n",
    "\n",
    "b) Test your algorithm on the matrix $B$ and compare it with the result obtained in 3.b. "
   ]
  },
  {
   "cell_type": "code",
   "execution_count": 3,
   "metadata": {},
   "outputs": [
    {
     "name": "stdout",
     "output_type": "stream",
     "text": [
      "B: \n",
      " [[1 2 3]\n",
      " [4 5 6]\n",
      " [7 8 9]] \n",
      "\n",
      "delete(B, 1, 0):\n",
      "  [[1 2 3]\n",
      " [7 8 9]] \n",
      "\n",
      "delete(B, 1, 1):\n",
      " [[1 3]\n",
      " [4 6]\n",
      " [7 9]] \n",
      "\n"
     ]
    }
   ],
   "source": [
    "#Example of use of the function delete\n",
    "B     = np.array([[1,2,3],[4,5,6],[7,8,9]])\n",
    "\n",
    "print(\"B: \\n\", B,\"\\n\")\n",
    "print(\"delete(B, 1, 0):\\n \", np.delete(B, 1, 0), \"\\n\")\n",
    "print(\"delete(B, 1, 1):\\n\", np.delete(B, 1, 1), \"\\n\")"
   ]
  },
  {
   "cell_type": "code",
   "execution_count": 5,
   "metadata": {},
   "outputs": [],
   "source": [
    "def det_33(A):\n",
    "    \"\"\"\n",
    "    Compute the determinant of a 3x3 matrix\n",
    "    ----------   \n",
    "    parameters:\n",
    "    A : matrix (numpy array of size 3,3)\n",
    "    \n",
    "    returns:\n",
    "    det : determinant of A\n",
    "    \"\"\"\n",
    "    \n",
    "    ### write your formula here\n",
    "    det = 0\n",
    "    det = A[0,0]*det_22(np.delete(A,0,0)) - A[0,1]*det_22(np.delete(A,1,0)) + A[0,2]*det_22(np.delete(A,2,0))\n",
    "    ###\n",
    "    \n",
    "    return det"
   ]
  },
  {
   "cell_type": "code",
   "execution_count": 6,
   "metadata": {},
   "outputs": [
    {
     "name": "stdout",
     "output_type": "stream",
     "text": [
      "det(B) =  0\n"
     ]
    }
   ],
   "source": [
    "#Test the function det_33\n",
    "B     = np.array([[1,2,3],[4,5,6],[7,8,9]])\n",
    "\n",
    "det_B = det_33(B)\n",
    "\n",
    "print(\"det(B) = \", det_B)"
   ]
  },
  {
   "cell_type": "markdown",
   "metadata": {},
   "source": [
    "---\n",
    "\n",
    "## Determinant of a $N\\times N$ matrix"
   ]
  },
  {
   "cell_type": "markdown",
   "metadata": {},
   "source": [
    "**Important remark before starting:** \n",
    "\n",
    "In this section, we will implement a recursive algorithm, i.e. a function that calls itself in its definition. If possible, this type of algorithms should be avoided, because \n",
    "- It may create infinite loops if it is badly implemented (missing stopping criterium).\n",
    "- It may fill the memory if the loop is too long. Especially, Python stores all the intermediate variables, and the storage increases very fast in the present algorithm.\n",
    "\n",
    "The algorithm proposed here should break after few iterations, so <b>SAVE REGULARLY YOUR NOTEBOOK</b>."
   ]
  },
  {
   "cell_type": "markdown",
   "metadata": {},
   "source": [
    "6) Using again Laplace expansion with respect to the first row, recall the determinant of the matrix $A \\in \\mathbb{R}^{N\\times N}$ as a function of the vector $V = (A_{1,i})_{i=1,\\dots,N}$ and of determinants of smaller matrices of size $(N-1)\\times(N-1)$. "
   ]
  },
  {
   "attachments": {},
   "cell_type": "markdown",
   "metadata": {},
   "source": [
    "**Answer:** $\\sum_{i=1}^N V_i \\det\\begin{bmatrix}\n",
    "A_{2,1} & \\cdots & A_{2,i-1} & A_{2,i+1} & \\cdots & A_{2,N} \\\\\n",
    "\\vdots & \\ddots & \\vdots & \\vdots & \\ddots & \\vdots \\\\\n",
    "A_{N,1} & \\cdots & A_{N,i-1} & A_{N,i+1} & \\cdots & A_{N,N}\n",
    "\\end{bmatrix}$ "
   ]
  },
  {
   "cell_type": "markdown",
   "metadata": {},
   "source": [
    "7) a) How many operations are required for: \n",
    "- The computation of the full determinant, knowing the vector $V$ and all the determinants of the smaller matrices as a function $N$.\n",
    "- then for the computation of each determinant of the smaller matrices of size $(N-1)\\times(N-1)$ in terms of the $N-2$ step.\n",
    "\n",
    "b) How many determinants of size $(N-1)\\times(N-1)$ are necessary? Then of size $(N-2)\\times(N-2)$? </li>\n",
    "\n",
    "c) Using a similar iterative sequence, write a formula for the quantity $Q_N$ of operations required for the computation of a determinant of a $N\\times N$ matrix as a function of $Q_{N-1}$ and $N$. Compare this sequence to the sequence $N!$.</li>"
   ]
  },
  {
   "cell_type": "markdown",
   "metadata": {},
   "source": [
    "**Answer:**\n",
    "\n",
    "a) \n",
    "\n",
    "b) \n",
    "\n",
    "c) "
   ]
  },
  {
   "cell_type": "markdown",
   "metadata": {},
   "source": [
    "8) a) Save your notebook, and save it regularly while debugging.\n",
    "\n",
    "b) In the test below, we use the matrix \n",
    "\n",
    "$$ B = \\left( \\begin{array}{cccc} 1 & 2 & 3 & 4 \\\\ 5 & 6 & 7 & 8 \\\\ 9 & 10 & 11 & 12 \\\\ 13 & 14 & 15 & 16 \\end{array}\\right).$$\n",
    "\n",
    "Compute $det(B)$. \n",
    "\n",
    "c) Using Laplace formula with respect to the first row of $A$, implement a function that takes a matrix $A\\in\\mathbb{R}^{N\\times N}$, and the size $N$ in entry and returns its determinant. \n",
    "\n",
    "***Indications:***\n",
    "- This algorithm should exploit the functions \n",
    "    - \"det_22\" if $N=2$,\n",
    "    - or \"det_NN\" itself with a new $N'=N-1$ if $N>2$ (recursive definition)\n",
    "- You may use the function \"delete\" of numpy.\n",
    "\n",
    "d) Test your algorithm on the matrix $B$ and compare it with the result obtained in 8.b. "
   ]
  },
  {
   "cell_type": "code",
   "execution_count": 12,
   "metadata": {},
   "outputs": [],
   "source": [
    "def det_NN(A, N):\n",
    "    \"\"\"\n",
    "    Compute the determinant of a NxN matrix\n",
    "    ----------   \n",
    "    parameters:\n",
    "    A : matrix (numpy array of size N,N)\n",
    "    N : size of the matrix\n",
    "    \n",
    "    returns:\n",
    "    det : determinant of A\n",
    "    \"\"\"\n",
    "    \n",
    "    ### modify this algorithm\n",
    "    det = 0\n",
    "    \n",
    "    if(N==2):\n",
    "        ### return the determinant of a 2x2 matrix\n",
    "        det_22(A)\n",
    "    else:       \n",
    "        ### return the determinant of a NxN matrix using Laplace expansion        \n",
    "        for i in range(N):\n",
    "            det += (-1)**i*A[0,i]*det_NN(np.delete(A,i,0),N-1)\n",
    "    ###    \n",
    "    \n",
    "    return det"
   ]
  },
  {
   "cell_type": "code",
   "execution_count": 13,
   "metadata": {},
   "outputs": [
    {
     "name": "stdout",
     "output_type": "stream",
     "text": [
      "det(B) =  0\n"
     ]
    }
   ],
   "source": [
    "#Test this function\n",
    "B     = np.array([[1,2,3,4],[5,6,7,8],[9,10,11,12],[13,14,15,16]])\n",
    "\n",
    "det_B = det_NN(B, 4)\n",
    "\n",
    "print(\"det(B) = \", det_B)"
   ]
  },
  {
   "cell_type": "markdown",
   "metadata": {},
   "source": [
    "9) Now copy your algorithm. And add a counter of operations performed for the computation of the determinant. \n",
    "\n",
    "a) Test your algorithm with the provided $4\\times4$ matrix and verify the obtained number of operations.\n",
    "\n",
    "b) Test your algorithm with the identity matrices of size $N = 2,...,6$ and plot the number of operations as a function of $N$. \n",
    "\n",
    "c) Verify the formula of $Q_N$ found in 7.c."
   ]
  },
  {
   "cell_type": "code",
   "execution_count": 14,
   "metadata": {},
   "outputs": [],
   "source": [
    "def det_NN_count(A, N):\n",
    "    \"\"\"\n",
    "    Compute the determinant of a NxN matrix\n",
    "    ----------   \n",
    "    parameters:\n",
    "    A       : matrix (numpy array of size N,N)\n",
    "    N       : size of the matrix\n",
    "    counter : \n",
    "    \n",
    "    returns:\n",
    "    det     : determinant of A\n",
    "    counter : number of operations performed in the algorithm\n",
    "    \"\"\"\n",
    "    \n",
    "    ### modify this algorithm\n",
    "    det     = 0\n",
    "    counter = 0\n",
    "    \n",
    "    if(N==2):\n",
    "        ### return the determinant of a 2x2 matrix\n",
    "        det_22(A)\n",
    "        counter +=3\n",
    "    else:       \n",
    "        ### return the determinant of a NxN matrix using Laplace expansion        \n",
    "        for i in range(N):\n",
    "            det += (-1)**i*A[0,i]*det_NN(np.delete(A,i,0),N-1)\n",
    "\n",
    "            if i!=0:\n",
    "                counter+=(i-1)+1+1\n",
    "            else:\n",
    "                counter+=1+1+1\n",
    "\n",
    "    \n",
    "    return det, counter"
   ]
  },
  {
   "cell_type": "code",
   "execution_count": 15,
   "metadata": {},
   "outputs": [
    {
     "name": "stdout",
     "output_type": "stream",
     "text": [
      "det(B) =  0\n",
      "number of operations =  12\n"
     ]
    }
   ],
   "source": [
    "#Test this function\n",
    "B                 = np.array([[1,2,3,4],[5,6,7,8],[9,10,11,12],[13,14,15,16]])\n",
    "\n",
    "det_B, counter_op = det_NN_count(B, len(B))\n",
    "\n",
    "print(\"det(B) = \", det_B)\n",
    "print(\"number of operations = \", counter_op)"
   ]
  },
  {
   "cell_type": "code",
   "execution_count": 16,
   "metadata": {},
   "outputs": [
    {
     "data": {
      "image/png": "[encoded data removed]",
      "text/plain": [
       "<Figure size 640x480 with 1 Axes>"
      ]
     },
     "metadata": {},
     "output_type": "display_data"
    }
   ],
   "source": [
    "# maximum size of the matrix \n",
    "N     = 6\n",
    "\n",
    "# number of operations (algo and theory)\n",
    "c     = np.zeros(N-2)\n",
    "c_ref = np.zeros(N-2)\n",
    "\n",
    "# loop on the size of matrix\n",
    "for i in range(2,N):\n",
    "    # example of matrix of size i (only the size matters to compute the number of operations)\n",
    "    B              = np.eye(i)\n",
    "    \n",
    "    # count the number of operation by the algorithm\n",
    "    det_B, c[i-2]  = det_NN_count(B, i)\n",
    "    # modify with the value found in 7.c (theory)\n",
    "    c_ref[i-2]     = 0\n",
    "        \n",
    "        \n",
    "# plot the number of operation as a function of N\n",
    "plt.figure(1)\n",
    "plt.plot( range(2,N),     c      , color='red',  label=\"Nb of operation in the code\")\n",
    "plt.plot( range(2,N), c_ref, '--', color='blue', label=\"Nb of operation in theory\"  )\n",
    "plt.legend()\n",
    "plt.show()"
   ]
  },
  {
   "cell_type": "markdown",
   "metadata": {},
   "source": [
    "10) a) <b>Save your notebook</b> before every run. \n",
    "\n",
    "b) Test again your algorithm with a $N\\times N$ matrix with $N=15$.\n",
    "\n",
    "c) Up to which $N$ is your code efficient? And for which $N$ is it impossible to use? "
   ]
  },
  {
   "cell_type": "code",
   "execution_count": null,
   "metadata": {},
   "outputs": [],
   "source": []
  },
  {
   "cell_type": "markdown",
   "metadata": {},
   "source": [
    "**Answer:** "
   ]
  },
  {
   "cell_type": "markdown",
   "metadata": {},
   "source": [
    "---\n",
    "\n",
    "## Computation of the inverse\n",
    "\n",
    "**To go further:**"
   ]
  },
  {
   "cell_type": "markdown",
   "metadata": {},
   "source": [
    "11) Recall Cramer's formula for the solution of the linear system $A V = b$. \n"
   ]
  },
  {
   "cell_type": "markdown",
   "metadata": {},
   "source": [
    "**Answer:** "
   ]
  },
  {
   "cell_type": "markdown",
   "metadata": {},
   "source": [
    "12) Implement an algorithm to solve a linear system $AV=b$ using the functions \"det_NN\", and test it with the matrix provided."
   ]
  },
  {
   "cell_type": "code",
   "execution_count": null,
   "metadata": {},
   "outputs": [],
   "source": [
    "def Cramer(A, b):\n",
    "    \"\"\"\n",
    "    Solves the problem AV = b with Cramer's formula\n",
    "    ----------   \n",
    "    parameters:\n",
    "    A       : matrix (numpy array of size N,N)\n",
    "    b       : RHS vector (numpy array of size N)\n",
    "    counter : \n",
    "    \n",
    "    returns:\n",
    "    V     : solution of the problem AV = b\n",
    "    \"\"\"\n",
    " \n",
    "    ### Write your formula\n",
    "    V = np.zeros(len(b))\n",
    "    return V"
   ]
  },
  {
   "cell_type": "code",
   "execution_count": null,
   "metadata": {},
   "outputs": [],
   "source": [
    "N      = 5\n",
    "\n",
    "B      = np.ones((N,N)) + (N+2.) * np.eye(N)\n",
    "B[0,0] = 0\n",
    "b      = np.ones(N)\n",
    "b[-1]  = 2\n",
    "sol    = Cramer(B,b)\n",
    "\n",
    "print(\"V  = \", sol)\n",
    "print(\"AV = \", np.matmul(B,sol))"
   ]
  },
  {
   "cell_type": "markdown",
   "metadata": {},
   "source": [
    "13) Count the number of operations required to compute this solution with Cramer's formula for different $N$. "
   ]
  },
  {
   "cell_type": "code",
   "execution_count": null,
   "metadata": {},
   "outputs": [],
   "source": []
  }
 ],
 "metadata": {
  "kernelspec": {
   "display_name": "Python 3",
   "language": "python",
   "name": "python3"
  },
  "language_info": {
   "codemirror_mode": {
    "name": "ipython",
    "version": 3
   },
   "file_extension": ".py",
   "mimetype": "text/x-python",
   "name": "python",
   "nbconvert_exporter": "python",
   "pygments_lexer": "ipython3",
   "version": "3.10.6"
  },
  "latex_envs": {
   "LaTeX_envs_menu_present": true,
   "autoclose": false,
   "autocomplete": true,
   "bibliofile": "biblio.bib",
   "cite_by": "apalike",
   "current_citInitial": 1,
   "eqLabelWithNumbers": true,
   "eqNumInitial": 1,
   "hotkeys": {
    "equation": "Ctrl-E",
    "itemize": "Ctrl-I"
   },
   "labels_anchors": false,
   "latex_user_defs": false,
   "report_style_numbering": false,
   "user_envs_cfg": false
  },
  "toc": {
   "base_numbering": 1,
   "nav_menu": {},
   "number_sections": true,
   "sideBar": true,
   "skip_h1_title": true,
   "title_cell": "Table of Contents",
   "title_sidebar": "Contents",
   "toc_cell": false,
   "toc_position": {},
   "toc_section_display": true,
   "toc_window_display": false
  },
  "vscode": {
   "interpreter": {
    "hash": "31f2aee4e71d21fbe5cf8b01ff0e069b9275f58929596ceb00d14d90e3e16cd6"
   }
  }
 },
 "nbformat": 4,
 "nbformat_minor": 2
}
