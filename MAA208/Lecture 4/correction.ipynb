{
 "cells": [
  {
   "cell_type": "markdown",
   "id": "young-examination",
   "metadata": {},
   "source": [
    "# Tutorial 4:"
   ]
  },
  {
   "cell_type": "code",
   "execution_count": null,
   "id": "efficient-state",
   "metadata": {},
   "outputs": [],
   "source": [
    "# Load packages:\n",
    "\n",
    "# this package allows to work efficiently with arrays\n",
    "import numpy as np\n",
    "# this package is used to draw graphs\n",
    "import matplotlib.pyplot as plt"
   ]
  },
  {
   "cell_type": "markdown",
   "id": "stupid-thanks",
   "metadata": {},
   "source": [
    "---\n",
    "\n",
    "## Solving tridiagonal systems\n",
    "\n",
    "In this section, we want to construct an algorithm to solve a linear problem $TV = b$ where the matrix $T$ is invertible, symmetric and tridiagonal, i.e. $T_{i,j} = T_{j,i}$ and $T_{i,j} = 0$ if $|i-j|>1$, or equivalently it is of the form \n",
    "\n",
    "$$ T = \\left(\\begin{array}{ccccc}\n",
    "\\alpha_{1} & \\beta_{1} & 0       & \\dots  &  0 \\\\ \n",
    "\\beta_{1} & \\alpha_{2} & \\beta_{2} & \\ddots & \\vdots \\\\\n",
    "0 & \\ddots & \\ddots & \\ddots & 0 \\\\ \n",
    "\\vdots & \\ddots & \\beta_{N-2} & \\alpha_{N-1} & \\beta_{N-1} \\\\\n",
    "0 & \\dots & 0 & \\beta_{N-1} & \\alpha_{N}\n",
    "\\end{array}\\right).$$\n"
   ]
  },
  {
   "cell_type": "markdown",
   "id": "alpine-tuning",
   "metadata": {},
   "source": [
    "Let us construct a Cholesky decomposition for such matrices. We will suppose that no forbidden operations (division by zero and square roots of negative value) occur.   \n",
    "\n",
    "1) a) Compute the coefficients of the first column of the matrix $L$ of the Cholesky decomposition $T = LL^T$ as functions of $\\alpha_1$ and $\\beta_1$. What do you observe? \n",
    "\n",
    "b) Compute the coefficients of the second column using those values and $\\alpha_2$ and $\\beta_2$. What do you observe again? \n",
    "\n",
    "c) Asuming that this property holds again for all $i$ first column, prove that it holds again for the $i+1$-th. \n",
    "\n",
    "d) Let us denote $\\gamma = (\\gamma_i)_{i=1,\\dots,N}$ and $\\kappa=(\\kappa_i)_{i=1,\\dots,N-1}$ the diagonal and subdiagonal terms of $L$. Write down the iterative sequence satisfied by $(\\gamma_i,\\kappa_i)$, i.e. write $(\\gamma_{i+1},\\kappa_{i+1})$ as a function of the previously computed values $(\\gamma_i,\\kappa_i)$ and on the $(\\alpha_i,\\beta_i)$. "
   ]
  },
  {
   "cell_type": "markdown",
   "id": "premium-dispatch",
   "metadata": {},
   "source": [
    "**Answer:**\n",
    "\n",
    "a) $$L_{1,1} = \\sqrt{\\alpha_1}, \\qquad L_{2,1} = \\frac{\\beta_1}{L_{1,1}} = \\frac{\\beta_1}{\\sqrt{\\alpha_1}}, \\qquad L_{i,1} = 0 \\quad\\text{for all}\\quad i>2.$$\n",
    "\n",
    "The first column possesses the same zeros as the first column of $T$.\n",
    "\n",
    "b)  $$L_{2,2} = \\sqrt{\\alpha_2-L_{2,1}^2} = \\sqrt{\\alpha_2-\\frac{\\beta_1^2}{\\alpha_1}}, \\qquad L_{3,2} = \\frac{\\beta_2}{L_{2,2}} = \\frac{\\beta_2}{\\sqrt{\\alpha_2-\\frac{\\beta_1^2}{\\alpha_1}}}, \\qquad L_{i,2} = 0 \\quad\\text{for all}\\quad i>3.$$\n",
    "\n",
    "The second column possesses the same zeros as the first column of $T$.\n",
    "\n",
    "c) If all the columns until $i$-th column are composed of two terms, one $L_{j,j}$ on the diagonal and one $L_{j+1,j}$ on the subdiagonal, then \n",
    "\n",
    "$$\\alpha_{i+1} = L_{i+1,i+1}^2 + L_{i+1,i}^2 \\quad \\Rightarrow \\quad L_{i+1,i+1} = \\sqrt{\\alpha_{i+1}- L_{i+1,i}^2}$$\n",
    "\n",
    "and the subdiagonal terms read \n",
    "\n",
    "$$ \\beta_{i+1} = L_{i+1,i+1} L_{i+2,i+1} + 0 + 0 + ... \\quad \\Rightarrow \\quad L_{i+2,i+1} = \\frac{\\beta_{i+1}}{L_{i+1,i+1}}$$\n",
    "$$ 0 = L_{i+1,i+1} L_{i+1,j} \\quad \\text{for} \\quad j>i+1\\quad\\Rightarrow\\quad L_{i+1,j} = 0 \\quad \\text{for} \\quad j>i+1$$\n",
    "\n",
    "Then the Cholesky decomposition only possesses a diagonal and a subdiagonal. \n",
    "\n",
    "d) $$\\gamma_{i+1} = L_{i+1,i+1} = \\sqrt{\\alpha_{i+1} - L_{i+1,i}^2} = \\sqrt{\\alpha_{i+1} - \\kappa_i^2},\\qquad \\kappa_{i+1} = L_{i+2,i+1} = \\frac{\\beta_{i+1}}{L_{i+1,i+1}} = \\frac{\\beta_{i+1}}{\\gamma_{i+1}} = \\frac{\\beta_{i+1}}{ \\sqrt{\\alpha_{i+1} - \\kappa_i^2} }  $$"
   ]
  },
  {
   "cell_type": "markdown",
   "id": "pleased-occasions",
   "metadata": {},
   "source": [
    "Now, we will exploit this property to implement the Cholesky algorithm without performing the multiplications and additions by zeros.  \n",
    "\n",
    "In practice, only the non-zero coefficients of $T$ are stored, and only once, i.e. $T$ is represented by the two vectors $\\alpha = (\\alpha_i)_{i=1,\\dots,N}$ and $\\beta=(\\beta_i)_{i=1,\\dots,N-1}$.\n",
    "\n",
    "Similarly, only the non-zero coefficients of $L$ are stored, i.e. the two vectors $\\gamma = (\\gamma_i)_{i=1,\\dots,N}$ and $\\kappa=(\\kappa_i)_{i=1,\\dots,N-1}$. \n",
    "\n",
    "2) a) In the test below, we will use the matrix \n",
    "\n",
    "$$T = \\left( \\begin{array}{ccc} 1 & -1 & 0 \\\\ -1 & 5 & 6 \\\\ 0 & 6 & 10\\end{array} \\right). $$\n",
    "\n",
    "Compute the Cholesky decomposition of this matrix. \n",
    "\n",
    "b) Implement a function that returns the Cholesky decomposition in this format. It should take $\\alpha$ and $\\beta$ as arguments and return $\\gamma$ and $\\kappa$.  \n",
    "\n",
    "c) Test your algorithm with the matrix given in a) and verify your result."
   ]
  },
  {
   "cell_type": "markdown",
   "id": "meaning-tension",
   "metadata": {},
   "source": [
    "**Answer:**\n",
    "\n",
    "a) $$L = \\left( \\begin{array}{ccc} 1 & 0 & 0 \\\\ -1 & 2 & 0 \\\\ 0 & 3 & 1 \\end{array}\\right)$$"
   ]
  },
  {
   "cell_type": "code",
   "execution_count": null,
   "id": "charitable-empty",
   "metadata": {},
   "outputs": [],
   "source": [
    "#b)\n",
    "def Cholesky_Tridiag(alpha,beta):\n",
    "    \"\"\"\n",
    "    Compute the Cholesky decomposition of a tridiagonal matrix\n",
    "    ----------   \n",
    "    parameters:\n",
    "    alpha : vector of diagonal coefficients of T (numpy array of size N)\n",
    "    beta  : vector of subdiagonal coefficients of T (numpy array of size N-1)\n",
    "    \n",
    "    returns:\n",
    "    gamma : vector of diagonal coefficients of L (numpy array of size N)\n",
    "    kappa : vector of subdiagonal coefficients of L (numpy array of size N-1)\n",
    "    \"\"\"\n",
    "    \n",
    "    gamma = np.copy(alpha)\n",
    "    kappa = np.copy(beta)\n",
    "    \n",
    "    gamma[0] = np.sqrt(alpha[0])\n",
    "    for i in range(len(beta)):\n",
    "        if(gamma[i] == 0): \n",
    "            print(\"Error division by zero in Cholesky tridiagonal\")\n",
    "            return\n",
    "        else:\n",
    "            kappa[i]   = beta[i]/gamma[i]\n",
    "        \n",
    "        res = alpha[i+1]-kappa[i]**2\n",
    "        if(res < 0): \n",
    "            print(\"Error sqrt of negative value in Cholesky tridiagonal\")\n",
    "            return\n",
    "        else:\n",
    "            gamma[i+1] = np.sqrt(alpha[i+1]-kappa[i]**2) \n",
    "    \n",
    "    return gamma, kappa"
   ]
  },
  {
   "cell_type": "code",
   "execution_count": null,
   "id": "pursuant-warehouse",
   "metadata": {},
   "outputs": [],
   "source": [
    "#c)\n",
    "alpha = np.array([1,5,10])\n",
    "beta  = np.array([-1,6])\n",
    "\n",
    "gamma, kappa = Cholesky_Tridiag(alpha,beta)\n",
    "print('gamma =', gamma)\n",
    "print('kappa =', kappa)"
   ]
  },
  {
   "cell_type": "markdown",
   "id": "correct-illness",
   "metadata": {},
   "source": [
    "Similarly, we will exploit this format to solve a tridiagonal linear system. \n",
    "Consider a lower triangular matrix $L$ which only possesses a non-zero diagonal $\\gamma$ and subdiagonal $\\kappa$. \n",
    "\n",
    "3) a) Write down every component $V_i$ of the solution of the problem $LV = b$ as a function of $\\gamma$ and $\\kappa$ and $b$ as given by the forward substitution algorithm.  \n",
    "\n",
    "b) Write down every component $V_i$ of the solution of the problem $L^T V = b$ as a function of $\\gamma$ and $\\kappa$ and $b$ as given by the back substitution algorithm.  "
   ]
  },
  {
   "cell_type": "markdown",
   "id": "classical-mason",
   "metadata": {},
   "source": [
    "**Answer:** \n",
    "\n",
    "a) $$V_1 = \\frac{b_1}{\\gamma_1}, \\qquad V_i = \\frac{b_i - \\kappa_{i-1} V_{i-1}}{\\gamma_i}$$\n",
    "\n",
    "b) $$V_N = \\frac{b_N}{\\gamma_N}, \\qquad V_i = \\frac{b_i - \\kappa_{i} V_{i+1}}{\\gamma_i}$$ \n",
    "\n",
    "Be carefull about the indices in the back substitution! "
   ]
  },
  {
   "cell_type": "markdown",
   "id": "smooth-observer",
   "metadata": {},
   "source": [
    "4) a) In the test below, we will use the parameters\n",
    "\n",
    "$$L = \\left( \\begin{array}{ccc} 1 & 0 & 0 \\\\ -1 & 2 & 0 \\\\ 0 & 3 & 1 \\end{array}\\right), \\qquad b = \\left(\\begin{array}{ccc} 1 \\\\ 2 \\\\ 3 \\end{array}\\right).$$\n",
    "\n",
    "Compute the solutions of $LV = b$ and $L^T V = b$\n",
    "\n",
    "b) Implement a function that solves a tridiagonal lower triangular system using the tridiagonal format. It should take $\\gamma$, $\\kappa$ and $b$ as arguments and return $V$.  \n",
    "\n",
    "c) Implement a function that solves a tridiagonal lower triangular system using the tridiagonal format. It should take $\\gamma$, $\\kappa$ and $b$ as arguments and return $V$.  \n",
    "\n",
    "d) Test both of them with the parameters in a) and verify your results. "
   ]
  },
  {
   "cell_type": "markdown",
   "id": "cosmetic-mortality",
   "metadata": {},
   "source": [
    "**Answer:**\n",
    "\n",
    "a) $V = (1, \\frac{3}{2}, -\\frac{3}{2})^T, \\qquad V = (-\\frac{5}{2}, -\\frac{7}{2}, 3)^T$"
   ]
  },
  {
   "cell_type": "code",
   "execution_count": null,
   "id": "chicken-louisville",
   "metadata": {},
   "outputs": [],
   "source": [
    "#b)\n",
    "def forward_Tridiag(gamma,kappa,b):\n",
    "    \"\"\"\n",
    "    Compute the solution of a lower triangular tridiagonal system LV=b\n",
    "    ----------   \n",
    "    parameters:\n",
    "    gamma : vector of diagonal coefficients of L (numpy array of size N)\n",
    "    kappa : vector of subdiagonal coefficients of L (numpy array of size N-1)\n",
    "    b     : RHS of the problem LV = b (numpy array of size N)\n",
    "    \n",
    "    returns:\n",
    "    V     : solution of the problem LV = b (numpy array of size N)\n",
    "    \"\"\"\n",
    "    \n",
    "    if(any(gamma<0)):\n",
    "        print(\"Non invertible matrix in tridiagonal forward substitution\")\n",
    "        return\n",
    "    \n",
    "    V = np.copy(gamma)\n",
    "    \n",
    "    V[0] = b[0]/gamma[0]\n",
    "    for i in range(len(b)-1):\n",
    "        V[i+1] = (b[i+1]-kappa[i]*V[i])/gamma[i+1]\n",
    "    \n",
    "    return V"
   ]
  },
  {
   "cell_type": "code",
   "execution_count": null,
   "id": "sunrise-puppy",
   "metadata": {},
   "outputs": [],
   "source": [
    "#c)\n",
    "def back_Tridiag(gamma,kappa,b):\n",
    "    \"\"\"\n",
    "    Compute the solution of a lower triangular tridiagonal system L^T V = b\n",
    "    ----------   \n",
    "    parameters:\n",
    "    gamma : vector of diagonal coefficients of L (numpy array of size N)\n",
    "    kappa : vector of subdiagonal coefficients of L (numpy array of size N-1)\n",
    "    b     : RHS of the problem L^T V = b (numpy array of size N)\n",
    "    \n",
    "    returns:\n",
    "    V     : solution of the problem L^T V = b (numpy array of size N)\n",
    "    \"\"\"\n",
    "    \n",
    "    if(any(gamma<0)):\n",
    "        print(\"Non invertible matrix in tridiagonal forward substitution\")\n",
    "        return\n",
    "    \n",
    "    N = len(b)\n",
    "    V = np.zeros(N)\n",
    "    \n",
    "    j = N-1\n",
    "    V[j] = b[j]/gamma[j]\n",
    "    for i in range(N-1):\n",
    "        j -= 1\n",
    "        V[j] = (b[j]-kappa[j]*V[j+1])/gamma[j]\n",
    "    \n",
    "    return V"
   ]
  },
  {
   "cell_type": "code",
   "execution_count": null,
   "id": "unnecessary-piece",
   "metadata": {},
   "outputs": [],
   "source": [
    "#d)\n",
    "gamma = np.array([1.,2.,1.])\n",
    "kappa = np.array([-1.,3.])\n",
    "b     = np.array([1.,2.,3.])\n",
    "\n",
    "V = forward_Tridiag(gamma,kappa,b)\n",
    "print('forward: V =', V)\n",
    "\n",
    "V = back_Tridiag(gamma,kappa,b)\n",
    "print('back: V =', V)"
   ]
  },
  {
   "cell_type": "markdown",
   "id": "brief-bearing",
   "metadata": {},
   "source": [
    "5) a) In the test below, we will use the parameters of 2)a). \n",
    "Compute the solutions of $T V = b$ with $b = (1,2,3)^T$. \n",
    "\n",
    "b) Implement a function that that solves the problem $L L^T V = b$ where $L$ is a tridiagonal lower triangular matrix (given by a Cholesky decomposition). \n",
    "\n",
    "c) Test it with the parameters in a) and verify your computations. "
   ]
  },
  {
   "cell_type": "markdown",
   "id": "simplified-format",
   "metadata": {},
   "source": [
    "**Answer:** \n",
    "\n",
    "a) $V = (4, 3, -\\frac{3}{2})^T$ "
   ]
  },
  {
   "cell_type": "code",
   "execution_count": null,
   "id": "quantitative-pillow",
   "metadata": {},
   "outputs": [],
   "source": [
    "#b)\n",
    "def solve_tridiag(gamma,kappa,b):\n",
    "    \"\"\"\n",
    "    Compute the solution of a lower triangular tridiagonal system L L^T V = b\n",
    "    ----------   \n",
    "    parameters:\n",
    "    gamma : vector of diagonal coefficients of L (numpy array of size N)\n",
    "    kappa : vector of subdiagonal coefficients of L (numpy array of size N-1)\n",
    "    b     : RHS of the problem L^T V = b (numpy array of size N)\n",
    "    \n",
    "    returns:\n",
    "    V     : solution of the problem L^T V = b (numpy array of size N)\n",
    "    \"\"\"\n",
    "    W = forward_Tridiag(gamma,kappa,b)\n",
    "    return back_Tridiag(gamma,kappa,W)"
   ]
  },
  {
   "cell_type": "code",
   "execution_count": null,
   "id": "focal-somewhere",
   "metadata": {},
   "outputs": [],
   "source": [
    "#c)\n",
    "gamma = np.array([1.,2.,1.])\n",
    "kappa = np.array([-1.,3.])\n",
    "b     = np.array([1.,2.,3.])\n",
    "\n",
    "V = solve_tridiag(gamma,kappa,b)\n",
    "print(\"V=\",V)"
   ]
  },
  {
   "cell_type": "markdown",
   "id": "through-orlando",
   "metadata": {},
   "source": [
    "## Application: a Legendre like equation\n",
    "\n",
    "Consider a 2nd order differential equation of the form \n",
    "\n",
    "$$\\frac{d}{dx}\\left( (1-x^2) \\frac{d}{dx} f(x) \\right) - f(x) = S(x), \\quad \\forall x\\in]-1,+1[,$$\n",
    "\n",
    "for some source term $S(x)$.\n",
    "We consider a discretization of this equation under the form \n",
    "\n",
    "$$ \\frac{(1-x_{i+1/2}^2) \\frac{V_{i+1}-V_i}{h} - (1-x_{i-1/2}^2) \\frac{V_{i}-V_{i-1}}{h} }{2h} - V_i = S_i, \\quad \\forall i=1,\\dots,N,$$\n",
    "\n",
    "where $V_i$ is supposed to approximate $f(x_i)$, and we have fixed $h = \\frac{2}{N}$ and $x_i = -1 + (i-1/2) h$ and $x_{i+1/2} = -1 + ih$ such that $x_{1-1/2} = x_{1/2} = -1$ and $x_{N+1/2} = 1$. "
   ]
  },
  {
   "cell_type": "markdown",
   "id": "green-architect",
   "metadata": {},
   "source": [
    "7) Write the linear system satisfied by the vector $V = (V_i)_{i=1,\\dots,N}$ under the form $AV = b$. Show that the matrix $A$ is symmetric tridiagonal and give its components as function of $x_{i\\pm1/2}$, $h$ and $K$. Using this notation, $b_i = S_i$."
   ]
  },
  {
   "cell_type": "markdown",
   "id": "bronze-operation",
   "metadata": {},
   "source": [
    "**Answer:** \n",
    "\n",
    "$$A_{i,i} = -\\frac{1-x_{i+1/2}^2}{2h^2} - \\frac{1-x_{i-1/2}^2}{2h^2} -1 = -1 +  \\left(\\frac{-2+x_{i+1/2}^2+x_{i-1/2}^2}{2h^2}\\right), \\qquad A_{i,i\\pm 1} = \\frac{1-x_{i\\pm 1/2}^2}{2h^2},\\qquad A_{i,i\\pm k} = 0 \\quad\\text{for}\\quad k>1$$ \n",
    "\n",
    "One remarks that $A_{i,i+1} = \\frac{1-x_{i+1/2}^2}{2h^2} = \\frac{1-x_{i+1-1/2}^2}{2h^2} = A_{i+1,i+1-1} = A_{i,+1,i}$ is indeed symmetric."
   ]
  },
  {
   "cell_type": "markdown",
   "id": "educational-address",
   "metadata": {},
   "source": [
    "8) For the test below, we fix $N = 100$ and $S_i = S(x_i) = 10 \\exp(-10 x_i^2)$. \n",
    "\n",
    "a) Implement a function that constructs the matrix $A$ in the tridiagonal format of the last part. \n",
    "\n",
    "b) One can prove that the matrix $A$ is symmetric negative definite (this is admitted here). Then, we will solve $(-A)V = -b$ as the matrix $-A$ is symmetric positive definite. Use the functions of the previous to solve this system $(-A)V = -b$.\n",
    "\n",
    "c) Plot the graph $(V_i,x_i)_{i=1,\\dots,N}$ which is suppose to approximate the function $f$. "
   ]
  },
  {
   "cell_type": "code",
   "execution_count": null,
   "id": "vietnamese-polymer",
   "metadata": {},
   "outputs": [],
   "source": [
    "# a)\n",
    "def construct_matrix(N):\n",
    "    \"\"\"\n",
    "    Construct the matrix A of size NxN in the tridiagonal format\n",
    "    ----------   \n",
    "    parameters:\n",
    "    N     : size of the matrix \n",
    "    \n",
    "    returns:\n",
    "    alpha : diagonal of the considered tridiagonal matrix (numpy array of size N)\n",
    "    beta  : subdiagonal of the considered tridiagonal matrix (numpy array of size N)\n",
    "    \"\"\"\n",
    "    alpha = np.zeros(N)\n",
    "    beta  = np.zeros(N-1)\n",
    "    \n",
    "    h        = 2./N\n",
    "    xip12    = -1.\n",
    "    for i in range(N-1):\n",
    "        xim12  = xip12\n",
    "        xip12 += h\n",
    "        alpha[i] = -(1.-xip12**2)/(2*h**2) - (1.-xim12**2)/(2*h**2) - 1.\n",
    "        beta[i]  =  (1.-xip12**2)/(2*h**2)\n",
    "    xim12  = xip12\n",
    "    xip12 += h\n",
    "    alpha[i+1] = -(1.-xip12**2)/(2*h**2) - (1.-xim12**2)/(2*h**2) - 1.\n",
    "\n",
    "    return alpha, beta"
   ]
  },
  {
   "cell_type": "code",
   "execution_count": null,
   "id": "matched-listing",
   "metadata": {},
   "outputs": [],
   "source": [
    "#b) \n",
    "N            = 100\n",
    "alpha, beta  = construct_matrix(N)\n",
    "gamma, kappa = Cholesky_Tridiag(-alpha,-beta)\n",
    "\n",
    "xi = np.linspace(0,N,N)*2./N-1.\n",
    "b  = np.exp(-xi**2)\n",
    "\n",
    "V = solve_tridiag(gamma,kappa,b)"
   ]
  },
  {
   "cell_type": "code",
   "execution_count": null,
   "id": "diagnostic-review",
   "metadata": {},
   "outputs": [],
   "source": [
    "#c)\n",
    "plt.figure()\n",
    "plt.plot(xi,V, color='blue', label=\"f(x)\")\n",
    "plt.xlabel(\"x\")\n",
    "plt.ylabel(\"f\")\n",
    "plt.grid()\n",
    "plt.legend()\n",
    "plt.show()"
   ]
  },
  {
   "cell_type": "code",
   "execution_count": null,
   "id": "ethical-namibia",
   "metadata": {},
   "outputs": [],
   "source": []
  }
 ],
 "metadata": {
  "kernelspec": {
   "display_name": "Python 3 (ipykernel)",
   "language": "python",
   "name": "python3"
  },
  "language_info": {
   "codemirror_mode": {
    "name": "ipython",
    "version": 3
   },
   "file_extension": ".py",
   "mimetype": "text/x-python",
   "name": "python",
   "nbconvert_exporter": "python",
   "pygments_lexer": "ipython3",
   "version": "3.10.6"
  },
  "toc": {
   "base_numbering": 1,
   "nav_menu": {},
   "number_sections": true,
   "sideBar": true,
   "skip_h1_title": true,
   "title_cell": "Table of Contents",
   "title_sidebar": "Contents",
   "toc_cell": false,
   "toc_position": {},
   "toc_section_display": true,
   "toc_window_display": false
  }
 },
 "nbformat": 4,
 "nbformat_minor": 5
}