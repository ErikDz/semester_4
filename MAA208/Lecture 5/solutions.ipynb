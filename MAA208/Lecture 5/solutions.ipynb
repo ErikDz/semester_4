{
 "cells": [
  {
   "cell_type": "markdown",
   "id": "10bf1164",
   "metadata": {},
   "source": [
    "# Tutorial 5: Preconditioning"
   ]
  },
  {
   "cell_type": "code",
   "execution_count": null,
   "id": "fd061243",
   "metadata": {},
   "outputs": [],
   "source": [
    "# Load packages:\n",
    "\n",
    "# this package allows to work efficiently with arrays\n",
    "import numpy as np"
   ]
  },
  {
   "cell_type": "markdown",
   "id": "835571aa",
   "metadata": {},
   "source": [
    "We consider a stationnary iterative method that takes the form \n",
    "\n",
    "$$ V^{n+1} = A V^n + b$$\n",
    "\n",
    "with $$A = \\left( \\begin{array}{cc} 1-\\varepsilon & -1 \\\\ 0 & \\frac{1}{2} \\end{array}\\right), \\qquad b = \\left( \\begin{array}{c} 2 \\\\ 1\\end{array} \\right). $$"
   ]
  },
  {
   "cell_type": "markdown",
   "id": "45a90e5e",
   "metadata": {},
   "source": [
    "1) Depending on the value of $\\varepsilon$, is this sequence convergent and what does it converge to? "
   ]
  },
  {
   "cell_type": "markdown",
   "id": "a14f1cbc",
   "metadata": {},
   "source": [
    "**Answer:**  $Sp(A) = \\left\\{1-\\varepsilon ,\\frac{1}{2}\\right\\}$, therefore $\\rho(A) < 1$ if $0<\\varepsilon<2$ and the method converges toward $(Id-A)^{-1} b = (0 , {2})^T$\n"
   ]
  },
  {
   "cell_type": "markdown",
   "id": "003956aa",
   "metadata": {},
   "source": [
    "2) a) Implement this method in the following function.\n",
    "\n",
    "b) Test it with the parameters above and with an initial value $V^0 = (0,0)^T$, $\\varepsilon = \\frac{1}{2}$ and $k_{max} = 100$ iterations.\n",
    "\n",
    "c) Plot the error $\\|V^n - V^\\infty\\|$ where $V^\\infty$ is the converged value, as a function of $n$.\n",
    "\n",
    "d) Test it again with $\\varepsilon = \\frac{1}{2^10}$ and $k_{max} = 10000$ iterations. Plot again the error, and interpret the difference."
   ]
  },
  {
   "cell_type": "code",
   "execution_count": null,
   "id": "c4ca20a2",
   "metadata": {},
   "outputs": [],
   "source": [
    "def Stationnary_meth(A, U0, b, k_max):\n",
    "    \"\"\"\n",
    "    Computes the iterations of the stationanry iterative method\n",
    "    ----------   \n",
    "    parameters:\n",
    "    A       : matrix of iteration (numpy array of size N,N)\n",
    "    U0      : initial vector of the algorithm (numpy array of size N)\n",
    "    b       : vector on ther right-hand-side (numpy array of size N)\n",
    "    k_max   : number of iterations (integer)\n",
    "    \n",
    "    returns:\n",
    "    U   : vector containing all the iterations (numpy array of size N x k_max)\n",
    "    \"\"\"\n",
    "    \n",
    "    N = len(U0)\n",
    "    U = np.zeros((k_max,N))\n",
    "    U[0,:] = np.copy(U0)\n",
    "    \n",
    "    for i in range(k_max-1):\n",
    "        U[i+1,:] = np.dot(A,U[i,:]) + b\n",
    "    \n",
    "    return U"
   ]
  },
  {
   "cell_type": "code",
   "execution_count": null,
   "id": "93eed46d",
   "metadata": {},
   "outputs": [],
   "source": [
    "# Test your algorithm here\n",
    "###\n",
    "eps = 1/2 # 2**(-10)\n",
    "k_max = 100\n",
    "A  = np.array([[1-eps,-1],[0,1/2.]])\n",
    "U0 = np.zeros(2)\n",
    "b  = np.array([2,1])\n",
    "\n",
    "print(A)\n",
    "print(b)\n",
    "\n",
    "U = Stationnary_meth(A, U0, b, k_max)\n",
    "###\n",
    "\n",
    "print(\"Solution U = \", U)"
   ]
  },
  {
   "cell_type": "markdown",
   "id": "08b5c959",
   "metadata": {},
   "source": [
    "3) a) Now we replace the matrix $A$ and the vector $b$ by\n",
    "\n",
    "$$\\tilde{A} = \\left( \\begin{array}{cc} 0 & -\\frac{1}{\\varepsilon} \\\\ 0 & 0 \\end{array}\\right), \\qquad \\tilde{b} = \\left( \\begin{array}{c} \\frac{2}{\\varepsilon} \\\\ 2 \\end{array} \\right). $$\n",
    "\n",
    "a) Show that there exists a diagonal invertible matrix $D$ such that the problem in 1) correponds to \n",
    "\n",
    "$$\\tilde{A} = I - D (Id-A), \\qquad \\tilde{b} = D b.$$\n",
    "\n",
    "b) Deduce that $V^n$ converges toward the same solution as earlier, but faster."
   ]
  },
  {
   "cell_type": "markdown",
   "id": "47e41552",
   "metadata": {},
   "source": [
    "**Answer:**\n",
    "$$ I-\\tilde{A} = \\left(\\begin{array}{cc} 1 & \\frac{1}{\\varepsilon} \\\\ 0 & 1 \\end{array}\\right) = Diag(\\frac{1}{\\varepsilon},2) \\left( \\begin{array}{cc} \\varepsilon & 1 \\\\ 0 & \\frac{1}{2} \\end{array}\\right) = Diag(\\frac{1}{\\varepsilon},2) (Id - A), \\qquad \\tilde{b} = Diag(\\frac{1}{\\varepsilon},2) b $$\n",
    "\n",
    "The problem is equivalent to solving $D A V = Db$, but the new iteration matrix has only 0 as eigenvalues."
   ]
  },
  {
   "cell_type": "markdown",
   "id": "90b4f520",
   "metadata": {},
   "source": [
    "4) Test your algorithm with those parameters. How fast doest it converges? "
   ]
  },
  {
   "cell_type": "code",
   "execution_count": null,
   "id": "4d7ca782",
   "metadata": {},
   "outputs": [],
   "source": [
    "# Test your algorithm here\n",
    "###\n",
    "eps = 1/2 # 2**(-10)\n",
    "k_max = 100\n",
    "A  = np.array([[0,-1/eps],[0,0]])\n",
    "U0 = np.zeros(2)\n",
    "b  = np.array([2/eps,2])\n",
    "\n",
    "print(A)\n",
    "print(b)\n",
    "\n",
    "U = Stationnary_meth(A, U0, b, k_max)\n",
    "###\n",
    "\n",
    "print(\"Solution U = \", U)"
   ]
  },
  {
   "cell_type": "code",
   "execution_count": null,
   "id": "ce7d672b",
   "metadata": {},
   "outputs": [],
   "source": []
  }
 ],
 "metadata": {
  "kernelspec": {
   "display_name": "Python 3 (ipykernel)",
   "language": "python",
   "name": "python3"
  },
  "language_info": {
   "codemirror_mode": {
    "name": "ipython",
    "version": 3
   },
   "file_extension": ".py",
   "mimetype": "text/x-python",
   "name": "python",
   "nbconvert_exporter": "python",
   "pygments_lexer": "ipython3",
   "version": "3.10.6"
  },
  "toc": {
   "base_numbering": 1,
   "nav_menu": {},
   "number_sections": false,
   "sideBar": true,
   "skip_h1_title": false,
   "title_cell": "Table of Contents",
   "title_sidebar": "Contents",
   "toc_cell": false,
   "toc_position": {},
   "toc_section_display": true,
   "toc_window_display": true
  }
 },
 "nbformat": 4,
 "nbformat_minor": 5
}