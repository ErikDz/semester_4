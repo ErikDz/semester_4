{
 "cells": [
  {
   "cell_type": "markdown",
   "metadata": {},
   "source": [
    "# Tutorial 3: Cholesky method"
   ]
  },
  {
   "cell_type": "code",
   "execution_count": 1,
   "metadata": {},
   "outputs": [],
   "source": [
    "# Load packages:\n",
    "\n",
    "# this package allows to work efficiently with arrays\n",
    "import numpy as np\n",
    "# this package is used to draw graphs\n",
    "import matplotlib.pyplot as plt\n",
    "# for the numerical application in the end, we will use pi\n",
    "from math import pi"
   ]
  },
  {
   "cell_type": "markdown",
   "metadata": {},
   "source": [
    "---\n",
    "\n",
    "## Historical background\n",
    "André-Louis Cholesky (1875-1918), student at the école polytechnique (X1895), originally designed his method for solving linear problems for a problem emerging in the field of topography. He worked on triangulations to draw maps of different countries. \n",
    "\n",
    "A triangulation is of a set of triangles covering the domain to be mapped. To each node of this triangulation is associated its position and its altitude, which are required to draw the map. On the field, only distances and angles can be evaluated, the positions and the altitudes need to be computed based on these observations. One verifies that, using only the length of one side of a triangle and two of its angles, one may reconstruct all the others. To simplify, assuming that the lengths and angles are linear functions of positions and altitude, one rewrites this problem under the form \n",
    "\n",
    "$$A V = b$$\n",
    "\n",
    "where $b$ is a vector of the lengths and angles observed, $A$ is a matrix, and $V$ is the vector of the exact positions and altitudes of the nodes that we seek.  \n",
    " \n",
    "However, in practice, the evaluations of lengths and angles can be inexact due to human or instrument inaccuracy. Thus, more evaluations are performed, e.g. evaluating all the angles and the lengths of all sides of a triangle. In the new problem $AV=b$, we have more data $b\\in\\mathbb{R}^M$ than unknowns $V\\in\\mathbb{R}^N$, i.e. $M>N$ and the matrix $A\\in\\mathbb{R}^{M \\times N}$ is rectangular. This problem does not have a solution in general (only if all observations agrees exactly with each others). Instead, we minimize the error $\\epsilon(V) = \\|A V - b\\|_2^2$, which has a solution. This solution satisfies the so-called normal equation \n",
    "\n",
    "$$ A^T A V = A^T b. $$\n",
    "\n",
    "We discuss here numerical solution of this new linear equation.\n"
   ]
  },
  {
   "cell_type": "markdown",
   "metadata": {},
   "source": [
    "---\n",
    "\n",
    "## Preliminary computations"
   ]
  },
  {
   "cell_type": "markdown",
   "metadata": {},
   "source": [
    "1) Prove that $B = A^T A$ is square, symmetric and positive. Give a condition on the columns $C^{j}$ (s.t. $C_i^j = A_{i,j}$) for $B$ to be definite (this will be assumed in the next questions)."
   ]
  },
  {
   "attachments": {},
   "cell_type": "markdown",
   "metadata": {},
   "source": [
    "**Answer:**\n",
    "Let $A$ be an $m\\times n$ matrix where $m,n\\in\\mathbb{N}^2$. We have that $A^\\top$ is of shape $n\\times m$\n",
    "Hence, when we multiply them together, the result is of size $n\\times n$ which is a square matrix.\n",
    "Next, let us show it's symmetric. We have that $(A^T A)^T = A^T (A^T)^T = A^T A$\n",
    "To show that $A^T A$ is positive, we can use the fact that $A^T A$ is symmetric, as we showed earlier.\n",
    "\n",
    "For any nonzero vector $x$, we have:\n",
    "\n",
    "$x^T (A^T A) x = (Ax)^T (Ax) = ||Ax||^2$\n",
    "\n",
    "Since $||Ax||^2$ is the square of a real number, it is always non-negative. Moreover, it is equal to zero if and only if $Ax = 0$, which implies that $x$ is in the null space of $A$. However, since $x$ is nonzero, this is only possible if the null space of $A$ is trivial, that is, $A$ has full rank. In this case, $A^T A$ is positive definite, meaning that $x^T (A^T A) x > 0$ for all nonzero vectors $x$.\n",
    "\n",
    "Therefore, we have shown that $A^T A$ is positive.\n",
    "\n",
    "\n",
    " "
   ]
  },
  {
   "cell_type": "markdown",
   "metadata": {},
   "source": [
    "2) Here, we consider that $A$ is square and $A^T A$ is definite. Prove that $A$ is invertible and that the problems $A V = b$ and $(A^T A) V = A^T b$ have the same solution $V$."
   ]
  },
  {
   "cell_type": "markdown",
   "metadata": {},
   "source": [
    "**Answer:**\n",
    "\n"
   ]
  },
  {
   "cell_type": "markdown",
   "metadata": {},
   "source": [
    "3) Suppose that $A^T A$ is definite and write $\\bar{V} = (A^T A)^{-1} A^T b$ the solution of the normal equation. Prove that $\\bar{V}$ minimizes the error $\\epsilon(V) = \\|AV-b\\|_2^2$. \n",
    "\n",
    "*Hints*: Consider any perturbation $\\bar{V} + \\delta$ and show that $\\| A(\\bar{V}+\\delta) -b \\|_2^2 \\ge \\| A\\bar{V} -b \\|_2^2$. (Remark also that $\\|V\\|_2^2 = V^T V$)."
   ]
  },
  {
   "cell_type": "markdown",
   "metadata": {},
   "source": [
    "**Answer:**"
   ]
  },
  {
   "cell_type": "markdown",
   "metadata": {},
   "source": [
    "---\n",
    "\n",
    "## First decomposition\n",
    "\n",
    "*Remark:* This tutorial exploits diagonal and triangular matrices. In the implementation part, all these matrices are constructed and stored entirely, even if most of their coefficients are zero. Such an implementation can easily be improved in order not to store trivial values. The discussion on the storage of such matrices is postponed to a future tutorial."
   ]
  },
  {
   "cell_type": "markdown",
   "metadata": {},
   "source": [
    "4) Cholesky remarked that if $A^T$ was square and lower triangular, then solving $A^T A V = A^T V$ could be performed in two parts very easily (and accessible with the technology of its time). Then, he suggested decomposing any symmetric positive definite $B$ as the product of a lower triangular matrix and its transposed $B = L L^T$. \n",
    "\n",
    "a) Write down the coefficients $(L L^T)_{i,j}$ as a function of the coefficient $L_{i,j}$. \n",
    "\n",
    "b) Write the diagonal coefficient $L_{i,i}$ as a function of $B_{i,i}$ and of $L_{i,j}$ with $j<i$ \n",
    "\n",
    "*Hints*: Represent on paper the matrix $L$. \n",
    "\n",
    "c) Write the non-diagonal coefficient $L_{i,j}$ with $j<i$ as a function of $B$ and of the relevant coefficients of $L$. "
   ]
  },
  {
   "attachments": {},
   "cell_type": "markdown",
   "metadata": {},
   "source": [
    "**Answer:**\n",
    "\n",
    "a) $(LL^T)_{i,j} = \\sum_{k=0}^n L_{i,k}L_{j,k}$\n",
    "\n",
    "b) $L_{i,i} = \\sqrt{B_{i,i} - \\sum_{k=0}^{i-1} L_{i,k}^2}$\n",
    "\n",
    "c) $L_{i,j} = "
   ]
  },
  {
   "cell_type": "markdown",
   "metadata": {},
   "source": [
    "5) Doing the computations in the appropriate order, write an algorithm for the computation of all the entries of $L$. \n",
    "Explain your choice for doing the computations in this order."
   ]
  },
  {
   "cell_type": "markdown",
   "metadata": {},
   "source": [
    "**Answer:**\n",
    "\n"
   ]
  },
  {
   "cell_type": "markdown",
   "metadata": {},
   "source": [
    "6) a) For the test below, we use the following matrix \n",
    "\n",
    "$$ B = \\left( \\begin{array}{ccc} 1 & 2 & 3 \\\\ 2 & 5 & 10 \\\\ 3 & 10 & 26 \\end{array} \\right).$$\n",
    "\n",
    "Compute its Cholesky decomposition if possible.\n",
    "\n",
    "b) Using 5), propose and implement an algorithm to compute a lower triangular matrix $L \\in\\mathbb{R}^{N \\times N}$ such that $L L^T = B$ for any symmetric positive definite matrix $B$. \n",
    "\n",
    "c) Test your algorithm with the matrices in 6)a) and compare the result obtained. \n",
    "\n",
    "d) Test it also with the larger matrix $B\\in\\mathbb{R}^{N\\times N}$ defined such that \n",
    "\n",
    "$$ B_{i,j} = 1 + 2N \\delta_{i,j} $$ \n",
    "\n",
    "for $N=5$. Verify that the obtained matrix satisfies $B=LL^T$ as expected."
   ]
  },
  {
   "cell_type": "markdown",
   "metadata": {},
   "source": [
    "**Answer:**\n",
    "\n",
    "a)"
   ]
  },
  {
   "cell_type": "code",
   "execution_count": null,
   "metadata": {},
   "outputs": [],
   "source": [
    "# b)\n",
    "def Cholesky_decomp(B):\n",
    "    \"\"\"\n",
    "    Compute the Cholesky decomposition of a symmetric positive definite matrix\n",
    "    ----------   \n",
    "    parameters:\n",
    "    B : symmetric positive definite matrix (numpy array of size N,N)\n",
    "        \n",
    "    returns:\n",
    "    L : lower triangular matrix (numpy array of size N,N) such that L L^T = B\n",
    "    \"\"\"\n",
    "    \n",
    "    ### write your algorithm here\n",
    "    L = np.eye(len(B[1,:]))\n",
    "    ###\n",
    "    \n",
    "    return L"
   ]
  },
  {
   "cell_type": "code",
   "execution_count": null,
   "metadata": {},
   "outputs": [],
   "source": [
    "# c) Test 1: \n",
    "B = np.array([[1,2,3],[2,5,10],[3,10,26]])\n",
    "# implement your test here\n",
    "\n",
    "print(\"Matrix:\\n\", B,\"\\n\")\n",
    "print(\"Cholesky decomposition:\\n\", )"
   ]
  },
  {
   "cell_type": "code",
   "execution_count": null,
   "metadata": {},
   "outputs": [],
   "source": [
    "# d) Test 2: \n",
    "# implement your test here\n",
    "B = np.array([])\n",
    "\n",
    "print(\"Matrix:\\n\", B,\"\\n\")\n",
    "print(\"Cholesky decomposition:\\n\", )"
   ]
  },
  {
   "cell_type": "markdown",
   "metadata": {},
   "source": [
    "---\n",
    "\n",
    "## Second decomposition"
   ]
  },
  {
   "cell_type": "markdown",
   "metadata": {},
   "source": [
    "Now, we modify this algorithm such that it works with symmetric matrices that are not necessarily positive definite. In practice, we seek a $L D L^T$ decomposition where $L$ is still lower triangular, it has only ones on the diagonal, and $D$ is a diagonal matrix (not necessarily positive). \n",
    "\n",
    "7) Based on the construction in 4), propose an algorithm that computes $L$ and $D$ for a symmetric matrix $B = L D L^T$. Explain the choice of the order in which you perform all the operations."
   ]
  },
  {
   "cell_type": "markdown",
   "metadata": {},
   "source": [
    "**Answer:**\n",
    "\n"
   ]
  },
  {
   "cell_type": "markdown",
   "metadata": {},
   "source": [
    "8) a) In the test below, we use the following matrix \n",
    "\n",
    "$$ B = \\left( \\begin{array}{ccc} 1 & 2 & 3 \\\\ 2 & 2 & -2 \\\\ 3 & -2 & -20 \\end{array} \\right). $$\n",
    "\n",
    "Compute its $LDL^T$ decomposition if possible. \n",
    "\n",
    "b) Using 6) and 7), implement an algorithm to compute a lower triangular matrix $L \\in\\mathbb{R}^{N\\times N}$ and a diagonal matrix $D \\in \\mathbb{R}^{N \\times N}$ such that $L D L^T = B$ for any symmetric matrix 𝐵.\n",
    "\n",
    "c) Test your algorithm with the matrix in 6)a) and 8)a) and compare the result obtained. \n",
    "\n",
    "d) Test it again with the matrix in 6)d) and verify that the matrices you obtain satisfy $LDL^T = B$ as expected. "
   ]
  },
  {
   "cell_type": "markdown",
   "metadata": {},
   "source": [
    "**Answer:** \n",
    "\n",
    "a)"
   ]
  },
  {
   "cell_type": "code",
   "execution_count": null,
   "metadata": {},
   "outputs": [],
   "source": [
    "# b)\n",
    "def LDL_decomp(B):\n",
    "    \"\"\"\n",
    "    Compute the L D L^T decomposition of a symmetric matrix\n",
    "    ----------   \n",
    "    parameters:\n",
    "    B : symmetric matrix (numpy array of size N,N)\n",
    "        \n",
    "    returns:\n",
    "    L : lower triangular matrix (numpy array of size N,N) such that L D L^T = B\n",
    "    D : diagonal matrix (numpy array of size N,N) such that L D L^T = B\n",
    "    \"\"\"\n",
    "\n",
    "    ### write your algorithm here\n",
    "    L = np.eye( len(B[1,:]))\n",
    "    D = np.ones(len(B[1,:]))\n",
    "    ###\n",
    "    \n",
    "    return L, D"
   ]
  },
  {
   "cell_type": "code",
   "execution_count": null,
   "metadata": {},
   "outputs": [],
   "source": [
    "# c) Test 1: \n",
    "B = np.array([[1,2,3],[2,2,-2],[3,-2,-20]])\n",
    "# implement your test here\n",
    "\n",
    "print(\"Matrix:\\n\", B,\"\\n\")\n",
    "print(\"Cholesky decomposition:\\n\", )"
   ]
  },
  {
   "cell_type": "code",
   "execution_count": null,
   "metadata": {},
   "outputs": [],
   "source": [
    "# d) Test 2:  \n",
    "# implement your test here\n"
   ]
  },
  {
   "cell_type": "markdown",
   "metadata": {},
   "source": [
    "9) Consider a symmetric positive definite matrix $B$ and its two decompositions \n",
    "\n",
    "$$ L^1 (L^1)^T = B = L^2 D (L^2)^T. $$\n",
    "\n",
    "How can you relate $L^1$ from the Cholesky decomposition to $L^2$ and $D$ from the $LDL^T$ decomposition ?  Express one as a function of the others."
   ]
  },
  {
   "cell_type": "markdown",
   "metadata": {},
   "source": [
    "**Answer:**\n",
    "\n"
   ]
  },
  {
   "cell_type": "markdown",
   "metadata": {},
   "source": [
    "10) a) Compare the number of operations required to compute $L^1 (L^1)^T$ and $L^2 D (L^2)^T$ decompositions (square root is counted as one operation). \n",
    "\n",
    "b) Compare the number of non-zero entries of $L^1$ and of $D$ and $L^2$ that you need to construct these matrices."
   ]
  },
  {
   "cell_type": "markdown",
   "metadata": {},
   "source": [
    "**Answer:**\n",
    "\n",
    "a) \n",
    "\n",
    "b)\n"
   ]
  },
  {
   "cell_type": "markdown",
   "metadata": {},
   "source": [
    "---\n",
    "\n",
    "## Application to least square problem and curve fitting"
   ]
  },
  {
   "cell_type": "markdown",
   "metadata": {},
   "source": [
    "As in the introduction, suppose now that we try to approach a parametrized curve using data points, such that we have more data than parameters. We aim to construct a curve of the form \n",
    "\n",
    "$$ f(x) = \\exp\\left(\\sum\\limits_{i=0}^{N-1} V_i x^i\\right) $$\n",
    "\n",
    "where $x^i$ is the i-th power of $x\\in\\mathbb{R}$, and passing as close as possible to the data $(y_j)_{j=1,\\dots,M} \\in \\mathbb{R}^M$ at the positions $(x_j)_{j=1,\\dots,M}\\in \\mathbb{R}^M$. \n",
    "In practice, we seek the coefficients $(V_i)_{i=0,\\dots,N-1}\\in \\mathbb{R}^N$. \n",
    "\n",
    "11) a) Write an equation equivalent to \n",
    "\n",
    "$$\\exp\\left(\\sum\\limits_{i=0}^{N-1} V_i x_j^i\\right) = y_j$$\n",
    "\n",
    "where the left-hand-side is a linear function of the $V_i$. \n",
    "\n",
    "b) Then, write this problem as a linear problem $A V = c$ with a non-square matrix $A$. Especially, write down the entries of $A$ and $c$ based on the points $(x_i,y_i)_{i=1,\\dots,M}$. \n",
    "\n",
    "Since this matrix $A$ is non square, we will use 3) to find the parameters $(V)_{i=0,\\dots,N-1}$ that minimize $\\|AV -b\\|_2^2$. "
   ]
  },
  {
   "cell_type": "markdown",
   "metadata": {},
   "source": [
    "**Answer:**\n",
    "\n",
    "a)\n",
    "\n",
    "b)\n"
   ]
  },
  {
   "cell_type": "markdown",
   "metadata": {},
   "source": [
    "12) a) For the test in the next question, we will use the matrix \n",
    "\n",
    "$$ A = \\left( \\begin{array}{cc} 1 & 2 \\\\ 3 & 4 \\\\ 5 & 6 \\end{array}\\right).$$\n",
    "\n",
    "Compute $B = A^T A$, the Cholesky decomposition of $B$ and the $LDL^T$ of $B$.\n",
    "\n",
    "b) Implement an algorithm that takes an *a priori* non-square matrix $A$ and apply either the algorithm from 6) or from 8) to compute the Cholesky or the $LDL^T$ decomposition of the matrix $B = A^T A$.\n",
    "\n",
    "c) Test it with the matrix $B=A^T A$ from 12)a) and compare results obtained.  "
   ]
  },
  {
   "cell_type": "markdown",
   "metadata": {},
   "source": [
    "**Answer:**\n",
    "\n",
    "a)"
   ]
  },
  {
   "cell_type": "code",
   "execution_count": null,
   "metadata": {},
   "outputs": [],
   "source": [
    "# b)\n",
    "def Cholesky_decomp_non_sq(A):\n",
    "    \"\"\"\n",
    "    Compute the Cholesky decomposition of A^T A\n",
    "    ----------   \n",
    "    parameters:\n",
    "    A : non square matrix (numpy array of size N,M)\n",
    "        \n",
    "    returns:\n",
    "    L : lower triangular matrix (numpy array of size N,N) such that L L^T = A^T A\n",
    "    \"\"\"\n",
    "    \n",
    "    ### write your algorithm here\n",
    "    L = np.eye(len(A[:,1]))\n",
    "    ###\n",
    "    \n",
    "    return L"
   ]
  },
  {
   "cell_type": "code",
   "execution_count": null,
   "metadata": {},
   "outputs": [],
   "source": [
    "def LDL_decomp_non_sq(A):\n",
    "    \"\"\"\n",
    "    Compute the L D L^T decomposition of A^T A\n",
    "    ----------   \n",
    "    parameters:\n",
    "    A : non square matrix (numpy array of size N,M)\n",
    "        \n",
    "    returns:\n",
    "    L : lower triangular matrix (numpy array of size N,N) such that L D L^T = A^T A\n",
    "    D : diagonal matrix (numpy array of size N,N) such that L D L^T = A^T A\n",
    "    \"\"\"\n",
    "\n",
    "    ### write your algorithm here\n",
    "    L = np.eye( len(B[:,1]))\n",
    "    D = np.ones(len(B[:,1]))\n",
    "    ###\n",
    "    \n",
    "    return L, D"
   ]
  },
  {
   "cell_type": "code",
   "execution_count": null,
   "metadata": {},
   "outputs": [],
   "source": [
    "# c)\n",
    "A = np.array([[1,2],[3,4],[5,6]])\n",
    "# implement your test here\n",
    "\n",
    "print(\"Matrix:\\n\", A,\"\\n\")\n",
    "print(\"Matrix A^T A:\\n\",    )\n",
    "print(\"Cholesky decomposition of A^T A:\\n\", )"
   ]
  },
  {
   "cell_type": "code",
   "execution_count": null,
   "metadata": {},
   "outputs": [],
   "source": [
    "A = np.array([[1,2],[3,4],[5,6]])\n",
    "# implement your test here\n",
    "\n",
    "print(\"Matrix:\\n\", A,\"\\n\")\n",
    "print(\"Matrix A^T A:\\n\",    )\n",
    "print(\"LDL^T decomposition of A^T A:\\n\", )"
   ]
  },
  {
   "cell_type": "markdown",
   "metadata": {},
   "source": [
    "13) a) Implement back and forward substitution algorithms (or copy paste it from last tutorial) to solve triangular systems. \n",
    "\n",
    "b) Implement an algorithm that solves a problem $L L^T V = b$ where the Cholesky decomposition of the matrix is given. Same with the $LDL^T V = b$ problem where the $LDL^T$ decomposition is given.  \n",
    "\n",
    "c) Test it to solve the problem \n",
    "\n",
    "$$ B V = b$$\n",
    "\n",
    "with the matrix $B$ given in 6) and the vector $b = (1,1,1)^T$. Verify your solution satisfies $B V = b$.\n",
    "\n",
    "d) Implement an algorithm that solves a normal problem $A^T A V = b$ where $A$ is *a priori* non square, using either the Cholesky decomposition or the $LDL^T$ decomposition.  \n",
    "\n",
    "e) Test it to solve \n",
    "\n",
    "$$ A^T A V = A^T b $$\n",
    "\n",
    "with the matrix $A$ given in 12) and the vector $b = (1,2,1)^T$. Verify your solution satisfies $A^T A V = A^T b$."
   ]
  },
  {
   "cell_type": "code",
   "execution_count": null,
   "metadata": {},
   "outputs": [],
   "source": [
    "#a)\n",
    "def forward_substitution(L,b):\n",
    "    \"\"\"\n",
    "    Compute the solution of a lower triangular system\n",
    "    ----------   \n",
    "    parameters:\n",
    "    L : lower triangular matrix (numpy array of size N,N)\n",
    "    b : matrix (numpy array of size N)\n",
    "    \n",
    "    returns:\n",
    "    V : solution of the linear problem (numpy array of size N)\n",
    "    \"\"\"\n",
    "    \n",
    "    ### write your algorithm here\n",
    "    V = np.ones(len(b))   \n",
    "    ###\n",
    "    \n",
    "    return V"
   ]
  },
  {
   "cell_type": "code",
   "execution_count": null,
   "metadata": {},
   "outputs": [],
   "source": [
    "def back_substitution(U,b):\n",
    "    \"\"\"\n",
    "    Compute the solution of an upper triangular system\n",
    "    ----------   \n",
    "    parameters:\n",
    "    U : upper triangular matrix (numpy array of size N,N)\n",
    "    b : matrix (numpy array of size N)\n",
    "    \n",
    "    returns:\n",
    "    V : solution of the linear problem (numpy array of size N)\n",
    "    \"\"\"\n",
    "    \n",
    "    ### write your algorithm here\n",
    "    V = np.ones(len(b))   \n",
    "    ###\n",
    "    \n",
    "    return V"
   ]
  },
  {
   "cell_type": "code",
   "execution_count": null,
   "metadata": {},
   "outputs": [],
   "source": [
    "#b) \n",
    "def solve_Cholesky(L,b):\n",
    "    \"\"\"\n",
    "    Compute the solution of the problem LL^T \n",
    "    ----------   \n",
    "    parameters:\n",
    "    L : lower triangular matrix (numpy array of size N,N)\n",
    "    b : matrix (numpy array of size N)\n",
    "    \n",
    "    returns:\n",
    "    V : solution of the linear problem (numpy array of size N)\n",
    "    \"\"\"\n",
    "    \n",
    "    ### write your algorithm here\n",
    "    V = np.ones(len(b))   \n",
    "    ###\n",
    "    \n",
    "    return V"
   ]
  },
  {
   "cell_type": "code",
   "execution_count": null,
   "metadata": {},
   "outputs": [],
   "source": [
    "def solve_LDL(L,D,b):\n",
    "    \"\"\"\n",
    "    Compute the solution of the problem LDL^T V = b\n",
    "    ----------   \n",
    "    parameters:\n",
    "    L : lower triangular matrix (numpy array of size N,N)\n",
    "    D : diagonal matrix (numpy array of size N,N)\n",
    "    b : matrix (numpy array of size N)\n",
    "    \n",
    "    returns:\n",
    "    V : solution of the linear problem (numpy array of size N)\n",
    "    \"\"\"\n",
    "    \n",
    "    ### write your algorithm here\n",
    "    V = np.ones(len(b))   \n",
    "    ###\n",
    "    \n",
    "    return V"
   ]
  },
  {
   "cell_type": "code",
   "execution_count": null,
   "metadata": {},
   "outputs": [],
   "source": [
    "# c) Test 1: \n",
    "B = np.array([[1,2,3],[2,5,10],[3,10,26]])\n",
    "b = np.array([1,1,1]) \n",
    "\n",
    "print(\"Matrix:\\n\", B,\"\\n\")\n",
    "print(\"Right-hand-side:\\n\", b,\"\\n\")\n",
    "\n",
    "# implement your test here\n",
    "\n",
    "print(\"Cholesky decomposition:\\n\", )\n",
    "print(\"Solution V:\\n\", )\n",
    "print(\"multiplication AV:\\n\",)"
   ]
  },
  {
   "cell_type": "code",
   "execution_count": null,
   "metadata": {
    "scrolled": true
   },
   "outputs": [],
   "source": [
    "B = np.array([[1,2,3],[2,5,10],[3,10,26]])\n",
    "b = np.array([1,1,1]) \n",
    "\n",
    "print(\"Matrix:\\n\", B,\"\\n\")\n",
    "print(\"Right-hand-side:\\n\", b,\"\\n\")\n",
    "\n",
    "# implement your test here\n",
    "\n",
    "print(\"LDL^T decomposition:\\n\", )\n",
    "print(\"Solution V:\\n\", )\n",
    "print(\"multiplication AV:\\n\", )"
   ]
  },
  {
   "cell_type": "code",
   "execution_count": null,
   "metadata": {},
   "outputs": [],
   "source": [
    "#d)\n",
    "def LQ_Cholesky(A,b):\n",
    "    \"\"\"\n",
    "    Compute the solution of the problem A^T A V = A^T b using Cholesky decomposition\n",
    "    ----------   \n",
    "    parameters:\n",
    "    A : non square matrix matrix (numpy array of size N,N)\n",
    "    b : matrix (numpy array of size N)\n",
    "    \n",
    "    returns:\n",
    "    V : solution of the linear problem (numpy array of size N)\n",
    "    \"\"\"\n",
    "    \n",
    "    ### write your algorithm here\n",
    "    V = np.ones(len(b))   \n",
    "    ###\n",
    "    \n",
    "    return V"
   ]
  },
  {
   "cell_type": "code",
   "execution_count": null,
   "metadata": {},
   "outputs": [],
   "source": [
    "def LQ_LDL(A,b):\n",
    "    \"\"\"\n",
    "    Compute the solution of the problem A^T A V = A^T b using LDL^T decomposition\n",
    "    ----------   \n",
    "    parameters:\n",
    "    A : non square matrix matrix (numpy array of size N,N)\n",
    "    b : matrix (numpy array of size N)\n",
    "    \n",
    "    returns:\n",
    "    V : solution of the linear problem (numpy array of size N)\n",
    "    \"\"\"\n",
    "    \n",
    "    ### write your algorithm here\n",
    "    V = np.ones(len(b))   \n",
    "    ###\n",
    "    \n",
    "    return V"
   ]
  },
  {
   "cell_type": "code",
   "execution_count": null,
   "metadata": {},
   "outputs": [],
   "source": [
    "# e) Test 1:\n",
    "A = np.array([[1,2],[3,4],[5,6]])\n",
    "b = np.array([1,2,1]) \n",
    "\n",
    "# implement your test here with Cholesky\n",
    "\n",
    "print(\"Solution V:\\n\", ) \n",
    "print(\"Verification b:\\n\", b,\"\\n\")\n",
    "print(\"Verification A^T A V:\\n\", ) "
   ]
  },
  {
   "cell_type": "code",
   "execution_count": null,
   "metadata": {},
   "outputs": [],
   "source": [
    "A = np.array([[1,2],[3,4],[5,6]])\n",
    "b = np.array([1,2,1]) \n",
    "\n",
    "# implement your test here with LDL^T\n",
    "\n",
    "print(\"Matrix:\\n\", A,\"\\n\")\n",
    "print(\"Matrix A^T A:\\n\",    )\n",
    "print(\"LDL^T decomposition of A^T A:\\n\", )"
   ]
  },
  {
   "cell_type": "markdown",
   "metadata": {},
   "source": [
    "14) Finally, we aim to compute the parameters of the function in 11) such that this function is as close as possible as to given points $(x_i,y_i)_{i=1,\\dots,N}$, in the sense that the parameters $V$ minimize the distance $\\|AV - b\\|_2^2$ where $A$ and $b$ depend on $(x_i,y_i)_{i=1,\\dots,N}$ as found in 11). \n",
    "\n",
    "a) Test your algorithm with the given vector of data for $N=10$. \n",
    "\n",
    "b) Plot on the same graph the points $(x_i,b_i)$ and your solution $f(x)$."
   ]
  },
  {
   "cell_type": "code",
   "execution_count": null,
   "metadata": {},
   "outputs": [],
   "source": [
    "def f(x, V):\n",
    "    \"\"\"\n",
    "    Compute the value of the function f given the parameters V \n",
    "    ----------   \n",
    "    parameters:\n",
    "    x : vectors of points where the function is evaluated, for the plot below (written as a numpy array of size N)\n",
    "    V : vector of the parameters (numpy array of size N)\n",
    "    \n",
    "    returns:\n",
    "    f(x) : value of the function at this point\n",
    "    \"\"\"\n",
    "    return x"
   ]
  },
  {
   "cell_type": "code",
   "execution_count": null,
   "metadata": {},
   "outputs": [],
   "source": [
    "N_data   = 100\n",
    "N_interp = 10\n",
    "N_plot   = 1000\n",
    "x_plot = np.linspace(1,N_plot,N_plot)/N_plot\n",
    "\n",
    "x = 0.5 * (1 + np.cos(pi*(2*np.array(range(N_data))-1)/N_data))\n",
    "b = np.array([np.exp(np.cos(y) - np.cos(5.*y/(2-y)**2)) for y in x])\n",
    "\n",
    "\n",
    "# implement your tests here \n",
    "# A =\n",
    "V = np.zeros(N_interp)\n",
    "###\n",
    "\n",
    "plt.figure(1)\n",
    "plt.scatter(x, b, color='red',  label=\"Data\", marker='.', s=0.5)\n",
    "plt.plot(x_plot, f(x_plot,V), color='blue', label='Interpolation')\n",
    "plt.xlabel('x')\n",
    "plt.ylabel('f(x)')\n",
    "plt.legend()\n",
    "plt.show()"
   ]
  },
  {
   "cell_type": "code",
   "execution_count": null,
   "metadata": {},
   "outputs": [],
   "source": []
  }
 ],
 "metadata": {
  "kernelspec": {
   "display_name": "Python 3",
   "language": "python",
   "name": "python3"
  },
  "language_info": {
   "codemirror_mode": {
    "name": "ipython",
    "version": 3
   },
   "file_extension": ".py",
   "mimetype": "text/x-python",
   "name": "python",
   "nbconvert_exporter": "python",
   "pygments_lexer": "ipython3",
   "version": "3.10.6"
  },
  "latex_envs": {
   "LaTeX_envs_menu_present": true,
   "autoclose": false,
   "autocomplete": true,
   "bibliofile": "biblio.bib",
   "cite_by": "apalike",
   "current_citInitial": 1,
   "eqLabelWithNumbers": true,
   "eqNumInitial": 1,
   "hotkeys": {
    "equation": "Ctrl-E",
    "itemize": "Ctrl-I"
   },
   "labels_anchors": false,
   "latex_user_defs": false,
   "report_style_numbering": false,
   "user_envs_cfg": false
  },
  "toc": {
   "base_numbering": 1,
   "nav_menu": {},
   "number_sections": true,
   "sideBar": true,
   "skip_h1_title": true,
   "title_cell": "Table of Contents",
   "title_sidebar": "Contents",
   "toc_cell": false,
   "toc_position": {},
   "toc_section_display": true,
   "toc_window_display": false
  },
  "vscode": {
   "interpreter": {
    "hash": "31f2aee4e71d21fbe5cf8b01ff0e069b9275f58929596ceb00d14d90e3e16cd6"
   }
  }
 },
 "nbformat": 4,
 "nbformat_minor": 2
}
